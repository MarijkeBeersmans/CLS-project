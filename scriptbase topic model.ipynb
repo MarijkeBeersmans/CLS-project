{
 "cells": [
  {
   "cell_type": "markdown",
   "metadata": {},
   "source": [
    "# scriptbase topic model"
   ]
  },
  {
   "cell_type": "code",
   "execution_count": 11,
   "metadata": {},
   "outputs": [
    {
     "data": {
      "text/html": [
       "<div>\n",
       "<style scoped>\n",
       "    .dataframe tbody tr th:only-of-type {\n",
       "        vertical-align: middle;\n",
       "    }\n",
       "\n",
       "    .dataframe tbody tr th {\n",
       "        vertical-align: top;\n",
       "    }\n",
       "\n",
       "    .dataframe thead th {\n",
       "        text-align: right;\n",
       "    }\n",
       "</style>\n",
       "<table border=\"1\" class=\"dataframe\">\n",
       "  <thead>\n",
       "    <tr style=\"text-align: right;\">\n",
       "      <th></th>\n",
       "      <th>Year_of_prod</th>\n",
       "      <th>Season</th>\n",
       "      <th>Episode Number</th>\n",
       "      <th>Episode_Title</th>\n",
       "      <th>Duration</th>\n",
       "      <th>Summary</th>\n",
       "      <th>Director</th>\n",
       "      <th>Stars</th>\n",
       "      <th>Votes</th>\n",
       "      <th>match</th>\n",
       "      <th>text</th>\n",
       "      <th>len in words</th>\n",
       "      <th>len_prep</th>\n",
       "    </tr>\n",
       "  </thead>\n",
       "  <tbody>\n",
       "    <tr>\n",
       "      <th>0</th>\n",
       "      <td>1994</td>\n",
       "      <td>1</td>\n",
       "      <td>1</td>\n",
       "      <td>The One Where Monica Gets a Roommate: The Pilot</td>\n",
       "      <td>22</td>\n",
       "      <td>Monica and the gang introduce Rachel to the \"r...</td>\n",
       "      <td>James Burrows</td>\n",
       "      <td>8.3</td>\n",
       "      <td>7440</td>\n",
       "      <td>11</td>\n",
       "      <td>tell guy work going guy got wrong nice hump hu...</td>\n",
       "      <td>16424.0</td>\n",
       "      <td>5280.0</td>\n",
       "    </tr>\n",
       "    <tr>\n",
       "      <th>1</th>\n",
       "      <td>1994</td>\n",
       "      <td>1</td>\n",
       "      <td>2</td>\n",
       "      <td>The One with the Sonogram at the End</td>\n",
       "      <td>22</td>\n",
       "      <td>Ross finds out his ex-wife is pregnant. Rachel...</td>\n",
       "      <td>James Burrows</td>\n",
       "      <td>8.1</td>\n",
       "      <td>4888</td>\n",
       "      <td>12</td>\n",
       "      <td>guys understand kissing important need know ki...</td>\n",
       "      <td>10709.0</td>\n",
       "      <td>3170.0</td>\n",
       "    </tr>\n",
       "    <tr>\n",
       "      <th>2</th>\n",
       "      <td>1994</td>\n",
       "      <td>1</td>\n",
       "      <td>3</td>\n",
       "      <td>The One with the Thumb</td>\n",
       "      <td>22</td>\n",
       "      <td>Monica becomes irritated when everyone likes h...</td>\n",
       "      <td>James Burrows</td>\n",
       "      <td>8.2</td>\n",
       "      <td>4605</td>\n",
       "      <td>13</td>\n",
       "      <td>hi guys good walked subway said ouch said good...</td>\n",
       "      <td>12313.0</td>\n",
       "      <td>3689.0</td>\n",
       "    </tr>\n",
       "    <tr>\n",
       "      <th>3</th>\n",
       "      <td>1994</td>\n",
       "      <td>1</td>\n",
       "      <td>4</td>\n",
       "      <td>The One with George Stephanopoulos</td>\n",
       "      <td>22</td>\n",
       "      <td>Joey and Chandler take Ross to a hockey game t...</td>\n",
       "      <td>James Burrows</td>\n",
       "      <td>8.1</td>\n",
       "      <td>4468</td>\n",
       "      <td>14</td>\n",
       "      <td>omnipotent day want world peace hunger good th...</td>\n",
       "      <td>12290.0</td>\n",
       "      <td>4041.0</td>\n",
       "    </tr>\n",
       "    <tr>\n",
       "      <th>4</th>\n",
       "      <td>1994</td>\n",
       "      <td>1</td>\n",
       "      <td>5</td>\n",
       "      <td>The One with the East German Laundry Detergent</td>\n",
       "      <td>22</td>\n",
       "      <td>Eager to spend time with Rachel, Ross pretends...</td>\n",
       "      <td>Pamela Fryman</td>\n",
       "      <td>8.5</td>\n",
       "      <td>4438</td>\n",
       "      <td>15</td>\n",
       "      <td>let big deal big deal amazing reach little man...</td>\n",
       "      <td>12660.0</td>\n",
       "      <td>3859.0</td>\n",
       "    </tr>\n",
       "  </tbody>\n",
       "</table>\n",
       "</div>"
      ],
      "text/plain": [
       "   Year_of_prod  Season  Episode Number  \\\n",
       "0          1994       1               1   \n",
       "1          1994       1               2   \n",
       "2          1994       1               3   \n",
       "3          1994       1               4   \n",
       "4          1994       1               5   \n",
       "\n",
       "                                     Episode_Title  Duration  \\\n",
       "0  The One Where Monica Gets a Roommate: The Pilot        22   \n",
       "1             The One with the Sonogram at the End        22   \n",
       "2                           The One with the Thumb        22   \n",
       "3               The One with George Stephanopoulos        22   \n",
       "4   The One with the East German Laundry Detergent        22   \n",
       "\n",
       "                                             Summary       Director  Stars  \\\n",
       "0  Monica and the gang introduce Rachel to the \"r...  James Burrows    8.3   \n",
       "1  Ross finds out his ex-wife is pregnant. Rachel...  James Burrows    8.1   \n",
       "2  Monica becomes irritated when everyone likes h...  James Burrows    8.2   \n",
       "3  Joey and Chandler take Ross to a hockey game t...  James Burrows    8.1   \n",
       "4  Eager to spend time with Rachel, Ross pretends...  Pamela Fryman    8.5   \n",
       "\n",
       "   Votes  match                                               text  \\\n",
       "0   7440     11  tell guy work going guy got wrong nice hump hu...   \n",
       "1   4888     12  guys understand kissing important need know ki...   \n",
       "2   4605     13  hi guys good walked subway said ouch said good...   \n",
       "3   4468     14  omnipotent day want world peace hunger good th...   \n",
       "4   4438     15  let big deal big deal amazing reach little man...   \n",
       "\n",
       "   len in words  len_prep  \n",
       "0       16424.0    5280.0  \n",
       "1       10709.0    3170.0  \n",
       "2       12313.0    3689.0  \n",
       "3       12290.0    4041.0  \n",
       "4       12660.0    3859.0  "
      ]
     },
     "execution_count": 11,
     "metadata": {},
     "output_type": "execute_result"
    }
   ],
   "source": [
    "import pandas as pd\n",
    "import numpy as np\n",
    "\n",
    "friends = pd.read_csv('friends_text_ratings.csv', index_col=0)\n",
    "friends.head()"
   ]
  },
  {
   "cell_type": "code",
   "execution_count": 12,
   "metadata": {},
   "outputs": [
    {
     "data": {
      "text/plain": [
       "4027.135593220339"
      ]
     },
     "execution_count": 12,
     "metadata": {},
     "output_type": "execute_result"
    }
   ],
   "source": [
    "np.mean(friends['len_prep'])"
   ]
  },
  {
   "cell_type": "markdown",
   "metadata": {},
   "source": [
    "## Some checks"
   ]
  },
  {
   "cell_type": "code",
   "execution_count": 13,
   "metadata": {},
   "outputs": [
    {
     "name": "stdout",
     "output_type": "stream",
     "text": [
      "season 4 episode 21 , \"The One with the Invitation\" rating = 7.2 stars: \n",
      "\n",
      " As Ross and Emily send out wedding invitations, he and Rachel each look back on their relationship together while Joey and Chandler look for a purpose in life.\n",
      "\n",
      "season 6 episode 20 , \"The One with Mac and C.H.E.E.S.E.\" rating = 7.4 stars: \n",
      "\n",
      " Chandler forgets to write down a message for Joey when the time of his audition for the lead in a TV show is changed.\n",
      "\n",
      "season 8 episode 19 , \"The One with Joey's Interview\" rating = 7.5 stars: \n",
      "\n",
      " Joey prepares for his epic interview with Soap Opera Digest, reminiscing about his past acting experiences, his friends and his romantic life.\n",
      "\n",
      "season 7 episode 21 , \"The One with the Vows\" rating = 7.5 stars: \n",
      "\n",
      " Monica and Chandler are getting married in four weeks and have to write their vows, but neither has a clue what to say, so they reflect on their past.\n",
      "\n",
      "season 9 episode 10 , \"The One with Christmas in Tulsa\" rating = 7.5 stars: \n",
      "\n",
      " Chandler must spend Christmas in Tulsa, which Monica thinks he might have an affair with a former Miss Oklahoma runner-up while he is there. Chandler comes home early to announce that he quit his job.\n",
      "\n"
     ]
    }
   ],
   "source": [
    "# 5 least popular Friends episodes\n",
    "\n",
    "check = friends.sort_values(by='Stars')\n",
    "\n",
    "for i in range(5):\n",
    "    row = check.iloc[i]\n",
    "    episode = row['Episode Number']\n",
    "    name = row['Episode_Title']\n",
    "    season = row['Season']\n",
    "    summary = row['Summary']\n",
    "    stars = row['Stars']\n",
    "    print(f'season {season} episode {episode} , \"{name}\" rating = {stars} stars: \\n\\n {summary}\\n')"
   ]
  },
  {
   "cell_type": "code",
   "execution_count": 14,
   "metadata": {},
   "outputs": [
    {
     "name": "stdout",
     "output_type": "stream",
     "text": [
      "season 10 episode 18 , \"The Last One: Part 2\" rating = 9.7 stars: \n",
      "\n",
      " Phoebe races Ross to the airport in a bid to stop Rachel from leaving for Paris. Monica and Chandler pack up their apartment ahead of their move to their new house, and Joey buys Chandler a new chick and duck as a leaving present.\n",
      "\n",
      "season 5 episode 14 , \"The One Where Everybody Finds Out\" rating = 9.7 stars: \n",
      "\n",
      " When Phoebe finds out about Monica and Chandler, she and Rachel attempt to get them to confess their relationship.\n",
      "\n",
      "season 10 episode 17 , \"The Last One: Part 1\" rating = 9.5 stars: \n",
      "\n",
      " Erica gives birth to the baby that Monica and Chandler are adopting. However, there's one small added surprise. Meanwhile, Ross and Rachel sleep together one last time before Rachel leaves ...                See full summary »\n",
      "\n",
      "season 4 episode 12 , \"The One with the Embryos\" rating = 9.5 stars: \n",
      "\n",
      " Phoebe's uterus is examined for implantation of the embryos. Meanwhile, a seemingly harmless game between Chandler and Joey against Monica and Rachel escalates into a full blown contest where the stakes are raised higher and higher.\n",
      "\n",
      "season 2 episode 14 , \"The One with the Prom Video\" rating = 9.4 stars: \n",
      "\n",
      " The gang watches a home video from the night of Monica and Rachel's prom. Joey gives Chandler a hideous bracelet.\n",
      "\n"
     ]
    }
   ],
   "source": [
    "# 5 most popular Friends episodes\n",
    "\n",
    "check = friends.sort_values(by='Stars', ascending=False)\n",
    "\n",
    "for i in range(5):\n",
    "    row = check.iloc[i]\n",
    "    episode = row['Episode Number']\n",
    "    name = row['Episode_Title']\n",
    "    season = row['Season']\n",
    "    summary = row['Summary']\n",
    "    stars = row['Stars']\n",
    "    print(f'season {season} episode {episode} , \"{name}\" rating = {stars} stars: \\n\\n {summary}\\n')"
   ]
  },
  {
   "cell_type": "markdown",
   "metadata": {},
   "source": [
    "## prep"
   ]
  },
  {
   "cell_type": "code",
   "execution_count": 15,
   "metadata": {},
   "outputs": [],
   "source": [
    "import glob\n",
    "import random\n",
    "RND = 12345\n",
    "random.seed(RND)\n",
    "\n",
    "class Chunker(object):\n",
    "    def __init__(self, filenames, metadata, singles_only=False,\n",
    "                 max_chars_per_book=None, chunk_size=None):\n",
    "        \n",
    "        # maximum number of characters to read from the beginning of each book:\n",
    "        self.max_chars_per_book = max_chars_per_book\n",
    "        \n",
    "        # size of the chunks returned (in tokens):\n",
    "        self.chunk_size = chunk_size\n",
    "        \n",
    "        # only return chunks from these files:\n",
    "        self.filenames = filenames\n",
    "        \n",
    "        # include a dictionary with metadata:\n",
    "        self.meta = meta\n",
    "        \n",
    "        # only return texts with a single genre label:\n",
    "        self.singles_only = singles_only\n",
    "        \n",
    "        # only collect genres during the first iteration\n",
    "        self.first = True\n",
    "\n",
    "    def __iter__(self):\n",
    "        if self.first:\n",
    "            self.genres = []\n",
    "        \n",
    "        for filename in self.filenames:\n",
    "            title = os.path.basename(filename[:-4])\n",
    "            current_genres = self.meta[title]\n",
    "            \n",
    "            if self.singles_only:\n",
    "                if len(current_genres) > 1:\n",
    "                    continue\n",
    "\n",
    "            with open(filename, 'r', encoding='utf-8') as f:\n",
    "                try:\n",
    "                    if self.max_chars_per_book:\n",
    "                        text = f.read()\n",
    "                        text = text[:self.max_chars_per_book]\n",
    "                    else:\n",
    "                        text = f.read()\n",
    "                except:\n",
    "                    continue\n",
    "            \n",
    "            tokens = text.split()\n",
    "            \n",
    "            for i in range(0, len(tokens), self.chunk_size):\n",
    "                if self.first:\n",
    "                    self.genres.append(current_genres)\n",
    "                yield tokens[i:i + self.chunk_size]\n",
    "                #this also helps for lazy loading because yield goes over it apart\n",
    "        \n",
    "        # stop collecting labels after first complete iteration\n",
    "        self.first = False"
   ]
  },
  {
   "cell_type": "code",
   "execution_count": 16,
   "metadata": {},
   "outputs": [],
   "source": [
    "n_features = 5000 # number of most common words\n",
    "n_topics = 30 # number of topics\n",
    "n_top_words = 60 # number of characteristic words per topic (viz purposes only)\n",
    "max_df = 0.5 # maximum document frequency\n",
    "min_df = 100 # minimum document frequency\n",
    "max_books = 1000 # include all books (None), or a specific number\n",
    "chunk_size = 4027  # length of the average friends episode (after keeping only ADJ, NOUN & VERB)"
   ]
  },
  {
   "cell_type": "code",
   "execution_count": 17,
   "metadata": {},
   "outputs": [
    {
     "name": "stdout",
     "output_type": "stream",
     "text": [
      "865\n"
     ]
    }
   ],
   "source": [
    "path = './scriptbase/scriptbase_texts/*.txt'\n",
    "filenames = sorted(list(glob.glob(path)))\n",
    "print(len(filenames))"
   ]
  },
  {
   "cell_type": "code",
   "execution_count": 18,
   "metadata": {},
   "outputs": [],
   "source": [
    "random.seed(RND)\n",
    "random.shuffle(filenames)\n",
    "# print(filenames[:10])\n",
    "# print(len(filenames))"
   ]
  },
  {
   "cell_type": "code",
   "execution_count": 19,
   "metadata": {},
   "outputs": [],
   "source": [
    "import json\n",
    "with open('./scriptbase/scriptbase_meta.json', 'r') as f:\n",
    "    meta = json.loads(f.read())\n",
    "\n",
    "# for book, genres in list(meta.items())[:20]:\n",
    "#     print(f\"{book} -> {' - '.join(sorted(genres))}\")"
   ]
  },
  {
   "cell_type": "markdown",
   "metadata": {},
   "source": [
    "## NMF"
   ]
  },
  {
   "cell_type": "code",
   "execution_count": 22,
   "metadata": {},
   "outputs": [
    {
     "name": "stdout",
     "output_type": "stream",
     "text": [
      "violation: 1.0\n",
      "violation: 0.017377815310342618\n",
      "violation: 0.03424888128639355\n",
      "violation: 0.030020982409967364\n",
      "violation: 0.028156768192609843\n",
      "violation: 0.024619526456115894\n",
      "violation: 0.026145626434649783\n",
      "violation: 0.021791828834885334\n",
      "violation: 0.018169834277832437\n",
      "violation: 0.016166595934767446\n",
      "violation: 0.014551106062240672\n",
      "violation: 0.013387150351391982\n",
      "violation: 0.011936969619024924\n",
      "violation: 0.010906125223686287\n",
      "violation: 0.01019457479946689\n",
      "violation: 0.009511243234396009\n",
      "violation: 0.008770653475447282\n",
      "violation: 0.007937344248197132\n",
      "violation: 0.00724567440371176\n",
      "violation: 0.006786609280403516\n",
      "violation: 0.006389213519839502\n",
      "violation: 0.005975472178182658\n",
      "violation: 0.0055309555062315035\n",
      "violation: 0.005080633178516205\n",
      "violation: 0.004761075168593545\n",
      "violation: 0.0044572343790087844\n",
      "violation: 0.004192444079287163\n",
      "violation: 0.00402274956505918\n",
      "violation: 0.0038857553410913083\n",
      "violation: 0.003714660184164238\n",
      "violation: 0.0035682380570761538\n",
      "violation: 0.0034132004961692215\n",
      "violation: 0.0032517063255562717\n",
      "violation: 0.0030777326054927416\n",
      "violation: 0.0029586627176747043\n",
      "violation: 0.0028762996231560434\n",
      "violation: 0.0027888950319981667\n",
      "violation: 0.002723558822233734\n",
      "violation: 0.002682018748460893\n",
      "violation: 0.00264456798020547\n",
      "violation: 0.002581880066751484\n",
      "violation: 0.0024820532763778556\n",
      "violation: 0.0024093295030149144\n",
      "violation: 0.002322927997916549\n",
      "violation: 0.0022440158261370193\n",
      "violation: 0.0021669311356468214\n",
      "violation: 0.0020941597099438615\n",
      "violation: 0.002052592409673984\n",
      "violation: 0.0020220160926523213\n",
      "violation: 0.0019536093318699016\n",
      "violation: 0.001898823371279835\n",
      "violation: 0.0018364328156814757\n",
      "violation: 0.0018021172887245768\n",
      "violation: 0.001790027672173415\n",
      "violation: 0.0017810058434438781\n",
      "violation: 0.001677260667968266\n",
      "violation: 0.001647089568412554\n",
      "violation: 0.0016178187958615564\n",
      "violation: 0.0015862331854937838\n",
      "violation: 0.001523977901970167\n",
      "violation: 0.0014485885837106553\n",
      "violation: 0.0013619058293796802\n",
      "violation: 0.0012625692218297567\n",
      "violation: 0.0011728133917483991\n",
      "violation: 0.0010925835810336757\n",
      "violation: 0.0010112735893322777\n",
      "violation: 0.0009294113667463983\n",
      "violation: 0.0008489282922037195\n",
      "violation: 0.0007804778498732882\n",
      "violation: 0.0007176025263924503\n",
      "violation: 0.0006662804511350032\n",
      "violation: 0.0006273504741692904\n",
      "violation: 0.0005927668469135257\n",
      "violation: 0.0005697032217247696\n",
      "violation: 0.0005516103781442598\n",
      "violation: 0.0005365743834879554\n",
      "violation: 0.0005247505184600072\n",
      "violation: 0.000520277236710072\n",
      "violation: 0.0005160928237368185\n",
      "violation: 0.0005116722910416543\n",
      "violation: 0.0005042921975732686\n",
      "violation: 0.0005054445567869413\n",
      "violation: 0.000509409692297246\n",
      "violation: 0.0005116501055467312\n",
      "violation: 0.0005132421099658728\n",
      "violation: 0.0005167858132770149\n",
      "violation: 0.0005226128651529448\n",
      "violation: 0.0005290699519535411\n",
      "violation: 0.0005294959537735817\n",
      "violation: 0.0005342983473808596\n",
      "violation: 0.0005207343591291645\n",
      "violation: 0.0005390921908078182\n",
      "violation: 0.0005579514439610619\n",
      "violation: 0.0005814222286588862\n",
      "violation: 0.0006235328897621838\n",
      "violation: 0.0006824677234851939\n",
      "violation: 0.0007225768884321088\n",
      "violation: 0.0007822583675629037\n",
      "violation: 0.0008311237539228591\n",
      "violation: 0.0008591389538528381\n"
     ]
    },
    {
     "name": "stderr",
     "output_type": "stream",
     "text": [
      "c:\\Users\\Gebruiker\\anaconda3\\lib\\site-packages\\sklearn\\decomposition\\_nmf.py:1692: ConvergenceWarning: Maximum number of iterations 100 reached. Increase it to improve convergence.\n",
      "  warnings.warn(\n"
     ]
    },
    {
     "data": {
      "text/plain": [
       "['nmf_scriptbase_friends.sav']"
      ]
     },
     "execution_count": 22,
     "metadata": {},
     "output_type": "execute_result"
    }
   ],
   "source": [
    "import os\n",
    "from sklearn.feature_extraction.text import CountVectorizer, TfidfVectorizer\n",
    "\n",
    "def identity(x):\n",
    "    return x\n",
    "\n",
    "chunks = Chunker(filenames, meta,\n",
    "                 chunk_size=chunk_size,\n",
    "                 max_chars_per_book=None)\n",
    "\n",
    "\n",
    "vectorizer = TfidfVectorizer(max_df=max_df, min_df=min_df,\n",
    "                             max_features=n_features,\n",
    "                             analyzer=identity)\n",
    "X = vectorizer.fit_transform(chunks)\n",
    "\n",
    "from sklearn.decomposition import NMF\n",
    "nmf = NMF(n_components=300,\n",
    "          random_state=RND,\n",
    "          verbose=1, max_iter=100).fit(X) # fit NMF model with TF-IDF feature\n",
    "\n",
    "import joblib\n",
    "joblib.dump(nmf,'nmf_scriptbase_friends.sav')\n",
    "# nmf = joblib.load('nmf_scriptbase_friends.sav')"
   ]
  },
  {
   "cell_type": "code",
   "execution_count": 23,
   "metadata": {},
   "outputs": [
    {
     "name": "stdout",
     "output_type": "stream",
     "text": [
      "topic 0: dad - kidding - bike - library - signs - busy - grade - hates - brothers - happening\n",
      "topic 1: mom - cool - wake - parents - bike - mad - older - talked - teacher - grandma\n",
      "topic 2: cops - cop - jail - bullshit - pissed - tip - rat - bastard - swear - dirty\n",
      "topic 3: ship - crew - lock - deck - main - event - bridge - star - seconds - signal\n",
      "topic 4: daddy - feed - mommy - earth - green - cake - folks - meat - strong - survive\n",
      "topic 5: war - army - fighting - land - peace - military - american - enemy - dawn - paper\n",
      "topic 6: department - report - records - files - investigation - file - medical - company - missing - mistake\n",
      "topic 7: pulls - turns - sees - opens - walks - steps - sits - starts - moves - puts\n",
      "topic 8: film - picture - press - star - screen - scene - cast - shooting - conference - movie\n",
      "topic 9: soldiers - soldier - weapons - sergeant - training - enemy - double - action - target - wind\n"
     ]
    },
    {
     "name": "stderr",
     "output_type": "stream",
     "text": [
      "c:\\Users\\Gebruiker\\anaconda3\\lib\\site-packages\\sklearn\\utils\\deprecation.py:87: FutureWarning: Function get_feature_names is deprecated; get_feature_names is deprecated in 1.0 and will be removed in 1.2. Please use get_feature_names_out instead.\n",
      "  warnings.warn(msg, category=FutureWarning)\n"
     ]
    }
   ],
   "source": [
    "for topic_idx, topic in enumerate(nmf.components_[:10]):\n",
    "    top_idxs = np.argsort(topic)[::-1][:10]\n",
    "    top_words = np.array(vectorizer.get_feature_names())[top_idxs]\n",
    "    print(f'topic {topic_idx}:', ' - '.join(top_words))"
   ]
  },
  {
   "cell_type": "code",
   "execution_count": 24,
   "metadata": {},
   "outputs": [
    {
     "name": "stdout",
     "output_type": "stream",
     "text": [
      "violation: 1.0\n",
      "violation: 0.6616901209988314\n",
      "violation: 0.32558987674038675\n",
      "violation: 0.15773372091394883\n",
      "violation: 0.08517103616517965\n",
      "violation: 0.052200892615745134\n",
      "violation: 0.02808659501491611\n",
      "violation: 0.013198638571766853\n",
      "violation: 0.007895303016126294\n",
      "violation: 0.005176482425189328\n",
      "violation: 0.0029731049045103367\n",
      "violation: 0.001656201229697663\n",
      "violation: 0.0010804411515085907\n",
      "violation: 0.0007011576815664877\n",
      "violation: 0.0004177945091302745\n",
      "violation: 0.0002603153407974104\n",
      "violation: 0.000168170062346716\n",
      "violation: 0.00010959278694228812\n",
      "violation: 6.993364502899741e-05\n",
      "Converged at iteration 20\n",
      "(1008, 300)\n"
     ]
    }
   ],
   "source": [
    "nmf.verbose = 1\n",
    "X_ = nmf.transform(X)\n",
    "print(X_.shape)"
   ]
  },
  {
   "cell_type": "code",
   "execution_count": 25,
   "metadata": {},
   "outputs": [
    {
     "name": "stdout",
     "output_type": "stream",
     "text": [
      "-> genre thriller:\n",
      "   cop - partner - basement - busted - bust - department - unit - arrest - admire\n",
      "   agent - federal - building - evidence - suspect - bodies - field - information - government\n",
      "   detective - partner - investigation - suspect - evidence - murder - plate - laws - apartment\n",
      "-> genre musical:\n",
      "   film - picture - press - star - screen - scene - cast - shooting - conference\n",
      "   movie - movies - scene - scary - star - camera - audience - character - tits\n",
      "   italian - client - wine - range - magazine - weapon - mountains - reasons - american\n",
      "-> genre western:\n",
      "   horses - trail - stage - fellow - lookin - fix - folks - fair - letters\n",
      "   horse - pounds - horses - riding - medicine - farm - gentleman - land - stands\n",
      "   judge - law - justice - county - central - fool - politics - arrest - hide\n",
      "-> genre animation:\n",
      "   travel - papers - grandmother - child - bat - convince - bike - stretch - memory\n",
      "   plant - e - earth - wall - dancing - operation - negative - space - deck\n",
      "   source - path - destroy - remains - machines - weapon - planned - hunting - fool\n",
      "-> genre adventure:\n",
      "   brand - counter - middle - basement - tricks - houses - bathroom - locked - report\n",
      "   mission - command - reality - attack - permission - space - operation - crew - system\n",
      "   power - fate - shadow - force - dark - reach - evil - lines - courage\n",
      "-> genre fantasy:\n",
      "   bat - smiles - freeze - fear - rich - poison - roof - beauty - giant\n",
      "   mayor - hat - cross - smart - fix - assistant - plant - neighborhood - counts\n",
      "   ring - customer - pound - pounds - match - customers - crowd - garden - awesome\n",
      "-> genre independent:\n",
      "   italian - client - wine - range - magazine - weapon - mountains - reasons - american\n",
      "   yeah - hey - practice - hi - weird - company - hung - match - quit\n",
      "   pin - alright - junk - low - square - bury - smart - yeah - crew\n",
      "-> genre war:\n",
      "   gang - enemies - curious - dies - magazine - strength - likes - standing - pile\n",
      "   captain - command - weapons - report - arm - bridge - medical - board - gate\n",
      "   river - stole - tree - boxes - engine - o - soldier - bodies - hill\n",
      "-> genre horror:\n",
      "   lab - project - test - tests - brain - shift - research - normal - m\n",
      "   moon - stories - frightened - darkness - desire - ancient - hurry - pleasure - sudden\n",
      "   calls - asleep - checked - report - sergeant - restaurant - private - handing - hired\n",
      "-> genre foreign:\n",
      "   video - buried - watched - tv - driver - cell - breathe - hurry - message\n",
      "   master - destiny - training - thief - trained - battle - mountain - secret - peace\n",
      "   daughter - speech - families - tight - disappear - court - sake - protect - board\n",
      "-> genre mystery:\n",
      "   woods - animal - trees - color - ancient - bury - hearts - useless - sister\n",
      "   pulls - turns - sees - opens - walks - steps - sits - starts - moves\n",
      "   magic - child - murdered - grave - tricks - flesh - finished - terrible - heads\n",
      "-> genre mockumentary:\n",
      "   grandfather - gear - lines - shake - nose - fella - opinion - cup - sort\n",
      "   rose - farm - disease - apple - awful - engine - dear - road - american\n",
      "   girls - view - bar - screw - someplace - international - quit - ladies - putting\n",
      "-> genre sci-fi:\n",
      "   ship - crew - lock - deck - main - event - bridge - star - seconds\n",
      "   earth - intelligence - silence - harm - destroyed - shock - wave - pretending - mad\n",
      "   professor - storm - metal - machine - purpose - fear - lights - future - history\n",
      "-> genre period:\n",
      "   bill - board - settle - cover - company - opportunity - points - cents - butter\n",
      "   mister - c - m - t - b - shhh - cigarettes - candy - pal\n",
      "   horses - trail - stage - fellow - lookin - fix - folks - fair - letters\n",
      "-> genre action:\n",
      "   human - race - machines - silver - hunt - project - fear - feed - survive\n",
      "   soldiers - soldier - weapons - sergeant - training - enemy - double - action - target\n",
      "   closed - return - arm - count - locked - cents - enjoy - speaks - familiar\n",
      "-> genre comedy:\n",
      "   date - boyfriend - cool - cute - weird - girlfriend - dress - sexy - relationship\n",
      "   dude - cool - awesome - balls - freak - sucks - grandma - smoke - chick\n",
      "   store - cigarettes - girlfriend - sell - bathroom - relationship - shoe - pack - books\n",
      "-> genre romance:\n",
      "   french - english - present - alarm - officers - wine - terms - american - arrive\n",
      "   nurse - lips - patient - doctors - pounds - sin - joy - sweet - drugs\n",
      "   river - stole - tree - boxes - engine - o - soldier - bodies - hill\n",
      "-> genre noir:\n",
      "   continuing - arranged - marriage - facts - gift - breakfast - leaves - sake - pills\n",
      "   knife - chain - hero - holding - clever - shop - murderer - clothes - worrying\n",
      "   insurance - policy - accident - company - claim - tough - leg - eaten - cash\n",
      "-> genre drama:\n",
      "   security - guard - elevator - floor - seconds - guards - cash - crime - doors\n",
      "   power - fate - shadow - force - dark - reach - evil - lines - courage\n",
      "   bread - sweet - milk - shoes - chicken - pray - eggs - yard - dress\n",
      "-> genre crime:\n",
      "   witness - italian - pop - families - interests - deny - charges - brothers - record\n",
      "   rat - weapon - prick - identity - tail - cop - sergeant - arrested - location\n",
      "   interview - camera - fate - sue - famous - prick - wing - law - entire\n"
     ]
    },
    {
     "name": "stderr",
     "output_type": "stream",
     "text": [
      "c:\\Users\\Gebruiker\\anaconda3\\lib\\site-packages\\sklearn\\utils\\deprecation.py:87: FutureWarning: Function get_feature_names is deprecated; get_feature_names is deprecated in 1.0 and will be removed in 1.2. Please use get_feature_names_out instead.\n",
      "  warnings.warn(msg, category=FutureWarning)\n"
     ]
    }
   ],
   "source": [
    "from sklearn.feature_selection import f_classif\n",
    "\n",
    "genres = [g[0] for g in chunks.genres]\n",
    "feature_names = vectorizer.get_feature_names()\n",
    "\n",
    "for genre in set(genres):\n",
    "    print(f'-> genre {genre}:')\n",
    "    y = [1 if g == genre else 0 for g in genres]\n",
    "    # univariate feature selection with F-test for feature scoring\n",
    "    F, pval = f_classif(X_, y)\n",
    "    \n",
    "    # indices of three best topics\n",
    "    for topic_idx in np.argsort(F)[::-1][:3]:\n",
    "        topic = np.nan_to_num(nmf.components_[topic_idx])\n",
    "        words = [feature_names[i] for i in topic.argsort()[:-10:-1]]\n",
    "        print('   ' + ' - '.join(words))"
   ]
  },
  {
   "cell_type": "code",
   "execution_count": 26,
   "metadata": {},
   "outputs": [
    {
     "data": {
      "text/plain": [
       "(236, 300)"
      ]
     },
     "execution_count": 26,
     "metadata": {},
     "output_type": "execute_result"
    }
   ],
   "source": [
    "import pandas as pd\n",
    "nmf.verbose = 0\n",
    "\n",
    "texts = [value.split() for value in friends.text.values]\n",
    "\n",
    "scores = nmf.transform(vectorizer.transform(texts))  # transform the HP chapters according to the fitted NMF model\n",
    "scores.shape\n",
    "# print(scores)"
   ]
  },
  {
   "cell_type": "code",
   "execution_count": null,
   "metadata": {},
   "outputs": [],
   "source": []
  },
  {
   "cell_type": "code",
   "execution_count": 27,
   "metadata": {},
   "outputs": [
    {
     "data": {
      "text/html": [
       "<div>\n",
       "<style scoped>\n",
       "    .dataframe tbody tr th:only-of-type {\n",
       "        vertical-align: middle;\n",
       "    }\n",
       "\n",
       "    .dataframe tbody tr th {\n",
       "        vertical-align: top;\n",
       "    }\n",
       "\n",
       "    .dataframe thead th {\n",
       "        text-align: right;\n",
       "    }\n",
       "</style>\n",
       "<table border=\"1\" class=\"dataframe\">\n",
       "  <thead>\n",
       "    <tr style=\"text-align: right;\">\n",
       "      <th></th>\n",
       "      <th>Year_of_prod</th>\n",
       "      <th>Season</th>\n",
       "      <th>Episode Number</th>\n",
       "      <th>Episode_Title</th>\n",
       "      <th>Duration</th>\n",
       "      <th>Summary</th>\n",
       "      <th>Director</th>\n",
       "      <th>Stars</th>\n",
       "      <th>Votes</th>\n",
       "      <th>match</th>\n",
       "      <th>...</th>\n",
       "      <th>t291</th>\n",
       "      <th>t292</th>\n",
       "      <th>t293</th>\n",
       "      <th>t294</th>\n",
       "      <th>t295</th>\n",
       "      <th>t296</th>\n",
       "      <th>t297</th>\n",
       "      <th>t298</th>\n",
       "      <th>t299</th>\n",
       "      <th>t300</th>\n",
       "    </tr>\n",
       "  </thead>\n",
       "  <tbody>\n",
       "    <tr>\n",
       "      <th>0</th>\n",
       "      <td>1994</td>\n",
       "      <td>1</td>\n",
       "      <td>1</td>\n",
       "      <td>The One Where Monica Gets a Roommate: The Pilot</td>\n",
       "      <td>22</td>\n",
       "      <td>Monica and the gang introduce Rachel to the \"r...</td>\n",
       "      <td>James Burrows</td>\n",
       "      <td>8.3</td>\n",
       "      <td>7440</td>\n",
       "      <td>11</td>\n",
       "      <td>...</td>\n",
       "      <td>0.0</td>\n",
       "      <td>0.000000</td>\n",
       "      <td>0.000000</td>\n",
       "      <td>0.0</td>\n",
       "      <td>0.000000</td>\n",
       "      <td>0.0</td>\n",
       "      <td>0.000000</td>\n",
       "      <td>0.0</td>\n",
       "      <td>0.000000</td>\n",
       "      <td>0.0</td>\n",
       "    </tr>\n",
       "    <tr>\n",
       "      <th>1</th>\n",
       "      <td>1994</td>\n",
       "      <td>1</td>\n",
       "      <td>2</td>\n",
       "      <td>The One with the Sonogram at the End</td>\n",
       "      <td>22</td>\n",
       "      <td>Ross finds out his ex-wife is pregnant. Rachel...</td>\n",
       "      <td>James Burrows</td>\n",
       "      <td>8.1</td>\n",
       "      <td>4888</td>\n",
       "      <td>12</td>\n",
       "      <td>...</td>\n",
       "      <td>0.0</td>\n",
       "      <td>0.004784</td>\n",
       "      <td>0.007564</td>\n",
       "      <td>0.0</td>\n",
       "      <td>0.000000</td>\n",
       "      <td>0.0</td>\n",
       "      <td>0.000000</td>\n",
       "      <td>0.0</td>\n",
       "      <td>0.004770</td>\n",
       "      <td>0.0</td>\n",
       "    </tr>\n",
       "    <tr>\n",
       "      <th>2</th>\n",
       "      <td>1994</td>\n",
       "      <td>1</td>\n",
       "      <td>3</td>\n",
       "      <td>The One with the Thumb</td>\n",
       "      <td>22</td>\n",
       "      <td>Monica becomes irritated when everyone likes h...</td>\n",
       "      <td>James Burrows</td>\n",
       "      <td>8.2</td>\n",
       "      <td>4605</td>\n",
       "      <td>13</td>\n",
       "      <td>...</td>\n",
       "      <td>0.0</td>\n",
       "      <td>0.000000</td>\n",
       "      <td>0.000000</td>\n",
       "      <td>0.0</td>\n",
       "      <td>0.000000</td>\n",
       "      <td>0.0</td>\n",
       "      <td>0.000000</td>\n",
       "      <td>0.0</td>\n",
       "      <td>0.000000</td>\n",
       "      <td>0.0</td>\n",
       "    </tr>\n",
       "    <tr>\n",
       "      <th>3</th>\n",
       "      <td>1994</td>\n",
       "      <td>1</td>\n",
       "      <td>4</td>\n",
       "      <td>The One with George Stephanopoulos</td>\n",
       "      <td>22</td>\n",
       "      <td>Joey and Chandler take Ross to a hockey game t...</td>\n",
       "      <td>James Burrows</td>\n",
       "      <td>8.1</td>\n",
       "      <td>4468</td>\n",
       "      <td>14</td>\n",
       "      <td>...</td>\n",
       "      <td>0.0</td>\n",
       "      <td>0.000000</td>\n",
       "      <td>0.000000</td>\n",
       "      <td>0.0</td>\n",
       "      <td>0.000000</td>\n",
       "      <td>0.0</td>\n",
       "      <td>0.000000</td>\n",
       "      <td>0.0</td>\n",
       "      <td>0.019966</td>\n",
       "      <td>0.0</td>\n",
       "    </tr>\n",
       "    <tr>\n",
       "      <th>4</th>\n",
       "      <td>1994</td>\n",
       "      <td>1</td>\n",
       "      <td>5</td>\n",
       "      <td>The One with the East German Laundry Detergent</td>\n",
       "      <td>22</td>\n",
       "      <td>Eager to spend time with Rachel, Ross pretends...</td>\n",
       "      <td>Pamela Fryman</td>\n",
       "      <td>8.5</td>\n",
       "      <td>4438</td>\n",
       "      <td>15</td>\n",
       "      <td>...</td>\n",
       "      <td>0.0</td>\n",
       "      <td>0.000000</td>\n",
       "      <td>0.000000</td>\n",
       "      <td>0.0</td>\n",
       "      <td>0.008575</td>\n",
       "      <td>0.0</td>\n",
       "      <td>0.078775</td>\n",
       "      <td>0.0</td>\n",
       "      <td>0.000000</td>\n",
       "      <td>0.0</td>\n",
       "    </tr>\n",
       "  </tbody>\n",
       "</table>\n",
       "<p>5 rows × 313 columns</p>\n",
       "</div>"
      ],
      "text/plain": [
       "   Year_of_prod  Season  Episode Number  \\\n",
       "0          1994       1               1   \n",
       "1          1994       1               2   \n",
       "2          1994       1               3   \n",
       "3          1994       1               4   \n",
       "4          1994       1               5   \n",
       "\n",
       "                                     Episode_Title  Duration  \\\n",
       "0  The One Where Monica Gets a Roommate: The Pilot        22   \n",
       "1             The One with the Sonogram at the End        22   \n",
       "2                           The One with the Thumb        22   \n",
       "3               The One with George Stephanopoulos        22   \n",
       "4   The One with the East German Laundry Detergent        22   \n",
       "\n",
       "                                             Summary       Director  Stars  \\\n",
       "0  Monica and the gang introduce Rachel to the \"r...  James Burrows    8.3   \n",
       "1  Ross finds out his ex-wife is pregnant. Rachel...  James Burrows    8.1   \n",
       "2  Monica becomes irritated when everyone likes h...  James Burrows    8.2   \n",
       "3  Joey and Chandler take Ross to a hockey game t...  James Burrows    8.1   \n",
       "4  Eager to spend time with Rachel, Ross pretends...  Pamela Fryman    8.5   \n",
       "\n",
       "   Votes  match  ... t291      t292      t293  t294      t295  t296      t297  \\\n",
       "0   7440     11  ...  0.0  0.000000  0.000000   0.0  0.000000   0.0  0.000000   \n",
       "1   4888     12  ...  0.0  0.004784  0.007564   0.0  0.000000   0.0  0.000000   \n",
       "2   4605     13  ...  0.0  0.000000  0.000000   0.0  0.000000   0.0  0.000000   \n",
       "3   4468     14  ...  0.0  0.000000  0.000000   0.0  0.000000   0.0  0.000000   \n",
       "4   4438     15  ...  0.0  0.000000  0.000000   0.0  0.008575   0.0  0.078775   \n",
       "\n",
       "   t298      t299  t300  \n",
       "0   0.0  0.000000   0.0  \n",
       "1   0.0  0.004770   0.0  \n",
       "2   0.0  0.000000   0.0  \n",
       "3   0.0  0.019966   0.0  \n",
       "4   0.0  0.000000   0.0  \n",
       "\n",
       "[5 rows x 313 columns]"
      ]
     },
     "execution_count": 27,
     "metadata": {},
     "output_type": "execute_result"
    }
   ],
   "source": [
    "df_scores = pd.DataFrame(scores, columns=[f't{i+1}' for i in range(scores.shape[1])])\n",
    "friends2 = friends.join(df_scores)\n",
    "friends2.head()"
   ]
  },
  {
   "cell_type": "code",
   "execution_count": 28,
   "metadata": {},
   "outputs": [
    {
     "name": "stdout",
     "output_type": "stream",
     "text": [
      "[('t155', -0.17529413766991264), ('t175', -0.14870978321066022), ('t209', -0.1416367697234404), ('t56', -0.13578646611863193), ('t218', -0.13464628715686772), ('t33', -0.13179482610118542), ('t287', -0.1273863510723506), ('t91', -0.12696138386234698), ('t18', -0.12594495209849135), ('t169', -0.12414185675412832)]\n"
     ]
    }
   ],
   "source": [
    "from operator import itemgetter\n",
    "from scipy.stats import kendalltau\n",
    "\n",
    "ranks = range(1, len(friends2.index)+1)\n",
    "tau_scores = []\n",
    "for col in [f't{i+1}' for i in range(scores.shape[1])]:\n",
    "    tau, p = kendalltau(ranks, friends2[col].tolist())\n",
    "    tau_scores.append((col, tau))\n",
    "    \n",
    "tau_scores.sort(key=itemgetter(1))\n",
    "nb = 6\n",
    "top, bottom = tau_scores[:nb], tau_scores[-nb:]\n",
    "print(tau_scores[:10]) # print 10 topics with lowest Tau score"
   ]
  },
  {
   "cell_type": "code",
   "execution_count": 29,
   "metadata": {},
   "outputs": [
    {
     "data": {
      "image/png": "[encoded data removed]",
      "text/plain": [
       "<Figure size 1080x720 with 1 Axes>"
      ]
     },
     "metadata": {
      "needs_background": "light"
     },
     "output_type": "display_data"
    }
   ],
   "source": [
    "import matplotlib.pyplot as plt\n",
    "\n",
    "import seaborn as sb\n",
    "feature_names = vectorizer.get_feature_names_out()\n",
    "fig = plt.figure(figsize=(15, 10))\n",
    "sb.set_style(\"darkgrid\")\n",
    "for (feat, tau), col in zip(top, sb.color_palette(\"Set1\")[:nb]):\n",
    "    topic = nmf.components_[int(feat.replace('t', '')) - 1, :]\n",
    "    words = [feature_names[i] for i in topic.argsort()[:-6-1:-1]]\n",
    "    label = ' - '.join(words)\n",
    "    friends2[feat].rolling(window=50, center=True).mean().plot(label=label)\n",
    "plt.xlabel('', fontsize=10)\n",
    "plt.ylabel('Topic proportion', fontsize=10)\n",
    "plt.title(f'{nb} topics with steadiest decrease')\n",
    "plt.tight_layout()\n",
    "plt.legend();"
   ]
  },
  {
   "cell_type": "code",
   "execution_count": 30,
   "metadata": {},
   "outputs": [
    {
     "data": {
      "image/png": "[encoded data removed]",
      "text/plain": [
       "<Figure size 1080x720 with 1 Axes>"
      ]
     },
     "metadata": {},
     "output_type": "display_data"
    }
   ],
   "source": [
    "fig = plt.figure(figsize=(15, 10))\n",
    "sb.set_style(\"darkgrid\")\n",
    "for (feat, tau), col in zip(bottom, sb.color_palette(\"Set1\")[:nb]):\n",
    "    topic = nmf.components_[int(feat.replace('t', '')) - 1, :]\n",
    "    words = [feature_names[i] for i in topic.argsort()[:-5-1:-1]]\n",
    "    label = ' - '.join(words)\n",
    "    friends2[feat].rolling(window=30, center=True).mean().plot(label=label)\n",
    "plt.xlabel('Chapter', fontsize=10)\n",
    "plt.ylabel('Topic proportion', fontsize=10)\n",
    "plt.title(f'{nb} topics with steadiest increase')\n",
    "plt.legend();"
   ]
  },
  {
   "cell_type": "code",
   "execution_count": 31,
   "metadata": {},
   "outputs": [
    {
     "name": "stdout",
     "output_type": "stream",
     "text": [
      "t16: plane - flight - pilot - fly - flying - land - crew - control - flew\n",
      "t277: summer - girlfriend - beach - crap - loved - grade - dreams - card - cards\n",
      "t112: source - path - destroy - remains - machines - weapon - planned - hunting - fool\n",
      "t132: flight - papers - gate - hurry - nut - assure - nail - letting - violence\n",
      "t218: prison - sentence - guards - court - cell - innocent - society - brain - outside\n",
      "t199: meaning - attention - ruin - pressure - won - strength - proceed - result - m\n",
      "t286: talkin - gettin - comin - tryin - folks - lookin - round - chicken - hits\n",
      "t47: writer - write - writing - wrote - written - character - coat - pathetic - research\n",
      "t36: camera - trunk - beef - handsome - swear - crew - ear - wallet - traffic\n",
      "t83: bug - planet - belt - federal - battle - citizen - cap - service - sport\n",
      "t197: shoe - junk - events - credit - pal - president - nuts - citizen - pause\n",
      "t19: grace - bike - trees - teach - trunk - spirit - dawn - meat - keys\n",
      "t251: river - stole - tree - boxes - engine - o - soldier - bodies - hill\n",
      "t289: tea - sort - suppose - lovely - clever - imagine - interesting - books - famous\n",
      "t230: buddy - county - trusted - fellas - figured - politics - finest - cleaned - jail\n",
      "t33: church - science - path - sin - square - holy - wood - stone - faith\n",
      "t137: funeral - duck - pig - hated - service - press - busy - drunk - prince\n",
      "t250: team - ball - win - score - season - played - won - player - games\n",
      "t24: moon - stories - frightened - darkness - desire - ancient - hurry - pleasure - sudden\n",
      "t282: band - rock - fan - penny - write - golden - magazine - cover - song\n",
      "t101: tape - record - attorney - records - justice - conversation - seconds - garbage - driving\n",
      "t175: tour - hundreds - kiss - delivery - apartment - music - hospital - oil - nightmare\n",
      "t257: rich - papers - bury - cash - babe - ear - forgive - short - ran\n",
      "t201: devil - copy - books - client - collection - evil - sold - rare - sell\n",
      "t242: pregnant - cheese - babies - weird - fat - trapped - hi - cute - birth\n"
     ]
    }
   ],
   "source": [
    "#25 most predictive topics\n",
    "\n",
    "from sklearn.feature_selection import SelectKBest\n",
    "from sklearn.feature_selection import f_regression\n",
    "\n",
    "feature_names = vectorizer.get_feature_names_out()\n",
    "X = friends2.drop(columns=friends.columns.tolist())\n",
    "\n",
    "\n",
    "y = friends2.Stars\n",
    "# univariate feature selection with F-test for feature scoring\n",
    "F, pval = f_regression(X, y)\n",
    "    \n",
    "    \n",
    "for topic_idx in np.argsort(F)[::-1][:25]:\n",
    "    topic = np.nan_to_num(nmf.components_[topic_idx])\n",
    "    words = [feature_names[i] for i in topic.argsort()[:-10:-1]]\n",
    "    print(f't{topic_idx}: ' + ' - '.join(words))"
   ]
  },
  {
   "cell_type": "markdown",
   "metadata": {},
   "source": [
    "### Predictions \n",
    "#### setting baselines"
   ]
  },
  {
   "cell_type": "code",
   "execution_count": 47,
   "metadata": {},
   "outputs": [
    {
     "name": "stdout",
     "output_type": "stream",
     "text": [
      "-0.3113667508113955 0.24655333378118335\n"
     ]
    }
   ],
   "source": [
    "import numpy as np\n",
    "from sklearn.dummy import DummyRegressor\n",
    "from sklearn.model_selection import cross_val_score, LeaveOneOut\n",
    "from sklearn.model_selection import train_test_split\n",
    "\n",
    "X = friends2.drop(columns=friends.columns.tolist())\n",
    "y = friends2.Stars\n",
    "\n",
    "cv = LeaveOneOut()\n",
    "\n",
    "dummy_regr = DummyRegressor(strategy=\"mean\")\n",
    "\n",
    "scores = cross_val_score(dummy_regr, X, y, cv=cv, scoring = 'neg_root_mean_squared_error')\n",
    "\n",
    "print(np.mean(scores), np.std(scores))\n"
   ]
  },
  {
   "cell_type": "code",
   "execution_count": 48,
   "metadata": {},
   "outputs": [
    {
     "name": "stdout",
     "output_type": "stream",
     "text": [
      "-0.3192444127354182 0.27835599860686666\n"
     ]
    }
   ],
   "source": [
    "\n",
    "X = friends['text']\n",
    "y = friends2.Stars\n",
    "\n",
    "cv = LeaveOneOut()\n",
    "\n",
    "reg = LinearRegression()\n",
    "vect = TfidfVectorizer()\n",
    "\n",
    "pipe = make_pipeline(vect, reg)\n",
    "\n",
    "scores = cross_val_score(pipe, X, y, cv=cv, scoring = 'neg_root_mean_squared_error')\n",
    "\n",
    "print(np.mean(scores), np.std(scores))\n"
   ]
  },
  {
   "cell_type": "code",
   "execution_count": 44,
   "metadata": {},
   "outputs": [
    {
     "data": {
      "text/plain": [
       "Index(['Year_of_prod', 'Season', 'Episode Number', 'Episode_Title', 'Duration',\n",
       "       'Summary', 'Director', 'Stars', 'Votes', 'match', 'text',\n",
       "       'len in words', 'len_prep'],\n",
       "      dtype='object')"
      ]
     },
     "execution_count": 44,
     "metadata": {},
     "output_type": "execute_result"
    }
   ],
   "source": [
    "friends.columns"
   ]
  },
  {
   "cell_type": "markdown",
   "metadata": {},
   "source": [
    "#### predictions with topics"
   ]
  },
  {
   "cell_type": "code",
   "execution_count": 49,
   "metadata": {},
   "outputs": [
    {
     "name": "stdout",
     "output_type": "stream",
     "text": [
      "-850297878.6328871 12600247522.78854\n"
     ]
    }
   ],
   "source": [
    "#all features\n",
    "from sklearn.feature_selection import SelectKBest\n",
    "from sklearn.feature_selection import f_regression\n",
    "from sklearn.linear_model import LinearRegression\n",
    "from sklearn.preprocessing import StandardScaler\n",
    "from sklearn.pipeline import make_pipeline\n",
    "\n",
    "feature_names = vectorizer.get_feature_names_out()\n",
    "X = friends2.drop(columns=friends.columns.tolist())\n",
    "y = friends2.Stars\n",
    "\n",
    "reg = LinearRegression()\n",
    "\n",
    "scores = cross_val_score(reg, X, y, cv=cv, scoring = 'neg_root_mean_squared_error')\n",
    "\n",
    "print(np.mean(scores), np.std(scores))"
   ]
  },
  {
   "cell_type": "code",
   "execution_count": 50,
   "metadata": {},
   "outputs": [
    {
     "name": "stdout",
     "output_type": "stream",
     "text": [
      "-0.34132509405760747 0.25981946437219205\n"
     ]
    }
   ],
   "source": [
    "#25 best features\n",
    "from sklearn.feature_selection import SelectKBest\n",
    "from sklearn.feature_selection import f_regression\n",
    "from sklearn.linear_model import LinearRegression\n",
    "from sklearn.preprocessing import StandardScaler\n",
    "from sklearn.pipeline import make_pipeline\n",
    "\n",
    "Best = [f't{topic_idx}' for topic_idx in np.argsort(F)[::-1][:25]]\n",
    "\n",
    "feature_names = vectorizer.get_feature_names_out()\n",
    "X = friends2[Best]\n",
    "y = friends2.Stars\n",
    "\n",
    "reg = LinearRegression()\n",
    "scal = StandardScaler()\n",
    "\n",
    "pipe = make_pipeline(reg, scal)\n",
    "\n",
    "scores = cross_val_score(reg, X, y, cv=cv, scoring = 'neg_root_mean_squared_error')\n",
    "\n",
    "print(np.mean(scores), np.std(scores))"
   ]
  },
  {
   "cell_type": "code",
   "execution_count": 51,
   "metadata": {},
   "outputs": [
    {
     "name": "stdout",
     "output_type": "stream",
     "text": [
      "-0.3248553749955487 0.25182946175627935\n"
     ]
    }
   ],
   "source": [
    "#10 best features\n",
    "from sklearn.feature_selection import SelectKBest\n",
    "from sklearn.feature_selection import f_regression\n",
    "from sklearn.linear_model import LinearRegression\n",
    "from sklearn.preprocessing import StandardScaler\n",
    "from sklearn.pipeline import make_pipeline\n",
    "\n",
    "Best = [f't{topic_idx}' for topic_idx in np.argsort(F)[::-1][:10]]\n",
    "\n",
    "feature_names = vectorizer.get_feature_names_out()\n",
    "Xble = friends2.drop(columns=friends.columns.tolist())\n",
    "X = Xble[Best]\n",
    "y = friends2.Stars\n",
    "\n",
    "reg = LinearRegression()\n",
    "scal = StandardScaler()\n",
    "\n",
    "pipe = make_pipeline(reg, scal)\n",
    "\n",
    "scores = cross_val_score(reg, X, y, cv=cv, scoring = 'neg_root_mean_squared_error')\n",
    "\n",
    "print(np.mean(scores), np.std(scores))"
   ]
  },
  {
   "cell_type": "code",
   "execution_count": 37,
   "metadata": {},
   "outputs": [
    {
     "data": {
      "text/html": [
       "<div>\n",
       "<style scoped>\n",
       "    .dataframe tbody tr th:only-of-type {\n",
       "        vertical-align: middle;\n",
       "    }\n",
       "\n",
       "    .dataframe tbody tr th {\n",
       "        vertical-align: top;\n",
       "    }\n",
       "\n",
       "    .dataframe thead th {\n",
       "        text-align: right;\n",
       "    }\n",
       "</style>\n",
       "<table border=\"1\" class=\"dataframe\">\n",
       "  <thead>\n",
       "    <tr style=\"text-align: right;\">\n",
       "      <th></th>\n",
       "      <th>t16</th>\n",
       "      <th>t277</th>\n",
       "      <th>t112</th>\n",
       "      <th>t132</th>\n",
       "      <th>t218</th>\n",
       "      <th>t199</th>\n",
       "      <th>t286</th>\n",
       "      <th>t47</th>\n",
       "      <th>t36</th>\n",
       "      <th>t83</th>\n",
       "      <th>Year_of_prod</th>\n",
       "      <th>Votes</th>\n",
       "      <th>Duration</th>\n",
       "      <th>Stars</th>\n",
       "    </tr>\n",
       "  </thead>\n",
       "  <tbody>\n",
       "    <tr>\n",
       "      <th>t16</th>\n",
       "      <td>1.000000</td>\n",
       "      <td>-0.014455</td>\n",
       "      <td>-0.029551</td>\n",
       "      <td>-0.025996</td>\n",
       "      <td>-0.027678</td>\n",
       "      <td>0.009011</td>\n",
       "      <td>0.053604</td>\n",
       "      <td>-0.004372</td>\n",
       "      <td>-0.023462</td>\n",
       "      <td>-0.006622</td>\n",
       "      <td>0.021521</td>\n",
       "      <td>0.009886</td>\n",
       "      <td>-0.026992</td>\n",
       "      <td>-0.020178</td>\n",
       "    </tr>\n",
       "    <tr>\n",
       "      <th>t277</th>\n",
       "      <td>-0.014455</td>\n",
       "      <td>1.000000</td>\n",
       "      <td>-0.018339</td>\n",
       "      <td>0.023381</td>\n",
       "      <td>-0.016775</td>\n",
       "      <td>0.063967</td>\n",
       "      <td>0.081502</td>\n",
       "      <td>-0.023429</td>\n",
       "      <td>-0.017722</td>\n",
       "      <td>-0.012675</td>\n",
       "      <td>0.097680</td>\n",
       "      <td>-0.046230</td>\n",
       "      <td>-0.021515</td>\n",
       "      <td>-0.048060</td>\n",
       "    </tr>\n",
       "    <tr>\n",
       "      <th>t112</th>\n",
       "      <td>-0.029551</td>\n",
       "      <td>-0.018339</td>\n",
       "      <td>1.000000</td>\n",
       "      <td>-0.031847</td>\n",
       "      <td>0.025494</td>\n",
       "      <td>-0.031876</td>\n",
       "      <td>-0.038401</td>\n",
       "      <td>-0.027571</td>\n",
       "      <td>-0.033369</td>\n",
       "      <td>0.144186</td>\n",
       "      <td>-0.062688</td>\n",
       "      <td>0.019969</td>\n",
       "      <td>-0.002602</td>\n",
       "      <td>-0.100397</td>\n",
       "    </tr>\n",
       "    <tr>\n",
       "      <th>t132</th>\n",
       "      <td>-0.025996</td>\n",
       "      <td>0.023381</td>\n",
       "      <td>-0.031847</td>\n",
       "      <td>1.000000</td>\n",
       "      <td>-0.048800</td>\n",
       "      <td>-0.015523</td>\n",
       "      <td>-0.030603</td>\n",
       "      <td>-0.049270</td>\n",
       "      <td>0.000996</td>\n",
       "      <td>-0.050110</td>\n",
       "      <td>0.155734</td>\n",
       "      <td>-0.079285</td>\n",
       "      <td>-0.016880</td>\n",
       "      <td>0.006282</td>\n",
       "    </tr>\n",
       "    <tr>\n",
       "      <th>t218</th>\n",
       "      <td>-0.027678</td>\n",
       "      <td>-0.016775</td>\n",
       "      <td>0.025494</td>\n",
       "      <td>-0.048800</td>\n",
       "      <td>1.000000</td>\n",
       "      <td>0.088489</td>\n",
       "      <td>-0.047843</td>\n",
       "      <td>0.015802</td>\n",
       "      <td>0.019948</td>\n",
       "      <td>-0.032708</td>\n",
       "      <td>-0.072616</td>\n",
       "      <td>-0.003796</td>\n",
       "      <td>-0.019194</td>\n",
       "      <td>-0.049427</td>\n",
       "    </tr>\n",
       "    <tr>\n",
       "      <th>t199</th>\n",
       "      <td>0.009011</td>\n",
       "      <td>0.063967</td>\n",
       "      <td>-0.031876</td>\n",
       "      <td>-0.015523</td>\n",
       "      <td>0.088489</td>\n",
       "      <td>1.000000</td>\n",
       "      <td>0.027496</td>\n",
       "      <td>-0.019696</td>\n",
       "      <td>0.042358</td>\n",
       "      <td>-0.064882</td>\n",
       "      <td>0.062470</td>\n",
       "      <td>0.021223</td>\n",
       "      <td>-0.050202</td>\n",
       "      <td>0.095366</td>\n",
       "    </tr>\n",
       "    <tr>\n",
       "      <th>t286</th>\n",
       "      <td>0.053604</td>\n",
       "      <td>0.081502</td>\n",
       "      <td>-0.038401</td>\n",
       "      <td>-0.030603</td>\n",
       "      <td>-0.047843</td>\n",
       "      <td>0.027496</td>\n",
       "      <td>1.000000</td>\n",
       "      <td>-0.034726</td>\n",
       "      <td>0.010496</td>\n",
       "      <td>-0.050879</td>\n",
       "      <td>0.181144</td>\n",
       "      <td>-0.068861</td>\n",
       "      <td>0.002210</td>\n",
       "      <td>0.026279</td>\n",
       "    </tr>\n",
       "    <tr>\n",
       "      <th>t47</th>\n",
       "      <td>-0.004372</td>\n",
       "      <td>-0.023429</td>\n",
       "      <td>-0.027571</td>\n",
       "      <td>-0.049270</td>\n",
       "      <td>0.015802</td>\n",
       "      <td>-0.019696</td>\n",
       "      <td>-0.034726</td>\n",
       "      <td>1.000000</td>\n",
       "      <td>0.005651</td>\n",
       "      <td>-0.008874</td>\n",
       "      <td>0.024298</td>\n",
       "      <td>0.055576</td>\n",
       "      <td>-0.027876</td>\n",
       "      <td>0.092912</td>\n",
       "    </tr>\n",
       "    <tr>\n",
       "      <th>t36</th>\n",
       "      <td>-0.023462</td>\n",
       "      <td>-0.017722</td>\n",
       "      <td>-0.033369</td>\n",
       "      <td>0.000996</td>\n",
       "      <td>0.019948</td>\n",
       "      <td>0.042358</td>\n",
       "      <td>0.010496</td>\n",
       "      <td>0.005651</td>\n",
       "      <td>1.000000</td>\n",
       "      <td>-0.040097</td>\n",
       "      <td>0.021812</td>\n",
       "      <td>-0.043289</td>\n",
       "      <td>-0.027115</td>\n",
       "      <td>-0.005756</td>\n",
       "    </tr>\n",
       "    <tr>\n",
       "      <th>t83</th>\n",
       "      <td>-0.006622</td>\n",
       "      <td>-0.012675</td>\n",
       "      <td>0.144186</td>\n",
       "      <td>-0.050110</td>\n",
       "      <td>-0.032708</td>\n",
       "      <td>-0.064882</td>\n",
       "      <td>-0.050879</td>\n",
       "      <td>-0.008874</td>\n",
       "      <td>-0.040097</td>\n",
       "      <td>1.000000</td>\n",
       "      <td>0.125575</td>\n",
       "      <td>-0.051266</td>\n",
       "      <td>0.140194</td>\n",
       "      <td>-0.005535</td>\n",
       "    </tr>\n",
       "    <tr>\n",
       "      <th>Year_of_prod</th>\n",
       "      <td>0.021521</td>\n",
       "      <td>0.097680</td>\n",
       "      <td>-0.062688</td>\n",
       "      <td>0.155734</td>\n",
       "      <td>-0.072616</td>\n",
       "      <td>0.062470</td>\n",
       "      <td>0.181144</td>\n",
       "      <td>0.024298</td>\n",
       "      <td>0.021812</td>\n",
       "      <td>0.125575</td>\n",
       "      <td>1.000000</td>\n",
       "      <td>-0.364429</td>\n",
       "      <td>0.161111</td>\n",
       "      <td>0.071470</td>\n",
       "    </tr>\n",
       "    <tr>\n",
       "      <th>Votes</th>\n",
       "      <td>0.009886</td>\n",
       "      <td>-0.046230</td>\n",
       "      <td>0.019969</td>\n",
       "      <td>-0.079285</td>\n",
       "      <td>-0.003796</td>\n",
       "      <td>0.021223</td>\n",
       "      <td>-0.068861</td>\n",
       "      <td>0.055576</td>\n",
       "      <td>-0.043289</td>\n",
       "      <td>-0.051266</td>\n",
       "      <td>-0.364429</td>\n",
       "      <td>1.000000</td>\n",
       "      <td>0.238580</td>\n",
       "      <td>0.522019</td>\n",
       "    </tr>\n",
       "    <tr>\n",
       "      <th>Duration</th>\n",
       "      <td>-0.026992</td>\n",
       "      <td>-0.021515</td>\n",
       "      <td>-0.002602</td>\n",
       "      <td>-0.016880</td>\n",
       "      <td>-0.019194</td>\n",
       "      <td>-0.050202</td>\n",
       "      <td>0.002210</td>\n",
       "      <td>-0.027876</td>\n",
       "      <td>-0.027115</td>\n",
       "      <td>0.140194</td>\n",
       "      <td>0.161111</td>\n",
       "      <td>0.238580</td>\n",
       "      <td>1.000000</td>\n",
       "      <td>0.237446</td>\n",
       "    </tr>\n",
       "    <tr>\n",
       "      <th>Stars</th>\n",
       "      <td>-0.020178</td>\n",
       "      <td>-0.048060</td>\n",
       "      <td>-0.100397</td>\n",
       "      <td>0.006282</td>\n",
       "      <td>-0.049427</td>\n",
       "      <td>0.095366</td>\n",
       "      <td>0.026279</td>\n",
       "      <td>0.092912</td>\n",
       "      <td>-0.005756</td>\n",
       "      <td>-0.005535</td>\n",
       "      <td>0.071470</td>\n",
       "      <td>0.522019</td>\n",
       "      <td>0.237446</td>\n",
       "      <td>1.000000</td>\n",
       "    </tr>\n",
       "  </tbody>\n",
       "</table>\n",
       "</div>"
      ],
      "text/plain": [
       "                   t16      t277      t112      t132      t218      t199  \\\n",
       "t16           1.000000 -0.014455 -0.029551 -0.025996 -0.027678  0.009011   \n",
       "t277         -0.014455  1.000000 -0.018339  0.023381 -0.016775  0.063967   \n",
       "t112         -0.029551 -0.018339  1.000000 -0.031847  0.025494 -0.031876   \n",
       "t132         -0.025996  0.023381 -0.031847  1.000000 -0.048800 -0.015523   \n",
       "t218         -0.027678 -0.016775  0.025494 -0.048800  1.000000  0.088489   \n",
       "t199          0.009011  0.063967 -0.031876 -0.015523  0.088489  1.000000   \n",
       "t286          0.053604  0.081502 -0.038401 -0.030603 -0.047843  0.027496   \n",
       "t47          -0.004372 -0.023429 -0.027571 -0.049270  0.015802 -0.019696   \n",
       "t36          -0.023462 -0.017722 -0.033369  0.000996  0.019948  0.042358   \n",
       "t83          -0.006622 -0.012675  0.144186 -0.050110 -0.032708 -0.064882   \n",
       "Year_of_prod  0.021521  0.097680 -0.062688  0.155734 -0.072616  0.062470   \n",
       "Votes         0.009886 -0.046230  0.019969 -0.079285 -0.003796  0.021223   \n",
       "Duration     -0.026992 -0.021515 -0.002602 -0.016880 -0.019194 -0.050202   \n",
       "Stars        -0.020178 -0.048060 -0.100397  0.006282 -0.049427  0.095366   \n",
       "\n",
       "                  t286       t47       t36       t83  Year_of_prod     Votes  \\\n",
       "t16           0.053604 -0.004372 -0.023462 -0.006622      0.021521  0.009886   \n",
       "t277          0.081502 -0.023429 -0.017722 -0.012675      0.097680 -0.046230   \n",
       "t112         -0.038401 -0.027571 -0.033369  0.144186     -0.062688  0.019969   \n",
       "t132         -0.030603 -0.049270  0.000996 -0.050110      0.155734 -0.079285   \n",
       "t218         -0.047843  0.015802  0.019948 -0.032708     -0.072616 -0.003796   \n",
       "t199          0.027496 -0.019696  0.042358 -0.064882      0.062470  0.021223   \n",
       "t286          1.000000 -0.034726  0.010496 -0.050879      0.181144 -0.068861   \n",
       "t47          -0.034726  1.000000  0.005651 -0.008874      0.024298  0.055576   \n",
       "t36           0.010496  0.005651  1.000000 -0.040097      0.021812 -0.043289   \n",
       "t83          -0.050879 -0.008874 -0.040097  1.000000      0.125575 -0.051266   \n",
       "Year_of_prod  0.181144  0.024298  0.021812  0.125575      1.000000 -0.364429   \n",
       "Votes        -0.068861  0.055576 -0.043289 -0.051266     -0.364429  1.000000   \n",
       "Duration      0.002210 -0.027876 -0.027115  0.140194      0.161111  0.238580   \n",
       "Stars         0.026279  0.092912 -0.005756 -0.005535      0.071470  0.522019   \n",
       "\n",
       "              Duration     Stars  \n",
       "t16          -0.026992 -0.020178  \n",
       "t277         -0.021515 -0.048060  \n",
       "t112         -0.002602 -0.100397  \n",
       "t132         -0.016880  0.006282  \n",
       "t218         -0.019194 -0.049427  \n",
       "t199         -0.050202  0.095366  \n",
       "t286          0.002210  0.026279  \n",
       "t47          -0.027876  0.092912  \n",
       "t36          -0.027115 -0.005756  \n",
       "t83           0.140194 -0.005535  \n",
       "Year_of_prod  0.161111  0.071470  \n",
       "Votes         0.238580  0.522019  \n",
       "Duration      1.000000  0.237446  \n",
       "Stars         0.237446  1.000000  "
      ]
     },
     "execution_count": 37,
     "metadata": {},
     "output_type": "execute_result"
    }
   ],
   "source": [
    "Best = [f't{topic_idx}' for topic_idx in np.argsort(F)[::-1][:10]]\n",
    "xtra = ['Year_of_prod', 'Votes', 'Duration']\n",
    "\n",
    "cols = Best+xtra\n",
    "\n",
    "cols.append('Stars')\n",
    "\n",
    "scal = StandardScaler()\n",
    "\n",
    "corrM = friends2[cols].corr()\n",
    " \n",
    "corrM\n"
   ]
  },
  {
   "cell_type": "code",
   "execution_count": 38,
   "metadata": {},
   "outputs": [
    {
     "data": {
      "image/png": "[encoded data removed]",
      "text/plain": [
       "<Figure size 432x288 with 2 Axes>"
      ]
     },
     "metadata": {},
     "output_type": "display_data"
    }
   ],
   "source": [
    "import pandas as pd\n",
    "import seaborn as sn\n",
    "import matplotlib.pyplot as plt\n",
    "\n",
    "sn.heatmap(corrM, annot=True)\n",
    "plt.show()"
   ]
  },
  {
   "cell_type": "code",
   "execution_count": 39,
   "metadata": {},
   "outputs": [
    {
     "name": "stdout",
     "output_type": "stream",
     "text": [
      "Gary Halvorson     54\n",
      "Kevin Bright       54\n",
      "Other              43\n",
      "Michael Lembeck    24\n",
      "James Burrows      15\n",
      "Gail Mancuso       14\n",
      "Peter Bonerz       12\n",
      "David Schwimmer    10\n",
      "Ben Weiss          10\n",
      "Name: Director, dtype: int64\n"
     ]
    }
   ],
   "source": [
    "# print(friends2.Director.value_counts())\n",
    "\n",
    "lst = ['Gary Halvorson',        \n",
    "'Kevin Bright',          \n",
    "'Michael Lembeck',       \n",
    "'James Burrows',           \n",
    "'Gail Mancuso',           \n",
    "'Peter Bonerz',            \n",
    "'David Schwimmer',         \n",
    "'Ben Weiss']\n",
    "\n",
    "def direr(wow):\n",
    "    if wow not in lst:\n",
    "        wow = wow.replace(wow,'Other')\n",
    "    return wow\n",
    "\n",
    "friends2['Director'] = friends2['Director'].apply(direr)\n",
    "\n",
    "print(friends2.Director.value_counts())"
   ]
  },
  {
   "cell_type": "code",
   "execution_count": 52,
   "metadata": {},
   "outputs": [
    {
     "name": "stdout",
     "output_type": "stream",
     "text": [
      "-0.30414062232751493 0.24315648926089023\n"
     ]
    }
   ],
   "source": [
    "Best = [f't{topic_idx}' for topic_idx in np.argsort(F)[1::-1]]\n",
    "xtra = ['Year_of_prod', 'Duration', 'Director']\n",
    "\n",
    "from sklearn.compose import make_column_transformer\n",
    "from sklearn.preprocessing import OneHotEncoder\n",
    "\n",
    "cols = Best+xtra\n",
    "\n",
    "X = friends2[cols]\n",
    "y = friends2.Stars\n",
    "\n",
    "reg = LinearRegression()\n",
    "hot = OneHotEncoder()\n",
    "scal = StandardScaler()\n",
    "\n",
    "categorical_features = X.select_dtypes(include=\"object\").columns\n",
    "integer_features = X.select_dtypes(exclude=\"object\").columns\n",
    "\n",
    "prep = make_column_transformer((hot, categorical_features),\n",
    "                                (scal, integer_features))\n",
    "\n",
    "pipe = make_pipeline(prep,reg)\n",
    "\n",
    "scores = cross_val_score(pipe, X, y, cv=cv, scoring = 'neg_root_mean_squared_error')\n",
    "\n",
    "print(np.mean(scores), np.std(scores))"
   ]
  },
  {
   "cell_type": "code",
   "execution_count": null,
   "metadata": {},
   "outputs": [],
   "source": []
  },
  {
   "cell_type": "code",
   "execution_count": 41,
   "metadata": {},
   "outputs": [
    {
     "name": "stdout",
     "output_type": "stream",
     "text": [
      "-0.4601473462865432 0.059412119625408294\n"
     ]
    }
   ],
   "source": [
    "Best = [f't{topic_idx}' for topic_idx in np.argsort(F)[::-1][:25]]\n",
    "xtra = ['Year_of_prod', 'Duration', 'Director']\n",
    "\n",
    "from sklearn.compose import make_column_transformer\n",
    "from sklearn.preprocessing import OneHotEncoder\n",
    "\n",
    "cols = Best+xtra\n",
    "\n",
    "X = friends2[cols]\n",
    "y = friends2.Stars\n",
    "\n",
    "reg = LinearRegression()\n",
    "hot = OneHotEncoder()\n",
    "scal = StandardScaler()\n",
    "\n",
    "categorical_features = X.select_dtypes(include=\"object\").columns\n",
    "integer_features = X.select_dtypes(exclude=\"object\").columns\n",
    "\n",
    "prep = make_column_transformer((hot, categorical_features),\n",
    "                                (scal, integer_features))\n",
    "\n",
    "pipe = make_pipeline(prep,reg)\n",
    "\n",
    "scores = cross_val_score(pipe, X, y, cv=10, scoring = 'neg_root_mean_squared_error')\n",
    "\n",
    "print(np.mean(scores), np.std(scores))"
   ]
  },
  {
   "cell_type": "code",
   "execution_count": 42,
   "metadata": {},
   "outputs": [
    {
     "name": "stdout",
     "output_type": "stream",
     "text": [
      "-0.42238689134705404 0.04159380506501158\n"
     ]
    }
   ],
   "source": [
    "Best = [f't{topic_idx}' for topic_idx in np.argsort(F)[::-1][:10]]\n",
    "xtra = ['Year_of_prod', 'Duration', 'Director']\n",
    "\n",
    "from sklearn.compose import make_column_transformer\n",
    "from sklearn.preprocessing import OneHotEncoder\n",
    "\n",
    "cols = Best+xtra\n",
    "\n",
    "X = friends2[cols]\n",
    "y = friends2.Stars\n",
    "\n",
    "reg = LinearRegression()\n",
    "hot = OneHotEncoder()\n",
    "scal = StandardScaler()\n",
    "\n",
    "categorical_features = X.select_dtypes(include=\"object\").columns\n",
    "integer_features = X.select_dtypes(exclude=\"object\").columns\n",
    "\n",
    "prep = make_column_transformer((hot, categorical_features),\n",
    "                                (scal, integer_features))\n",
    "\n",
    "pipe = make_pipeline(prep,reg)\n",
    "\n",
    "scores = cross_val_score(pipe, X, y, cv=10, scoring = 'neg_root_mean_squared_error')\n",
    "\n",
    "print(np.mean(scores), np.std(scores))"
   ]
  },
  {
   "cell_type": "code",
   "execution_count": 31,
   "metadata": {},
   "outputs": [
    {
     "data": {
      "text/plain": [
       "['nmf_books_friends.sav']"
      ]
     },
     "execution_count": 31,
     "metadata": {},
     "output_type": "execute_result"
    }
   ],
   "source": [
    "# import joblib\n",
    "# filename = 'nmf_books_friends.sav'\n",
    "# joblib.dump(nmf, filename)"
   ]
  },
  {
   "cell_type": "markdown",
   "metadata": {},
   "source": [
    "### SVR"
   ]
  },
  {
   "cell_type": "code",
   "execution_count": 43,
   "metadata": {},
   "outputs": [
    {
     "name": "stdout",
     "output_type": "stream",
     "text": [
      "-0.4209709651377519 0.04900406499839548\n"
     ]
    }
   ],
   "source": [
    "from sklearn.svm import SVR\n",
    "\n",
    "feature_names = vectorizer.get_feature_names_out()\n",
    "X = friends2.drop(columns=friends.columns.tolist())\n",
    "y = friends2.Stars\n",
    "\n",
    "reg = SVR()\n",
    "scal = StandardScaler()\n",
    "\n",
    "pipe = make_pipeline(reg, scal)\n",
    "\n",
    "scores = cross_val_score(reg, X, y, cv=10, scoring = 'neg_root_mean_squared_error')\n",
    "\n",
    "print(np.mean(scores), np.std(scores))"
   ]
  },
  {
   "cell_type": "code",
   "execution_count": 51,
   "metadata": {},
   "outputs": [
    {
     "name": "stdout",
     "output_type": "stream",
     "text": [
      "-0.4269642548856371 0.06804596026969317\n"
     ]
    }
   ],
   "source": [
    "from sklearn.svm import SVR\n",
    "\n",
    "Best = [f't{topic_idx}' for topic_idx in np.argsort(F)[::-1][:25]]\n",
    "\n",
    "feature_names = vectorizer.get_feature_names_out()\n",
    "X = friends2[Best]\n",
    "y = friends2.Stars\n",
    "\n",
    "reg = SVR()\n",
    "scal = StandardScaler()\n",
    "\n",
    "pipe = make_pipeline(reg, scal)\n",
    "\n",
    "scores = cross_val_score(reg, X, y, cv=10, scoring = 'neg_root_mean_squared_error')\n",
    "\n",
    "print(np.mean(scores), np.std(scores))"
   ]
  },
  {
   "cell_type": "code",
   "execution_count": 78,
   "metadata": {},
   "outputs": [
    {
     "name": "stdout",
     "output_type": "stream",
     "text": [
      "-0.41355260347536077 0.054011321600815024\n"
     ]
    }
   ],
   "source": [
    "Best = [f't{topic_idx}' for topic_idx in np.argsort(F)[::-1][:10]]\n",
    "\n",
    "feature_names = vectorizer.get_feature_names_out()\n",
    "X = friends2[Best]\n",
    "y = friends2.Stars\n",
    "\n",
    "reg = SVR()\n",
    "scal = StandardScaler()\n",
    "\n",
    "pipe = make_pipeline(reg, scal)\n",
    "\n",
    "scores = cross_val_score(reg, X, y, cv=10, scoring = 'neg_root_mean_squared_error')\n",
    "\n",
    "print(np.mean(scores), np.std(scores))"
   ]
  },
  {
   "cell_type": "code",
   "execution_count": 79,
   "metadata": {},
   "outputs": [
    {
     "name": "stdout",
     "output_type": "stream",
     "text": [
      "-0.4229000071383643 0.06739912152089038\n"
     ]
    }
   ],
   "source": [
    "Best = [f't{topic_idx}' for topic_idx in np.argsort(F)[1::-1]]\n",
    "xtra = ['Year_of_prod', 'Duration', 'Director']\n",
    "\n",
    "from sklearn.compose import make_column_transformer\n",
    "from sklearn.preprocessing import OneHotEncoder\n",
    "\n",
    "cols = Best+xtra\n",
    "\n",
    "X = friends2[cols]\n",
    "y = friends2.Stars\n",
    "\n",
    "reg = SVR()\n",
    "hot = OneHotEncoder()\n",
    "scal = StandardScaler()\n",
    "\n",
    "categorical_features = X.select_dtypes(include=\"object\").columns\n",
    "integer_features = X.select_dtypes(exclude=\"object\").columns\n",
    "\n",
    "prep = make_column_transformer((hot, categorical_features),\n",
    "                                (scal, integer_features))\n",
    "\n",
    "pipe = make_pipeline(prep,reg)\n",
    "\n",
    "scores = cross_val_score(pipe, X, y, cv=10, scoring = 'neg_root_mean_squared_error')\n",
    "\n",
    "print(np.mean(scores), np.std(scores))"
   ]
  },
  {
   "cell_type": "code",
   "execution_count": 80,
   "metadata": {},
   "outputs": [
    {
     "name": "stdout",
     "output_type": "stream",
     "text": [
      "-0.4256167722242978 0.053832344041550656\n"
     ]
    }
   ],
   "source": [
    "Best = [f't{topic_idx}' for topic_idx in np.argsort(F)[::-1][:25]]\n",
    "xtra = ['Year_of_prod', 'Duration', 'Director']\n",
    "\n",
    "from sklearn.compose import make_column_transformer\n",
    "from sklearn.preprocessing import OneHotEncoder\n",
    "\n",
    "cols = Best+xtra\n",
    "\n",
    "X = friends2[cols]\n",
    "y = friends2.Stars\n",
    "\n",
    "reg = SVR()\n",
    "hot = OneHotEncoder()\n",
    "scal = StandardScaler()\n",
    "\n",
    "categorical_features = X.select_dtypes(include=\"object\").columns\n",
    "integer_features = X.select_dtypes(exclude=\"object\").columns\n",
    "\n",
    "prep = make_column_transformer((hot, categorical_features),\n",
    "                                (scal, integer_features))\n",
    "\n",
    "pipe = make_pipeline(prep,reg)\n",
    "\n",
    "scores = cross_val_score(pipe, X, y, cv=10, scoring = 'neg_root_mean_squared_error')\n",
    "\n",
    "print(np.mean(scores), np.std(scores))"
   ]
  },
  {
   "cell_type": "code",
   "execution_count": 81,
   "metadata": {},
   "outputs": [
    {
     "name": "stdout",
     "output_type": "stream",
     "text": [
      "-0.4243136464831898 0.051222479025645556\n"
     ]
    }
   ],
   "source": [
    "Best = [f't{topic_idx}' for topic_idx in np.argsort(F)[::-1][:10]]\n",
    "xtra = ['Year_of_prod', 'Duration', 'Director']\n",
    "\n",
    "from sklearn.compose import make_column_transformer\n",
    "from sklearn.preprocessing import OneHotEncoder\n",
    "\n",
    "cols = Best+xtra\n",
    "\n",
    "X = friends2[cols]\n",
    "y = friends2.Stars\n",
    "\n",
    "reg = SVR()\n",
    "hot = OneHotEncoder()\n",
    "scal = StandardScaler()\n",
    "\n",
    "categorical_features = X.select_dtypes(include=\"object\").columns\n",
    "integer_features = X.select_dtypes(exclude=\"object\").columns\n",
    "\n",
    "prep = make_column_transformer((hot, categorical_features),\n",
    "                                (scal, integer_features))\n",
    "\n",
    "pipe = make_pipeline(prep,reg)\n",
    "\n",
    "scores = cross_val_score(pipe, X, y, cv=10, scoring = 'neg_root_mean_squared_error')\n",
    "\n",
    "print(np.mean(scores), np.std(scores))"
   ]
  },
  {
   "cell_type": "markdown",
   "metadata": {},
   "source": [
    "### gradient boosting"
   ]
  },
  {
   "cell_type": "code",
   "execution_count": 71,
   "metadata": {},
   "outputs": [
    {
     "name": "stdout",
     "output_type": "stream",
     "text": [
      "-0.4243307529303612 0.05454752391623509\n"
     ]
    }
   ],
   "source": [
    "from sklearn.ensemble import GradientBoostingRegressor\n",
    "\n",
    "feature_names = vectorizer.get_feature_names_out()\n",
    "X = friends2.drop(columns=friends.columns.tolist())\n",
    "y = friends2.Stars\n",
    "\n",
    "reg = GradientBoostingRegressor()\n",
    "scal = StandardScaler()\n",
    "\n",
    "pipe = make_pipeline(reg, scal)\n",
    "\n",
    "scores = cross_val_score(reg, X, y, cv=10, scoring = 'neg_root_mean_squared_error')\n",
    "\n",
    "print(np.mean(scores), np.std(scores))"
   ]
  },
  {
   "cell_type": "code",
   "execution_count": 72,
   "metadata": {},
   "outputs": [
    {
     "name": "stdout",
     "output_type": "stream",
     "text": [
      "-0.4743865021548091 0.05309363102278743\n"
     ]
    }
   ],
   "source": [
    "Best = [f't{topic_idx}' for topic_idx in np.argsort(F)[::-1][:25]]\n",
    "\n",
    "feature_names = vectorizer.get_feature_names_out()\n",
    "X = friends2[Best]\n",
    "y = friends2.Stars\n",
    "\n",
    "reg = GradientBoostingRegressor()\n",
    "scal = StandardScaler()\n",
    "\n",
    "pipe = make_pipeline(reg, scal)\n",
    "\n",
    "scores = cross_val_score(reg, X, y, cv=10, scoring = 'neg_root_mean_squared_error')\n",
    "\n",
    "print(np.mean(scores), np.std(scores))"
   ]
  },
  {
   "cell_type": "code",
   "execution_count": 73,
   "metadata": {},
   "outputs": [
    {
     "name": "stdout",
     "output_type": "stream",
     "text": [
      "-0.4626873499655191 0.05295926483927544\n"
     ]
    }
   ],
   "source": [
    "Best = [f't{topic_idx}' for topic_idx in np.argsort(F)[::-1][:10]]\n",
    "\n",
    "feature_names = vectorizer.get_feature_names_out()\n",
    "X = friends2[Best]\n",
    "y = friends2.Stars\n",
    "\n",
    "reg = GradientBoostingRegressor()\n",
    "scal = StandardScaler()\n",
    "\n",
    "pipe = make_pipeline(reg, scal)\n",
    "\n",
    "scores = cross_val_score(reg, X, y, cv=10, scoring = 'neg_root_mean_squared_error')\n",
    "\n",
    "print(np.mean(scores), np.std(scores))"
   ]
  },
  {
   "cell_type": "code",
   "execution_count": 82,
   "metadata": {},
   "outputs": [
    {
     "name": "stdout",
     "output_type": "stream",
     "text": [
      "-0.4519760133963449 0.09862278303568002\n"
     ]
    }
   ],
   "source": [
    "Best = [f't{topic_idx}' for topic_idx in np.argsort(F)[1::-1]]\n",
    "xtra = ['Year_of_prod', 'Duration', 'Director']\n",
    "\n",
    "from sklearn.compose import make_column_transformer\n",
    "from sklearn.preprocessing import OneHotEncoder\n",
    "\n",
    "cols = Best+xtra\n",
    "\n",
    "X = friends2[cols]\n",
    "y = friends2.Stars\n",
    "\n",
    "reg = GradientBoostingRegressor()\n",
    "hot = OneHotEncoder()\n",
    "scal = StandardScaler()\n",
    "\n",
    "categorical_features = X.select_dtypes(include=\"object\").columns\n",
    "integer_features = X.select_dtypes(exclude=\"object\").columns\n",
    "\n",
    "prep = make_column_transformer((hot, categorical_features),\n",
    "                                (scal, integer_features))\n",
    "\n",
    "pipe = make_pipeline(prep,reg)\n",
    "\n",
    "scores = cross_val_score(pipe, X, y, cv=10, scoring = 'neg_root_mean_squared_error')\n",
    "\n",
    "print(np.mean(scores), np.std(scores))"
   ]
  },
  {
   "cell_type": "code",
   "execution_count": 76,
   "metadata": {},
   "outputs": [
    {
     "name": "stdout",
     "output_type": "stream",
     "text": [
      "-0.4645101793031987 0.05817339521301511\n"
     ]
    }
   ],
   "source": [
    "Best = [f't{topic_idx}' for topic_idx in np.argsort(F)[::-1][:25]]\n",
    "xtra = ['Year_of_prod', 'Duration', 'Director']\n",
    "\n",
    "from sklearn.compose import make_column_transformer\n",
    "from sklearn.preprocessing import OneHotEncoder\n",
    "\n",
    "cols = Best+xtra\n",
    "\n",
    "X = friends2[cols]\n",
    "y = friends2.Stars\n",
    "\n",
    "reg = GradientBoostingRegressor()\n",
    "hot = OneHotEncoder()\n",
    "scal = StandardScaler()\n",
    "\n",
    "categorical_features = X.select_dtypes(include=\"object\").columns\n",
    "integer_features = X.select_dtypes(exclude=\"object\").columns\n",
    "\n",
    "prep = make_column_transformer((hot, categorical_features),\n",
    "                                (scal, integer_features))\n",
    "\n",
    "pipe = make_pipeline(prep,reg)\n",
    "\n",
    "scores = cross_val_score(pipe, X, y, cv=10, scoring = 'neg_root_mean_squared_error')\n",
    "\n",
    "print(np.mean(scores), np.std(scores))"
   ]
  },
  {
   "cell_type": "code",
   "execution_count": 77,
   "metadata": {},
   "outputs": [
    {
     "name": "stdout",
     "output_type": "stream",
     "text": [
      "-0.42918556542695996 0.06242421122639609\n"
     ]
    }
   ],
   "source": [
    "Best = [f't{topic_idx}' for topic_idx in np.argsort(F)[::-1][:10]]\n",
    "xtra = ['Year_of_prod', 'Duration', 'Director']\n",
    "\n",
    "from sklearn.compose import make_column_transformer\n",
    "from sklearn.preprocessing import OneHotEncoder\n",
    "\n",
    "cols = Best+xtra\n",
    "\n",
    "X = friends2[cols]\n",
    "y = friends2.Stars\n",
    "\n",
    "reg = GradientBoostingRegressor()\n",
    "hot = OneHotEncoder()\n",
    "scal = StandardScaler()\n",
    "\n",
    "categorical_features = X.select_dtypes(include=\"object\").columns\n",
    "integer_features = X.select_dtypes(exclude=\"object\").columns\n",
    "\n",
    "prep = make_column_transformer((hot, categorical_features),\n",
    "                                (scal, integer_features))\n",
    "\n",
    "pipe = make_pipeline(prep,reg)\n",
    "\n",
    "scores = cross_val_score(pipe, X, y, cv=10, scoring = 'neg_root_mean_squared_error')\n",
    "\n",
    "print(np.mean(scores), np.std(scores))"
   ]
  }
 ],
 "metadata": {
  "kernelspec": {
   "display_name": "Python 3.8.8 ('base')",
   "language": "python",
   "name": "python3"
  },
  "language_info": {
   "codemirror_mode": {
    "name": "ipython",
    "version": 3
   },
   "file_extension": ".py",
   "mimetype": "text/x-python",
   "name": "python",
   "nbconvert_exporter": "python",
   "pygments_lexer": "ipython3",
   "version": "3.8.8"
  },
  "orig_nbformat": 4,
  "vscode": {
   "interpreter": {
    "hash": "db3ad00c254152fbd946dfe3ddf750e2d6dd1f511dd85499e770b0c6b301697a"
   }
  }
 },
 "nbformat": 4,
 "nbformat_minor": 2
}
