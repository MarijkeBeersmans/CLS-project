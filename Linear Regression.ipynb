{
 "cells": [
  {
   "cell_type": "markdown",
   "metadata": {},
   "source": [
    "# Models to predict ratings"
   ]
  },
  {
   "cell_type": "code",
   "execution_count": 134,
   "metadata": {},
   "outputs": [],
   "source": [
    "import pandas as pd\n",
    "import numpy as np\n",
    "\n",
    "friends = pd.read_csv('transcripts and metadata/friends_mastersheet.csv', index_col=0)"
   ]
  },
  {
   "cell_type": "code",
   "execution_count": 135,
   "metadata": {},
   "outputs": [
    {
     "data": {
      "text/html": [
       "<div>\n",
       "<style scoped>\n",
       "    .dataframe tbody tr th:only-of-type {\n",
       "        vertical-align: middle;\n",
       "    }\n",
       "\n",
       "    .dataframe tbody tr th {\n",
       "        vertical-align: top;\n",
       "    }\n",
       "\n",
       "    .dataframe thead th {\n",
       "        text-align: right;\n",
       "    }\n",
       "</style>\n",
       "<table border=\"1\" class=\"dataframe\">\n",
       "  <thead>\n",
       "    <tr style=\"text-align: right;\">\n",
       "      <th></th>\n",
       "      <th>Year_of_prod</th>\n",
       "      <th>Season</th>\n",
       "      <th>Episode Number</th>\n",
       "      <th>Episode_Title</th>\n",
       "      <th>Duration</th>\n",
       "      <th>Summary</th>\n",
       "      <th>Director</th>\n",
       "      <th>Stars</th>\n",
       "      <th>Votes</th>\n",
       "      <th>match</th>\n",
       "      <th>...</th>\n",
       "      <th>Phoebe</th>\n",
       "      <th>Ross</th>\n",
       "      <th>Rachel</th>\n",
       "      <th>Carol</th>\n",
       "      <th>Susan</th>\n",
       "      <th>Janice</th>\n",
       "      <th>Mike</th>\n",
       "      <th>Gunther</th>\n",
       "      <th>Ben</th>\n",
       "      <th>Emily</th>\n",
       "    </tr>\n",
       "  </thead>\n",
       "  <tbody>\n",
       "    <tr>\n",
       "      <th>0</th>\n",
       "      <td>1994</td>\n",
       "      <td>1</td>\n",
       "      <td>1</td>\n",
       "      <td>The One Where Monica Gets a Roommate: The Pilot</td>\n",
       "      <td>22</td>\n",
       "      <td>Monica and the gang introduce Rachel to the \"r...</td>\n",
       "      <td>James Burrows</td>\n",
       "      <td>8.3</td>\n",
       "      <td>7440</td>\n",
       "      <td>11</td>\n",
       "      <td>...</td>\n",
       "      <td>0.061248</td>\n",
       "      <td>0.144114</td>\n",
       "      <td>0.155643</td>\n",
       "      <td>0.000000</td>\n",
       "      <td>0.000000</td>\n",
       "      <td>0.000000</td>\n",
       "      <td>0.0</td>\n",
       "      <td>0.0</td>\n",
       "      <td>0.0</td>\n",
       "      <td>0.0</td>\n",
       "    </tr>\n",
       "    <tr>\n",
       "      <th>1</th>\n",
       "      <td>1994</td>\n",
       "      <td>1</td>\n",
       "      <td>2</td>\n",
       "      <td>The One with the Sonogram at the End</td>\n",
       "      <td>22</td>\n",
       "      <td>Ross finds out his ex-wife is pregnant. Rachel...</td>\n",
       "      <td>James Burrows</td>\n",
       "      <td>8.1</td>\n",
       "      <td>4888</td>\n",
       "      <td>12</td>\n",
       "      <td>...</td>\n",
       "      <td>0.061500</td>\n",
       "      <td>0.248342</td>\n",
       "      <td>0.165269</td>\n",
       "      <td>0.088068</td>\n",
       "      <td>0.044696</td>\n",
       "      <td>0.000000</td>\n",
       "      <td>0.0</td>\n",
       "      <td>0.0</td>\n",
       "      <td>0.0</td>\n",
       "      <td>0.0</td>\n",
       "    </tr>\n",
       "    <tr>\n",
       "      <th>2</th>\n",
       "      <td>1994</td>\n",
       "      <td>1</td>\n",
       "      <td>3</td>\n",
       "      <td>The One with the Thumb</td>\n",
       "      <td>22</td>\n",
       "      <td>Monica becomes irritated when everyone likes h...</td>\n",
       "      <td>James Burrows</td>\n",
       "      <td>8.2</td>\n",
       "      <td>4605</td>\n",
       "      <td>13</td>\n",
       "      <td>...</td>\n",
       "      <td>0.145415</td>\n",
       "      <td>0.125624</td>\n",
       "      <td>0.102383</td>\n",
       "      <td>0.000000</td>\n",
       "      <td>0.000000</td>\n",
       "      <td>0.000000</td>\n",
       "      <td>0.0</td>\n",
       "      <td>0.0</td>\n",
       "      <td>0.0</td>\n",
       "      <td>0.0</td>\n",
       "    </tr>\n",
       "    <tr>\n",
       "      <th>3</th>\n",
       "      <td>1994</td>\n",
       "      <td>1</td>\n",
       "      <td>4</td>\n",
       "      <td>The One with George Stephanopoulos</td>\n",
       "      <td>22</td>\n",
       "      <td>Joey and Chandler take Ross to a hockey game t...</td>\n",
       "      <td>James Burrows</td>\n",
       "      <td>8.1</td>\n",
       "      <td>4468</td>\n",
       "      <td>14</td>\n",
       "      <td>...</td>\n",
       "      <td>0.111161</td>\n",
       "      <td>0.151849</td>\n",
       "      <td>0.162042</td>\n",
       "      <td>0.000000</td>\n",
       "      <td>0.000000</td>\n",
       "      <td>0.000000</td>\n",
       "      <td>0.0</td>\n",
       "      <td>0.0</td>\n",
       "      <td>0.0</td>\n",
       "      <td>0.0</td>\n",
       "    </tr>\n",
       "    <tr>\n",
       "      <th>4</th>\n",
       "      <td>1994</td>\n",
       "      <td>1</td>\n",
       "      <td>5</td>\n",
       "      <td>The One with the East German Laundry Detergent</td>\n",
       "      <td>22</td>\n",
       "      <td>Eager to spend time with Rachel, Ross pretends...</td>\n",
       "      <td>Pamela Fryman</td>\n",
       "      <td>8.5</td>\n",
       "      <td>4438</td>\n",
       "      <td>15</td>\n",
       "      <td>...</td>\n",
       "      <td>0.095007</td>\n",
       "      <td>0.150061</td>\n",
       "      <td>0.141764</td>\n",
       "      <td>0.000000</td>\n",
       "      <td>0.000000</td>\n",
       "      <td>0.047483</td>\n",
       "      <td>0.0</td>\n",
       "      <td>0.0</td>\n",
       "      <td>0.0</td>\n",
       "      <td>0.0</td>\n",
       "    </tr>\n",
       "  </tbody>\n",
       "</table>\n",
       "<p>5 rows × 26 columns</p>\n",
       "</div>"
      ],
      "text/plain": [
       "   Year_of_prod  Season  Episode Number  \\\n",
       "0          1994       1               1   \n",
       "1          1994       1               2   \n",
       "2          1994       1               3   \n",
       "3          1994       1               4   \n",
       "4          1994       1               5   \n",
       "\n",
       "                                     Episode_Title  Duration  \\\n",
       "0  The One Where Monica Gets a Roommate: The Pilot        22   \n",
       "1             The One with the Sonogram at the End        22   \n",
       "2                           The One with the Thumb        22   \n",
       "3               The One with George Stephanopoulos        22   \n",
       "4   The One with the East German Laundry Detergent        22   \n",
       "\n",
       "                                             Summary       Director  Stars  \\\n",
       "0  Monica and the gang introduce Rachel to the \"r...  James Burrows    8.3   \n",
       "1  Ross finds out his ex-wife is pregnant. Rachel...  James Burrows    8.1   \n",
       "2  Monica becomes irritated when everyone likes h...  James Burrows    8.2   \n",
       "3  Joey and Chandler take Ross to a hockey game t...  James Burrows    8.1   \n",
       "4  Eager to spend time with Rachel, Ross pretends...  Pamela Fryman    8.5   \n",
       "\n",
       "   Votes  match  ...    Phoebe      Ross    Rachel     Carol     Susan  \\\n",
       "0   7440     11  ...  0.061248  0.144114  0.155643  0.000000  0.000000   \n",
       "1   4888     12  ...  0.061500  0.248342  0.165269  0.088068  0.044696   \n",
       "2   4605     13  ...  0.145415  0.125624  0.102383  0.000000  0.000000   \n",
       "3   4468     14  ...  0.111161  0.151849  0.162042  0.000000  0.000000   \n",
       "4   4438     15  ...  0.095007  0.150061  0.141764  0.000000  0.000000   \n",
       "\n",
       "     Janice  Mike  Gunther  Ben  Emily  \n",
       "0  0.000000   0.0      0.0  0.0    0.0  \n",
       "1  0.000000   0.0      0.0  0.0    0.0  \n",
       "2  0.000000   0.0      0.0  0.0    0.0  \n",
       "3  0.000000   0.0      0.0  0.0    0.0  \n",
       "4  0.047483   0.0      0.0  0.0    0.0  \n",
       "\n",
       "[5 rows x 26 columns]"
      ]
     },
     "execution_count": 135,
     "metadata": {},
     "output_type": "execute_result"
    }
   ],
   "source": [
    "friends.head()"
   ]
  },
  {
   "cell_type": "code",
   "execution_count": 136,
   "metadata": {},
   "outputs": [],
   "source": [
    "resultlist = [['model', 'LOOCV mean score', 'std']]\n",
    "books = pd.read_csv('books/friends_books_topics_model.csv', index_col=0)\n",
    "sb = pd.read_csv('scriptbase/friends_scriptbase_topics.csv', index_col=0)\n",
    "friends_no_topics = pd.read_csv('transcripts and metadata/friends_mastersheet.csv', index_col=0)"
   ]
  },
  {
   "cell_type": "markdown",
   "metadata": {},
   "source": [
    "## Baselines"
   ]
  },
  {
   "cell_type": "markdown",
   "metadata": {},
   "source": [
    "### dummy baseline"
   ]
  },
  {
   "cell_type": "code",
   "execution_count": 137,
   "metadata": {},
   "outputs": [
    {
     "name": "stdout",
     "output_type": "stream",
     "text": [
      "-0.3113667508113955 0.24655333378118335\n"
     ]
    }
   ],
   "source": [
    "from sklearn.feature_extraction.text import TfidfVectorizer\n",
    "\n",
    "import numpy as np\n",
    "from sklearn.dummy import DummyRegressor\n",
    "from sklearn.model_selection import LeaveOneOut, cross_val_score\n",
    "from sklearn.preprocessing import StandardScaler\n",
    "from sklearn.pipeline import make_pipeline\n",
    "\n",
    "cv = LeaveOneOut()\n",
    "\n",
    "X = friends.text\n",
    "y = friends.Stars\n",
    "\n",
    "vect = TfidfVectorizer()\n",
    "reg = DummyRegressor(strategy=\"mean\")\n",
    "pipe = make_pipeline(vect, reg)\n",
    "\n",
    "scores = cross_val_score(pipe, X, y, cv=cv, scoring = 'neg_root_mean_squared_error')\n",
    "\n",
    "resultlist.append(['dummy_baseline', np.mean(scores), np.std(scores)])\n",
    "\n",
    "print(np.mean(scores), np.std(scores))"
   ]
  },
  {
   "cell_type": "markdown",
   "metadata": {},
   "source": [
    "### BOW baseline"
   ]
  },
  {
   "cell_type": "code",
   "execution_count": 138,
   "metadata": {},
   "outputs": [
    {
     "name": "stdout",
     "output_type": "stream",
     "text": [
      "-0.32209667011984083 0.27848673086034265\n"
     ]
    }
   ],
   "source": [
    "from sklearn.linear_model import LinearRegression\n",
    "\n",
    "cv = LeaveOneOut()\n",
    "\n",
    "X = friends.text\n",
    "y = friends.Stars\n",
    "\n",
    "vect = TfidfVectorizer(max_features=5000)\n",
    "reg = LinearRegression()\n",
    "pipe = make_pipeline(vect, reg)\n",
    "\n",
    "scores = cross_val_score(pipe, X, y, cv=cv, scoring = 'neg_root_mean_squared_error')\n",
    "\n",
    "resultlist.append(['BOW_baseline', np.mean(scores), np.std(scores)])\n",
    "\n",
    "print(np.mean(scores), np.std(scores))"
   ]
  },
  {
   "cell_type": "code",
   "execution_count": 139,
   "metadata": {},
   "outputs": [],
   "source": [
    "model = pipe.fit(X, y)"
   ]
  },
  {
   "cell_type": "code",
   "execution_count": 140,
   "metadata": {},
   "outputs": [
    {
     "data": {
      "text/plain": [
       "plane       0.822873\n",
       "bam         0.715183\n",
       "la          0.617973\n",
       "dessert     0.584831\n",
       "backup      0.517409\n",
       "              ...   \n",
       "sperm      -0.448818\n",
       "climb      -0.488773\n",
       "everest    -0.495282\n",
       "audition   -0.644059\n",
       "vows       -1.060876\n",
       "Name: Coefficients, Length: 5000, dtype: float64"
      ]
     },
     "execution_count": 140,
     "metadata": {},
     "output_type": "execute_result"
    }
   ],
   "source": [
    "feature_names = model[:-1].get_feature_names_out()\n",
    "\n",
    "coefs = pd.DataFrame(\n",
    "    model[-1].coef_,\n",
    "    columns=[\"Coefficients\"],\n",
    "    index=feature_names,\n",
    ")\n",
    "\n",
    "coefs[\"Coefficients\"].sort_values(ascending=False)"
   ]
  },
  {
   "cell_type": "markdown",
   "metadata": {},
   "source": [
    "### No topics"
   ]
  },
  {
   "cell_type": "code",
   "execution_count": 141,
   "metadata": {},
   "outputs": [],
   "source": [
    "lst = ['Gary Halvorson',        \n",
    "'Kevin Bright',          \n",
    "'Michael Lembeck',       \n",
    "'James Burrows',           \n",
    "'Gail Mancuso',           \n",
    "'Peter Bonerz',            \n",
    "'David Schwimmer',         \n",
    "'Ben Weiss']\n",
    "\n",
    "def direr(wow):\n",
    "    if wow not in lst:\n",
    "        wow = wow.replace(wow,'Other')\n",
    "    return wow"
   ]
  },
  {
   "cell_type": "code",
   "execution_count": 142,
   "metadata": {},
   "outputs": [
    {
     "name": "stdout",
     "output_type": "stream",
     "text": [
      "-0.3094817257793724 0.2586888912565133\n"
     ]
    },
    {
     "data": {
      "text/plain": [
       "onehotencoder__Director_Kevin Bright       0.081545\n",
       "standardscaler__Ross                       0.068645\n",
       "standardscaler__Year_of_prod               0.042651\n",
       "standardscaler__Monica                     0.037676\n",
       "onehotencoder__Director_Michael Lembeck    0.036747\n",
       "standardscaler__Janice                     0.025054\n",
       "standardscaler__Rachel                     0.019724\n",
       "onehotencoder__Director_James Burrows      0.013474\n",
       "standardscaler__Emily                      0.010829\n",
       "onehotencoder__Director_David Schwimmer    0.009618\n",
       "standardscaler__Susan                      0.004725\n",
       "standardscaler__Phoebe                     0.002840\n",
       "standardscaler__Chandler                   0.001628\n",
       "standardscaler__Joey                      -0.003325\n",
       "standardscaler__Episode Number            -0.006939\n",
       "onehotencoder__Director_Gary Halvorson    -0.009157\n",
       "standardscaler__Ben                       -0.010835\n",
       "standardscaler__Mike                      -0.015280\n",
       "standardscaler__Season                    -0.019487\n",
       "onehotencoder__Director_Gail Mancuso      -0.021808\n",
       "onehotencoder__Director_Peter Bonerz      -0.022522\n",
       "onehotencoder__Director_Ben Weiss         -0.026211\n",
       "onehotencoder__Director_Other             -0.027765\n",
       "standardscaler__Gunther                   -0.030794\n",
       "standardscaler__Carol                     -0.034977\n",
       "Name: Coefficients, dtype: float64"
      ]
     },
     "execution_count": 142,
     "metadata": {},
     "output_type": "execute_result"
    }
   ],
   "source": [
    "from sklearn.feature_selection import SelectKBest\n",
    "from sklearn.feature_selection import f_regression\n",
    "from sklearn.linear_model import LinearRegression\n",
    "from sklearn.preprocessing import StandardScaler, OneHotEncoder\n",
    "from sklearn.pipeline import make_pipeline\n",
    "from sklearn.compose import make_column_transformer\n",
    "\n",
    "X = friends_no_topics.drop(columns=['Summary', 'Episode_Title', 'Duration', 'Stars', 'Votes', 'text', 'match', 'len in words', 'len_prep'])\n",
    "X.Director = X.Director.apply(direr)\n",
    "y = friends_no_topics.Stars\n",
    "\n",
    "reg = LinearRegression()\n",
    "hot = OneHotEncoder()\n",
    "scal = StandardScaler()\n",
    "\n",
    "categorical_features = X.select_dtypes(include=\"object\").columns\n",
    "integer_features = X.select_dtypes(exclude=\"object\").columns\n",
    "\n",
    "prep = make_column_transformer((hot, categorical_features),\n",
    "                                (scal, integer_features))\n",
    "\n",
    "pipe = make_pipeline(prep,reg)\n",
    "\n",
    "scores = cross_val_score(pipe, X, y, cv=cv, scoring = 'neg_root_mean_squared_error')\n",
    "\n",
    "print(np.mean(scores), np.std(scores))\n",
    "resultlist.append(['no_topic_baseline', np.mean(scores), np.std(scores)])\n",
    "\n",
    "model = pipe.fit(X, y)\n",
    "\n",
    "feature_names = model[:-1].get_feature_names_out()\n",
    "\n",
    "X_preprocessed = pd.DataFrame(\n",
    "    model[:-1].transform(X), columns=feature_names\n",
    ")\n",
    "\n",
    "coefs = pd.DataFrame(\n",
    "    model[-1].coef_* X_preprocessed.std(axis=0),\n",
    "    columns=[\"Coefficients\"],\n",
    "    index=feature_names,\n",
    ")\n",
    "\n",
    "coefs[\"Coefficients\"].sort_values(ascending=False)"
   ]
  },
  {
   "cell_type": "markdown",
   "metadata": {},
   "source": [
    "### features + tfidf, no topics"
   ]
  },
  {
   "cell_type": "code",
   "execution_count": 143,
   "metadata": {},
   "outputs": [
    {
     "name": "stdout",
     "output_type": "stream",
     "text": [
      "-0.3919044810031503 0.32084187021713934\n"
     ]
    }
   ],
   "source": [
    "from sklearn.feature_selection import SelectKBest\n",
    "from sklearn.feature_selection import f_regression\n",
    "from sklearn.linear_model import LinearRegression\n",
    "from sklearn.preprocessing import StandardScaler, OneHotEncoder\n",
    "from sklearn.pipeline import make_pipeline\n",
    "from sklearn.compose import make_column_transformer\n",
    "from sklearn.feature_extraction.text import TfidfVectorizer\n",
    "\n",
    "X = friends_no_topics.drop(columns=['Summary', 'Episode_Title', 'Duration', 'Stars', 'Votes', 'match', 'len in words', 'len_prep'])\n",
    "X.Director = X.Director.apply(direr)\n",
    "y = friends_no_topics.Stars\n",
    "\n",
    "reg = LinearRegression()\n",
    "hot = OneHotEncoder()\n",
    "scal = StandardScaler()\n",
    "vect = TfidfVectorizer(max_features=5000)\n",
    "\n",
    "categorical_features = [X.select_dtypes(include=\"object\").columns[0]]\n",
    "integer_features= X.select_dtypes(exclude=\"object\").columns\n",
    "text_features = X.select_dtypes(include=\"object\").columns[1]\n",
    "\n",
    "prep = make_column_transformer((hot, categorical_features),\n",
    "                                (scal, integer_features),\n",
    "                                (vect, text_features),\n",
    "                               remainder='passthrough')\n",
    "\n",
    "pipe = make_pipeline(prep,reg)\n",
    "\n",
    "scores = cross_val_score(pipe, X, y, cv=cv, scoring = 'neg_root_mean_squared_error')\n",
    "\n",
    "print(np.mean(scores), np.std(scores))\n",
    "resultlist.append(['no_topic_tf_idf_baseline', np.mean(scores), np.std(scores)])\n",
    "\n",
    "# model = pipe.fit(X, y)\n",
    "\n",
    "# feature_names = model[:-1].get_feature_names_out()\n",
    "\n",
    "# X_preprocessed = pd.DataFrame(\n",
    "#     model[:-1].transform(X), columns=feature_names\n",
    "# )\n",
    "\n",
    "# coefs = pd.DataFrame(\n",
    "#     model[-1].coef_* X_preprocessed.std(axis=0),\n",
    "#     columns=[\"Coefficients\"],\n",
    "#     index=feature_names,\n",
    "# )\n",
    "\n",
    "# coefs[\"Coefficients\"].sort_values(ascending=False)"
   ]
  },
  {
   "cell_type": "markdown",
   "metadata": {},
   "source": [
    "## Models all features"
   ]
  },
  {
   "cell_type": "markdown",
   "metadata": {},
   "source": [
    "### Books corpus"
   ]
  },
  {
   "cell_type": "code",
   "execution_count": 144,
   "metadata": {},
   "outputs": [
    {
     "name": "stdout",
     "output_type": "stream",
     "text": [
      "-0.962550080393687 0.9319766604665668\n"
     ]
    },
    {
     "data": {
      "text/plain": [
       "standardscaler__t113                    0.150788\n",
       "standardscaler__t250                    0.130598\n",
       "standardscaler__t49                     0.122455\n",
       "onehotencoder__Director_Kevin Bright    0.117847\n",
       "standardscaler__t198                    0.109308\n",
       "                                          ...   \n",
       "standardscaler__t120                   -0.123063\n",
       "onehotencoder__Director_Other          -0.125573\n",
       "standardscaler__t8                     -0.145634\n",
       "standardscaler__t127                   -0.163767\n",
       "standardscaler__Monica                 -0.198191\n",
       "Name: Coefficients, Length: 325, dtype: float64"
      ]
     },
     "execution_count": 144,
     "metadata": {},
     "output_type": "execute_result"
    }
   ],
   "source": [
    "from sklearn.feature_selection import SelectKBest\n",
    "from sklearn.feature_selection import f_regression\n",
    "from sklearn.linear_model import LinearRegression\n",
    "from sklearn.preprocessing import StandardScaler, OneHotEncoder\n",
    "from sklearn.pipeline import make_pipeline\n",
    "from sklearn.compose import make_column_transformer\n",
    "\n",
    "X = books.drop(columns=['Summary', 'Episode_Title', 'Stars', 'Duration', 'Votes', 'text', 'match', 'len in words', 'len_prep'])\n",
    "X.Director = X.Director.apply(direr)\n",
    "y = books.Stars\n",
    "\n",
    "reg = LinearRegression()\n",
    "hot = OneHotEncoder()\n",
    "scal = StandardScaler()\n",
    "\n",
    "categorical_features = X.select_dtypes(include=\"object\").columns\n",
    "integer_features = X.select_dtypes(exclude=\"object\").columns\n",
    "\n",
    "prep = make_column_transformer((hot, categorical_features),\n",
    "                                (scal, integer_features))\n",
    "\n",
    "pipe = make_pipeline(prep,reg)\n",
    "\n",
    "scores = cross_val_score(pipe, X, y, cv=cv, scoring = 'neg_root_mean_squared_error')\n",
    "\n",
    "print(np.mean(scores), np.std(scores))\n",
    "\n",
    "resultlist.append(['books_all_topics', np.mean(scores), np.std(scores)])\n",
    "\n",
    "model = pipe.fit(X, y)\n",
    "\n",
    "feature_names = model[:-1].get_feature_names_out()\n",
    "\n",
    "X_preprocessed = pd.DataFrame(\n",
    "    model[:-1].transform(X), columns=feature_names\n",
    ")\n",
    "\n",
    "coefs = pd.DataFrame(\n",
    "    model[-1].coef_* X_preprocessed.std(axis=0),\n",
    "    columns=[\"Coefficients\"],\n",
    "    index=feature_names,\n",
    ")\n",
    "\n",
    "coefs[\"Coefficients\"].sort_values(ascending=False)"
   ]
  },
  {
   "cell_type": "markdown",
   "metadata": {},
   "source": [
    "### scriptbase"
   ]
  },
  {
   "cell_type": "code",
   "execution_count": 145,
   "metadata": {},
   "outputs": [
    {
     "name": "stdout",
     "output_type": "stream",
     "text": [
      "-0.6443115921587788 0.527618122196445\n"
     ]
    },
    {
     "data": {
      "text/plain": [
       "standardscaler__t144                    0.123547\n",
       "onehotencoder__Director_Kevin Bright    0.114594\n",
       "standardscaler__t163                    0.107085\n",
       "standardscaler__Chandler                0.104810\n",
       "standardscaler__t259                    0.092218\n",
       "                                          ...   \n",
       "standardscaler__t69                    -0.109047\n",
       "standardscaler__t264                   -0.109094\n",
       "onehotencoder__Director_Other          -0.121730\n",
       "standardscaler__t185                   -0.130466\n",
       "standardscaler__Monica                 -0.219474\n",
       "Name: Coefficients, Length: 325, dtype: float64"
      ]
     },
     "execution_count": 145,
     "metadata": {},
     "output_type": "execute_result"
    }
   ],
   "source": [
    "from sklearn.feature_selection import SelectKBest\n",
    "from sklearn.feature_selection import f_regression\n",
    "from sklearn.linear_model import LinearRegression\n",
    "from sklearn.preprocessing import StandardScaler, OneHotEncoder\n",
    "from sklearn.pipeline import make_pipeline\n",
    "from sklearn.compose import make_column_transformer\n",
    "\n",
    "X = sb.drop(columns=['Summary', 'Episode_Title', 'Votes', 'Duration', 'text', 'match', 'Stars', 'len in words', 'len_prep'])\n",
    "X.Director = X.Director.apply(direr)\n",
    "y = sb.Stars\n",
    "\n",
    "reg = LinearRegression()\n",
    "hot = OneHotEncoder()\n",
    "scal = StandardScaler()\n",
    "\n",
    "categorical_features = X.select_dtypes(include=\"object\").columns\n",
    "integer_features = X.select_dtypes(exclude=\"object\").columns\n",
    "\n",
    "prep = make_column_transformer((hot, categorical_features),\n",
    "                                (scal, integer_features))\n",
    "\n",
    "pipe = make_pipeline(prep,reg)\n",
    "\n",
    "scores = cross_val_score(pipe, X, y, cv=cv, scoring = 'neg_root_mean_squared_error')\n",
    "\n",
    "print(np.mean(scores), np.std(scores))\n",
    "\n",
    "resultlist.append(['sc_all_topics', np.mean(scores), np.std(scores)])\n",
    "\n",
    "model = pipe.fit(X, y)\n",
    "\n",
    "feature_names = model[:-1].get_feature_names_out()\n",
    "\n",
    "X_preprocessed = pd.DataFrame(\n",
    "    model[:-1].transform(X), columns=feature_names\n",
    ")\n",
    "\n",
    "coefs = pd.DataFrame(\n",
    "    model[-1].coef_* X_preprocessed.std(axis=0),\n",
    "    columns=[\"Coefficients\"],\n",
    "    index=feature_names,\n",
    ")\n",
    "\n",
    "coefs[\"Coefficients\"].sort_values(ascending=False)"
   ]
  },
  {
   "cell_type": "markdown",
   "metadata": {},
   "source": [
    "## models 50"
   ]
  },
  {
   "cell_type": "markdown",
   "metadata": {},
   "source": [
    "### books"
   ]
  },
  {
   "cell_type": "code",
   "execution_count": 146,
   "metadata": {},
   "outputs": [],
   "source": [
    "books_best_50 = ['t83', 't188', 't274', 't230', 't273', 't204', 't196',\n",
    "       't176', 't7', 't120', 't151', 't258', 't139', 't70', 't110', 't97',\n",
    "       't235', 't282', 't104', 't62', 't245', 't80', 't171', 't115', 't270',\n",
    "       't109', 't150', 't269', 't158', 't203', 't59', 't295', 't175', 't51',\n",
    "       't166', 't113', 't285', 't299', 't286', 't88', 't127', 't69', 't222',\n",
    "       't272', 't34', 't58', 't153', 't271', 't259', 't73']\n",
    "\n",
    "to_drop = [f't{i}' for i in range(0,300) if f't{i}' not in books_best_50]"
   ]
  },
  {
   "cell_type": "code",
   "execution_count": 147,
   "metadata": {},
   "outputs": [
    {
     "name": "stdout",
     "output_type": "stream",
     "text": [
      "-2012182.9037310749 30846174.774059273\n"
     ]
    },
    {
     "data": {
      "text/plain": [
       "standardscaler__Season                     0.090092\n",
       "standardscaler__t34                        0.072028\n",
       "onehotencoder__Director_Kevin Bright       0.071688\n",
       "onehotencoder__Director_Michael Lembeck    0.068637\n",
       "standardscaler__t113                       0.063209\n",
       "                                             ...   \n",
       "onehotencoder__Director_Ben Weiss         -0.047018\n",
       "standardscaler__t110                      -0.051585\n",
       "standardscaler__Year_of_prod              -0.055502\n",
       "standardscaler__t59                       -0.056312\n",
       "standardscaler__t151                      -0.058897\n",
       "Name: Coefficients, Length: 75, dtype: float64"
      ]
     },
     "execution_count": 147,
     "metadata": {},
     "output_type": "execute_result"
    }
   ],
   "source": [
    "from sklearn.feature_selection import SelectKBest\n",
    "from sklearn.feature_selection import f_regression\n",
    "from sklearn.linear_model import LinearRegression\n",
    "from sklearn.preprocessing import StandardScaler, OneHotEncoder\n",
    "from sklearn.pipeline import make_pipeline\n",
    "from sklearn.compose import make_column_transformer\n",
    "\n",
    "columns = ['Summary', 'Episode_Title', 'Stars', 'Votes', 'Duration', 'text', 'match', 'len in words', 'len_prep'] + to_drop\n",
    "\n",
    "X = books.drop(columns=columns)\n",
    "X.Director = X.Director.apply(direr)\n",
    "y = books.Stars\n",
    "\n",
    "reg = LinearRegression()\n",
    "hot = OneHotEncoder()\n",
    "scal = StandardScaler()\n",
    "\n",
    "categorical_features = X.select_dtypes(include=\"object\").columns\n",
    "integer_features = X.select_dtypes(exclude=\"object\").columns\n",
    "\n",
    "prep = make_column_transformer((hot, categorical_features),\n",
    "                                (scal, integer_features))\n",
    "\n",
    "pipe = make_pipeline(prep,reg)\n",
    "\n",
    "scores = cross_val_score(pipe, X, y, cv=cv, scoring = 'neg_root_mean_squared_error')\n",
    "\n",
    "print(np.mean(scores), np.std(scores))\n",
    "\n",
    "resultlist.append(['books_50_topics', np.mean(scores), np.std(scores)])\n",
    "\n",
    "model = pipe.fit(X, y)\n",
    "\n",
    "feature_names = model[:-1].get_feature_names_out()\n",
    "\n",
    "X_preprocessed = pd.DataFrame(\n",
    "    model[:-1].transform(X), columns=feature_names\n",
    ")\n",
    "\n",
    "coefs = pd.DataFrame(\n",
    "    model[-1].coef_* X_preprocessed.std(axis=0),\n",
    "    columns=[\"Coefficients\"],\n",
    "    index=feature_names,\n",
    ")\n",
    "\n",
    "coefs[\"Coefficients\"].sort_values(ascending=False)"
   ]
  },
  {
   "cell_type": "markdown",
   "metadata": {},
   "source": [
    "### scriptbase"
   ]
  },
  {
   "cell_type": "code",
   "execution_count": 148,
   "metadata": {},
   "outputs": [],
   "source": [
    "sb_best_50 = ['t134', 't103', 't12', 't194', 't276', 't35', 't180',\n",
    "       't222', 't32', 't191', 't299', 't64', 't202', 't288', 't275', 't260',\n",
    "       't84', 't182', 't165', 't210', 't90', 't204', 't255', 't217', 't239',\n",
    "       't205', 't26', 't86', 't7', 't119', 't296', 't67', 't265', 't152',\n",
    "       't128', 't72', 't250', 't242', 't287', 't190', 't57', 't44', 't17',\n",
    "       't132', 't189', 't240', 't193', 't21', 't138', 't130']\n",
    "\n",
    "to_drop = [f't{i}' for i in range(0,300) if f't{i}' not in sb_best_50]"
   ]
  },
  {
   "cell_type": "code",
   "execution_count": 149,
   "metadata": {},
   "outputs": [
    {
     "name": "stdout",
     "output_type": "stream",
     "text": [
      "-0.29955877146325177 0.2469060386648278\n"
     ]
    },
    {
     "data": {
      "text/plain": [
       "standardscaler__Year_of_prod             0.262928\n",
       "standardscaler__t26                      0.063666\n",
       "onehotencoder__Director_James Burrows    0.049841\n",
       "standardscaler__t103                     0.049039\n",
       "standardscaler__t130                     0.048690\n",
       "                                           ...   \n",
       "standardscaler__t35                     -0.056943\n",
       "standardscaler__t250                    -0.063082\n",
       "standardscaler__t288                    -0.071445\n",
       "standardscaler__t191                    -0.096714\n",
       "standardscaler__Season                  -0.235347\n",
       "Name: Coefficients, Length: 75, dtype: float64"
      ]
     },
     "execution_count": 149,
     "metadata": {},
     "output_type": "execute_result"
    }
   ],
   "source": [
    "from sklearn.feature_selection import SelectKBest\n",
    "from sklearn.feature_selection import f_regression\n",
    "from sklearn.linear_model import LinearRegression\n",
    "from sklearn.preprocessing import StandardScaler, OneHotEncoder\n",
    "from sklearn.pipeline import make_pipeline\n",
    "from sklearn.compose import make_column_transformer\n",
    "\n",
    "columns = ['Summary', 'Episode_Title', 'Stars', 'Votes', 'Duration', 'text', 'match', 'len in words', 'len_prep'] + to_drop\n",
    "\n",
    "X = sb.drop(columns=columns)\n",
    "X.Director = X.Director.apply(direr)\n",
    "y = books.Stars\n",
    "\n",
    "reg = LinearRegression()\n",
    "hot = OneHotEncoder()\n",
    "scal = StandardScaler()\n",
    "\n",
    "categorical_features = X.select_dtypes(include=\"object\").columns\n",
    "integer_features = X.select_dtypes(exclude=\"object\").columns\n",
    "\n",
    "prep = make_column_transformer((hot, categorical_features),\n",
    "                                (scal, integer_features))\n",
    "\n",
    "pipe = make_pipeline(prep,reg)\n",
    "\n",
    "scores = cross_val_score(pipe, X, y, cv=cv, scoring = 'neg_root_mean_squared_error')\n",
    "\n",
    "print(np.mean(scores), np.std(scores))\n",
    "\n",
    "resultlist.append(['sb_50_topics', np.mean(scores), np.std(scores)])\n",
    "\n",
    "model = pipe.fit(X, y)\n",
    "\n",
    "feature_names = model[:-1].get_feature_names_out()\n",
    "\n",
    "X_preprocessed = pd.DataFrame(\n",
    "    model[:-1].transform(X), columns=feature_names\n",
    ")\n",
    "\n",
    "coefs = pd.DataFrame(\n",
    "    model[-1].coef_* X_preprocessed.std(axis=0),\n",
    "    columns=[\"Coefficients\"],\n",
    "    index=feature_names,\n",
    ")\n",
    "\n",
    "coefs[\"Coefficients\"].sort_values(ascending=False)"
   ]
  },
  {
   "cell_type": "markdown",
   "metadata": {},
   "source": [
    "## models 25"
   ]
  },
  {
   "cell_type": "markdown",
   "metadata": {},
   "source": [
    "### books"
   ]
  },
  {
   "cell_type": "code",
   "execution_count": 150,
   "metadata": {},
   "outputs": [],
   "source": [
    "books_best_25 = ['t83', 't188', 't274', 't230', 't273', 't204', 't196',\n",
    "'t176', 't7', 't120', 't151', 't258', 't139', 't70', 't110', 't97',\n",
    "'t235', 't282', 't104', 't62', 't245', 't80', 't171', 't115', 't270']\n",
    "\n",
    "to_drop = [f't{i}' for i in range(0,300) if f't{i}' not in books_best_25]"
   ]
  },
  {
   "cell_type": "code",
   "execution_count": 151,
   "metadata": {},
   "outputs": [
    {
     "name": "stdout",
     "output_type": "stream",
     "text": [
      "-0.31161903231758425 0.2681056341199774\n"
     ]
    },
    {
     "data": {
      "text/plain": [
       "standardscaler__Year_of_prod               0.071412\n",
       "onehotencoder__Director_Kevin Bright       0.065728\n",
       "standardscaler__Ross                       0.044533\n",
       "standardscaler__t273                       0.043950\n",
       "standardscaler__t235                       0.042728\n",
       "onehotencoder__Director_Michael Lembeck    0.042657\n",
       "standardscaler__Phoebe                     0.032983\n",
       "standardscaler__Janice                     0.029180\n",
       "onehotencoder__Director_James Burrows      0.025194\n",
       "standardscaler__t80                        0.024074\n",
       "standardscaler__Rachel                     0.018525\n",
       "standardscaler__t104                       0.012934\n",
       "standardscaler__t83                        0.011986\n",
       "standardscaler__Susan                      0.007846\n",
       "standardscaler__Monica                     0.007313\n",
       "standardscaler__Emily                      0.007296\n",
       "standardscaler__Chandler                   0.000362\n",
       "onehotencoder__Director_David Schwimmer    0.000046\n",
       "standardscaler__Mike                      -0.000866\n",
       "standardscaler__t139                      -0.003741\n",
       "standardscaler__Ben                       -0.004543\n",
       "standardscaler__t171                      -0.005538\n",
       "standardscaler__Joey                      -0.006414\n",
       "onehotencoder__Director_Other             -0.008460\n",
       "standardscaler__t245                      -0.008616\n",
       "onehotencoder__Director_Gary Halvorson    -0.008740\n",
       "standardscaler__Episode Number            -0.009939\n",
       "standardscaler__t282                      -0.010142\n",
       "onehotencoder__Director_Peter Bonerz      -0.013599\n",
       "standardscaler__t115                      -0.015350\n",
       "standardscaler__t70                       -0.015632\n",
       "standardscaler__t274                      -0.019995\n",
       "standardscaler__t97                       -0.020721\n",
       "standardscaler__t230                      -0.023038\n",
       "standardscaler__t7                        -0.023841\n",
       "standardscaler__Carol                     -0.027034\n",
       "onehotencoder__Director_Ben Weiss         -0.027707\n",
       "standardscaler__t188                      -0.029857\n",
       "standardscaler__t258                      -0.031472\n",
       "standardscaler__Gunther                   -0.031561\n",
       "standardscaler__t196                      -0.035568\n",
       "onehotencoder__Director_Gail Mancuso      -0.037544\n",
       "standardscaler__t176                      -0.038206\n",
       "standardscaler__t120                      -0.043054\n",
       "standardscaler__t270                      -0.044712\n",
       "standardscaler__t110                      -0.044871\n",
       "standardscaler__t62                       -0.046247\n",
       "standardscaler__t151                      -0.051672\n",
       "standardscaler__t204                      -0.059075\n",
       "standardscaler__Season                    -0.063380\n",
       "Name: Coefficients, dtype: float64"
      ]
     },
     "execution_count": 151,
     "metadata": {},
     "output_type": "execute_result"
    }
   ],
   "source": [
    "from sklearn.feature_selection import SelectKBest\n",
    "from sklearn.feature_selection import f_regression\n",
    "from sklearn.linear_model import LinearRegression\n",
    "from sklearn.preprocessing import StandardScaler, OneHotEncoder\n",
    "from sklearn.pipeline import make_pipeline\n",
    "from sklearn.compose import make_column_transformer\n",
    "\n",
    "columns = ['Summary', 'Episode_Title', 'Stars', 'Votes', 'Duration', 'text', 'match', 'len in words', 'len_prep'] + to_drop\n",
    "\n",
    "X = books.drop(columns=columns)\n",
    "X.Director = X.Director.apply(direr)\n",
    "y = books.Stars\n",
    "\n",
    "reg = LinearRegression()\n",
    "hot = OneHotEncoder()\n",
    "scal = StandardScaler()\n",
    "\n",
    "categorical_features = X.select_dtypes(include=\"object\").columns\n",
    "integer_features = X.select_dtypes(exclude=\"object\").columns\n",
    "\n",
    "prep = make_column_transformer((hot, categorical_features),\n",
    "                                (scal, integer_features))\n",
    "\n",
    "pipe = make_pipeline(prep,reg)\n",
    "\n",
    "scores = cross_val_score(pipe, X, y, cv=cv, scoring = 'neg_root_mean_squared_error')\n",
    "\n",
    "print(np.mean(scores), np.std(scores))\n",
    "\n",
    "resultlist.append(['books_25_topics', np.mean(scores), np.std(scores)])\n",
    "\n",
    "model = pipe.fit(X, y)\n",
    "\n",
    "feature_names = model[:-1].get_feature_names_out()\n",
    "\n",
    "X_preprocessed = pd.DataFrame(\n",
    "    model[:-1].transform(X), columns=feature_names\n",
    ")\n",
    "\n",
    "coefs = pd.DataFrame(\n",
    "    model[-1].coef_* X_preprocessed.std(axis=0),\n",
    "    columns=[\"Coefficients\"],\n",
    "    index=feature_names,\n",
    ")\n",
    "\n",
    "coefs[\"Coefficients\"].sort_values(ascending=False)"
   ]
  },
  {
   "cell_type": "markdown",
   "metadata": {},
   "source": [
    "### scriptbase"
   ]
  },
  {
   "cell_type": "code",
   "execution_count": 152,
   "metadata": {},
   "outputs": [],
   "source": [
    "sb_best_25 = ['t134', 't103', 't12', 't194', 't276', 't35', 't180',\n",
    "       't222', 't32', 't191', 't299', 't64', 't202', 't288', 't275', 't260',\n",
    "       't84', 't182', 't165', 't210', 't90', 't204', 't255', 't217', 't239']\n",
    "\n",
    "to_drop = [f't{i}' for i in range(0,300) if f't{i}' not in sb_best_25]"
   ]
  },
  {
   "cell_type": "code",
   "execution_count": 153,
   "metadata": {},
   "outputs": [
    {
     "name": "stdout",
     "output_type": "stream",
     "text": [
      "-0.3041366367497664 0.23962599005321444\n"
     ]
    },
    {
     "data": {
      "text/plain": [
       "standardscaler__Year_of_prod               0.169846\n",
       "standardscaler__t204                       0.062844\n",
       "standardscaler__t12                        0.058029\n",
       "standardscaler__t134                       0.044298\n",
       "standardscaler__Ross                       0.043994\n",
       "onehotencoder__Director_Kevin Bright       0.038009\n",
       "standardscaler__Phoebe                     0.037871\n",
       "standardscaler__t255                       0.037047\n",
       "standardscaler__Monica                     0.031911\n",
       "standardscaler__t182                       0.031598\n",
       "standardscaler__t103                       0.030346\n",
       "onehotencoder__Director_James Burrows      0.029929\n",
       "standardscaler__Janice                     0.029556\n",
       "onehotencoder__Director_Michael Lembeck    0.027082\n",
       "standardscaler__t165                       0.018409\n",
       "standardscaler__Emily                      0.017134\n",
       "standardscaler__Ben                        0.016602\n",
       "standardscaler__t260                       0.014275\n",
       "standardscaler__Rachel                     0.014046\n",
       "standardscaler__t299                       0.008328\n",
       "standardscaler__t210                       0.005372\n",
       "onehotencoder__Director_Peter Bonerz       0.003083\n",
       "onehotencoder__Director_David Schwimmer    0.002050\n",
       "standardscaler__Chandler                  -0.005547\n",
       "standardscaler__Mike                      -0.007405\n",
       "standardscaler__Gunther                   -0.009286\n",
       "standardscaler__Susan                     -0.009444\n",
       "standardscaler__Episode Number            -0.012373\n",
       "standardscaler__t194                      -0.013348\n",
       "onehotencoder__Director_Gary Halvorson    -0.013414\n",
       "standardscaler__t275                      -0.017651\n",
       "standardscaler__t276                      -0.017896\n",
       "onehotencoder__Director_Gail Mancuso      -0.022259\n",
       "standardscaler__Carol                     -0.023449\n",
       "onehotencoder__Director_Ben Weiss         -0.023854\n",
       "standardscaler__t180                      -0.025074\n",
       "standardscaler__Joey                      -0.027951\n",
       "standardscaler__t64                       -0.029704\n",
       "standardscaler__t222                      -0.030195\n",
       "onehotencoder__Director_Other             -0.031804\n",
       "standardscaler__t84                       -0.032857\n",
       "standardscaler__t202                      -0.043896\n",
       "standardscaler__t32                       -0.044247\n",
       "standardscaler__t239                      -0.045451\n",
       "standardscaler__t35                       -0.046992\n",
       "standardscaler__t90                       -0.050216\n",
       "standardscaler__t217                      -0.053329\n",
       "standardscaler__t288                      -0.072162\n",
       "standardscaler__t191                      -0.088497\n",
       "standardscaler__Season                    -0.141958\n",
       "Name: Coefficients, dtype: float64"
      ]
     },
     "execution_count": 153,
     "metadata": {},
     "output_type": "execute_result"
    }
   ],
   "source": [
    "from sklearn.feature_selection import SelectKBest\n",
    "from sklearn.feature_selection import f_regression\n",
    "from sklearn.linear_model import LinearRegression\n",
    "from sklearn.preprocessing import StandardScaler, OneHotEncoder\n",
    "from sklearn.pipeline import make_pipeline\n",
    "from sklearn.compose import make_column_transformer\n",
    "\n",
    "columns = ['Summary', 'Episode_Title', 'Stars', 'Votes', 'Duration', 'text', 'match', 'len in words', 'len_prep'] + to_drop\n",
    "\n",
    "X = sb.drop(columns=columns)\n",
    "X.Director = X.Director.apply(direr)\n",
    "y = books.Stars\n",
    "\n",
    "reg = LinearRegression()\n",
    "hot = OneHotEncoder()\n",
    "scal = StandardScaler()\n",
    "\n",
    "categorical_features = X.select_dtypes(include=\"object\").columns\n",
    "integer_features = X.select_dtypes(exclude=\"object\").columns\n",
    "\n",
    "prep = make_column_transformer((hot, categorical_features),\n",
    "                                (scal, integer_features))\n",
    "\n",
    "pipe = make_pipeline(prep,reg)\n",
    "\n",
    "scores = cross_val_score(pipe, X, y, cv=cv, scoring = 'neg_root_mean_squared_error')\n",
    "\n",
    "print(np.mean(scores), np.std(scores))\n",
    "\n",
    "resultlist.append(['sb_25_topics', np.mean(scores), np.std(scores)])\n",
    "\n",
    "model = pipe.fit(X, y)\n",
    "\n",
    "feature_names = model[:-1].get_feature_names_out()\n",
    "\n",
    "X_preprocessed = pd.DataFrame(\n",
    "    model[:-1].transform(X), columns=feature_names\n",
    ")\n",
    "\n",
    "coefs = pd.DataFrame(\n",
    "    model[-1].coef_* X_preprocessed.std(axis=0),\n",
    "    columns=[\"Coefficients\"],\n",
    "    index=feature_names,\n",
    ")\n",
    "\n",
    "coefs[\"Coefficients\"].sort_values(ascending=False)"
   ]
  },
  {
   "cell_type": "markdown",
   "metadata": {},
   "source": [
    "## Models 10"
   ]
  },
  {
   "cell_type": "markdown",
   "metadata": {},
   "source": [
    "### books"
   ]
  },
  {
   "cell_type": "code",
   "execution_count": 154,
   "metadata": {},
   "outputs": [],
   "source": [
    "sb_best_25 = ['t134', 't103', 't12', 't194', 't276', 't35', 't180',\n",
    "       't222', 't32', 't191', 't299', 't64', 't202', 't288', 't275', 't260',\n",
    "       't84', 't182', 't165', 't210', 't90', 't204', 't255', 't217', 't239']\n",
    "\n",
    "to_drop = [f't{i}' for i in range(0,300) if f't{i}' not in sb_best_25[:10]]"
   ]
  },
  {
   "cell_type": "code",
   "execution_count": 155,
   "metadata": {},
   "outputs": [
    {
     "name": "stdout",
     "output_type": "stream",
     "text": [
      "-0.3189384744100546 0.27674480431414583\n"
     ]
    },
    {
     "data": {
      "text/plain": [
       "onehotencoder__Director_Kevin Bright       0.084235\n",
       "standardscaler__Ross                       0.074257\n",
       "standardscaler__Monica                     0.042283\n",
       "onehotencoder__Director_Michael Lembeck    0.035034\n",
       "standardscaler__t134                       0.029695\n",
       "standardscaler__t180                       0.029548\n",
       "standardscaler__Rachel                     0.028852\n",
       "standardscaler__Janice                     0.023606\n",
       "standardscaler__t191                       0.018060\n",
       "standardscaler__Season                     0.013810\n",
       "onehotencoder__Director_James Burrows      0.013491\n",
       "standardscaler__t12                        0.012272\n",
       "standardscaler__Emily                      0.009124\n",
       "standardscaler__Susan                      0.008964\n",
       "onehotencoder__Director_David Schwimmer    0.008257\n",
       "standardscaler__Phoebe                     0.007207\n",
       "standardscaler__t276                       0.006784\n",
       "standardscaler__Year_of_prod               0.006714\n",
       "standardscaler__Joey                       0.002728\n",
       "standardscaler__Chandler                   0.000014\n",
       "standardscaler__Episode Number            -0.002200\n",
       "standardscaler__t103                      -0.003597\n",
       "onehotencoder__Director_Gary Halvorson    -0.004630\n",
       "standardscaler__t32                       -0.005706\n",
       "standardscaler__Ben                       -0.007929\n",
       "standardscaler__Mike                      -0.013906\n",
       "standardscaler__t194                      -0.020271\n",
       "standardscaler__t222                      -0.021177\n",
       "onehotencoder__Director_Other             -0.021860\n",
       "onehotencoder__Director_Ben Weiss         -0.022167\n",
       "onehotencoder__Director_Gail Mancuso      -0.022890\n",
       "standardscaler__Gunther                   -0.030339\n",
       "onehotencoder__Director_Peter Bonerz      -0.030347\n",
       "standardscaler__t35                       -0.032509\n",
       "standardscaler__Carol                     -0.039341\n",
       "Name: Coefficients, dtype: float64"
      ]
     },
     "execution_count": 155,
     "metadata": {},
     "output_type": "execute_result"
    }
   ],
   "source": [
    "from sklearn.feature_selection import SelectKBest\n",
    "from sklearn.feature_selection import f_regression\n",
    "from sklearn.linear_model import LinearRegression\n",
    "from sklearn.preprocessing import StandardScaler, OneHotEncoder\n",
    "from sklearn.pipeline import make_pipeline\n",
    "from sklearn.compose import make_column_transformer\n",
    "\n",
    "columns = ['Summary', 'Episode_Title', 'Stars', 'Votes', 'Duration', 'text', 'match', 'len in words', 'len_prep'] + to_drop\n",
    "\n",
    "X = books.drop(columns=columns)\n",
    "X.Director = X.Director.apply(direr)\n",
    "y = books.Stars\n",
    "\n",
    "reg = LinearRegression()\n",
    "hot = OneHotEncoder()\n",
    "scal = StandardScaler()\n",
    "\n",
    "categorical_features = X.select_dtypes(include=\"object\").columns\n",
    "integer_features = X.select_dtypes(exclude=\"object\").columns\n",
    "\n",
    "prep = make_column_transformer((hot, categorical_features),\n",
    "                                (scal, integer_features))\n",
    "\n",
    "pipe = make_pipeline(prep,reg)\n",
    "\n",
    "scores = cross_val_score(pipe, X, y, cv=cv, scoring = 'neg_root_mean_squared_error')\n",
    "\n",
    "print(np.mean(scores), np.std(scores))\n",
    "\n",
    "resultlist.append(['books_10_topics', np.mean(scores), np.std(scores)])\n",
    "\n",
    "model = pipe.fit(X, y)\n",
    "\n",
    "feature_names = model[:-1].get_feature_names_out()\n",
    "\n",
    "X_preprocessed = pd.DataFrame(\n",
    "    model[:-1].transform(X), columns=feature_names\n",
    ")\n",
    "\n",
    "coefs = pd.DataFrame(\n",
    "    model[-1].coef_* X_preprocessed.std(axis=0),\n",
    "    columns=[\"Coefficients\"],\n",
    "    index=feature_names,\n",
    ")\n",
    "\n",
    "coefs[\"Coefficients\"].sort_values(ascending=False)"
   ]
  },
  {
   "cell_type": "markdown",
   "metadata": {},
   "source": [
    "### scriptbase"
   ]
  },
  {
   "cell_type": "code",
   "execution_count": 156,
   "metadata": {},
   "outputs": [
    {
     "name": "stdout",
     "output_type": "stream",
     "text": [
      "-0.3071893944996791 0.24644930769839254\n"
     ]
    },
    {
     "data": {
      "text/plain": [
       "standardscaler__Ross                       0.064870\n",
       "onehotencoder__Director_Kevin Bright       0.063553\n",
       "standardscaler__t12                        0.061056\n",
       "standardscaler__t134                       0.056028\n",
       "onehotencoder__Director_Michael Lembeck    0.035281\n",
       "standardscaler__Janice                     0.032148\n",
       "onehotencoder__Director_James Burrows      0.026068\n",
       "standardscaler__t103                       0.025968\n",
       "standardscaler__Monica                     0.024495\n",
       "standardscaler__Year_of_prod               0.021368\n",
       "standardscaler__Rachel                     0.018521\n",
       "standardscaler__Phoebe                     0.014562\n",
       "standardscaler__Season                     0.010026\n",
       "standardscaler__Emily                      0.007630\n",
       "standardscaler__Mike                       0.003495\n",
       "standardscaler__Chandler                   0.002006\n",
       "standardscaler__Episode Number             0.001189\n",
       "onehotencoder__Director_Gary Halvorson     0.000680\n",
       "onehotencoder__Director_David Schwimmer   -0.001863\n",
       "standardscaler__Ben                       -0.004857\n",
       "standardscaler__Gunther                   -0.005378\n",
       "onehotencoder__Director_Peter Bonerz      -0.010569\n",
       "standardscaler__Susan                     -0.010950\n",
       "onehotencoder__Director_Other             -0.013273\n",
       "standardscaler__t194                      -0.016228\n",
       "standardscaler__Carol                     -0.019320\n",
       "standardscaler__t222                      -0.021157\n",
       "onehotencoder__Director_Ben Weiss         -0.028170\n",
       "standardscaler__Joey                      -0.029794\n",
       "onehotencoder__Director_Gail Mancuso      -0.034229\n",
       "standardscaler__t180                      -0.034709\n",
       "standardscaler__t35                       -0.035191\n",
       "standardscaler__t32                       -0.039140\n",
       "standardscaler__t276                      -0.044042\n",
       "standardscaler__t191                      -0.082759\n",
       "Name: Coefficients, dtype: float64"
      ]
     },
     "execution_count": 156,
     "metadata": {},
     "output_type": "execute_result"
    }
   ],
   "source": [
    "sb_best_25 = ['t134', 't103', 't12', 't194', 't276', 't35', 't180',\n",
    "       't222', 't32', 't191', 't299', 't64', 't202', 't288', 't275', 't260',\n",
    "       't84', 't182', 't165', 't210', 't90', 't204', 't255', 't217', 't239']\n",
    "\n",
    "to_drop = [f't{i}' for i in range(0,300) if f't{i}' not in sb_best_25[:10]]\n",
    "\n",
    "from sklearn.feature_selection import SelectKBest\n",
    "from sklearn.feature_selection import f_regression\n",
    "from sklearn.linear_model import LinearRegression\n",
    "from sklearn.preprocessing import StandardScaler, OneHotEncoder\n",
    "from sklearn.pipeline import make_pipeline\n",
    "from sklearn.compose import make_column_transformer\n",
    "\n",
    "columns = ['Summary', 'Episode_Title', 'Stars', 'Votes', 'Duration', 'text', 'match', 'len in words', 'len_prep'] + to_drop\n",
    "\n",
    "X = sb.drop(columns=columns)\n",
    "X.Director = X.Director.apply(direr)\n",
    "y = books.Stars\n",
    "\n",
    "reg = LinearRegression()\n",
    "hot = OneHotEncoder()\n",
    "scal = StandardScaler()\n",
    "\n",
    "categorical_features = X.select_dtypes(include=\"object\").columns\n",
    "integer_features = X.select_dtypes(exclude=\"object\").columns\n",
    "\n",
    "prep = make_column_transformer((hot, categorical_features),\n",
    "                                (scal, integer_features))\n",
    "\n",
    "pipe = make_pipeline(prep,reg)\n",
    "\n",
    "scores = cross_val_score(pipe, X, y, cv=cv, scoring = 'neg_root_mean_squared_error')\n",
    "\n",
    "print(np.mean(scores), np.std(scores))\n",
    "\n",
    "resultlist.append(['sb_10_topics', np.mean(scores), np.std(scores)])\n",
    "\n",
    "model = pipe.fit(X, y)\n",
    "\n",
    "feature_names = model[:-1].get_feature_names_out()\n",
    "\n",
    "X_preprocessed = pd.DataFrame(\n",
    "    model[:-1].transform(X), columns=feature_names\n",
    ")\n",
    "\n",
    "coefs = pd.DataFrame(\n",
    "    model[-1].coef_* X_preprocessed.std(axis=0),\n",
    "    columns=[\"Coefficients\"],\n",
    "    index=feature_names,\n",
    ")\n",
    "\n",
    "coefs[\"Coefficients\"].sort_values(ascending=False)"
   ]
  },
  {
   "cell_type": "code",
   "execution_count": 157,
   "metadata": {},
   "outputs": [
    {
     "data": {
      "text/plain": [
       "[['model', 'LOOCV mean score', 'std'],\n",
       " ['dummy_baseline', -0.3113667508113955, 0.24655333378118335],\n",
       " ['BOW_baseline', -0.32209667011984083, 0.27848673086034265],\n",
       " ['no_topic_baseline', -0.3094817257793724, 0.2586888912565133],\n",
       " ['no_topic_tf_idf_baseline', -0.3919044810031503, 0.32084187021713934],\n",
       " ['books_all_topics', -0.962550080393687, 0.9319766604665668],\n",
       " ['sc_all_topics', -0.6443115921587788, 0.527618122196445],\n",
       " ['books_50_topics', -2012182.9037310749, 30846174.774059273],\n",
       " ['sb_50_topics', -0.29955877146325177, 0.2469060386648278],\n",
       " ['books_25_topics', -0.31161903231758425, 0.2681056341199774],\n",
       " ['sb_25_topics', -0.3041366367497664, 0.23962599005321444],\n",
       " ['books_10_topics', -0.3189384744100546, 0.27674480431414583],\n",
       " ['sb_10_topics', -0.3071893944996791, 0.24644930769839254]]"
      ]
     },
     "execution_count": 157,
     "metadata": {},
     "output_type": "execute_result"
    }
   ],
   "source": [
    "resultlist"
   ]
  },
  {
   "cell_type": "code",
   "execution_count": null,
   "metadata": {},
   "outputs": [],
   "source": []
  }
 ],
 "metadata": {
  "kernelspec": {
   "display_name": "Python 3.8.8 ('base')",
   "language": "python",
   "name": "python3"
  },
  "language_info": {
   "codemirror_mode": {
    "name": "ipython",
    "version": 3
   },
   "file_extension": ".py",
   "mimetype": "text/x-python",
   "name": "python",
   "nbconvert_exporter": "python",
   "pygments_lexer": "ipython3",
   "version": "3.8.8"
  },
  "orig_nbformat": 4,
  "vscode": {
   "interpreter": {
    "hash": "db3ad00c254152fbd946dfe3ddf750e2d6dd1f511dd85499e770b0c6b301697a"
   }
  }
 },
 "nbformat": 4,
 "nbformat_minor": 2
}
