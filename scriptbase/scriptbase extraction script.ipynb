{
 "cells": [
  {
   "cell_type": "markdown",
   "metadata": {},
   "source": [
    "## prep scriptbase"
   ]
  },
  {
   "cell_type": "code",
   "execution_count": 8,
   "metadata": {},
   "outputs": [
    {
     "name": "stdout",
     "output_type": "stream",
     "text": [
      "1492 produced a readerror\n",
      "1492.tar.gz produced a readerror\n",
      "A Nightmare on Elm Street 2 produced a readerror\n",
      "A Nightmare on Elm Street 3 produced a readerror\n",
      "A Nightmare on Elm Street 4 produced a readerror\n",
      "A Nightmare on Elm Street 5 produced a readerror\n",
      "Airplane II produced a readerror\n",
      "Austin Powers produced a readerror\n",
      "Blade produced a readerror\n",
      "Book of Shadows produced a readerror\n",
      "Freddys Dead produced a readerror\n",
      "Friday the 13th Part VI produced a readerror\n",
      "Friday the 13th Part VIII produced a readerror\n",
      "Halloween produced a readerror\n",
      "Halloween 4 produced a readerror\n",
      "Halloween H20 produced a readerror\n",
      "Hellbound produced a readerror\n",
      "Hellraiser produced a readerror\n",
      "Hellraiser III produced a readerror\n",
      "Highlander III produced a readerror\n",
      "Interview with the Vampire produced a readerror\n",
      "Jaws produced a readerror\n",
      "Lara Croft produced a readerror\n",
      "Mighty Morphin Power Rangers produced a readerror\n",
      "Mission produced a readerror\n",
      "Rambo produced a readerror\n",
      "Robin Hood produced a readerror\n",
      "South Park produced a readerror\n",
      "Star Trek produced a readerror\n",
      "Star Trek II produced a readerror\n",
      "Star Trek V produced a readerror\n",
      "Star Trek VI produced a readerror\n",
      "Star Wars Episode I produced a readerror\n",
      "Star Wars Episode II produced a readerror\n",
      "Star Wars Episode III produced a readerror\n",
      "Superman IV produced a readerror\n",
      "Sweeney Todd produced a readerror\n",
      "Terminator 2 produced a readerror\n",
      "The Boondock Saints II produced a readerror\n",
      "The Crow produced a readerror\n",
      "The Lord of the Rings produced a readerror\n",
      "The Lost World produced a readerror\n",
      "The Messenger produced a readerror\n",
      "The Transformers produced a readerror\n",
      "The Twilight Saga produced a readerror\n",
      "Tron produced a readerror\n",
      "Twin Peaks produced a readerror\n",
      "Wild Things produced a readerror\n",
      "X-Men Origins produced a readerror\n"
     ]
    }
   ],
   "source": [
    "import os\n",
    "import tarfile\n",
    "\n",
    "\n",
    "inputdir1 = '../../scriptbase/scriptbase_j/'\n",
    "inputdir2 = '../scriptbase_extracted/'\n",
    "\n",
    "fault = []\n",
    "\n",
    "for filename in os.listdir(inputdir1):\n",
    "    # print(filename)\n",
    "    try:\n",
    "        file = tarfile.open(inputdir1 + filename, 'r:gz')\n",
    "        # print(file.getnames())\n",
    "        file.extract('./'+ filename[:-7] + '/processed/profile.txt', inputdir2)\n",
    "        file.extract('./'+ filename[:-7] + '/processed/script_clean.txt', inputdir2)\n",
    "        file.close()\n",
    "        # with open(inputdir2 + filename[:-7] + '/processed/profile.txt', 'r', encoding='UTF-8') as f:\n",
    "        #     text = f.read()\n",
    "        #     print(text)\n",
    "        # with open(inputdir2 + filename[:-7] + '/processed/script_clean.txt', 'r', encoding='UTF-8') as f:\n",
    "        #     text = f.read()\n",
    "        #     print(text)\n",
    "    except tarfile.ReadError:\n",
    "        fault.append(filename)\n",
    "        print(f'{filename} produced a readerror')"
   ]
  },
  {
   "cell_type": "code",
   "execution_count": 10,
   "metadata": {},
   "outputs": [
    {
     "name": "stdout",
     "output_type": "stream",
     "text": [
      "['1492', '1492.tar.gz', 'A Nightmare on Elm Street 2', 'A Nightmare on Elm Street 3', 'A Nightmare on Elm Street 4', 'A Nightmare on Elm Street 5', 'Airplane II', 'Austin Powers', 'Blade', 'Book of Shadows', 'Freddys Dead', 'Friday the 13th Part VI', 'Friday the 13th Part VIII', 'Halloween', 'Halloween 4', 'Halloween H20', 'Hellbound', 'Hellraiser', 'Hellraiser III', 'Highlander III', 'Interview with the Vampire', 'Jaws', 'Lara Croft', 'Mighty Morphin Power Rangers', 'Mission', 'Rambo', 'Robin Hood', 'South Park', 'Star Trek', 'Star Trek II', 'Star Trek V', 'Star Trek VI', 'Star Wars Episode I', 'Star Wars Episode II', 'Star Wars Episode III', 'Superman IV', 'Sweeney Todd', 'Terminator 2', 'The Boondock Saints II', 'The Crow', 'The Lord of the Rings', 'The Lost World', 'The Messenger', 'The Transformers', 'The Twilight Saga', 'Tron', 'Twin Peaks', 'Wild Things', 'X-Men Origins']\n"
     ]
    },
    {
     "ename": "ReadError",
     "evalue": "empty file",
     "output_type": "error",
     "traceback": [
      "\u001b[1;31m---------------------------------------------------------------------------\u001b[0m",
      "\u001b[1;31mEmptyHeaderError\u001b[0m                          Traceback (most recent call last)",
      "File \u001b[1;32mc:\\Users\\Gebruiker\\anaconda3\\lib\\tarfile.py:2318\u001b[0m, in \u001b[0;36mTarFile.next\u001b[1;34m(self)\u001b[0m\n\u001b[0;32m   2317\u001b[0m \u001b[39mtry\u001b[39;00m:\n\u001b[1;32m-> 2318\u001b[0m     tarinfo \u001b[39m=\u001b[39m \u001b[39mself\u001b[39;49m\u001b[39m.\u001b[39;49mtarinfo\u001b[39m.\u001b[39;49mfromtarfile(\u001b[39mself\u001b[39;49m)\n\u001b[0;32m   2319\u001b[0m \u001b[39mexcept\u001b[39;00m EOFHeaderError \u001b[39mas\u001b[39;00m e:\n",
      "File \u001b[1;32mc:\\Users\\Gebruiker\\anaconda3\\lib\\tarfile.py:1105\u001b[0m, in \u001b[0;36mTarInfo.fromtarfile\u001b[1;34m(cls, tarfile)\u001b[0m\n\u001b[0;32m   1104\u001b[0m buf \u001b[39m=\u001b[39m tarfile\u001b[39m.\u001b[39mfileobj\u001b[39m.\u001b[39mread(BLOCKSIZE)\n\u001b[1;32m-> 1105\u001b[0m obj \u001b[39m=\u001b[39m \u001b[39mcls\u001b[39;49m\u001b[39m.\u001b[39;49mfrombuf(buf, tarfile\u001b[39m.\u001b[39;49mencoding, tarfile\u001b[39m.\u001b[39;49merrors)\n\u001b[0;32m   1106\u001b[0m obj\u001b[39m.\u001b[39moffset \u001b[39m=\u001b[39m tarfile\u001b[39m.\u001b[39mfileobj\u001b[39m.\u001b[39mtell() \u001b[39m-\u001b[39m BLOCKSIZE\n",
      "File \u001b[1;32mc:\\Users\\Gebruiker\\anaconda3\\lib\\tarfile.py:1041\u001b[0m, in \u001b[0;36mTarInfo.frombuf\u001b[1;34m(cls, buf, encoding, errors)\u001b[0m\n\u001b[0;32m   1040\u001b[0m \u001b[39mif\u001b[39;00m \u001b[39mlen\u001b[39m(buf) \u001b[39m==\u001b[39m \u001b[39m0\u001b[39m:\n\u001b[1;32m-> 1041\u001b[0m     \u001b[39mraise\u001b[39;00m EmptyHeaderError(\u001b[39m\"\u001b[39m\u001b[39mempty header\u001b[39m\u001b[39m\"\u001b[39m)\n\u001b[0;32m   1042\u001b[0m \u001b[39mif\u001b[39;00m \u001b[39mlen\u001b[39m(buf) \u001b[39m!=\u001b[39m BLOCKSIZE:\n",
      "\u001b[1;31mEmptyHeaderError\u001b[0m: empty header",
      "\nDuring handling of the above exception, another exception occurred:\n",
      "\u001b[1;31mReadError\u001b[0m                                 Traceback (most recent call last)",
      "\u001b[1;32mc:\\Users\\Gebruiker\\Documents\\UA\\Computational literary studies\\CLS-project\\scriptbase\\scriptbase extraction script.ipynb Cell 3\u001b[0m in \u001b[0;36m<cell line: 3>\u001b[1;34m()\u001b[0m\n\u001b[0;32m      <a href='vscode-notebook-cell:/c%3A/Users/Gebruiker/Documents/UA/Computational%20literary%20studies/CLS-project/scriptbase/scriptbase%20extraction%20script.ipynb#W2sZmlsZQ%3D%3D?line=0'>1</a>\u001b[0m \u001b[39mprint\u001b[39m(fault)\n\u001b[0;32m      <a href='vscode-notebook-cell:/c%3A/Users/Gebruiker/Documents/UA/Computational%20literary%20studies/CLS-project/scriptbase/scriptbase%20extraction%20script.ipynb#W2sZmlsZQ%3D%3D?line=2'>3</a>\u001b[0m \u001b[39mfor\u001b[39;00m filename \u001b[39min\u001b[39;00m fault:\n\u001b[1;32m----> <a href='vscode-notebook-cell:/c%3A/Users/Gebruiker/Documents/UA/Computational%20literary%20studies/CLS-project/scriptbase/scriptbase%20extraction%20script.ipynb#W2sZmlsZQ%3D%3D?line=3'>4</a>\u001b[0m     file \u001b[39m=\u001b[39m tarfile\u001b[39m.\u001b[39;49mopen(inputdir1 \u001b[39m+\u001b[39;49m filename, \u001b[39m'\u001b[39;49m\u001b[39mr:gz\u001b[39;49m\u001b[39m'\u001b[39;49m)\n\u001b[0;32m      <a href='vscode-notebook-cell:/c%3A/Users/Gebruiker/Documents/UA/Computational%20literary%20studies/CLS-project/scriptbase/scriptbase%20extraction%20script.ipynb#W2sZmlsZQ%3D%3D?line=4'>5</a>\u001b[0m     \u001b[39mprint\u001b[39m(file\u001b[39m.\u001b[39mlist())\n",
      "File \u001b[1;32mc:\\Users\\Gebruiker\\anaconda3\\lib\\tarfile.py:1621\u001b[0m, in \u001b[0;36mTarFile.open\u001b[1;34m(cls, name, mode, fileobj, bufsize, **kwargs)\u001b[0m\n\u001b[0;32m   1619\u001b[0m     \u001b[39melse\u001b[39;00m:\n\u001b[0;32m   1620\u001b[0m         \u001b[39mraise\u001b[39;00m CompressionError(\u001b[39m\"\u001b[39m\u001b[39munknown compression type \u001b[39m\u001b[39m%r\u001b[39;00m\u001b[39m\"\u001b[39m \u001b[39m%\u001b[39m comptype)\n\u001b[1;32m-> 1621\u001b[0m     \u001b[39mreturn\u001b[39;00m func(name, filemode, fileobj, \u001b[39m*\u001b[39;49m\u001b[39m*\u001b[39;49mkwargs)\n\u001b[0;32m   1623\u001b[0m \u001b[39melif\u001b[39;00m \u001b[39m\"\u001b[39m\u001b[39m|\u001b[39m\u001b[39m\"\u001b[39m \u001b[39min\u001b[39;00m mode:\n\u001b[0;32m   1624\u001b[0m     filemode, comptype \u001b[39m=\u001b[39m mode\u001b[39m.\u001b[39msplit(\u001b[39m\"\u001b[39m\u001b[39m|\u001b[39m\u001b[39m\"\u001b[39m, \u001b[39m1\u001b[39m)\n",
      "File \u001b[1;32mc:\\Users\\Gebruiker\\anaconda3\\lib\\tarfile.py:1674\u001b[0m, in \u001b[0;36mTarFile.gzopen\u001b[1;34m(cls, name, mode, fileobj, compresslevel, **kwargs)\u001b[0m\n\u001b[0;32m   1671\u001b[0m     \u001b[39mraise\u001b[39;00m\n\u001b[0;32m   1673\u001b[0m \u001b[39mtry\u001b[39;00m:\n\u001b[1;32m-> 1674\u001b[0m     t \u001b[39m=\u001b[39m \u001b[39mcls\u001b[39;49m\u001b[39m.\u001b[39;49mtaropen(name, mode, fileobj, \u001b[39m*\u001b[39;49m\u001b[39m*\u001b[39;49mkwargs)\n\u001b[0;32m   1675\u001b[0m \u001b[39mexcept\u001b[39;00m \u001b[39mOSError\u001b[39;00m:\n\u001b[0;32m   1676\u001b[0m     fileobj\u001b[39m.\u001b[39mclose()\n",
      "File \u001b[1;32mc:\\Users\\Gebruiker\\anaconda3\\lib\\tarfile.py:1651\u001b[0m, in \u001b[0;36mTarFile.taropen\u001b[1;34m(cls, name, mode, fileobj, **kwargs)\u001b[0m\n\u001b[0;32m   1649\u001b[0m \u001b[39mif\u001b[39;00m mode \u001b[39mnot\u001b[39;00m \u001b[39min\u001b[39;00m (\u001b[39m\"\u001b[39m\u001b[39mr\u001b[39m\u001b[39m\"\u001b[39m, \u001b[39m\"\u001b[39m\u001b[39ma\u001b[39m\u001b[39m\"\u001b[39m, \u001b[39m\"\u001b[39m\u001b[39mw\u001b[39m\u001b[39m\"\u001b[39m, \u001b[39m\"\u001b[39m\u001b[39mx\u001b[39m\u001b[39m\"\u001b[39m):\n\u001b[0;32m   1650\u001b[0m     \u001b[39mraise\u001b[39;00m \u001b[39mValueError\u001b[39;00m(\u001b[39m\"\u001b[39m\u001b[39mmode must be \u001b[39m\u001b[39m'\u001b[39m\u001b[39mr\u001b[39m\u001b[39m'\u001b[39m\u001b[39m, \u001b[39m\u001b[39m'\u001b[39m\u001b[39ma\u001b[39m\u001b[39m'\u001b[39m\u001b[39m, \u001b[39m\u001b[39m'\u001b[39m\u001b[39mw\u001b[39m\u001b[39m'\u001b[39m\u001b[39m or \u001b[39m\u001b[39m'\u001b[39m\u001b[39mx\u001b[39m\u001b[39m'\u001b[39m\u001b[39m\"\u001b[39m)\n\u001b[1;32m-> 1651\u001b[0m \u001b[39mreturn\u001b[39;00m \u001b[39mcls\u001b[39;49m(name, mode, fileobj, \u001b[39m*\u001b[39;49m\u001b[39m*\u001b[39;49mkwargs)\n",
      "File \u001b[1;32mc:\\Users\\Gebruiker\\anaconda3\\lib\\tarfile.py:1514\u001b[0m, in \u001b[0;36mTarFile.__init__\u001b[1;34m(self, name, mode, fileobj, format, tarinfo, dereference, ignore_zeros, encoding, errors, pax_headers, debug, errorlevel, copybufsize)\u001b[0m\n\u001b[0;32m   1512\u001b[0m \u001b[39mif\u001b[39;00m \u001b[39mself\u001b[39m\u001b[39m.\u001b[39mmode \u001b[39m==\u001b[39m \u001b[39m\"\u001b[39m\u001b[39mr\u001b[39m\u001b[39m\"\u001b[39m:\n\u001b[0;32m   1513\u001b[0m     \u001b[39mself\u001b[39m\u001b[39m.\u001b[39mfirstmember \u001b[39m=\u001b[39m \u001b[39mNone\u001b[39;00m\n\u001b[1;32m-> 1514\u001b[0m     \u001b[39mself\u001b[39m\u001b[39m.\u001b[39mfirstmember \u001b[39m=\u001b[39m \u001b[39mself\u001b[39;49m\u001b[39m.\u001b[39;49mnext()\n\u001b[0;32m   1516\u001b[0m \u001b[39mif\u001b[39;00m \u001b[39mself\u001b[39m\u001b[39m.\u001b[39mmode \u001b[39m==\u001b[39m \u001b[39m\"\u001b[39m\u001b[39ma\u001b[39m\u001b[39m\"\u001b[39m:\n\u001b[0;32m   1517\u001b[0m     \u001b[39m# Move to the end of the archive,\u001b[39;00m\n\u001b[0;32m   1518\u001b[0m     \u001b[39m# before the first empty block.\u001b[39;00m\n\u001b[0;32m   1519\u001b[0m     \u001b[39mwhile\u001b[39;00m \u001b[39mTrue\u001b[39;00m:\n",
      "File \u001b[1;32mc:\\Users\\Gebruiker\\anaconda3\\lib\\tarfile.py:2333\u001b[0m, in \u001b[0;36mTarFile.next\u001b[1;34m(self)\u001b[0m\n\u001b[0;32m   2331\u001b[0m \u001b[39mexcept\u001b[39;00m EmptyHeaderError:\n\u001b[0;32m   2332\u001b[0m     \u001b[39mif\u001b[39;00m \u001b[39mself\u001b[39m\u001b[39m.\u001b[39moffset \u001b[39m==\u001b[39m \u001b[39m0\u001b[39m:\n\u001b[1;32m-> 2333\u001b[0m         \u001b[39mraise\u001b[39;00m ReadError(\u001b[39m\"\u001b[39m\u001b[39mempty file\u001b[39m\u001b[39m\"\u001b[39m)\n\u001b[0;32m   2334\u001b[0m \u001b[39mexcept\u001b[39;00m TruncatedHeaderError \u001b[39mas\u001b[39;00m e:\n\u001b[0;32m   2335\u001b[0m     \u001b[39mif\u001b[39;00m \u001b[39mself\u001b[39m\u001b[39m.\u001b[39moffset \u001b[39m==\u001b[39m \u001b[39m0\u001b[39m:\n",
      "\u001b[1;31mReadError\u001b[0m: empty file"
     ]
    }
   ],
   "source": [
    "print(fault)\n",
    "\n",
    "for filename in fault:\n",
    "    file = tarfile.open(inputdir1 + filename, 'r:gz')\n",
    "    print(file.list())"
   ]
  },
  {
   "cell_type": "code",
   "execution_count": 11,
   "metadata": {},
   "outputs": [
    {
     "name": "stderr",
     "output_type": "stream",
     "text": [
      "c:\\Users\\Gebruiker\\anaconda3\\lib\\site-packages\\cupy\\_environment.py:213: UserWarning: CUDA path could not be detected. Set CUDA_PATH environment variable if CuPy fails to load.\n",
      "  warnings.warn(\n",
      "c:\\Users\\Gebruiker\\anaconda3\\lib\\site-packages\\cupy\\_environment.py:213: UserWarning: CUDA path could not be detected. Set CUDA_PATH environment variable if CuPy fails to load.\n",
      "  warnings.warn(\n",
      "c:\\Users\\Gebruiker\\anaconda3\\lib\\site-packages\\cupy\\_environment.py:213: UserWarning: CUDA path could not be detected. Set CUDA_PATH environment variable if CuPy fails to load.\n",
      "  warnings.warn(\n"
     ]
    }
   ],
   "source": [
    "import re\n",
    "import spacy\n",
    "import numpy as np\n",
    "nlp = spacy.load('en_core_web_sm', disable=['parser', 'ner'])\n",
    "allowed = set('ADJ NOUN VERB'.split())\n",
    "\n",
    "def remove_brack(string):\n",
    "    pattern = re.compile(\"[\\(\\[].*?[\\)\\]]\")\n",
    "    string = re.sub(pattern, \"\", string)\n",
    "    return string\n",
    "\n",
    "def get_spoken(lines):\n",
    "    if len(lines[0])-len(lines[0].lstrip()) != 0:\n",
    "        white = int((len(lines[0])-len(lines[0].lstrip()))*1.5)\n",
    "    else:\n",
    "        white = 5\n",
    "    pattern = re.compile('\\s{'+ f'{white}' + '}')\n",
    "    spoken_text = ''\n",
    "    for line in lines:\n",
    "        line = remove_brack(line)\n",
    "        if re.match(pattern, line) is not None and line.isupper() is False:\n",
    "            spoken_text += line.strip() + ' '\n",
    "    return spoken_text\n",
    "\n",
    "\n",
    "\n",
    "def prep_spoken(string):\n",
    "    toklst = []\n",
    "    string = string.casefold()\n",
    "    tokens = nlp(string)\n",
    "    if tokens:\n",
    "        for t in tokens:\n",
    "            if t.pos_ in allowed and t.is_alpha and not t.is_stop:\n",
    "                toklst.append(t.text)\n",
    "    return ' '.join(toklst).casefold()\n",
    "\n",
    "outputdir = './scriptbase_texts/'\n",
    "\n",
    "for subdir in [f for f in os.listdir(inputdir2)]:\n",
    "    # print(subdir)\n",
    "    with open(inputdir2 + subdir + '/processed/script_clean.txt', 'r', encoding='UTF-8') as f:\n",
    "        lines = f.readlines()\n",
    "        spoken_text = get_spoken(lines)\n",
    "        if len(spoken_text) == 0:\n",
    "            print(f'No text in {subdir}')\n",
    "        spoken_prepped = prep_spoken(spoken_text)\n",
    "    with open(outputdir + subdir + '.txt', 'w', encoding='UTF-8') as f:\n",
    "        f.write(spoken_prepped)"
   ]
  },
  {
   "cell_type": "code",
   "execution_count": 84,
   "metadata": {},
   "outputs": [],
   "source": [
    "dct = {}\n",
    "\n",
    "from string import punctuation\n",
    "\n",
    "for subdir in [f for f in os.listdir(inputdir2)]:\n",
    "    # print(subdir)\n",
    "    with open(inputdir2 + subdir + '/processed/profile.txt', 'r', encoding='UTF-8') as f:\n",
    "        lines = f.readlines()\n",
    "        pattern1 = re.compile(r'.+main genres* (are|is)')\n",
    "        pattern2 = re.compile(r'.+is a.+movie')\n",
    "        for line in lines:\n",
    "            if re.match(pattern1, line) is not None:\n",
    "                genreline = re.sub(pattern1, '', line)\n",
    "                genreline = re.sub(r'[,\\s]and', '', genreline)\n",
    "                genreline = genreline[:-2]\n",
    "                genres = genreline.split(',')\n",
    "                genres = [genre.split() for genre in genres]\n",
    "                genres = [genre for genreplus in genres for genre in genreplus]\n",
    "                dct[subdir] = [genre.strip() for genre in genres]\n",
    "            elif re.match(pattern2, line) is not None:\n",
    "                genreline = re.sub(r'.+is a[n\\s]', '', line)\n",
    "                genreline = re.sub(r'movie.', '', genreline)\n",
    "                genreline = re.sub(r'[,\\s]and', '', genreline)\n",
    "                genres = genreline.split(',')\n",
    "                genres = [genre.split() for genre in genres]\n",
    "                genres = [genre for genreplus in genres for genre in genreplus]\n",
    "                dct[subdir] = [genre.strip() for genre in genres]\n",
    "            else:\n",
    "                pass"
   ]
  },
  {
   "cell_type": "code",
   "execution_count": 85,
   "metadata": {},
   "outputs": [
    {
     "name": "stdout",
     "output_type": "stream",
     "text": [
      "{'family', 'historical', 'independent', 'romance', 'comedy', 'animation', 'adventure', 'war', 'mockumentary', 'sci-fi', 'action', 'arts', 'period', 'blaxpoitation', 'drama', 'noir', 'features', 'horror', 'crime', 'fantasy', 'is', 'mystery', 'martial', 'involves', 'parody', 'musical', 'western', 'has', 'expressionist', 'foreign', 'a', 'road', 'thriller', 'sports', 'structure', 'talky.', 'in', 'film', 'music-oriented', 'erotic'}\n"
     ]
    }
   ],
   "source": [
    "#don't know why this doesn't work, deleted wrong ones manually\n",
    "lst = [item for value in dct.values() for item in value]\n",
    "print(set(lst))\n",
    "no = ['features','is', 'involves', 'has', 'a', 'structure','in', 'film']\n",
    "\n",
    "for key, value in dct.items():\n",
    "    for item in value:\n",
    "        if item in no:\n",
    "            dct[key] = [i for i in value if i != item]"
   ]
  },
  {
   "cell_type": "code",
   "execution_count": 86,
   "metadata": {},
   "outputs": [
    {
     "name": "stdout",
     "output_type": "stream",
     "text": [
      "{'family', 'historical', 'independent', 'romance', 'comedy', 'animation', 'adventure', 'war', 'mockumentary', 'sci-fi', 'action', 'arts', 'period', 'blaxpoitation', 'drama', 'noir', 'horror', 'crime', 'fantasy', 'is', 'mystery', 'martial', 'parody', 'musical', 'western', 'has', 'expressionist', 'foreign', 'a', 'road', 'thriller', 'sports', 'structure', 'talky.', 'in', 'film', 'music-oriented', 'erotic'}\n"
     ]
    }
   ],
   "source": [
    "lst = [item for value in dct.values() for item in value]\n",
    "print(set(lst))"
   ]
  },
  {
   "cell_type": "code",
   "execution_count": 89,
   "metadata": {},
   "outputs": [],
   "source": [
    "import json\n",
    "\n",
    "with open('scriptbase_meta.json', 'w', encoding ='utf8') as json_file:\n",
    "    json.dump(dct, json_file, ensure_ascii = False)"
   ]
  }
 ],
 "metadata": {
  "kernelspec": {
   "display_name": "Python 3.8.8 ('base')",
   "language": "python",
   "name": "python3"
  },
  "language_info": {
   "codemirror_mode": {
    "name": "ipython",
    "version": 3
   },
   "file_extension": ".py",
   "mimetype": "text/x-python",
   "name": "python",
   "nbconvert_exporter": "python",
   "pygments_lexer": "ipython3",
   "version": "3.8.8"
  },
  "orig_nbformat": 4,
  "vscode": {
   "interpreter": {
    "hash": "db3ad00c254152fbd946dfe3ddf750e2d6dd1f511dd85499e770b0c6b301697a"
   }
  }
 },
 "nbformat": 4,
 "nbformat_minor": 2
}
