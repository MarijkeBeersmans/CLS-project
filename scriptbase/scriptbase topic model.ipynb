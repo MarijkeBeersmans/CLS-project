{
 "cells": [
  {
   "cell_type": "markdown",
   "metadata": {},
   "source": [
    "# scriptbase topic model"
   ]
  },
  {
   "cell_type": "code",
   "execution_count": 1,
   "metadata": {},
   "outputs": [
    {
     "data": {
      "text/html": [
       "<div>\n",
       "<style scoped>\n",
       "    .dataframe tbody tr th:only-of-type {\n",
       "        vertical-align: middle;\n",
       "    }\n",
       "\n",
       "    .dataframe tbody tr th {\n",
       "        vertical-align: top;\n",
       "    }\n",
       "\n",
       "    .dataframe thead th {\n",
       "        text-align: right;\n",
       "    }\n",
       "</style>\n",
       "<table border=\"1\" class=\"dataframe\">\n",
       "  <thead>\n",
       "    <tr style=\"text-align: right;\">\n",
       "      <th></th>\n",
       "      <th>Year_of_prod</th>\n",
       "      <th>Season</th>\n",
       "      <th>Episode Number</th>\n",
       "      <th>Episode_Title</th>\n",
       "      <th>Duration</th>\n",
       "      <th>Summary</th>\n",
       "      <th>Director</th>\n",
       "      <th>Stars</th>\n",
       "      <th>Votes</th>\n",
       "      <th>match</th>\n",
       "      <th>text</th>\n",
       "      <th>len in words</th>\n",
       "      <th>len_prep</th>\n",
       "    </tr>\n",
       "  </thead>\n",
       "  <tbody>\n",
       "    <tr>\n",
       "      <th>0</th>\n",
       "      <td>1994</td>\n",
       "      <td>1</td>\n",
       "      <td>1</td>\n",
       "      <td>The One Where Monica Gets a Roommate: The Pilot</td>\n",
       "      <td>22</td>\n",
       "      <td>Monica and the gang introduce Rachel to the \"r...</td>\n",
       "      <td>James Burrows</td>\n",
       "      <td>8.3</td>\n",
       "      <td>7440</td>\n",
       "      <td>11</td>\n",
       "      <td>tell guy work going guy got wrong nice hump hu...</td>\n",
       "      <td>3167.0</td>\n",
       "      <td>905.0</td>\n",
       "    </tr>\n",
       "    <tr>\n",
       "      <th>1</th>\n",
       "      <td>1994</td>\n",
       "      <td>1</td>\n",
       "      <td>2</td>\n",
       "      <td>The One with the Sonogram at the End</td>\n",
       "      <td>22</td>\n",
       "      <td>Ross finds out his ex-wife is pregnant. Rachel...</td>\n",
       "      <td>James Burrows</td>\n",
       "      <td>8.1</td>\n",
       "      <td>4888</td>\n",
       "      <td>12</td>\n",
       "      <td>guys understand kissing important need know ki...</td>\n",
       "      <td>2030.0</td>\n",
       "      <td>531.0</td>\n",
       "    </tr>\n",
       "    <tr>\n",
       "      <th>2</th>\n",
       "      <td>1994</td>\n",
       "      <td>1</td>\n",
       "      <td>3</td>\n",
       "      <td>The One with the Thumb</td>\n",
       "      <td>22</td>\n",
       "      <td>Monica becomes irritated when everyone likes h...</td>\n",
       "      <td>James Burrows</td>\n",
       "      <td>8.2</td>\n",
       "      <td>4605</td>\n",
       "      <td>13</td>\n",
       "      <td>hi guys good walked subway said ouch said good...</td>\n",
       "      <td>2326.0</td>\n",
       "      <td>631.0</td>\n",
       "    </tr>\n",
       "    <tr>\n",
       "      <th>3</th>\n",
       "      <td>1994</td>\n",
       "      <td>1</td>\n",
       "      <td>4</td>\n",
       "      <td>The One with George Stephanopoulos</td>\n",
       "      <td>22</td>\n",
       "      <td>Joey and Chandler take Ross to a hockey game t...</td>\n",
       "      <td>James Burrows</td>\n",
       "      <td>8.1</td>\n",
       "      <td>4468</td>\n",
       "      <td>14</td>\n",
       "      <td>omnipotent day want world peace hunger good th...</td>\n",
       "      <td>2298.0</td>\n",
       "      <td>695.0</td>\n",
       "    </tr>\n",
       "    <tr>\n",
       "      <th>4</th>\n",
       "      <td>1994</td>\n",
       "      <td>1</td>\n",
       "      <td>5</td>\n",
       "      <td>The One with the East German Laundry Detergent</td>\n",
       "      <td>22</td>\n",
       "      <td>Eager to spend time with Rachel, Ross pretends...</td>\n",
       "      <td>Pamela Fryman</td>\n",
       "      <td>8.5</td>\n",
       "      <td>4438</td>\n",
       "      <td>15</td>\n",
       "      <td>let big deal big deal amazing reach little man...</td>\n",
       "      <td>2444.0</td>\n",
       "      <td>655.0</td>\n",
       "    </tr>\n",
       "  </tbody>\n",
       "</table>\n",
       "</div>"
      ],
      "text/plain": [
       "   Year_of_prod  Season  Episode Number  \\\n",
       "0          1994       1               1   \n",
       "1          1994       1               2   \n",
       "2          1994       1               3   \n",
       "3          1994       1               4   \n",
       "4          1994       1               5   \n",
       "\n",
       "                                     Episode_Title  Duration  \\\n",
       "0  The One Where Monica Gets a Roommate: The Pilot        22   \n",
       "1             The One with the Sonogram at the End        22   \n",
       "2                           The One with the Thumb        22   \n",
       "3               The One with George Stephanopoulos        22   \n",
       "4   The One with the East German Laundry Detergent        22   \n",
       "\n",
       "                                             Summary       Director  Stars  \\\n",
       "0  Monica and the gang introduce Rachel to the \"r...  James Burrows    8.3   \n",
       "1  Ross finds out his ex-wife is pregnant. Rachel...  James Burrows    8.1   \n",
       "2  Monica becomes irritated when everyone likes h...  James Burrows    8.2   \n",
       "3  Joey and Chandler take Ross to a hockey game t...  James Burrows    8.1   \n",
       "4  Eager to spend time with Rachel, Ross pretends...  Pamela Fryman    8.5   \n",
       "\n",
       "   Votes  match                                               text  \\\n",
       "0   7440     11  tell guy work going guy got wrong nice hump hu...   \n",
       "1   4888     12  guys understand kissing important need know ki...   \n",
       "2   4605     13  hi guys good walked subway said ouch said good...   \n",
       "3   4468     14  omnipotent day want world peace hunger good th...   \n",
       "4   4438     15  let big deal big deal amazing reach little man...   \n",
       "\n",
       "   len in words  len_prep  \n",
       "0        3167.0     905.0  \n",
       "1        2030.0     531.0  \n",
       "2        2326.0     631.0  \n",
       "3        2298.0     695.0  \n",
       "4        2444.0     655.0  "
      ]
     },
     "execution_count": 1,
     "metadata": {},
     "output_type": "execute_result"
    }
   ],
   "source": [
    "import pandas as pd\n",
    "import numpy as np\n",
    "\n",
    "friends = pd.read_csv('friends_mastersheet.csv', index_col=0)\n",
    "friends.head()"
   ]
  },
  {
   "cell_type": "code",
   "execution_count": 2,
   "metadata": {},
   "outputs": [
    {
     "data": {
      "text/plain": [
       "686.228813559322"
      ]
     },
     "execution_count": 2,
     "metadata": {},
     "output_type": "execute_result"
    }
   ],
   "source": [
    "np.mean(friends['len_prep'])"
   ]
  },
  {
   "cell_type": "markdown",
   "metadata": {},
   "source": [
    "## Some checks"
   ]
  },
  {
   "cell_type": "code",
   "execution_count": 3,
   "metadata": {},
   "outputs": [
    {
     "name": "stdout",
     "output_type": "stream",
     "text": [
      "season 4 episode 21 , \"The One with the Invitation\" rating = 7.2 stars: \n",
      "\n",
      " As Ross and Emily send out wedding invitations, he and Rachel each look back on their relationship together while Joey and Chandler look for a purpose in life.\n",
      "\n",
      "season 6 episode 20 , \"The One with Mac and C.H.E.E.S.E.\" rating = 7.4 stars: \n",
      "\n",
      " Chandler forgets to write down a message for Joey when the time of his audition for the lead in a TV show is changed.\n",
      "\n",
      "season 8 episode 19 , \"The One with Joey's Interview\" rating = 7.5 stars: \n",
      "\n",
      " Joey prepares for his epic interview with Soap Opera Digest, reminiscing about his past acting experiences, his friends and his romantic life.\n",
      "\n",
      "season 7 episode 21 , \"The One with the Vows\" rating = 7.5 stars: \n",
      "\n",
      " Monica and Chandler are getting married in four weeks and have to write their vows, but neither has a clue what to say, so they reflect on their past.\n",
      "\n",
      "season 9 episode 10 , \"The One with Christmas in Tulsa\" rating = 7.5 stars: \n",
      "\n",
      " Chandler must spend Christmas in Tulsa, which Monica thinks he might have an affair with a former Miss Oklahoma runner-up while he is there. Chandler comes home early to announce that he quit his job.\n",
      "\n"
     ]
    }
   ],
   "source": [
    "# 5 least popular Friends episodes\n",
    "\n",
    "check = friends.sort_values(by='Stars')\n",
    "\n",
    "for i in range(5):\n",
    "    row = check.iloc[i]\n",
    "    episode = row['Episode Number']\n",
    "    name = row['Episode_Title']\n",
    "    season = row['Season']\n",
    "    summary = row['Summary']\n",
    "    stars = row['Stars']\n",
    "    print(f'season {season} episode {episode} , \"{name}\" rating = {stars} stars: \\n\\n {summary}\\n')"
   ]
  },
  {
   "cell_type": "code",
   "execution_count": 4,
   "metadata": {},
   "outputs": [
    {
     "name": "stdout",
     "output_type": "stream",
     "text": [
      "season 10 episode 18 , \"The Last One: Part 2\" rating = 9.7 stars: \n",
      "\n",
      " Phoebe races Ross to the airport in a bid to stop Rachel from leaving for Paris. Monica and Chandler pack up their apartment ahead of their move to their new house, and Joey buys Chandler a new chick and duck as a leaving present.\n",
      "\n",
      "season 5 episode 14 , \"The One Where Everybody Finds Out\" rating = 9.7 stars: \n",
      "\n",
      " When Phoebe finds out about Monica and Chandler, she and Rachel attempt to get them to confess their relationship.\n",
      "\n",
      "season 10 episode 17 , \"The Last One: Part 1\" rating = 9.5 stars: \n",
      "\n",
      " Erica gives birth to the baby that Monica and Chandler are adopting. However, there's one small added surprise. Meanwhile, Ross and Rachel sleep together one last time before Rachel leaves ...                See full summary »\n",
      "\n",
      "season 4 episode 12 , \"The One with the Embryos\" rating = 9.5 stars: \n",
      "\n",
      " Phoebe's uterus is examined for implantation of the embryos. Meanwhile, a seemingly harmless game between Chandler and Joey against Monica and Rachel escalates into a full blown contest where the stakes are raised higher and higher.\n",
      "\n",
      "season 2 episode 14 , \"The One with the Prom Video\" rating = 9.4 stars: \n",
      "\n",
      " The gang watches a home video from the night of Monica and Rachel's prom. Joey gives Chandler a hideous bracelet.\n",
      "\n"
     ]
    }
   ],
   "source": [
    "# 5 most popular Friends episodes\n",
    "\n",
    "check = friends.sort_values(by='Stars', ascending=False)\n",
    "\n",
    "for i in range(5):\n",
    "    row = check.iloc[i]\n",
    "    episode = row['Episode Number']\n",
    "    name = row['Episode_Title']\n",
    "    season = row['Season']\n",
    "    summary = row['Summary']\n",
    "    stars = row['Stars']\n",
    "    print(f'season {season} episode {episode} , \"{name}\" rating = {stars} stars: \\n\\n {summary}\\n')"
   ]
  },
  {
   "cell_type": "markdown",
   "metadata": {},
   "source": [
    "## prep"
   ]
  },
  {
   "cell_type": "code",
   "execution_count": 5,
   "metadata": {},
   "outputs": [],
   "source": [
    "import glob\n",
    "import random\n",
    "RND = 12345\n",
    "random.seed(RND)\n",
    "\n",
    "class Chunker(object):\n",
    "    def __init__(self, filenames, metadata, singles_only=False,\n",
    "                 max_chars_per_book=None, chunk_size=None):\n",
    "        \n",
    "        # maximum number of characters to read from the beginning of each book:\n",
    "        self.max_chars_per_book = max_chars_per_book\n",
    "        \n",
    "        # size of the chunks returned (in tokens):\n",
    "        self.chunk_size = chunk_size\n",
    "        \n",
    "        # only return chunks from these files:\n",
    "        self.filenames = filenames\n",
    "        \n",
    "        # include a dictionary with metadata:\n",
    "        self.meta = meta\n",
    "        \n",
    "        # only return texts with a single genre label:\n",
    "        self.singles_only = singles_only\n",
    "        \n",
    "        # only collect genres during the first iteration\n",
    "        self.first = True\n",
    "\n",
    "    def __iter__(self):\n",
    "        if self.first:\n",
    "            self.genres = []\n",
    "        \n",
    "        for filename in self.filenames:\n",
    "            title = os.path.basename(filename[:-4])\n",
    "            current_genres = self.meta[title]\n",
    "            \n",
    "            if self.singles_only:\n",
    "                if len(current_genres) > 1:\n",
    "                    continue\n",
    "\n",
    "            with open(filename, 'r', encoding='utf-8') as f:\n",
    "                try:\n",
    "                    if self.max_chars_per_book:\n",
    "                        text = f.read()\n",
    "                        text = text[:self.max_chars_per_book]\n",
    "                    else:\n",
    "                        text = f.read()\n",
    "                except:\n",
    "                    continue\n",
    "            \n",
    "            tokens = text.split()\n",
    "            \n",
    "            for i in range(0, len(tokens), self.chunk_size):\n",
    "                if self.first:\n",
    "                    self.genres.append(current_genres)\n",
    "                yield tokens[i:i + self.chunk_size]\n",
    "                #this also helps for lazy loading because yield goes over it apart\n",
    "        \n",
    "        # stop collecting labels after first complete iteration\n",
    "        self.first = False"
   ]
  },
  {
   "cell_type": "code",
   "execution_count": 6,
   "metadata": {},
   "outputs": [],
   "source": [
    "n_features = 5000 # number of most common words\n",
    "n_topics = 30 # number of topics\n",
    "n_top_words = 60 # number of characteristic words per topic (viz purposes only)\n",
    "max_df = 0.5 # maximum document frequency\n",
    "min_df = 100 # minimum document frequency\n",
    "max_books = 1000 # include all books (None), or a specific number\n",
    "chunk_size = 686  # length of the average friends episode (after keeping only ADJ, NOUN & VERB)"
   ]
  },
  {
   "cell_type": "code",
   "execution_count": 7,
   "metadata": {},
   "outputs": [
    {
     "name": "stdout",
     "output_type": "stream",
     "text": [
      "865\n"
     ]
    }
   ],
   "source": [
    "path = './scriptbase/scriptbase_texts/*.txt'\n",
    "filenames = sorted(list(glob.glob(path)))\n",
    "print(len(filenames))"
   ]
  },
  {
   "cell_type": "code",
   "execution_count": 8,
   "metadata": {},
   "outputs": [],
   "source": [
    "random.seed(RND)\n",
    "random.shuffle(filenames)\n",
    "# print(filenames[:10])\n",
    "# print(len(filenames))"
   ]
  },
  {
   "cell_type": "code",
   "execution_count": 9,
   "metadata": {},
   "outputs": [],
   "source": [
    "import json\n",
    "with open('./scriptbase/scriptbase_meta.json', 'r') as f:\n",
    "    meta = json.loads(f.read())\n",
    "\n",
    "# for book, genres in list(meta.items())[:20]:\n",
    "#     print(f\"{book} -> {' - '.join(sorted(genres))}\")"
   ]
  },
  {
   "cell_type": "markdown",
   "metadata": {},
   "source": [
    "## NMF"
   ]
  },
  {
   "cell_type": "code",
   "execution_count": 10,
   "metadata": {},
   "outputs": [
    {
     "name": "stdout",
     "output_type": "stream",
     "text": [
      "violation: 1.0\n",
      "violation: 0.026689394815118072\n",
      "violation: 0.04271061762361531\n",
      "violation: 0.04470177441240292\n",
      "violation: 0.048787262758002964\n",
      "violation: 0.04787811212987727\n",
      "violation: 0.04465744550594209\n",
      "violation: 0.041345923062611895\n",
      "violation: 0.03936380252781542\n",
      "violation: 0.03774836160062676\n",
      "violation: 0.03388288629613069\n",
      "violation: 0.029317592468713002\n",
      "violation: 0.02554800672867217\n",
      "violation: 0.021768427213153075\n",
      "violation: 0.018314104504025003\n",
      "violation: 0.015615927565660125\n",
      "violation: 0.013329768995620366\n",
      "violation: 0.011343066667077455\n",
      "violation: 0.009825069102165553\n",
      "violation: 0.008663346994129352\n",
      "violation: 0.007844896587588324\n",
      "violation: 0.007227572210552008\n",
      "violation: 0.006652057347537876\n",
      "violation: 0.006116861055960377\n",
      "violation: 0.005702896579873386\n",
      "violation: 0.005435936501979561\n",
      "violation: 0.00527895792311416\n",
      "violation: 0.005033667109267604\n",
      "violation: 0.00464453211659706\n",
      "violation: 0.00425596661355313\n",
      "violation: 0.00396720273948898\n",
      "violation: 0.0037330389147043476\n",
      "violation: 0.0036041698228850105\n",
      "violation: 0.0035294863132029077\n",
      "violation: 0.0034478141343870705\n",
      "violation: 0.0033025643667230057\n",
      "violation: 0.0030824765602250905\n",
      "violation: 0.002846180237350389\n",
      "violation: 0.002622419405148186\n",
      "violation: 0.002457002922997733\n",
      "violation: 0.0023694780115952217\n",
      "violation: 0.00233563859362617\n",
      "violation: 0.002296330173318595\n",
      "violation: 0.0022333356948056027\n",
      "violation: 0.002146174540917649\n",
      "violation: 0.002042669539184214\n",
      "violation: 0.001906178312056524\n",
      "violation: 0.001762668776006985\n",
      "violation: 0.0016495707599682254\n",
      "violation: 0.0015828783799201832\n",
      "violation: 0.0015004550780867458\n",
      "violation: 0.0014665589310184904\n",
      "violation: 0.0014616478443691687\n",
      "violation: 0.0014630062195373997\n",
      "violation: 0.001470487785776546\n",
      "violation: 0.0014911471916408648\n",
      "violation: 0.0014990120612730416\n",
      "violation: 0.0014784701619807606\n",
      "violation: 0.001443143791612274\n",
      "violation: 0.0013967293404781537\n",
      "violation: 0.0013237971907276028\n",
      "violation: 0.0012302015411093182\n",
      "violation: 0.00113764904764461\n",
      "violation: 0.0010598952658073299\n",
      "violation: 0.0009986591831582033\n",
      "violation: 0.0009726409222128289\n",
      "violation: 0.0009060369266376621\n",
      "violation: 0.0008566470628084185\n",
      "violation: 0.0008243845530704629\n",
      "violation: 0.0008080031731254961\n",
      "violation: 0.0008059609243108991\n",
      "violation: 0.0008090254153374681\n",
      "violation: 0.0008363398002053759\n",
      "violation: 0.0008401475115707245\n",
      "violation: 0.0008230860373646572\n",
      "violation: 0.0008288047697442288\n",
      "violation: 0.0008276757549814836\n",
      "violation: 0.0008261202366182918\n",
      "violation: 0.000813733671046125\n",
      "violation: 0.0007892814903838513\n",
      "violation: 0.0007618044263929636\n",
      "violation: 0.000725852933273636\n",
      "violation: 0.0006956015137838433\n",
      "violation: 0.0005904085691269317\n",
      "violation: 0.0004874216273550448\n",
      "violation: 0.0004621071855640845\n",
      "violation: 0.0004438568899910158\n",
      "violation: 0.00046159244951697175\n",
      "violation: 0.0005004095851371092\n",
      "violation: 0.0005304172633266109\n",
      "violation: 0.0005517639487188739\n",
      "violation: 0.0005683602763828752\n",
      "violation: 0.0005762979151955397\n",
      "violation: 0.0005786303572028748\n",
      "violation: 0.0005781672907288869\n",
      "violation: 0.000580435140687005\n",
      "violation: 0.0005714717393601465\n",
      "violation: 0.0005593322177705752\n",
      "violation: 0.0005382971879607636\n",
      "violation: 0.00051289963786896\n"
     ]
    },
    {
     "name": "stderr",
     "output_type": "stream",
     "text": [
      "c:\\Users\\Gebruiker\\anaconda3\\lib\\site-packages\\sklearn\\decomposition\\_nmf.py:1692: ConvergenceWarning: Maximum number of iterations 100 reached. Increase it to improve convergence.\n",
      "  warnings.warn(\n"
     ]
    },
    {
     "data": {
      "text/plain": [
       "['nmf_scriptbase_friends.sav']"
      ]
     },
     "execution_count": 10,
     "metadata": {},
     "output_type": "execute_result"
    }
   ],
   "source": [
    "import os\n",
    "from sklearn.feature_extraction.text import CountVectorizer, TfidfVectorizer\n",
    "\n",
    "def identity(x):\n",
    "    return x\n",
    "\n",
    "chunks = Chunker(filenames, meta,\n",
    "                 chunk_size=chunk_size,\n",
    "                 max_chars_per_book=None)\n",
    "\n",
    "\n",
    "vectorizer = TfidfVectorizer(max_df=max_df, min_df=min_df,\n",
    "                             max_features=n_features,\n",
    "                             analyzer=identity)\n",
    "X = vectorizer.fit_transform(chunks)\n",
    "\n",
    "from sklearn.decomposition import NMF\n",
    "nmf = NMF(n_components=300,\n",
    "          random_state=RND,\n",
    "          verbose=1, max_iter=100).fit(X) # fit NMF model with TF-IDF feature\n",
    "\n",
    "import joblib\n",
    "joblib.dump(nmf,'nmf_scriptbase_friends.sav')\n",
    "# nmf = joblib.load('nmf_scriptbase_friends.sav')"
   ]
  },
  {
   "cell_type": "code",
   "execution_count": 11,
   "metadata": {},
   "outputs": [
    {
     "name": "stdout",
     "output_type": "stream",
     "text": [
      "topic 0: knew - saw - went - loved - died - took - looked - felt - called - gave\n",
      "topic 1: fuck - fucked - motherfucker - asshole - bitch - fucker - dick - bullshit - fuckin - fucks\n",
      "topic 2: nuclear - weapons - russian - intelligence - military - american - attack - report - strike - political\n",
      "topic 3: ai - talkin - comin - gettin - tryin - folks - mama - askin - seen - damn\n",
      "topic 4: son - bitch - loves - sons - today - department - easy - swear - favor - fault\n",
      "topic 5: ship - crew - space - mission - event - bridge - main - command - systems - prepare\n",
      "topic 6: looks - turns - pulls - sees - nods - sits - walks - opens - takes - stares\n",
      "topic 7: dad - parents - junior - proud - making - bike - swear - pass - tried - nuts\n",
      "topic 8: players - field - pitch - smiles - strike - fans - nods - beat - toast - stares\n",
      "topic 9: money - cash - pay - grand - vegas - paid - bills - bucks - rich - wants\n"
     ]
    },
    {
     "name": "stderr",
     "output_type": "stream",
     "text": [
      "c:\\Users\\Gebruiker\\anaconda3\\lib\\site-packages\\sklearn\\utils\\deprecation.py:87: FutureWarning: Function get_feature_names is deprecated; get_feature_names is deprecated in 1.0 and will be removed in 1.2. Please use get_feature_names_out instead.\n",
      "  warnings.warn(msg, category=FutureWarning)\n"
     ]
    }
   ],
   "source": [
    "for topic_idx, topic in enumerate(nmf.components_[:10]):\n",
    "    top_idxs = np.argsort(topic)[::-1][:10]\n",
    "    top_words = np.array(vectorizer.get_feature_names())[top_idxs]\n",
    "    print(f'topic {topic_idx}:', ' - '.join(top_words))"
   ]
  },
  {
   "cell_type": "code",
   "execution_count": 12,
   "metadata": {},
   "outputs": [
    {
     "name": "stdout",
     "output_type": "stream",
     "text": [
      "violation: 1.0\n",
      "violation: 0.19515034261449565\n",
      "violation: 0.04086806522054348\n",
      "violation: 0.010722161918713377\n",
      "violation: 0.00209193328993231\n",
      "violation: 0.0007346761763469093\n",
      "violation: 0.00014395115204247084\n",
      "violation: 5.5535829877266146e-05\n",
      "Converged at iteration 9\n",
      "(4263, 300)\n"
     ]
    }
   ],
   "source": [
    "nmf.verbose = 1\n",
    "X_ = nmf.transform(X)\n",
    "print(X_.shape)"
   ]
  },
  {
   "cell_type": "code",
   "execution_count": 13,
   "metadata": {},
   "outputs": [
    {
     "name": "stderr",
     "output_type": "stream",
     "text": [
      "c:\\Users\\Gebruiker\\anaconda3\\lib\\site-packages\\sklearn\\utils\\deprecation.py:87: FutureWarning: Function get_feature_names is deprecated; get_feature_names is deprecated in 1.0 and will be removed in 1.2. Please use get_feature_names_out instead.\n",
      "  warnings.warn(msg, category=FutureWarning)\n"
     ]
    },
    {
     "name": "stdout",
     "output_type": "stream",
     "text": [
      "-> genre thriller:\n",
      "   murder - evidence - murderer - murdered - crime - guilty - murders - found - prove\n",
      "   source - cell - signal - target - location - message - threat - subject - weapon\n",
      "   detective - partner - suspect - investigation - homicide - found - questions - laws - saw\n",
      "-> genre comedy:\n",
      "   date - dating - boyfriend - weird - cute - girlfriend - wear - likes - kidding\n",
      "   guys - balls - weird - couple - screw - assholes - second - gets - dick\n",
      "   fun - funny - having - jokes - nervous - laugh - joke - thinking - makes\n",
      "-> genre crime:\n",
      "   cops - dope - jail - package - rat - mob - street - warrant - knows\n",
      "   money - cash - pay - grand - vegas - paid - bills - bucks - rich\n",
      "   business - deal - meeting - meet - personal - heard - interested - sign - offer\n",
      "-> genre adventure:\n",
      "   data - brand - mouth - map - tunnel - rich - bathroom - restaurant - houses\n",
      "   power - use - powers - bound - system - destroy - reach - create - dark\n",
      "   earth - plant - space - e - read - face - snow - peace - fought\n",
      "-> genre animation:\n",
      "   o - h - m - e - cowboy - t - s - g - german\n",
      "   princess - true - american - rescue - ugly - flower - beautiful - beauty - soldier\n",
      "   earth - plant - space - e - read - face - snow - peace - fought\n",
      "-> genre mockumentary:\n",
      "   princess - true - american - rescue - ugly - flower - beautiful - beauty - soldier\n",
      "   rose - awful - disease - farm - sick - wonderful - candy - eyes - health\n",
      "   win - won - bet - lose - vote - winner - luck - odds - beat\n",
      "-> genre musical:\n",
      "   film - director - picture - press - studio - script - shooting - cast - face\n",
      "   movie - movies - script - star - actor - scene - director - scary - studio\n",
      "   birthday - happy - cake - present - surprise - wish - beautiful - eyes - hope\n",
      "-> genre sci-fi:\n",
      "   ship - crew - space - mission - event - bridge - main - command - systems\n",
      "   earth - plant - space - e - read - face - snow - peace - fought\n",
      "   planet - space - universe - bug - star - mission - ultimate - destroy - destroyed\n",
      "-> genre horror:\n",
      "   death - fear - died - design - list - nightmare - alive - accident - meaning\n",
      "   body - found - bodies - alive - funeral - saw - pain - disease - buried\n",
      "   blood - flesh - eyes - cut - cure - bone - hand - brought - knife\n",
      "-> genre western:\n",
      "   horse - horses - ride - pounds - riding - cow - farm - poor - leg\n",
      "   lucky - hand - luck - took - step - bit - ride - met - trail\n",
      "   sheriff - jail - county - desk - folks - post - fella - burns - went\n",
      "-> genre noir:\n",
      "   insurance - policy - accident - suppose - check - claim - goes - thinking - claims\n",
      "   murder - evidence - murderer - murdered - crime - guilty - murders - found - prove\n",
      "   case - cases - saying - working - talked - explain - solve - patient - closed\n",
      "-> genre drama:\n",
      "   write - writer - writing - read - wrote - script - paper - page - written\n",
      "   kill - killing - bitch - crazy - trust - cut - open - tried - save\n",
      "   killed - found - alive - killing - murdered - revenge - sent - trail - died\n",
      "-> genre war:\n",
      "   captain - bridge - command - gate - weapons - commander - board - speak - report\n",
      "   river - indian - village - bridge - hid - found - rest - tea - trees\n",
      "   army - soldier - soldiers - forces - orders - military - animals - enemy - command\n",
      "-> genre period:\n",
      "   bill - board - theater - points - sonofabitch - settle - dollar - gang - crime\n",
      "   ai - talkin - comin - gettin - tryin - folks - mama - askin - seen\n",
      "   shot - hit - shooting - shots - bullet - rifle - coulda - heard - range\n",
      "-> genre independent:\n",
      "   pin - tale - straight - junk - crew - blow - locker - took - saw\n",
      "   yeah - hey - hi - weird - turning - practice - match - crazy - quit\n",
      "   fucking - mate - bullshit - fucked - fuck - saying - fucker - balls - bit\n",
      "-> genre fantasy:\n",
      "   mayor - street - smart - drop - desk - freak - point - working - assistant\n",
      "   child - grave - live - born - mommy - pay - home - custody - dark\n",
      "   ring - gave - wish - finger - bell - angel - thief - customer - tea\n",
      "-> genre mystery:\n",
      "   looks - turns - pulls - sees - nods - sits - walks - opens - takes\n",
      "   water - feet - swim - desert - lake - sea - engine - ocean - sand\n",
      "   husband - divorce - speak - excuse - sit - difficult - smoking - marriage - secretary\n",
      "-> genre romance:\n",
      "   french - english - british - toast - goes - speak - present - wine - supper\n",
      "   river - indian - village - bridge - hid - found - rest - tea - trees\n",
      "   art - artist - records - fair - nurse - true - lips - sin - minute\n",
      "-> genre action:\n",
      "   kill - killing - bitch - crazy - trust - cut - open - tried - save\n",
      "   power - use - powers - bound - system - destroy - reach - create - dark\n",
      "   machine - machines - pulls - message - factory - moves - travel - build - model\n",
      "-> genre foreign:\n",
      "   sword - battle - rise - destiny - peace - kingdom - magic - thief - stolen\n",
      "   video - watched - press - camera - playing - hard - choice - signal - stayed\n",
      "   master - destiny - ready - force - training - speak - free - fool - fear\n"
     ]
    }
   ],
   "source": [
    "from sklearn.feature_selection import f_classif\n",
    "\n",
    "genres = [g[0] for g in chunks.genres]\n",
    "feature_names = vectorizer.get_feature_names()\n",
    "\n",
    "for genre in set(genres):\n",
    "    print(f'-> genre {genre}:')\n",
    "    y = [1 if g == genre else 0 for g in genres]\n",
    "    # univariate feature selection with F-test for feature scoring\n",
    "    F, pval = f_classif(X_, y)\n",
    "    \n",
    "    # indices of three best topics\n",
    "    for topic_idx in np.argsort(F)[::-1][:3]:\n",
    "        topic = np.nan_to_num(nmf.components_[topic_idx])\n",
    "        words = [feature_names[i] for i in topic.argsort()[:-10:-1]]\n",
    "        print('   ' + f't{topic_idx}' + ' - '.join(words))"
   ]
  },
  {
   "cell_type": "code",
   "execution_count": 14,
   "metadata": {},
   "outputs": [
    {
     "data": {
      "text/plain": [
       "(236, 300)"
      ]
     },
     "execution_count": 14,
     "metadata": {},
     "output_type": "execute_result"
    }
   ],
   "source": [
    "import pandas as pd\n",
    "nmf.verbose = 0\n",
    "\n",
    "texts = [value.split() for value in friends.text.values]\n",
    "\n",
    "scores = nmf.transform(vectorizer.transform(texts))  # transform the HP chapters according to the fitted NMF model\n",
    "scores.shape\n",
    "# print(scores)"
   ]
  },
  {
   "cell_type": "code",
   "execution_count": 15,
   "metadata": {},
   "outputs": [
    {
     "data": {
      "text/html": [
       "<div>\n",
       "<style scoped>\n",
       "    .dataframe tbody tr th:only-of-type {\n",
       "        vertical-align: middle;\n",
       "    }\n",
       "\n",
       "    .dataframe tbody tr th {\n",
       "        vertical-align: top;\n",
       "    }\n",
       "\n",
       "    .dataframe thead th {\n",
       "        text-align: right;\n",
       "    }\n",
       "</style>\n",
       "<table border=\"1\" class=\"dataframe\">\n",
       "  <thead>\n",
       "    <tr style=\"text-align: right;\">\n",
       "      <th></th>\n",
       "      <th>Year_of_prod</th>\n",
       "      <th>Season</th>\n",
       "      <th>Episode Number</th>\n",
       "      <th>Episode_Title</th>\n",
       "      <th>Duration</th>\n",
       "      <th>Summary</th>\n",
       "      <th>Director</th>\n",
       "      <th>Stars</th>\n",
       "      <th>Votes</th>\n",
       "      <th>match</th>\n",
       "      <th>...</th>\n",
       "      <th>t291</th>\n",
       "      <th>t292</th>\n",
       "      <th>t293</th>\n",
       "      <th>t294</th>\n",
       "      <th>t295</th>\n",
       "      <th>t296</th>\n",
       "      <th>t297</th>\n",
       "      <th>t298</th>\n",
       "      <th>t299</th>\n",
       "      <th>t300</th>\n",
       "    </tr>\n",
       "  </thead>\n",
       "  <tbody>\n",
       "    <tr>\n",
       "      <th>0</th>\n",
       "      <td>1994</td>\n",
       "      <td>1</td>\n",
       "      <td>1</td>\n",
       "      <td>The One Where Monica Gets a Roommate: The Pilot</td>\n",
       "      <td>22</td>\n",
       "      <td>Monica and the gang introduce Rachel to the \"r...</td>\n",
       "      <td>James Burrows</td>\n",
       "      <td>8.3</td>\n",
       "      <td>7440</td>\n",
       "      <td>11</td>\n",
       "      <td>...</td>\n",
       "      <td>0.000000</td>\n",
       "      <td>0.036589</td>\n",
       "      <td>0.003537</td>\n",
       "      <td>0.000000</td>\n",
       "      <td>0.000000</td>\n",
       "      <td>0.016953</td>\n",
       "      <td>0.000000</td>\n",
       "      <td>0.00000</td>\n",
       "      <td>0.0</td>\n",
       "      <td>0.000000</td>\n",
       "    </tr>\n",
       "    <tr>\n",
       "      <th>1</th>\n",
       "      <td>1994</td>\n",
       "      <td>1</td>\n",
       "      <td>2</td>\n",
       "      <td>The One with the Sonogram at the End</td>\n",
       "      <td>22</td>\n",
       "      <td>Ross finds out his ex-wife is pregnant. Rachel...</td>\n",
       "      <td>James Burrows</td>\n",
       "      <td>8.1</td>\n",
       "      <td>4888</td>\n",
       "      <td>12</td>\n",
       "      <td>...</td>\n",
       "      <td>0.000000</td>\n",
       "      <td>0.018084</td>\n",
       "      <td>0.000000</td>\n",
       "      <td>0.013036</td>\n",
       "      <td>0.000000</td>\n",
       "      <td>0.000633</td>\n",
       "      <td>0.002123</td>\n",
       "      <td>0.00000</td>\n",
       "      <td>0.0</td>\n",
       "      <td>0.001601</td>\n",
       "    </tr>\n",
       "    <tr>\n",
       "      <th>2</th>\n",
       "      <td>1994</td>\n",
       "      <td>1</td>\n",
       "      <td>3</td>\n",
       "      <td>The One with the Thumb</td>\n",
       "      <td>22</td>\n",
       "      <td>Monica becomes irritated when everyone likes h...</td>\n",
       "      <td>James Burrows</td>\n",
       "      <td>8.2</td>\n",
       "      <td>4605</td>\n",
       "      <td>13</td>\n",
       "      <td>...</td>\n",
       "      <td>0.000901</td>\n",
       "      <td>0.018507</td>\n",
       "      <td>0.000000</td>\n",
       "      <td>0.000000</td>\n",
       "      <td>0.003711</td>\n",
       "      <td>0.000000</td>\n",
       "      <td>0.000000</td>\n",
       "      <td>0.00000</td>\n",
       "      <td>0.0</td>\n",
       "      <td>0.000000</td>\n",
       "    </tr>\n",
       "    <tr>\n",
       "      <th>3</th>\n",
       "      <td>1994</td>\n",
       "      <td>1</td>\n",
       "      <td>4</td>\n",
       "      <td>The One with George Stephanopoulos</td>\n",
       "      <td>22</td>\n",
       "      <td>Joey and Chandler take Ross to a hockey game t...</td>\n",
       "      <td>James Burrows</td>\n",
       "      <td>8.1</td>\n",
       "      <td>4468</td>\n",
       "      <td>14</td>\n",
       "      <td>...</td>\n",
       "      <td>0.001811</td>\n",
       "      <td>0.036734</td>\n",
       "      <td>0.004993</td>\n",
       "      <td>0.000000</td>\n",
       "      <td>0.000000</td>\n",
       "      <td>0.000000</td>\n",
       "      <td>0.000000</td>\n",
       "      <td>0.00000</td>\n",
       "      <td>0.0</td>\n",
       "      <td>0.000174</td>\n",
       "    </tr>\n",
       "    <tr>\n",
       "      <th>4</th>\n",
       "      <td>1994</td>\n",
       "      <td>1</td>\n",
       "      <td>5</td>\n",
       "      <td>The One with the East German Laundry Detergent</td>\n",
       "      <td>22</td>\n",
       "      <td>Eager to spend time with Rachel, Ross pretends...</td>\n",
       "      <td>Pamela Fryman</td>\n",
       "      <td>8.5</td>\n",
       "      <td>4438</td>\n",
       "      <td>15</td>\n",
       "      <td>...</td>\n",
       "      <td>0.000000</td>\n",
       "      <td>0.036067</td>\n",
       "      <td>0.009392</td>\n",
       "      <td>0.001201</td>\n",
       "      <td>0.006378</td>\n",
       "      <td>0.004056</td>\n",
       "      <td>0.000000</td>\n",
       "      <td>0.00073</td>\n",
       "      <td>0.0</td>\n",
       "      <td>0.000000</td>\n",
       "    </tr>\n",
       "  </tbody>\n",
       "</table>\n",
       "<p>5 rows × 313 columns</p>\n",
       "</div>"
      ],
      "text/plain": [
       "   Year_of_prod  Season  Episode Number  \\\n",
       "0          1994       1               1   \n",
       "1          1994       1               2   \n",
       "2          1994       1               3   \n",
       "3          1994       1               4   \n",
       "4          1994       1               5   \n",
       "\n",
       "                                     Episode_Title  Duration  \\\n",
       "0  The One Where Monica Gets a Roommate: The Pilot        22   \n",
       "1             The One with the Sonogram at the End        22   \n",
       "2                           The One with the Thumb        22   \n",
       "3               The One with George Stephanopoulos        22   \n",
       "4   The One with the East German Laundry Detergent        22   \n",
       "\n",
       "                                             Summary       Director  Stars  \\\n",
       "0  Monica and the gang introduce Rachel to the \"r...  James Burrows    8.3   \n",
       "1  Ross finds out his ex-wife is pregnant. Rachel...  James Burrows    8.1   \n",
       "2  Monica becomes irritated when everyone likes h...  James Burrows    8.2   \n",
       "3  Joey and Chandler take Ross to a hockey game t...  James Burrows    8.1   \n",
       "4  Eager to spend time with Rachel, Ross pretends...  Pamela Fryman    8.5   \n",
       "\n",
       "   Votes  match  ...      t291      t292      t293      t294      t295  \\\n",
       "0   7440     11  ...  0.000000  0.036589  0.003537  0.000000  0.000000   \n",
       "1   4888     12  ...  0.000000  0.018084  0.000000  0.013036  0.000000   \n",
       "2   4605     13  ...  0.000901  0.018507  0.000000  0.000000  0.003711   \n",
       "3   4468     14  ...  0.001811  0.036734  0.004993  0.000000  0.000000   \n",
       "4   4438     15  ...  0.000000  0.036067  0.009392  0.001201  0.006378   \n",
       "\n",
       "       t296      t297     t298  t299      t300  \n",
       "0  0.016953  0.000000  0.00000   0.0  0.000000  \n",
       "1  0.000633  0.002123  0.00000   0.0  0.001601  \n",
       "2  0.000000  0.000000  0.00000   0.0  0.000000  \n",
       "3  0.000000  0.000000  0.00000   0.0  0.000174  \n",
       "4  0.004056  0.000000  0.00073   0.0  0.000000  \n",
       "\n",
       "[5 rows x 313 columns]"
      ]
     },
     "execution_count": 15,
     "metadata": {},
     "output_type": "execute_result"
    }
   ],
   "source": [
    "df_scores = pd.DataFrame(scores, columns=[f't{i+1}' for i in range(scores.shape[1])])\n",
    "friends2 = friends.join(df_scores)\n",
    "friends2.head()"
   ]
  },
  {
   "cell_type": "code",
   "execution_count": 16,
   "metadata": {},
   "outputs": [
    {
     "name": "stdout",
     "output_type": "stream",
     "text": [
      "[('t73', -0.167757468956831), ('t264', -0.1608451380876532), ('t149', -0.15980171434179335), ('t171', -0.15058535768290823), ('t296', -0.14224731734228574), ('t262', -0.13386252497225362), ('t146', -0.12919156882550892), ('t258', -0.12308846835086237), ('t207', -0.1182035718854015), ('t276', -0.11579501528286255)]\n"
     ]
    }
   ],
   "source": [
    "from operator import itemgetter\n",
    "from scipy.stats import kendalltau\n",
    "\n",
    "ranks = range(1, len(friends2.index)+1)\n",
    "tau_scores = []\n",
    "for col in [f't{i+1}' for i in range(scores.shape[1])]:\n",
    "    tau, p = kendalltau(ranks, friends2[col].tolist())\n",
    "    tau_scores.append((col, tau))\n",
    "    \n",
    "tau_scores.sort(key=itemgetter(1))\n",
    "nb = 6\n",
    "top, bottom = tau_scores[:nb], tau_scores[-nb:]\n",
    "print(tau_scores[:10]) # print 10 topics with lowest Tau score"
   ]
  },
  {
   "cell_type": "code",
   "execution_count": 17,
   "metadata": {},
   "outputs": [
    {
     "data": {
      "image/png": "[encoded data removed]",
      "text/plain": [
       "<Figure size 1080x720 with 1 Axes>"
      ]
     },
     "metadata": {
      "needs_background": "light"
     },
     "output_type": "display_data"
    }
   ],
   "source": [
    "import matplotlib.pyplot as plt\n",
    "\n",
    "import seaborn as sb\n",
    "feature_names = vectorizer.get_feature_names_out()\n",
    "fig = plt.figure(figsize=(15, 10))\n",
    "sb.set_style(\"darkgrid\")\n",
    "for (feat, tau), col in zip(top, sb.color_palette(\"Set1\")[:nb]):\n",
    "    topic = nmf.components_[int(feat.replace('t', '')) - 1, :]\n",
    "    words = [feature_names[i] for i in topic.argsort()[:-6-1:-1]]\n",
    "    label = ' - '.join(words)\n",
    "    friends2[feat].rolling(window=50, center=True).mean().plot(label=label)\n",
    "plt.xlabel('', fontsize=10)\n",
    "plt.ylabel('Topic proportion', fontsize=10)\n",
    "plt.title(f'{nb} topics with steadiest decrease')\n",
    "plt.tight_layout()\n",
    "plt.legend();"
   ]
  },
  {
   "cell_type": "code",
   "execution_count": 18,
   "metadata": {},
   "outputs": [
    {
     "data": {
      "image/png": "[encoded data removed]",
      "text/plain": [
       "<Figure size 1080x720 with 1 Axes>"
      ]
     },
     "metadata": {},
     "output_type": "display_data"
    }
   ],
   "source": [
    "fig = plt.figure(figsize=(15, 10))\n",
    "sb.set_style(\"darkgrid\")\n",
    "for (feat, tau), col in zip(bottom, sb.color_palette(\"Set1\")[:nb]):\n",
    "    topic = nmf.components_[int(feat.replace('t', '')) - 1, :]\n",
    "    words = [feature_names[i] for i in topic.argsort()[:-5-1:-1]]\n",
    "    label = ' - '.join(words)\n",
    "    friends2[feat].rolling(window=30, center=True).mean().plot(label=label)\n",
    "plt.xlabel('Chapter', fontsize=10)\n",
    "plt.ylabel('Topic proportion', fontsize=10)\n",
    "plt.title(f'{nb} topics with steadiest increase')\n",
    "plt.legend();"
   ]
  },
  {
   "cell_type": "code",
   "execution_count": 19,
   "metadata": {},
   "outputs": [
    {
     "name": "stdout",
     "output_type": "stream",
     "text": [
      "t26: plane - flight - pilot - fly - flying - airport - landing - flew - trip\n",
      "t233: summer - girlfriend - sensitive - beach - loved - throw - crap - favorite - garage\n",
      "t276: job - working - fired - quit - months - pay - easy - jobs - week\n",
      "t12: minutes - seconds - hours - ready - hold - hour - moving - second - close\n",
      "t204: forget - realize - legal - available - gets - comes - watch - matter - drop\n",
      "t287: dear - tea - suppose - sort - wish - hand - poor - present - excuse\n",
      "t191: prison - sentence - jail - crime - guards - terrific - cell - escape - free\n",
      "t132: write - writer - writing - read - wrote - script - paper - page - written\n",
      "t239: stock - buy - firm - sell - market - selling - month - buying - sale\n",
      "t288: cops - dope - jail - package - rat - mob - street - warrant - knows\n",
      "t32: news - network - television - week - division - air - share - mad - middle\n",
      "t205: business - deal - meeting - meet - personal - heard - interested - sign - offer\n",
      "t299: rock - band - roll - magazine - stone - rolling - record - stars - records\n",
      "t180: store - closed - cigarettes - liquor - customers - books - card - buy - list\n",
      "t57: johnny - joy - crazy - starts - bug - wine - knows - hand - passion\n",
      "t250: future - past - change - history - purpose - today - plan - wish - lives\n",
      "t242: case - cases - saying - working - talked - explain - solve - patient - closed\n",
      "t35: grace - bike - flesh - neck - trunk - magazine - eyes - german - stroke\n",
      "t103: pool - swim - swimming - beat - fat - fast - table - bucks - hall\n",
      "t142: source - cell - signal - target - location - message - threat - subject - weapon\n",
      "t255: tape - tapes - record - attorney - park - release - paranoid - deal - sexual\n",
      "t184: moon - sun - hurry - face - pleasure - dying - sin - wind - fair\n",
      "t217: kids - tough - feed - sick - count - scared - parents - market - live\n",
      "t240: woman - women - change - beautiful - damn - shoes - dress - question - gorgeous\n",
      "t209: test - tests - training - ready - study - program - s - rule - project\n"
     ]
    }
   ],
   "source": [
    "#25 most predictive topics\n",
    "\n",
    "from sklearn.feature_selection import SelectKBest\n",
    "from sklearn.feature_selection import f_regression\n",
    "\n",
    "feature_names = vectorizer.get_feature_names_out()\n",
    "X = friends2.drop(columns=friends.columns.tolist())\n",
    "\n",
    "\n",
    "y = friends2.Stars\n",
    "# univariate feature selection with F-test for feature scoring\n",
    "F, pval = f_regression(X, y)\n",
    "    \n",
    "    \n",
    "for topic_idx in np.argsort(F)[::-1][:25]:\n",
    "    topic = np.nan_to_num(nmf.components_[topic_idx])\n",
    "    words = [feature_names[i] for i in topic.argsort()[:-10:-1]]\n",
    "    print(f't{topic_idx}: ' + ' - '.join(words))"
   ]
  },
  {
   "cell_type": "markdown",
   "metadata": {},
   "source": [
    "### Predictions \n",
    "#### setting baselines"
   ]
  },
  {
   "cell_type": "code",
   "execution_count": 20,
   "metadata": {},
   "outputs": [
    {
     "name": "stdout",
     "output_type": "stream",
     "text": [
      "-0.3113667508113955 0.24655333378118335\n"
     ]
    }
   ],
   "source": [
    "import numpy as np\n",
    "from sklearn.dummy import DummyRegressor\n",
    "from sklearn.model_selection import cross_val_score, LeaveOneOut\n",
    "from sklearn.model_selection import train_test_split\n",
    "\n",
    "X = friends2.drop(columns=friends.columns.tolist())\n",
    "y = friends2.Stars\n",
    "\n",
    "cv = LeaveOneOut()\n",
    "\n",
    "dummy_regr = DummyRegressor(strategy=\"mean\")\n",
    "\n",
    "scores = cross_val_score(dummy_regr, X, y, cv=cv, scoring = 'neg_root_mean_squared_error')\n",
    "\n",
    "print(np.mean(scores), np.std(scores))\n"
   ]
  },
  {
   "cell_type": "code",
   "execution_count": 23,
   "metadata": {},
   "outputs": [
    {
     "name": "stdout",
     "output_type": "stream",
     "text": [
      "-0.31851935143924304 0.27816024426521413\n"
     ]
    }
   ],
   "source": [
    "from sklearn.linear_model import LinearRegression\n",
    "from sklearn.pipeline import make_pipeline\n",
    "\n",
    "X = friends['text']\n",
    "y = friends2.Stars\n",
    "\n",
    "cv = LeaveOneOut()\n",
    "\n",
    "reg = LinearRegression()\n",
    "vect = TfidfVectorizer()\n",
    "\n",
    "pipe = make_pipeline(vect, reg)\n",
    "\n",
    "scores = cross_val_score(pipe, X, y, cv=cv, scoring = 'neg_root_mean_squared_error')\n",
    "\n",
    "print(np.mean(scores), np.std(scores))\n"
   ]
  },
  {
   "cell_type": "code",
   "execution_count": 24,
   "metadata": {},
   "outputs": [
    {
     "data": {
      "text/plain": [
       "Index(['Year_of_prod', 'Season', 'Episode Number', 'Episode_Title', 'Duration',\n",
       "       'Summary', 'Director', 'Stars', 'Votes', 'match', 'text',\n",
       "       'len in words', 'len_prep'],\n",
       "      dtype='object')"
      ]
     },
     "execution_count": 24,
     "metadata": {},
     "output_type": "execute_result"
    }
   ],
   "source": [
    "friends.columns"
   ]
  },
  {
   "cell_type": "markdown",
   "metadata": {},
   "source": [
    "#### predictions with topics"
   ]
  },
  {
   "cell_type": "code",
   "execution_count": 25,
   "metadata": {},
   "outputs": [
    {
     "name": "stdout",
     "output_type": "stream",
     "text": [
      "-282572583661.7789 478205873753.5635\n"
     ]
    }
   ],
   "source": [
    "#all features\n",
    "from sklearn.feature_selection import SelectKBest\n",
    "from sklearn.feature_selection import f_regression\n",
    "from sklearn.linear_model import LinearRegression\n",
    "from sklearn.preprocessing import StandardScaler\n",
    "from sklearn.pipeline import make_pipeline\n",
    "\n",
    "feature_names = vectorizer.get_feature_names_out()\n",
    "X = friends2.drop(columns=friends.columns.tolist())\n",
    "y = friends2.Stars\n",
    "\n",
    "reg = LinearRegression()\n",
    "\n",
    "scores = cross_val_score(reg, X, y, cv=cv, scoring = 'neg_root_mean_squared_error')\n",
    "\n",
    "print(np.mean(scores), np.std(scores))"
   ]
  },
  {
   "cell_type": "code",
   "execution_count": 26,
   "metadata": {},
   "outputs": [
    {
     "name": "stdout",
     "output_type": "stream",
     "text": [
      "-0.33367966747160266 0.24992961968435046\n"
     ]
    }
   ],
   "source": [
    "#25 best features\n",
    "from sklearn.feature_selection import SelectKBest\n",
    "from sklearn.feature_selection import f_regression\n",
    "from sklearn.linear_model import LinearRegression\n",
    "from sklearn.preprocessing import StandardScaler\n",
    "from sklearn.pipeline import make_pipeline\n",
    "\n",
    "Best = [f't{topic_idx}' for topic_idx in np.argsort(F)[::-1][:25]]\n",
    "\n",
    "feature_names = vectorizer.get_feature_names_out()\n",
    "X = friends2[Best]\n",
    "y = friends2.Stars\n",
    "\n",
    "reg = LinearRegression()\n",
    "scal = StandardScaler()\n",
    "\n",
    "pipe = make_pipeline(reg, scal)\n",
    "\n",
    "scores = cross_val_score(reg, X, y, cv=cv, scoring = 'neg_root_mean_squared_error')\n",
    "\n",
    "print(np.mean(scores), np.std(scores))"
   ]
  },
  {
   "cell_type": "code",
   "execution_count": 27,
   "metadata": {},
   "outputs": [
    {
     "name": "stdout",
     "output_type": "stream",
     "text": [
      "-0.32149647776161216 0.24107787441249537\n"
     ]
    }
   ],
   "source": [
    "#10 best features\n",
    "from sklearn.feature_selection import SelectKBest\n",
    "from sklearn.feature_selection import f_regression\n",
    "from sklearn.linear_model import LinearRegression\n",
    "from sklearn.preprocessing import StandardScaler\n",
    "from sklearn.pipeline import make_pipeline\n",
    "\n",
    "Best = [f't{topic_idx}' for topic_idx in np.argsort(F)[::-1][:10]]\n",
    "\n",
    "feature_names = vectorizer.get_feature_names_out()\n",
    "Xble = friends2.drop(columns=friends.columns.tolist())\n",
    "X = Xble[Best]\n",
    "y = friends2.Stars\n",
    "\n",
    "reg = LinearRegression()\n",
    "scal = StandardScaler()\n",
    "\n",
    "pipe = make_pipeline(reg, scal)\n",
    "\n",
    "scores = cross_val_score(reg, X, y, cv=cv, scoring = 'neg_root_mean_squared_error')\n",
    "\n",
    "print(np.mean(scores), np.std(scores))"
   ]
  },
  {
   "cell_type": "code",
   "execution_count": 28,
   "metadata": {},
   "outputs": [
    {
     "data": {
      "text/html": [
       "<div>\n",
       "<style scoped>\n",
       "    .dataframe tbody tr th:only-of-type {\n",
       "        vertical-align: middle;\n",
       "    }\n",
       "\n",
       "    .dataframe tbody tr th {\n",
       "        vertical-align: top;\n",
       "    }\n",
       "\n",
       "    .dataframe thead th {\n",
       "        text-align: right;\n",
       "    }\n",
       "</style>\n",
       "<table border=\"1\" class=\"dataframe\">\n",
       "  <thead>\n",
       "    <tr style=\"text-align: right;\">\n",
       "      <th></th>\n",
       "      <th>t26</th>\n",
       "      <th>t233</th>\n",
       "      <th>t276</th>\n",
       "      <th>t12</th>\n",
       "      <th>t204</th>\n",
       "      <th>t287</th>\n",
       "      <th>t191</th>\n",
       "      <th>t132</th>\n",
       "      <th>t239</th>\n",
       "      <th>t288</th>\n",
       "      <th>Year_of_prod</th>\n",
       "      <th>Votes</th>\n",
       "      <th>Duration</th>\n",
       "      <th>Stars</th>\n",
       "    </tr>\n",
       "  </thead>\n",
       "  <tbody>\n",
       "    <tr>\n",
       "      <th>t26</th>\n",
       "      <td>1.000000</td>\n",
       "      <td>-0.050529</td>\n",
       "      <td>-0.041656</td>\n",
       "      <td>0.064534</td>\n",
       "      <td>0.015167</td>\n",
       "      <td>0.315867</td>\n",
       "      <td>0.020317</td>\n",
       "      <td>-0.080459</td>\n",
       "      <td>-0.055941</td>\n",
       "      <td>0.013590</td>\n",
       "      <td>0.162739</td>\n",
       "      <td>0.015684</td>\n",
       "      <td>0.009467</td>\n",
       "      <td>0.049440</td>\n",
       "    </tr>\n",
       "    <tr>\n",
       "      <th>t233</th>\n",
       "      <td>-0.050529</td>\n",
       "      <td>1.000000</td>\n",
       "      <td>0.042395</td>\n",
       "      <td>0.035233</td>\n",
       "      <td>0.058941</td>\n",
       "      <td>-0.022387</td>\n",
       "      <td>0.015390</td>\n",
       "      <td>-0.062362</td>\n",
       "      <td>0.080481</td>\n",
       "      <td>-0.123872</td>\n",
       "      <td>-0.108796</td>\n",
       "      <td>0.084715</td>\n",
       "      <td>0.050559</td>\n",
       "      <td>0.063881</td>\n",
       "    </tr>\n",
       "    <tr>\n",
       "      <th>t276</th>\n",
       "      <td>-0.041656</td>\n",
       "      <td>0.042395</td>\n",
       "      <td>1.000000</td>\n",
       "      <td>-0.015652</td>\n",
       "      <td>0.184594</td>\n",
       "      <td>-0.031688</td>\n",
       "      <td>-0.030752</td>\n",
       "      <td>-0.044273</td>\n",
       "      <td>-0.012114</td>\n",
       "      <td>-0.006903</td>\n",
       "      <td>-0.003102</td>\n",
       "      <td>-0.050277</td>\n",
       "      <td>-0.035853</td>\n",
       "      <td>-0.047293</td>\n",
       "    </tr>\n",
       "    <tr>\n",
       "      <th>t12</th>\n",
       "      <td>0.064534</td>\n",
       "      <td>0.035233</td>\n",
       "      <td>-0.015652</td>\n",
       "      <td>1.000000</td>\n",
       "      <td>-0.123305</td>\n",
       "      <td>0.021525</td>\n",
       "      <td>-0.062135</td>\n",
       "      <td>-0.079453</td>\n",
       "      <td>-0.004885</td>\n",
       "      <td>-0.019783</td>\n",
       "      <td>0.019929</td>\n",
       "      <td>0.135382</td>\n",
       "      <td>-0.022808</td>\n",
       "      <td>0.106291</td>\n",
       "    </tr>\n",
       "    <tr>\n",
       "      <th>t204</th>\n",
       "      <td>0.015167</td>\n",
       "      <td>0.058941</td>\n",
       "      <td>0.184594</td>\n",
       "      <td>-0.123305</td>\n",
       "      <td>1.000000</td>\n",
       "      <td>0.013661</td>\n",
       "      <td>-0.030023</td>\n",
       "      <td>0.005684</td>\n",
       "      <td>0.132949</td>\n",
       "      <td>-0.021811</td>\n",
       "      <td>-0.010257</td>\n",
       "      <td>-0.005757</td>\n",
       "      <td>0.014453</td>\n",
       "      <td>-0.069960</td>\n",
       "    </tr>\n",
       "    <tr>\n",
       "      <th>t287</th>\n",
       "      <td>0.315867</td>\n",
       "      <td>-0.022387</td>\n",
       "      <td>-0.031688</td>\n",
       "      <td>0.021525</td>\n",
       "      <td>0.013661</td>\n",
       "      <td>1.000000</td>\n",
       "      <td>-0.034414</td>\n",
       "      <td>-0.047213</td>\n",
       "      <td>0.184081</td>\n",
       "      <td>-0.050549</td>\n",
       "      <td>0.097192</td>\n",
       "      <td>0.061631</td>\n",
       "      <td>0.089821</td>\n",
       "      <td>0.007175</td>\n",
       "    </tr>\n",
       "    <tr>\n",
       "      <th>t191</th>\n",
       "      <td>0.020317</td>\n",
       "      <td>0.015390</td>\n",
       "      <td>-0.030752</td>\n",
       "      <td>-0.062135</td>\n",
       "      <td>-0.030023</td>\n",
       "      <td>-0.034414</td>\n",
       "      <td>1.000000</td>\n",
       "      <td>-0.037796</td>\n",
       "      <td>-0.061385</td>\n",
       "      <td>-0.019567</td>\n",
       "      <td>-0.149274</td>\n",
       "      <td>0.081557</td>\n",
       "      <td>-0.056537</td>\n",
       "      <td>-0.103613</td>\n",
       "    </tr>\n",
       "    <tr>\n",
       "      <th>t132</th>\n",
       "      <td>-0.080459</td>\n",
       "      <td>-0.062362</td>\n",
       "      <td>-0.044273</td>\n",
       "      <td>-0.079453</td>\n",
       "      <td>0.005684</td>\n",
       "      <td>-0.047213</td>\n",
       "      <td>-0.037796</td>\n",
       "      <td>1.000000</td>\n",
       "      <td>0.091053</td>\n",
       "      <td>-0.069041</td>\n",
       "      <td>0.173193</td>\n",
       "      <td>-0.067834</td>\n",
       "      <td>0.014515</td>\n",
       "      <td>0.025385</td>\n",
       "    </tr>\n",
       "    <tr>\n",
       "      <th>t239</th>\n",
       "      <td>-0.055941</td>\n",
       "      <td>0.080481</td>\n",
       "      <td>-0.012114</td>\n",
       "      <td>-0.004885</td>\n",
       "      <td>0.132949</td>\n",
       "      <td>0.184081</td>\n",
       "      <td>-0.061385</td>\n",
       "      <td>0.091053</td>\n",
       "      <td>1.000000</td>\n",
       "      <td>-0.046003</td>\n",
       "      <td>-0.099413</td>\n",
       "      <td>0.085038</td>\n",
       "      <td>-0.055574</td>\n",
       "      <td>0.062753</td>\n",
       "    </tr>\n",
       "    <tr>\n",
       "      <th>t288</th>\n",
       "      <td>0.013590</td>\n",
       "      <td>-0.123872</td>\n",
       "      <td>-0.006903</td>\n",
       "      <td>-0.019783</td>\n",
       "      <td>-0.021811</td>\n",
       "      <td>-0.050549</td>\n",
       "      <td>-0.019567</td>\n",
       "      <td>-0.069041</td>\n",
       "      <td>-0.046003</td>\n",
       "      <td>1.000000</td>\n",
       "      <td>0.178351</td>\n",
       "      <td>-0.098502</td>\n",
       "      <td>0.082625</td>\n",
       "      <td>-0.160075</td>\n",
       "    </tr>\n",
       "    <tr>\n",
       "      <th>Year_of_prod</th>\n",
       "      <td>0.162739</td>\n",
       "      <td>-0.108796</td>\n",
       "      <td>-0.003102</td>\n",
       "      <td>0.019929</td>\n",
       "      <td>-0.010257</td>\n",
       "      <td>0.097192</td>\n",
       "      <td>-0.149274</td>\n",
       "      <td>0.173193</td>\n",
       "      <td>-0.099413</td>\n",
       "      <td>0.178351</td>\n",
       "      <td>1.000000</td>\n",
       "      <td>-0.364429</td>\n",
       "      <td>0.161111</td>\n",
       "      <td>0.071470</td>\n",
       "    </tr>\n",
       "    <tr>\n",
       "      <th>Votes</th>\n",
       "      <td>0.015684</td>\n",
       "      <td>0.084715</td>\n",
       "      <td>-0.050277</td>\n",
       "      <td>0.135382</td>\n",
       "      <td>-0.005757</td>\n",
       "      <td>0.061631</td>\n",
       "      <td>0.081557</td>\n",
       "      <td>-0.067834</td>\n",
       "      <td>0.085038</td>\n",
       "      <td>-0.098502</td>\n",
       "      <td>-0.364429</td>\n",
       "      <td>1.000000</td>\n",
       "      <td>0.238580</td>\n",
       "      <td>0.522019</td>\n",
       "    </tr>\n",
       "    <tr>\n",
       "      <th>Duration</th>\n",
       "      <td>0.009467</td>\n",
       "      <td>0.050559</td>\n",
       "      <td>-0.035853</td>\n",
       "      <td>-0.022808</td>\n",
       "      <td>0.014453</td>\n",
       "      <td>0.089821</td>\n",
       "      <td>-0.056537</td>\n",
       "      <td>0.014515</td>\n",
       "      <td>-0.055574</td>\n",
       "      <td>0.082625</td>\n",
       "      <td>0.161111</td>\n",
       "      <td>0.238580</td>\n",
       "      <td>1.000000</td>\n",
       "      <td>0.237446</td>\n",
       "    </tr>\n",
       "    <tr>\n",
       "      <th>Stars</th>\n",
       "      <td>0.049440</td>\n",
       "      <td>0.063881</td>\n",
       "      <td>-0.047293</td>\n",
       "      <td>0.106291</td>\n",
       "      <td>-0.069960</td>\n",
       "      <td>0.007175</td>\n",
       "      <td>-0.103613</td>\n",
       "      <td>0.025385</td>\n",
       "      <td>0.062753</td>\n",
       "      <td>-0.160075</td>\n",
       "      <td>0.071470</td>\n",
       "      <td>0.522019</td>\n",
       "      <td>0.237446</td>\n",
       "      <td>1.000000</td>\n",
       "    </tr>\n",
       "  </tbody>\n",
       "</table>\n",
       "</div>"
      ],
      "text/plain": [
       "                   t26      t233      t276       t12      t204      t287  \\\n",
       "t26           1.000000 -0.050529 -0.041656  0.064534  0.015167  0.315867   \n",
       "t233         -0.050529  1.000000  0.042395  0.035233  0.058941 -0.022387   \n",
       "t276         -0.041656  0.042395  1.000000 -0.015652  0.184594 -0.031688   \n",
       "t12           0.064534  0.035233 -0.015652  1.000000 -0.123305  0.021525   \n",
       "t204          0.015167  0.058941  0.184594 -0.123305  1.000000  0.013661   \n",
       "t287          0.315867 -0.022387 -0.031688  0.021525  0.013661  1.000000   \n",
       "t191          0.020317  0.015390 -0.030752 -0.062135 -0.030023 -0.034414   \n",
       "t132         -0.080459 -0.062362 -0.044273 -0.079453  0.005684 -0.047213   \n",
       "t239         -0.055941  0.080481 -0.012114 -0.004885  0.132949  0.184081   \n",
       "t288          0.013590 -0.123872 -0.006903 -0.019783 -0.021811 -0.050549   \n",
       "Year_of_prod  0.162739 -0.108796 -0.003102  0.019929 -0.010257  0.097192   \n",
       "Votes         0.015684  0.084715 -0.050277  0.135382 -0.005757  0.061631   \n",
       "Duration      0.009467  0.050559 -0.035853 -0.022808  0.014453  0.089821   \n",
       "Stars         0.049440  0.063881 -0.047293  0.106291 -0.069960  0.007175   \n",
       "\n",
       "                  t191      t132      t239      t288  Year_of_prod     Votes  \\\n",
       "t26           0.020317 -0.080459 -0.055941  0.013590      0.162739  0.015684   \n",
       "t233          0.015390 -0.062362  0.080481 -0.123872     -0.108796  0.084715   \n",
       "t276         -0.030752 -0.044273 -0.012114 -0.006903     -0.003102 -0.050277   \n",
       "t12          -0.062135 -0.079453 -0.004885 -0.019783      0.019929  0.135382   \n",
       "t204         -0.030023  0.005684  0.132949 -0.021811     -0.010257 -0.005757   \n",
       "t287         -0.034414 -0.047213  0.184081 -0.050549      0.097192  0.061631   \n",
       "t191          1.000000 -0.037796 -0.061385 -0.019567     -0.149274  0.081557   \n",
       "t132         -0.037796  1.000000  0.091053 -0.069041      0.173193 -0.067834   \n",
       "t239         -0.061385  0.091053  1.000000 -0.046003     -0.099413  0.085038   \n",
       "t288         -0.019567 -0.069041 -0.046003  1.000000      0.178351 -0.098502   \n",
       "Year_of_prod -0.149274  0.173193 -0.099413  0.178351      1.000000 -0.364429   \n",
       "Votes         0.081557 -0.067834  0.085038 -0.098502     -0.364429  1.000000   \n",
       "Duration     -0.056537  0.014515 -0.055574  0.082625      0.161111  0.238580   \n",
       "Stars        -0.103613  0.025385  0.062753 -0.160075      0.071470  0.522019   \n",
       "\n",
       "              Duration     Stars  \n",
       "t26           0.009467  0.049440  \n",
       "t233          0.050559  0.063881  \n",
       "t276         -0.035853 -0.047293  \n",
       "t12          -0.022808  0.106291  \n",
       "t204          0.014453 -0.069960  \n",
       "t287          0.089821  0.007175  \n",
       "t191         -0.056537 -0.103613  \n",
       "t132          0.014515  0.025385  \n",
       "t239         -0.055574  0.062753  \n",
       "t288          0.082625 -0.160075  \n",
       "Year_of_prod  0.161111  0.071470  \n",
       "Votes         0.238580  0.522019  \n",
       "Duration      1.000000  0.237446  \n",
       "Stars         0.237446  1.000000  "
      ]
     },
     "execution_count": 28,
     "metadata": {},
     "output_type": "execute_result"
    }
   ],
   "source": [
    "Best = [f't{topic_idx}' for topic_idx in np.argsort(F)[::-1][:10]]\n",
    "xtra = ['Year_of_prod', 'Votes', 'Duration']\n",
    "\n",
    "cols = Best+xtra\n",
    "\n",
    "cols.append('Stars')\n",
    "\n",
    "scal = StandardScaler()\n",
    "\n",
    "corrM = friends2[cols].corr()\n",
    " \n",
    "corrM\n"
   ]
  },
  {
   "cell_type": "code",
   "execution_count": 38,
   "metadata": {},
   "outputs": [
    {
     "data": {
      "image/png": "[encoded data removed]",
      "text/plain": [
       "<Figure size 432x288 with 2 Axes>"
      ]
     },
     "metadata": {},
     "output_type": "display_data"
    }
   ],
   "source": [
    "import pandas as pd\n",
    "import seaborn as sn\n",
    "import matplotlib.pyplot as plt\n",
    "\n",
    "sn.heatmap(corrM, annot=True)\n",
    "plt.show()"
   ]
  },
  {
   "cell_type": "code",
   "execution_count": 39,
   "metadata": {},
   "outputs": [
    {
     "name": "stdout",
     "output_type": "stream",
     "text": [
      "Gary Halvorson     54\n",
      "Kevin Bright       54\n",
      "Other              43\n",
      "Michael Lembeck    24\n",
      "James Burrows      15\n",
      "Gail Mancuso       14\n",
      "Peter Bonerz       12\n",
      "David Schwimmer    10\n",
      "Ben Weiss          10\n",
      "Name: Director, dtype: int64\n"
     ]
    }
   ],
   "source": [
    "# print(friends2.Director.value_counts())\n",
    "\n",
    "lst = ['Gary Halvorson',        \n",
    "'Kevin Bright',          \n",
    "'Michael Lembeck',       \n",
    "'James Burrows',           \n",
    "'Gail Mancuso',           \n",
    "'Peter Bonerz',            \n",
    "'David Schwimmer',         \n",
    "'Ben Weiss']\n",
    "\n",
    "def direr(wow):\n",
    "    if wow not in lst:\n",
    "        wow = wow.replace(wow,'Other')\n",
    "    return wow\n",
    "\n",
    "friends2['Director'] = friends2['Director'].apply(direr)\n",
    "\n",
    "print(friends2.Director.value_counts())"
   ]
  },
  {
   "cell_type": "code",
   "execution_count": 52,
   "metadata": {},
   "outputs": [
    {
     "name": "stdout",
     "output_type": "stream",
     "text": [
      "-0.30414062232751493 0.24315648926089023\n"
     ]
    }
   ],
   "source": [
    "Best = [f't{topic_idx}' for topic_idx in np.argsort(F)[1::-1]]\n",
    "xtra = ['Year_of_prod', 'Duration', 'Director']\n",
    "\n",
    "from sklearn.compose import make_column_transformer\n",
    "from sklearn.preprocessing import OneHotEncoder\n",
    "\n",
    "cols = Best+xtra\n",
    "\n",
    "X = friends2[cols]\n",
    "y = friends2.Stars\n",
    "\n",
    "reg = LinearRegression()\n",
    "hot = OneHotEncoder()\n",
    "scal = StandardScaler()\n",
    "\n",
    "categorical_features = X.select_dtypes(include=\"object\").columns\n",
    "integer_features = X.select_dtypes(exclude=\"object\").columns\n",
    "\n",
    "prep = make_column_transformer((hot, categorical_features),\n",
    "                                (scal, integer_features))\n",
    "\n",
    "pipe = make_pipeline(prep,reg)\n",
    "\n",
    "scores = cross_val_score(pipe, X, y, cv=cv, scoring = 'neg_root_mean_squared_error')\n",
    "\n",
    "print(np.mean(scores), np.std(scores))"
   ]
  },
  {
   "cell_type": "code",
   "execution_count": null,
   "metadata": {},
   "outputs": [],
   "source": []
  },
  {
   "cell_type": "code",
   "execution_count": 41,
   "metadata": {},
   "outputs": [
    {
     "name": "stdout",
     "output_type": "stream",
     "text": [
      "-0.4601473462865432 0.059412119625408294\n"
     ]
    }
   ],
   "source": [
    "Best = [f't{topic_idx}' for topic_idx in np.argsort(F)[::-1][:25]]\n",
    "xtra = ['Year_of_prod', 'Duration', 'Director']\n",
    "\n",
    "from sklearn.compose import make_column_transformer\n",
    "from sklearn.preprocessing import OneHotEncoder\n",
    "\n",
    "cols = Best+xtra\n",
    "\n",
    "X = friends2[cols]\n",
    "y = friends2.Stars\n",
    "\n",
    "reg = LinearRegression()\n",
    "hot = OneHotEncoder()\n",
    "scal = StandardScaler()\n",
    "\n",
    "categorical_features = X.select_dtypes(include=\"object\").columns\n",
    "integer_features = X.select_dtypes(exclude=\"object\").columns\n",
    "\n",
    "prep = make_column_transformer((hot, categorical_features),\n",
    "                                (scal, integer_features))\n",
    "\n",
    "pipe = make_pipeline(prep,reg)\n",
    "\n",
    "scores = cross_val_score(pipe, X, y, cv=10, scoring = 'neg_root_mean_squared_error')\n",
    "\n",
    "print(np.mean(scores), np.std(scores))"
   ]
  },
  {
   "cell_type": "code",
   "execution_count": 42,
   "metadata": {},
   "outputs": [
    {
     "name": "stdout",
     "output_type": "stream",
     "text": [
      "-0.42238689134705404 0.04159380506501158\n"
     ]
    }
   ],
   "source": [
    "Best = [f't{topic_idx}' for topic_idx in np.argsort(F)[::-1][:10]]\n",
    "xtra = ['Year_of_prod', 'Duration', 'Director']\n",
    "\n",
    "from sklearn.compose import make_column_transformer\n",
    "from sklearn.preprocessing import OneHotEncoder\n",
    "\n",
    "cols = Best+xtra\n",
    "\n",
    "X = friends2[cols]\n",
    "y = friends2.Stars\n",
    "\n",
    "reg = LinearRegression()\n",
    "hot = OneHotEncoder()\n",
    "scal = StandardScaler()\n",
    "\n",
    "categorical_features = X.select_dtypes(include=\"object\").columns\n",
    "integer_features = X.select_dtypes(exclude=\"object\").columns\n",
    "\n",
    "prep = make_column_transformer((hot, categorical_features),\n",
    "                                (scal, integer_features))\n",
    "\n",
    "pipe = make_pipeline(prep,reg)\n",
    "\n",
    "scores = cross_val_score(pipe, X, y, cv=10, scoring = 'neg_root_mean_squared_error')\n",
    "\n",
    "print(np.mean(scores), np.std(scores))"
   ]
  },
  {
   "cell_type": "code",
   "execution_count": 31,
   "metadata": {},
   "outputs": [
    {
     "data": {
      "text/plain": [
       "['nmf_books_friends.sav']"
      ]
     },
     "execution_count": 31,
     "metadata": {},
     "output_type": "execute_result"
    }
   ],
   "source": [
    "# import joblib\n",
    "# filename = 'nmf_books_friends.sav'\n",
    "# joblib.dump(nmf, filename)"
   ]
  },
  {
   "cell_type": "markdown",
   "metadata": {},
   "source": [
    "### SVR"
   ]
  },
  {
   "cell_type": "code",
   "execution_count": 43,
   "metadata": {},
   "outputs": [
    {
     "name": "stdout",
     "output_type": "stream",
     "text": [
      "-0.4209709651377519 0.04900406499839548\n"
     ]
    }
   ],
   "source": [
    "from sklearn.svm import SVR\n",
    "\n",
    "feature_names = vectorizer.get_feature_names_out()\n",
    "X = friends2.drop(columns=friends.columns.tolist())\n",
    "y = friends2.Stars\n",
    "\n",
    "reg = SVR()\n",
    "scal = StandardScaler()\n",
    "\n",
    "pipe = make_pipeline(reg, scal)\n",
    "\n",
    "scores = cross_val_score(reg, X, y, cv=10, scoring = 'neg_root_mean_squared_error')\n",
    "\n",
    "print(np.mean(scores), np.std(scores))"
   ]
  },
  {
   "cell_type": "code",
   "execution_count": 51,
   "metadata": {},
   "outputs": [
    {
     "name": "stdout",
     "output_type": "stream",
     "text": [
      "-0.4269642548856371 0.06804596026969317\n"
     ]
    }
   ],
   "source": [
    "from sklearn.svm import SVR\n",
    "\n",
    "Best = [f't{topic_idx}' for topic_idx in np.argsort(F)[::-1][:25]]\n",
    "\n",
    "feature_names = vectorizer.get_feature_names_out()\n",
    "X = friends2[Best]\n",
    "y = friends2.Stars\n",
    "\n",
    "reg = SVR()\n",
    "scal = StandardScaler()\n",
    "\n",
    "pipe = make_pipeline(reg, scal)\n",
    "\n",
    "scores = cross_val_score(reg, X, y, cv=10, scoring = 'neg_root_mean_squared_error')\n",
    "\n",
    "print(np.mean(scores), np.std(scores))"
   ]
  },
  {
   "cell_type": "code",
   "execution_count": 78,
   "metadata": {},
   "outputs": [
    {
     "name": "stdout",
     "output_type": "stream",
     "text": [
      "-0.41355260347536077 0.054011321600815024\n"
     ]
    }
   ],
   "source": [
    "Best = [f't{topic_idx}' for topic_idx in np.argsort(F)[::-1][:10]]\n",
    "\n",
    "feature_names = vectorizer.get_feature_names_out()\n",
    "X = friends2[Best]\n",
    "y = friends2.Stars\n",
    "\n",
    "reg = SVR()\n",
    "scal = StandardScaler()\n",
    "\n",
    "pipe = make_pipeline(reg, scal)\n",
    "\n",
    "scores = cross_val_score(reg, X, y, cv=10, scoring = 'neg_root_mean_squared_error')\n",
    "\n",
    "print(np.mean(scores), np.std(scores))"
   ]
  },
  {
   "cell_type": "code",
   "execution_count": 79,
   "metadata": {},
   "outputs": [
    {
     "name": "stdout",
     "output_type": "stream",
     "text": [
      "-0.4229000071383643 0.06739912152089038\n"
     ]
    }
   ],
   "source": [
    "Best = [f't{topic_idx}' for topic_idx in np.argsort(F)[1::-1]]\n",
    "xtra = ['Year_of_prod', 'Duration', 'Director']\n",
    "\n",
    "from sklearn.compose import make_column_transformer\n",
    "from sklearn.preprocessing import OneHotEncoder\n",
    "\n",
    "cols = Best+xtra\n",
    "\n",
    "X = friends2[cols]\n",
    "y = friends2.Stars\n",
    "\n",
    "reg = SVR()\n",
    "hot = OneHotEncoder()\n",
    "scal = StandardScaler()\n",
    "\n",
    "categorical_features = X.select_dtypes(include=\"object\").columns\n",
    "integer_features = X.select_dtypes(exclude=\"object\").columns\n",
    "\n",
    "prep = make_column_transformer((hot, categorical_features),\n",
    "                                (scal, integer_features))\n",
    "\n",
    "pipe = make_pipeline(prep,reg)\n",
    "\n",
    "scores = cross_val_score(pipe, X, y, cv=10, scoring = 'neg_root_mean_squared_error')\n",
    "\n",
    "print(np.mean(scores), np.std(scores))"
   ]
  },
  {
   "cell_type": "code",
   "execution_count": 80,
   "metadata": {},
   "outputs": [
    {
     "name": "stdout",
     "output_type": "stream",
     "text": [
      "-0.4256167722242978 0.053832344041550656\n"
     ]
    }
   ],
   "source": [
    "Best = [f't{topic_idx}' for topic_idx in np.argsort(F)[::-1][:25]]\n",
    "xtra = ['Year_of_prod', 'Duration', 'Director']\n",
    "\n",
    "from sklearn.compose import make_column_transformer\n",
    "from sklearn.preprocessing import OneHotEncoder\n",
    "\n",
    "cols = Best+xtra\n",
    "\n",
    "X = friends2[cols]\n",
    "y = friends2.Stars\n",
    "\n",
    "reg = SVR()\n",
    "hot = OneHotEncoder()\n",
    "scal = StandardScaler()\n",
    "\n",
    "categorical_features = X.select_dtypes(include=\"object\").columns\n",
    "integer_features = X.select_dtypes(exclude=\"object\").columns\n",
    "\n",
    "prep = make_column_transformer((hot, categorical_features),\n",
    "                                (scal, integer_features))\n",
    "\n",
    "pipe = make_pipeline(prep,reg)\n",
    "\n",
    "scores = cross_val_score(pipe, X, y, cv=10, scoring = 'neg_root_mean_squared_error')\n",
    "\n",
    "print(np.mean(scores), np.std(scores))"
   ]
  },
  {
   "cell_type": "code",
   "execution_count": 81,
   "metadata": {},
   "outputs": [
    {
     "name": "stdout",
     "output_type": "stream",
     "text": [
      "-0.4243136464831898 0.051222479025645556\n"
     ]
    }
   ],
   "source": [
    "Best = [f't{topic_idx}' for topic_idx in np.argsort(F)[::-1][:10]]\n",
    "xtra = ['Year_of_prod', 'Duration', 'Director']\n",
    "\n",
    "from sklearn.compose import make_column_transformer\n",
    "from sklearn.preprocessing import OneHotEncoder\n",
    "\n",
    "cols = Best+xtra\n",
    "\n",
    "X = friends2[cols]\n",
    "y = friends2.Stars\n",
    "\n",
    "reg = SVR()\n",
    "hot = OneHotEncoder()\n",
    "scal = StandardScaler()\n",
    "\n",
    "categorical_features = X.select_dtypes(include=\"object\").columns\n",
    "integer_features = X.select_dtypes(exclude=\"object\").columns\n",
    "\n",
    "prep = make_column_transformer((hot, categorical_features),\n",
    "                                (scal, integer_features))\n",
    "\n",
    "pipe = make_pipeline(prep,reg)\n",
    "\n",
    "scores = cross_val_score(pipe, X, y, cv=10, scoring = 'neg_root_mean_squared_error')\n",
    "\n",
    "print(np.mean(scores), np.std(scores))"
   ]
  },
  {
   "cell_type": "markdown",
   "metadata": {},
   "source": [
    "### gradient boosting"
   ]
  },
  {
   "cell_type": "code",
   "execution_count": 71,
   "metadata": {},
   "outputs": [
    {
     "name": "stdout",
     "output_type": "stream",
     "text": [
      "-0.4243307529303612 0.05454752391623509\n"
     ]
    }
   ],
   "source": [
    "from sklearn.ensemble import GradientBoostingRegressor\n",
    "\n",
    "feature_names = vectorizer.get_feature_names_out()\n",
    "X = friends2.drop(columns=friends.columns.tolist())\n",
    "y = friends2.Stars\n",
    "\n",
    "reg = GradientBoostingRegressor()\n",
    "scal = StandardScaler()\n",
    "\n",
    "pipe = make_pipeline(reg, scal)\n",
    "\n",
    "scores = cross_val_score(reg, X, y, cv=10, scoring = 'neg_root_mean_squared_error')\n",
    "\n",
    "print(np.mean(scores), np.std(scores))"
   ]
  },
  {
   "cell_type": "code",
   "execution_count": 72,
   "metadata": {},
   "outputs": [
    {
     "name": "stdout",
     "output_type": "stream",
     "text": [
      "-0.4743865021548091 0.05309363102278743\n"
     ]
    }
   ],
   "source": [
    "Best = [f't{topic_idx}' for topic_idx in np.argsort(F)[::-1][:25]]\n",
    "\n",
    "feature_names = vectorizer.get_feature_names_out()\n",
    "X = friends2[Best]\n",
    "y = friends2.Stars\n",
    "\n",
    "reg = GradientBoostingRegressor()\n",
    "scal = StandardScaler()\n",
    "\n",
    "pipe = make_pipeline(reg, scal)\n",
    "\n",
    "scores = cross_val_score(reg, X, y, cv=10, scoring = 'neg_root_mean_squared_error')\n",
    "\n",
    "print(np.mean(scores), np.std(scores))"
   ]
  },
  {
   "cell_type": "code",
   "execution_count": 73,
   "metadata": {},
   "outputs": [
    {
     "name": "stdout",
     "output_type": "stream",
     "text": [
      "-0.4626873499655191 0.05295926483927544\n"
     ]
    }
   ],
   "source": [
    "Best = [f't{topic_idx}' for topic_idx in np.argsort(F)[::-1][:10]]\n",
    "\n",
    "feature_names = vectorizer.get_feature_names_out()\n",
    "X = friends2[Best]\n",
    "y = friends2.Stars\n",
    "\n",
    "reg = GradientBoostingRegressor()\n",
    "scal = StandardScaler()\n",
    "\n",
    "pipe = make_pipeline(reg, scal)\n",
    "\n",
    "scores = cross_val_score(reg, X, y, cv=10, scoring = 'neg_root_mean_squared_error')\n",
    "\n",
    "print(np.mean(scores), np.std(scores))"
   ]
  },
  {
   "cell_type": "code",
   "execution_count": 82,
   "metadata": {},
   "outputs": [
    {
     "name": "stdout",
     "output_type": "stream",
     "text": [
      "-0.4519760133963449 0.09862278303568002\n"
     ]
    }
   ],
   "source": [
    "Best = [f't{topic_idx}' for topic_idx in np.argsort(F)[1::-1]]\n",
    "xtra = ['Year_of_prod', 'Duration', 'Director']\n",
    "\n",
    "from sklearn.compose import make_column_transformer\n",
    "from sklearn.preprocessing import OneHotEncoder\n",
    "\n",
    "cols = Best+xtra\n",
    "\n",
    "X = friends2[cols]\n",
    "y = friends2.Stars\n",
    "\n",
    "reg = GradientBoostingRegressor()\n",
    "hot = OneHotEncoder()\n",
    "scal = StandardScaler()\n",
    "\n",
    "categorical_features = X.select_dtypes(include=\"object\").columns\n",
    "integer_features = X.select_dtypes(exclude=\"object\").columns\n",
    "\n",
    "prep = make_column_transformer((hot, categorical_features),\n",
    "                                (scal, integer_features))\n",
    "\n",
    "pipe = make_pipeline(prep,reg)\n",
    "\n",
    "scores = cross_val_score(pipe, X, y, cv=10, scoring = 'neg_root_mean_squared_error')\n",
    "\n",
    "print(np.mean(scores), np.std(scores))"
   ]
  },
  {
   "cell_type": "code",
   "execution_count": 76,
   "metadata": {},
   "outputs": [
    {
     "name": "stdout",
     "output_type": "stream",
     "text": [
      "-0.4645101793031987 0.05817339521301511\n"
     ]
    }
   ],
   "source": [
    "Best = [f't{topic_idx}' for topic_idx in np.argsort(F)[::-1][:25]]\n",
    "xtra = ['Year_of_prod', 'Duration', 'Director']\n",
    "\n",
    "from sklearn.compose import make_column_transformer\n",
    "from sklearn.preprocessing import OneHotEncoder\n",
    "\n",
    "cols = Best+xtra\n",
    "\n",
    "X = friends2[cols]\n",
    "y = friends2.Stars\n",
    "\n",
    "reg = GradientBoostingRegressor()\n",
    "hot = OneHotEncoder()\n",
    "scal = StandardScaler()\n",
    "\n",
    "categorical_features = X.select_dtypes(include=\"object\").columns\n",
    "integer_features = X.select_dtypes(exclude=\"object\").columns\n",
    "\n",
    "prep = make_column_transformer((hot, categorical_features),\n",
    "                                (scal, integer_features))\n",
    "\n",
    "pipe = make_pipeline(prep,reg)\n",
    "\n",
    "scores = cross_val_score(pipe, X, y, cv=10, scoring = 'neg_root_mean_squared_error')\n",
    "\n",
    "print(np.mean(scores), np.std(scores))"
   ]
  },
  {
   "cell_type": "code",
   "execution_count": 77,
   "metadata": {},
   "outputs": [
    {
     "name": "stdout",
     "output_type": "stream",
     "text": [
      "-0.42918556542695996 0.06242421122639609\n"
     ]
    }
   ],
   "source": [
    "Best = [f't{topic_idx}' for topic_idx in np.argsort(F)[::-1][:10]]\n",
    "xtra = ['Year_of_prod', 'Duration', 'Director']\n",
    "\n",
    "from sklearn.compose import make_column_transformer\n",
    "from sklearn.preprocessing import OneHotEncoder\n",
    "\n",
    "cols = Best+xtra\n",
    "\n",
    "X = friends2[cols]\n",
    "y = friends2.Stars\n",
    "\n",
    "reg = GradientBoostingRegressor()\n",
    "hot = OneHotEncoder()\n",
    "scal = StandardScaler()\n",
    "\n",
    "categorical_features = X.select_dtypes(include=\"object\").columns\n",
    "integer_features = X.select_dtypes(exclude=\"object\").columns\n",
    "\n",
    "prep = make_column_transformer((hot, categorical_features),\n",
    "                                (scal, integer_features))\n",
    "\n",
    "pipe = make_pipeline(prep,reg)\n",
    "\n",
    "scores = cross_val_score(pipe, X, y, cv=10, scoring = 'neg_root_mean_squared_error')\n",
    "\n",
    "print(np.mean(scores), np.std(scores))"
   ]
  }
 ],
 "metadata": {
  "kernelspec": {
   "display_name": "Python 3.8.8 ('base')",
   "language": "python",
   "name": "python3"
  },
  "language_info": {
   "codemirror_mode": {
    "name": "ipython",
    "version": 3
   },
   "file_extension": ".py",
   "mimetype": "text/x-python",
   "name": "python",
   "nbconvert_exporter": "python",
   "pygments_lexer": "ipython3",
   "version": "3.8.8"
  },
  "orig_nbformat": 4,
  "vscode": {
   "interpreter": {
    "hash": "db3ad00c254152fbd946dfe3ddf750e2d6dd1f511dd85499e770b0c6b301697a"
   }
  }
 },
 "nbformat": 4,
 "nbformat_minor": 2
}
