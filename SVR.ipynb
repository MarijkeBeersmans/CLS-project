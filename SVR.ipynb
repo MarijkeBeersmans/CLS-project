{
 "cells": [
  {
   "cell_type": "markdown",
   "metadata": {},
   "source": [
    "# Models to predict ratings"
   ]
  },
  {
   "cell_type": "code",
   "execution_count": 20,
   "metadata": {},
   "outputs": [],
   "source": [
    "import pandas as pd\n",
    "import numpy as np\n",
    "\n",
    "friends = pd.read_csv('transcripts and metadata/friends_mastersheet.csv', index_col=0)"
   ]
  },
  {
   "cell_type": "code",
   "execution_count": 21,
   "metadata": {},
   "outputs": [
    {
     "data": {
      "text/html": [
       "<div>\n",
       "<style scoped>\n",
       "    .dataframe tbody tr th:only-of-type {\n",
       "        vertical-align: middle;\n",
       "    }\n",
       "\n",
       "    .dataframe tbody tr th {\n",
       "        vertical-align: top;\n",
       "    }\n",
       "\n",
       "    .dataframe thead th {\n",
       "        text-align: right;\n",
       "    }\n",
       "</style>\n",
       "<table border=\"1\" class=\"dataframe\">\n",
       "  <thead>\n",
       "    <tr style=\"text-align: right;\">\n",
       "      <th></th>\n",
       "      <th>Year_of_prod</th>\n",
       "      <th>Season</th>\n",
       "      <th>Episode Number</th>\n",
       "      <th>Episode_Title</th>\n",
       "      <th>Duration</th>\n",
       "      <th>Summary</th>\n",
       "      <th>Director</th>\n",
       "      <th>Stars</th>\n",
       "      <th>Votes</th>\n",
       "      <th>match</th>\n",
       "      <th>...</th>\n",
       "      <th>Phoebe</th>\n",
       "      <th>Ross</th>\n",
       "      <th>Rachel</th>\n",
       "      <th>Carol</th>\n",
       "      <th>Susan</th>\n",
       "      <th>Janice</th>\n",
       "      <th>Mike</th>\n",
       "      <th>Gunther</th>\n",
       "      <th>Ben</th>\n",
       "      <th>Emily</th>\n",
       "    </tr>\n",
       "  </thead>\n",
       "  <tbody>\n",
       "    <tr>\n",
       "      <th>0</th>\n",
       "      <td>1994</td>\n",
       "      <td>1</td>\n",
       "      <td>1</td>\n",
       "      <td>The One Where Monica Gets a Roommate: The Pilot</td>\n",
       "      <td>22</td>\n",
       "      <td>Monica and the gang introduce Rachel to the \"r...</td>\n",
       "      <td>James Burrows</td>\n",
       "      <td>8.3</td>\n",
       "      <td>7440</td>\n",
       "      <td>11</td>\n",
       "      <td>...</td>\n",
       "      <td>0.061248</td>\n",
       "      <td>0.144114</td>\n",
       "      <td>0.155643</td>\n",
       "      <td>0.000000</td>\n",
       "      <td>0.000000</td>\n",
       "      <td>0.000000</td>\n",
       "      <td>0.0</td>\n",
       "      <td>0.0</td>\n",
       "      <td>0.0</td>\n",
       "      <td>0.0</td>\n",
       "    </tr>\n",
       "    <tr>\n",
       "      <th>1</th>\n",
       "      <td>1994</td>\n",
       "      <td>1</td>\n",
       "      <td>2</td>\n",
       "      <td>The One with the Sonogram at the End</td>\n",
       "      <td>22</td>\n",
       "      <td>Ross finds out his ex-wife is pregnant. Rachel...</td>\n",
       "      <td>James Burrows</td>\n",
       "      <td>8.1</td>\n",
       "      <td>4888</td>\n",
       "      <td>12</td>\n",
       "      <td>...</td>\n",
       "      <td>0.061500</td>\n",
       "      <td>0.248342</td>\n",
       "      <td>0.165269</td>\n",
       "      <td>0.088068</td>\n",
       "      <td>0.044696</td>\n",
       "      <td>0.000000</td>\n",
       "      <td>0.0</td>\n",
       "      <td>0.0</td>\n",
       "      <td>0.0</td>\n",
       "      <td>0.0</td>\n",
       "    </tr>\n",
       "    <tr>\n",
       "      <th>2</th>\n",
       "      <td>1994</td>\n",
       "      <td>1</td>\n",
       "      <td>3</td>\n",
       "      <td>The One with the Thumb</td>\n",
       "      <td>22</td>\n",
       "      <td>Monica becomes irritated when everyone likes h...</td>\n",
       "      <td>James Burrows</td>\n",
       "      <td>8.2</td>\n",
       "      <td>4605</td>\n",
       "      <td>13</td>\n",
       "      <td>...</td>\n",
       "      <td>0.145415</td>\n",
       "      <td>0.125624</td>\n",
       "      <td>0.102383</td>\n",
       "      <td>0.000000</td>\n",
       "      <td>0.000000</td>\n",
       "      <td>0.000000</td>\n",
       "      <td>0.0</td>\n",
       "      <td>0.0</td>\n",
       "      <td>0.0</td>\n",
       "      <td>0.0</td>\n",
       "    </tr>\n",
       "    <tr>\n",
       "      <th>3</th>\n",
       "      <td>1994</td>\n",
       "      <td>1</td>\n",
       "      <td>4</td>\n",
       "      <td>The One with George Stephanopoulos</td>\n",
       "      <td>22</td>\n",
       "      <td>Joey and Chandler take Ross to a hockey game t...</td>\n",
       "      <td>James Burrows</td>\n",
       "      <td>8.1</td>\n",
       "      <td>4468</td>\n",
       "      <td>14</td>\n",
       "      <td>...</td>\n",
       "      <td>0.111161</td>\n",
       "      <td>0.151849</td>\n",
       "      <td>0.162042</td>\n",
       "      <td>0.000000</td>\n",
       "      <td>0.000000</td>\n",
       "      <td>0.000000</td>\n",
       "      <td>0.0</td>\n",
       "      <td>0.0</td>\n",
       "      <td>0.0</td>\n",
       "      <td>0.0</td>\n",
       "    </tr>\n",
       "    <tr>\n",
       "      <th>4</th>\n",
       "      <td>1994</td>\n",
       "      <td>1</td>\n",
       "      <td>5</td>\n",
       "      <td>The One with the East German Laundry Detergent</td>\n",
       "      <td>22</td>\n",
       "      <td>Eager to spend time with Rachel, Ross pretends...</td>\n",
       "      <td>Pamela Fryman</td>\n",
       "      <td>8.5</td>\n",
       "      <td>4438</td>\n",
       "      <td>15</td>\n",
       "      <td>...</td>\n",
       "      <td>0.095007</td>\n",
       "      <td>0.150061</td>\n",
       "      <td>0.141764</td>\n",
       "      <td>0.000000</td>\n",
       "      <td>0.000000</td>\n",
       "      <td>0.047483</td>\n",
       "      <td>0.0</td>\n",
       "      <td>0.0</td>\n",
       "      <td>0.0</td>\n",
       "      <td>0.0</td>\n",
       "    </tr>\n",
       "  </tbody>\n",
       "</table>\n",
       "<p>5 rows × 26 columns</p>\n",
       "</div>"
      ],
      "text/plain": [
       "   Year_of_prod  Season  Episode Number  \\\n",
       "0          1994       1               1   \n",
       "1          1994       1               2   \n",
       "2          1994       1               3   \n",
       "3          1994       1               4   \n",
       "4          1994       1               5   \n",
       "\n",
       "                                     Episode_Title  Duration  \\\n",
       "0  The One Where Monica Gets a Roommate: The Pilot        22   \n",
       "1             The One with the Sonogram at the End        22   \n",
       "2                           The One with the Thumb        22   \n",
       "3               The One with George Stephanopoulos        22   \n",
       "4   The One with the East German Laundry Detergent        22   \n",
       "\n",
       "                                             Summary       Director  Stars  \\\n",
       "0  Monica and the gang introduce Rachel to the \"r...  James Burrows    8.3   \n",
       "1  Ross finds out his ex-wife is pregnant. Rachel...  James Burrows    8.1   \n",
       "2  Monica becomes irritated when everyone likes h...  James Burrows    8.2   \n",
       "3  Joey and Chandler take Ross to a hockey game t...  James Burrows    8.1   \n",
       "4  Eager to spend time with Rachel, Ross pretends...  Pamela Fryman    8.5   \n",
       "\n",
       "   Votes  match  ...    Phoebe      Ross    Rachel     Carol     Susan  \\\n",
       "0   7440     11  ...  0.061248  0.144114  0.155643  0.000000  0.000000   \n",
       "1   4888     12  ...  0.061500  0.248342  0.165269  0.088068  0.044696   \n",
       "2   4605     13  ...  0.145415  0.125624  0.102383  0.000000  0.000000   \n",
       "3   4468     14  ...  0.111161  0.151849  0.162042  0.000000  0.000000   \n",
       "4   4438     15  ...  0.095007  0.150061  0.141764  0.000000  0.000000   \n",
       "\n",
       "     Janice  Mike  Gunther  Ben  Emily  \n",
       "0  0.000000   0.0      0.0  0.0    0.0  \n",
       "1  0.000000   0.0      0.0  0.0    0.0  \n",
       "2  0.000000   0.0      0.0  0.0    0.0  \n",
       "3  0.000000   0.0      0.0  0.0    0.0  \n",
       "4  0.047483   0.0      0.0  0.0    0.0  \n",
       "\n",
       "[5 rows x 26 columns]"
      ]
     },
     "execution_count": 21,
     "metadata": {},
     "output_type": "execute_result"
    }
   ],
   "source": [
    "friends.head()"
   ]
  },
  {
   "cell_type": "code",
   "execution_count": 22,
   "metadata": {},
   "outputs": [],
   "source": [
    "resultlist = [['model', 'LOOCV mean score', 'std']]\n",
    "books = pd.read_csv('books/friends_books_topics_model.csv', index_col=0)\n",
    "sb = pd.read_csv('scriptbase/friends_scriptbase_topics.csv', index_col=0)\n",
    "friends_no_topics = pd.read_csv('transcripts and metadata/friends_mastersheet.csv', index_col=0)"
   ]
  },
  {
   "cell_type": "markdown",
   "metadata": {},
   "source": [
    "## Baselines"
   ]
  },
  {
   "cell_type": "markdown",
   "metadata": {},
   "source": [
    "### dummy baseline"
   ]
  },
  {
   "cell_type": "code",
   "execution_count": 23,
   "metadata": {},
   "outputs": [
    {
     "name": "stdout",
     "output_type": "stream",
     "text": [
      "-0.3113667508113955 0.24655333378118335\n"
     ]
    }
   ],
   "source": [
    "from sklearn.feature_extraction.text import TfidfVectorizer\n",
    "\n",
    "import numpy as np\n",
    "from sklearn.dummy import DummyRegressor\n",
    "from sklearn.model_selection import LeaveOneOut, cross_val_score\n",
    "from sklearn.preprocessing import StandardScaler\n",
    "from sklearn.pipeline import make_pipeline\n",
    "\n",
    "cv = LeaveOneOut()\n",
    "\n",
    "X = friends.text\n",
    "y = friends.Stars\n",
    "\n",
    "vect = TfidfVectorizer(max_features=5000)\n",
    "reg = DummyRegressor(strategy=\"mean\")\n",
    "pipe = make_pipeline(vect, reg)\n",
    "\n",
    "scores = cross_val_score(pipe, X, y, cv=cv, scoring = 'neg_root_mean_squared_error')\n",
    "\n",
    "resultlist.append(['dummy_baseline', np.mean(scores), np.std(scores)])\n",
    "\n",
    "print(np.mean(scores), np.std(scores))"
   ]
  },
  {
   "cell_type": "markdown",
   "metadata": {},
   "source": [
    "### BOW baseline"
   ]
  },
  {
   "cell_type": "code",
   "execution_count": 24,
   "metadata": {},
   "outputs": [
    {
     "name": "stdout",
     "output_type": "stream",
     "text": [
      "-0.31038842338807143 0.2511842652329307\n"
     ]
    }
   ],
   "source": [
    "from sklearn.svm import SVR\n",
    "\n",
    "cv = LeaveOneOut()\n",
    "\n",
    "X = friends.text\n",
    "y = friends.Stars\n",
    "\n",
    "vect = TfidfVectorizer(max_features=5000)\n",
    "reg = SVR()\n",
    "pipe = make_pipeline(vect, reg)\n",
    "\n",
    "scores = cross_val_score(pipe, X, y, cv=cv, scoring = 'neg_root_mean_squared_error')\n",
    "\n",
    "resultlist.append(['BOW_baseline', np.mean(scores), np.std(scores)])\n",
    "\n",
    "print(np.mean(scores), np.std(scores))"
   ]
  },
  {
   "cell_type": "code",
   "execution_count": 25,
   "metadata": {},
   "outputs": [],
   "source": [
    "model = pipe.fit(X, y)"
   ]
  },
  {
   "cell_type": "markdown",
   "metadata": {},
   "source": [
    "### No topics baseline"
   ]
  },
  {
   "cell_type": "code",
   "execution_count": 26,
   "metadata": {},
   "outputs": [],
   "source": [
    "lst = ['Gary Halvorson',        \n",
    "'Kevin Bright',          \n",
    "'Michael Lembeck',       \n",
    "'James Burrows',           \n",
    "'Gail Mancuso',           \n",
    "'Peter Bonerz',            \n",
    "'David Schwimmer',         \n",
    "'Ben Weiss']\n",
    "\n",
    "def direr(wow):\n",
    "    if wow not in lst:\n",
    "        wow = wow.replace(wow,'Other')\n",
    "    return wow"
   ]
  },
  {
   "cell_type": "code",
   "execution_count": 27,
   "metadata": {},
   "outputs": [
    {
     "name": "stdout",
     "output_type": "stream",
     "text": [
      "-0.3152065310522481 0.24494497880925878\n"
     ]
    }
   ],
   "source": [
    "from sklearn.feature_selection import SelectKBest\n",
    "from sklearn.feature_selection import f_regression\n",
    "from sklearn.preprocessing import StandardScaler, OneHotEncoder\n",
    "from sklearn.pipeline import make_pipeline\n",
    "from sklearn.compose import make_column_transformer\n",
    "\n",
    "X = friends_no_topics.drop(columns=['Summary', 'Episode_Title', 'Stars', 'Votes', 'text', 'match', 'len in words', 'len_prep'])\n",
    "X.Director = X.Director.apply(direr)\n",
    "y = friends_no_topics.Stars\n",
    "\n",
    "reg = SVR()\n",
    "hot = OneHotEncoder()\n",
    "scal = StandardScaler()\n",
    "\n",
    "categorical_features = X.select_dtypes(include=\"object\").columns\n",
    "integer_features = X.select_dtypes(exclude=\"object\").columns\n",
    "\n",
    "prep = make_column_transformer((hot, categorical_features),\n",
    "                                (scal, integer_features))\n",
    "\n",
    "pipe = make_pipeline(prep,reg)\n",
    "\n",
    "scores = cross_val_score(pipe, X, y, cv=cv, scoring = 'neg_root_mean_squared_error')\n",
    "\n",
    "print(np.mean(scores), np.std(scores))\n",
    "resultlist.append(['no_topic_baseline', np.mean(scores), np.std(scores)])\n",
    "\n",
    "model = pipe.fit(X, y)\n",
    "\n",
    "# feature_names = model[:-1].get_feature_names_out()\n",
    "\n",
    "# X_preprocessed = pd.DataFrame(\n",
    "#     model[:-1].transform(X), columns=feature_names\n",
    "# )\n",
    "\n",
    "# coefs = pd.DataFrame(\n",
    "#     model[-1].coef_* X_preprocessed.std(axis=0),\n",
    "#     columns=[\"Coefficients\"],\n",
    "#     index=feature_names,\n",
    "# )\n",
    "\n",
    "# coefs[\"Coefficients\"].sort_values(ascending=False)"
   ]
  },
  {
   "cell_type": "markdown",
   "metadata": {},
   "source": [
    "## Models all features"
   ]
  },
  {
   "cell_type": "markdown",
   "metadata": {},
   "source": [
    "### Books corpus"
   ]
  },
  {
   "cell_type": "code",
   "execution_count": 28,
   "metadata": {},
   "outputs": [
    {
     "name": "stdout",
     "output_type": "stream",
     "text": [
      "-0.31440869871969496 0.2531891965351134\n"
     ]
    }
   ],
   "source": [
    "from sklearn.feature_selection import SelectKBest\n",
    "from sklearn.feature_selection import f_regression\n",
    "from sklearn.preprocessing import StandardScaler, OneHotEncoder\n",
    "from sklearn.pipeline import make_pipeline\n",
    "from sklearn.compose import make_column_transformer\n",
    "\n",
    "X = books.drop(columns=['Summary', 'Episode_Title', 'Stars', 'Votes', 'text', 'match', 'len in words', 'len_prep'])\n",
    "X.Director = X.Director.apply(direr)\n",
    "y = books.Stars\n",
    "\n",
    "reg = SVR()\n",
    "hot = OneHotEncoder()\n",
    "scal = StandardScaler()\n",
    "\n",
    "categorical_features = X.select_dtypes(include=\"object\").columns\n",
    "integer_features = X.select_dtypes(exclude=\"object\").columns\n",
    "\n",
    "prep = make_column_transformer((hot, categorical_features),\n",
    "                                (scal, integer_features))\n",
    "\n",
    "pipe = make_pipeline(prep,reg)\n",
    "\n",
    "scores = cross_val_score(pipe, X, y, cv=cv, scoring = 'neg_root_mean_squared_error')\n",
    "\n",
    "print(np.mean(scores), np.std(scores))\n",
    "\n",
    "resultlist.append(['books_all_topics', np.mean(scores), np.std(scores)])\n",
    "\n",
    "# model = pipe.fit(X, y)\n",
    "\n",
    "# # feature_names = model[:-1].get_feature_names_out()\n",
    "\n",
    "# # X_preprocessed = pd.DataFrame(\n",
    "# #     model[:-1].transform(X), columns=feature_names\n",
    "# # )\n",
    "\n",
    "# # coefs = pd.DataFrame(\n",
    "# #     model[-1].coef_* X_preprocessed.std(axis=0),\n",
    "# #     columns=[\"Coefficients\"],\n",
    "# #     index=feature_names,\n",
    "# # )\n",
    "\n",
    "# # coefs[\"Coefficients\"].sort_values(ascending=False)"
   ]
  },
  {
   "cell_type": "markdown",
   "metadata": {},
   "source": [
    "### scriptbase"
   ]
  },
  {
   "cell_type": "code",
   "execution_count": 29,
   "metadata": {},
   "outputs": [
    {
     "name": "stdout",
     "output_type": "stream",
     "text": [
      "-0.2634689459745494 0.20842686080328332\n"
     ]
    }
   ],
   "source": [
    "from sklearn.feature_selection import SelectKBest\n",
    "from sklearn.feature_selection import f_regression\n",
    "from sklearn.linear_model import LinearRegression\n",
    "from sklearn.preprocessing import StandardScaler, OneHotEncoder\n",
    "from sklearn.pipeline import make_pipeline\n",
    "from sklearn.compose import make_column_transformer\n",
    "\n",
    "X = sb.drop(columns=['Summary', 'Episode_Title', 'Year_of_prod','Votes', 'text', 'match', 'len in words', 'len_prep'])\n",
    "X.Director = X.Director.apply(direr)\n",
    "y = sb.Stars\n",
    "\n",
    "reg = SVR()\n",
    "hot = OneHotEncoder()\n",
    "scal = StandardScaler()\n",
    "\n",
    "categorical_features = X.select_dtypes(include=\"object\").columns\n",
    "integer_features = X.select_dtypes(exclude=\"object\").columns\n",
    "\n",
    "prep = make_column_transformer((hot, categorical_features),\n",
    "                                (scal, integer_features))\n",
    "\n",
    "pipe = make_pipeline(prep,reg)\n",
    "\n",
    "scores = cross_val_score(pipe, X, y, cv=cv, scoring = 'neg_root_mean_squared_error')\n",
    "\n",
    "print(np.mean(scores), np.std(scores))\n",
    "\n",
    "resultlist.append(['sc_all_topics', np.mean(scores), np.std(scores)])\n",
    "\n",
    "# model = pipe.fit(X, y)\n",
    "\n",
    "# feature_names = model[:-1].get_feature_names_out()\n",
    "\n",
    "# X_preprocessed = pd.DataFrame(\n",
    "#     model[:-1].transform(X), columns=feature_names\n",
    "# )\n",
    "\n",
    "# coefs = pd.DataFrame(\n",
    "#     model[-1].coef_* X_preprocessed.std(axis=0),\n",
    "#     columns=[\"Coefficients\"],\n",
    "#     index=feature_names,\n",
    "# )\n",
    "\n",
    "# coefs[\"Coefficients\"].sort_values(ascending=False)"
   ]
  },
  {
   "cell_type": "markdown",
   "metadata": {},
   "source": [
    "## models 50"
   ]
  },
  {
   "cell_type": "markdown",
   "metadata": {},
   "source": [
    "### books"
   ]
  },
  {
   "cell_type": "code",
   "execution_count": 30,
   "metadata": {},
   "outputs": [],
   "source": [
    "books_best_50 = ['t83', 't188', 't274', 't230', 't273', 't204', 't196',\n",
    "       't176', 't7', 't120', 't151', 't258', 't139', 't70', 't110', 't97',\n",
    "       't235', 't282', 't104', 't62', 't245', 't80', 't171', 't115', 't270',\n",
    "       't109', 't150', 't269', 't158', 't203', 't59', 't295', 't175', 't51',\n",
    "       't166', 't113', 't285', 't299', 't286', 't88', 't127', 't69', 't222',\n",
    "       't272', 't34', 't58', 't153', 't271', 't259', 't73']\n",
    "\n",
    "to_drop = [f't{i}' for i in range(0,300) if f't{i}' not in books_best_50]"
   ]
  },
  {
   "cell_type": "code",
   "execution_count": 31,
   "metadata": {},
   "outputs": [
    {
     "name": "stdout",
     "output_type": "stream",
     "text": [
      "-0.2992068909287241 0.25312880887507766\n"
     ]
    }
   ],
   "source": [
    "from sklearn.feature_selection import SelectKBest\n",
    "from sklearn.feature_selection import f_regression\n",
    "from sklearn.linear_model import LinearRegression\n",
    "from sklearn.preprocessing import StandardScaler, OneHotEncoder\n",
    "from sklearn.pipeline import make_pipeline\n",
    "from sklearn.compose import make_column_transformer\n",
    "\n",
    "columns = ['Summary',  'Episode_Title', 'Stars', 'Votes', 'text', 'match', 'len in words', 'len_prep'] + to_drop\n",
    "\n",
    "X = books.drop(columns=columns)\n",
    "X.Director = X.Director.apply(direr)\n",
    "y = books.Stars\n",
    "\n",
    "reg = SVR()\n",
    "hot = OneHotEncoder()\n",
    "scal = StandardScaler()\n",
    "\n",
    "categorical_features = X.select_dtypes(include=\"object\").columns\n",
    "integer_features = X.select_dtypes(exclude=\"object\").columns\n",
    "\n",
    "prep = make_column_transformer((hot, categorical_features),\n",
    "                                (scal, integer_features))\n",
    "\n",
    "pipe = make_pipeline(prep,reg)\n",
    "\n",
    "scores = cross_val_score(pipe, X, y, cv=cv, scoring = 'neg_root_mean_squared_error')\n",
    "\n",
    "print(np.mean(scores), np.std(scores))\n",
    "\n",
    "resultlist.append(['books_50_topics', np.mean(scores), np.std(scores)])\n",
    "\n",
    "# model = pipe.fit(X, y)\n",
    "\n",
    "# feature_names = model[:-1].get_feature_names_out()\n",
    "\n",
    "# X_preprocessed = pd.DataFrame(\n",
    "#     model[:-1].transform(X), columns=feature_names\n",
    "# )\n",
    "\n",
    "# coefs = pd.DataFrame(\n",
    "#     model[-1].coef_* X_preprocessed.std(axis=0),\n",
    "#     columns=[\"Coefficients\"],\n",
    "#     index=feature_names,\n",
    "# )\n",
    "\n",
    "# coefs[\"Coefficients\"].sort_values(ascending=False)"
   ]
  },
  {
   "cell_type": "markdown",
   "metadata": {},
   "source": [
    "### scriptbase"
   ]
  },
  {
   "cell_type": "code",
   "execution_count": 32,
   "metadata": {},
   "outputs": [],
   "source": [
    "sb_best_50 = ['t134', 't103', 't12', 't194', 't276', 't35', 't180',\n",
    "       't222', 't32', 't191', 't299', 't64', 't202', 't288', 't275', 't260',\n",
    "       't84', 't182', 't165', 't210', 't90', 't204', 't255', 't217', 't239',\n",
    "       't205', 't26', 't86', 't7', 't119', 't296', 't67', 't265', 't152',\n",
    "       't128', 't72', 't250', 't242', 't287', 't190', 't57', 't44', 't17',\n",
    "       't132', 't189', 't240', 't193', 't21', 't138', 't130']\n",
    "\n",
    "to_drop = [f't{i}' for i in range(0,300) if f't{i}' not in sb_best_50]"
   ]
  },
  {
   "cell_type": "code",
   "execution_count": 33,
   "metadata": {},
   "outputs": [
    {
     "name": "stdout",
     "output_type": "stream",
     "text": [
      "-0.2765580952051211 0.22592420845009073\n"
     ]
    }
   ],
   "source": [
    "from sklearn.feature_selection import SelectKBest\n",
    "from sklearn.feature_selection import f_regression\n",
    "from sklearn.linear_model import LinearRegression\n",
    "from sklearn.preprocessing import StandardScaler, OneHotEncoder\n",
    "from sklearn.pipeline import make_pipeline\n",
    "from sklearn.compose import make_column_transformer\n",
    "\n",
    "columns = ['Summary', 'Episode_Title', 'Stars', 'Votes', 'text', 'match', 'len in words', 'len_prep'] + to_drop\n",
    "\n",
    "X = sb.drop(columns=columns)\n",
    "X.Director = X.Director.apply(direr)\n",
    "y = books.Stars\n",
    "\n",
    "reg = SVR()\n",
    "hot = OneHotEncoder()\n",
    "scal = StandardScaler()\n",
    "\n",
    "categorical_features = X.select_dtypes(include=\"object\").columns\n",
    "integer_features = X.select_dtypes(exclude=\"object\").columns\n",
    "\n",
    "prep = make_column_transformer((hot, categorical_features),\n",
    "                                (scal, integer_features))\n",
    "\n",
    "pipe = make_pipeline(prep,reg)\n",
    "\n",
    "scores = cross_val_score(pipe, X, y, cv=cv, scoring = 'neg_root_mean_squared_error')\n",
    "\n",
    "print(np.mean(scores), np.std(scores))\n",
    "\n",
    "resultlist.append(['sb_50_topics', np.mean(scores), np.std(scores)])\n",
    "\n",
    "# model = pipe.fit(X, y)\n",
    "\n",
    "# feature_names = model[:-1].get_feature_names_out()\n",
    "\n",
    "# X_preprocessed = pd.DataFrame(\n",
    "#     model[:-1].transform(X), columns=feature_names\n",
    "# )\n",
    "\n",
    "# coefs = pd.DataFrame(\n",
    "#     model[-1].coef_* X_preprocessed.std(axis=0),\n",
    "#     columns=[\"Coefficients\"],\n",
    "#     index=feature_names,\n",
    "# )\n",
    "\n",
    "# coefs[\"Coefficients\"].sort_values(ascending=False)"
   ]
  },
  {
   "cell_type": "markdown",
   "metadata": {},
   "source": [
    "## models 25"
   ]
  },
  {
   "cell_type": "markdown",
   "metadata": {},
   "source": [
    "### books"
   ]
  },
  {
   "cell_type": "code",
   "execution_count": 34,
   "metadata": {},
   "outputs": [],
   "source": [
    "books_best_25 = ['t83', 't188', 't274', 't230', 't273', 't204', 't196',\n",
    "'t176', 't7', 't120', 't151', 't258', 't139', 't70', 't110', 't97',\n",
    "'t235', 't282', 't104', 't62', 't245', 't80', 't171', 't115', 't270']\n",
    "\n",
    "to_drop = [f't{i}' for i in range(0,300) if f't{i}' not in books_best_25]"
   ]
  },
  {
   "cell_type": "code",
   "execution_count": 35,
   "metadata": {},
   "outputs": [
    {
     "name": "stdout",
     "output_type": "stream",
     "text": [
      "-0.3020732451010574 0.23819317506814044\n"
     ]
    }
   ],
   "source": [
    "from sklearn.feature_selection import SelectKBest\n",
    "from sklearn.feature_selection import f_regression\n",
    "from sklearn.linear_model import LinearRegression\n",
    "from sklearn.preprocessing import StandardScaler, OneHotEncoder\n",
    "from sklearn.pipeline import make_pipeline\n",
    "from sklearn.compose import make_column_transformer\n",
    "\n",
    "columns = ['Summary', 'Episode_Title', 'Stars', 'Votes', 'text', 'match', 'len in words', 'len_prep'] + to_drop\n",
    "\n",
    "X = books.drop(columns=columns)\n",
    "X.Director = X.Director.apply(direr)\n",
    "y = books.Stars\n",
    "\n",
    "reg = SVR()\n",
    "hot = OneHotEncoder()\n",
    "scal = StandardScaler()\n",
    "\n",
    "categorical_features = X.select_dtypes(include=\"object\").columns\n",
    "integer_features = X.select_dtypes(exclude=\"object\").columns\n",
    "\n",
    "prep = make_column_transformer((hot, categorical_features),\n",
    "                                (scal, integer_features))\n",
    "\n",
    "pipe = make_pipeline(prep,reg)\n",
    "\n",
    "scores = cross_val_score(pipe, X, y, cv=cv, scoring = 'neg_root_mean_squared_error')\n",
    "\n",
    "print(np.mean(scores), np.std(scores))\n",
    "\n",
    "resultlist.append(['books_25_topics', np.mean(scores), np.std(scores)])\n",
    "\n",
    "# model = pipe.fit(X, y)\n",
    "\n",
    "# feature_names = model[:-1].get_feature_names_out()\n",
    "\n",
    "# X_preprocessed = pd.DataFrame(\n",
    "#     model[:-1].transform(X), columns=feature_names\n",
    "# )\n",
    "\n",
    "# coefs = pd.DataFrame(\n",
    "#     model[-1].coef_* X_preprocessed.std(axis=0),\n",
    "#     columns=[\"Coefficients\"],\n",
    "#     index=feature_names,\n",
    "# )\n",
    "\n",
    "# coefs[\"Coefficients\"].sort_values(ascending=False)"
   ]
  },
  {
   "cell_type": "markdown",
   "metadata": {},
   "source": [
    "### scriptbase"
   ]
  },
  {
   "cell_type": "code",
   "execution_count": 36,
   "metadata": {},
   "outputs": [],
   "source": [
    "sb_best_25 = ['t134', 't103', 't12', 't194', 't276', 't35', 't180',\n",
    "       't222', 't32', 't191', 't299', 't64', 't202', 't288', 't275', 't260',\n",
    "       't84', 't182', 't165', 't210', 't90', 't204', 't255', 't217', 't239']\n",
    "\n",
    "to_drop = [f't{i}' for i in range(0,300) if f't{i}' not in sb_best_25]"
   ]
  },
  {
   "cell_type": "code",
   "execution_count": 37,
   "metadata": {},
   "outputs": [
    {
     "name": "stdout",
     "output_type": "stream",
     "text": [
      "-0.28001743143273483 0.2195431482604701\n"
     ]
    }
   ],
   "source": [
    "from sklearn.feature_selection import SelectKBest\n",
    "from sklearn.feature_selection import f_regression\n",
    "from sklearn.linear_model import LinearRegression\n",
    "from sklearn.preprocessing import StandardScaler, OneHotEncoder\n",
    "from sklearn.pipeline import make_pipeline\n",
    "from sklearn.compose import make_column_transformer\n",
    "\n",
    "columns = ['Summary', 'Episode_Title', 'Stars', 'Votes', 'text', 'match', 'len in words', 'len_prep'] + to_drop\n",
    "\n",
    "X = sb.drop(columns=columns)\n",
    "X.Director = X.Director.apply(direr)\n",
    "y = books.Stars\n",
    "\n",
    "reg = SVR()\n",
    "hot = OneHotEncoder()\n",
    "scal = StandardScaler()\n",
    "\n",
    "categorical_features = X.select_dtypes(include=\"object\").columns\n",
    "integer_features = X.select_dtypes(exclude=\"object\").columns\n",
    "\n",
    "prep = make_column_transformer((hot, categorical_features),\n",
    "                                (scal, integer_features))\n",
    "\n",
    "pipe = make_pipeline(prep,reg)\n",
    "\n",
    "scores = cross_val_score(pipe, X, y, cv=cv, scoring = 'neg_root_mean_squared_error')\n",
    "\n",
    "print(np.mean(scores), np.std(scores))\n",
    "\n",
    "resultlist.append(['sb_25_topics', np.mean(scores), np.std(scores)])\n",
    "\n",
    "# model = pipe.fit(X, y)\n",
    "\n",
    "# feature_names = model[:-1].get_feature_names_out()\n",
    "\n",
    "# X_preprocessed = pd.DataFrame(\n",
    "#     model[:-1].transform(X), columns=feature_names\n",
    "# )\n",
    "\n",
    "# coefs = pd.DataFrame(\n",
    "#     model[-1].coef_* X_preprocessed.std(axis=0),\n",
    "#     columns=[\"Coefficients\"],\n",
    "#     index=feature_names,\n",
    "# )\n",
    "\n",
    "# coefs[\"Coefficients\"].sort_values(ascending=False)"
   ]
  },
  {
   "cell_type": "markdown",
   "metadata": {},
   "source": [
    "## Models 10"
   ]
  },
  {
   "cell_type": "markdown",
   "metadata": {},
   "source": [
    "### books"
   ]
  },
  {
   "cell_type": "code",
   "execution_count": 38,
   "metadata": {},
   "outputs": [],
   "source": [
    "sb_best_25 = ['t134', 't103', 't12', 't194', 't276', 't35', 't180',\n",
    "       't222', 't32', 't191', 't299', 't64', 't202', 't288', 't275', 't260',\n",
    "       't84', 't182', 't165', 't210', 't90', 't204', 't255', 't217', 't239']\n",
    "\n",
    "to_drop = [f't{i}' for i in range(0,300) if f't{i}' not in sb_best_25[:10]]"
   ]
  },
  {
   "cell_type": "code",
   "execution_count": 39,
   "metadata": {},
   "outputs": [
    {
     "name": "stdout",
     "output_type": "stream",
     "text": [
      "-0.31234145291979715 0.2573858774135108\n"
     ]
    }
   ],
   "source": [
    "from sklearn.feature_selection import SelectKBest\n",
    "from sklearn.feature_selection import f_regression\n",
    "from sklearn.linear_model import LinearRegression\n",
    "from sklearn.preprocessing import StandardScaler, OneHotEncoder\n",
    "from sklearn.pipeline import make_pipeline\n",
    "from sklearn.compose import make_column_transformer\n",
    "\n",
    "columns = ['Summary', 'Episode_Title', 'Stars', 'Votes', 'text', 'match', 'len in words', 'len_prep'] + to_drop\n",
    "\n",
    "X = books.drop(columns=columns)\n",
    "X.Director = X.Director.apply(direr)\n",
    "y = books.Stars\n",
    "\n",
    "reg = SVR()\n",
    "hot = OneHotEncoder()\n",
    "scal = StandardScaler()\n",
    "\n",
    "categorical_features = X.select_dtypes(include=\"object\").columns\n",
    "integer_features = X.select_dtypes(exclude=\"object\").columns\n",
    "\n",
    "prep = make_column_transformer((hot, categorical_features),\n",
    "                                (scal, integer_features))\n",
    "\n",
    "pipe = make_pipeline(prep,reg)\n",
    "\n",
    "scores = cross_val_score(pipe, X, y, cv=cv, scoring = 'neg_root_mean_squared_error')\n",
    "\n",
    "print(np.mean(scores), np.std(scores))\n",
    "\n",
    "resultlist.append(['books_10_topics', np.mean(scores), np.std(scores)])\n",
    "\n",
    "# model = pipe.fit(X, y)\n",
    "\n",
    "# feature_names = model[:-1].get_feature_names_out()\n",
    "\n",
    "# X_preprocessed = pd.DataFrame(\n",
    "#     model[:-1].transform(X), columns=feature_names\n",
    "# )\n",
    "\n",
    "# coefs = pd.DataFrame(\n",
    "#     model[-1].coef_* X_preprocessed.std(axis=0),\n",
    "#     columns=[\"Coefficients\"],\n",
    "#     index=feature_names,\n",
    "# )\n",
    "\n",
    "# coefs[\"Coefficients\"].sort_values(ascending=False)"
   ]
  },
  {
   "cell_type": "markdown",
   "metadata": {},
   "source": [
    "### scriptbase"
   ]
  },
  {
   "cell_type": "code",
   "execution_count": 40,
   "metadata": {},
   "outputs": [
    {
     "name": "stdout",
     "output_type": "stream",
     "text": [
      "-0.29508784576346614 0.24615329370423772\n"
     ]
    }
   ],
   "source": [
    "sb_best_25 = ['t134', 't103', 't12', 't194', 't276', 't35', 't180',\n",
    "       't222', 't32', 't191', 't299', 't64', 't202', 't288', 't275', 't260',\n",
    "       't84', 't182', 't165', 't210', 't90', 't204', 't255', 't217', 't239']\n",
    "\n",
    "to_drop = [f't{i}' for i in range(0,300) if f't{i}' not in sb_best_25[:10]]\n",
    "\n",
    "from sklearn.feature_selection import SelectKBest\n",
    "from sklearn.feature_selection import f_regression\n",
    "from sklearn.linear_model import LinearRegression\n",
    "from sklearn.preprocessing import StandardScaler, OneHotEncoder\n",
    "from sklearn.pipeline import make_pipeline\n",
    "from sklearn.compose import make_column_transformer\n",
    "\n",
    "columns = ['Summary', 'Episode_Title', 'Stars', 'Votes', 'text', 'match', 'len in words', 'len_prep'] + to_drop\n",
    "\n",
    "X = sb.drop(columns=columns)\n",
    "X.Director = X.Director.apply(direr)\n",
    "y = books.Stars\n",
    "\n",
    "reg = SVR()\n",
    "hot = OneHotEncoder()\n",
    "scal = StandardScaler()\n",
    "\n",
    "categorical_features = X.select_dtypes(include=\"object\").columns\n",
    "integer_features = X.select_dtypes(exclude=\"object\").columns\n",
    "\n",
    "prep = make_column_transformer((hot, categorical_features),\n",
    "                                (scal, integer_features))\n",
    "\n",
    "pipe = make_pipeline(prep,reg)\n",
    "\n",
    "scores = cross_val_score(pipe, X, y, cv=cv, scoring = 'neg_root_mean_squared_error')\n",
    "\n",
    "print(np.mean(scores), np.std(scores))\n",
    "\n",
    "resultlist.append(['sb_10_topics', np.mean(scores), np.std(scores)])\n",
    "\n",
    "# model = pipe.fit(X, y)\n",
    "\n",
    "# feature_names = model[:-1].get_feature_names_out()\n",
    "\n",
    "# X_preprocessed = pd.DataFrame(\n",
    "#     model[:-1].transform(X), columns=feature_names\n",
    "# )\n",
    "\n",
    "# coefs = pd.DataFrame(\n",
    "#     model[-1].coef_* X_preprocessed.std(axis=0),\n",
    "#     columns=[\"Coefficients\"],\n",
    "#     index=feature_names,\n",
    "# )\n",
    "\n",
    "# coefs[\"Coefficients\"].sort_values(ascending=False)"
   ]
  },
  {
   "cell_type": "code",
   "execution_count": 41,
   "metadata": {},
   "outputs": [
    {
     "data": {
      "text/plain": [
       "[['model', 'LOOCV mean score', 'std'],\n",
       " ['dummy_baseline', -0.3113667508113955, 0.24655333378118335],\n",
       " ['BOW_baseline', -0.31038842338807143, 0.2511842652329307],\n",
       " ['no_topic_baseline', -0.3152065310522481, 0.24494497880925878],\n",
       " ['books_all_topics', -0.31440869871969496, 0.2531891965351134],\n",
       " ['sc_all_topics', -0.2634689459745494, 0.20842686080328332],\n",
       " ['books_50_topics', -0.2992068909287241, 0.25312880887507766],\n",
       " ['sb_50_topics', -0.2765580952051211, 0.22592420845009073],\n",
       " ['books_25_topics', -0.3020732451010574, 0.23819317506814044],\n",
       " ['sb_25_topics', -0.28001743143273483, 0.2195431482604701],\n",
       " ['books_10_topics', -0.31234145291979715, 0.2573858774135108],\n",
       " ['sb_10_topics', -0.29508784576346614, 0.24615329370423772]]"
      ]
     },
     "execution_count": 41,
     "metadata": {},
     "output_type": "execute_result"
    }
   ],
   "source": [
    "resultlist"
   ]
  },
  {
   "cell_type": "code",
   "execution_count": null,
   "metadata": {},
   "outputs": [],
   "source": []
  }
 ],
 "metadata": {
  "kernelspec": {
   "display_name": "Python 3.8.8 ('base')",
   "language": "python",
   "name": "python3"
  },
  "language_info": {
   "codemirror_mode": {
    "name": "ipython",
    "version": 3
   },
   "file_extension": ".py",
   "mimetype": "text/x-python",
   "name": "python",
   "nbconvert_exporter": "python",
   "pygments_lexer": "ipython3",
   "version": "3.8.8"
  },
  "orig_nbformat": 4,
  "vscode": {
   "interpreter": {
    "hash": "db3ad00c254152fbd946dfe3ddf750e2d6dd1f511dd85499e770b0c6b301697a"
   }
  }
 },
 "nbformat": 4,
 "nbformat_minor": 2
}
