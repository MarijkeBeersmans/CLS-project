{
 "cells": [
  {
   "cell_type": "markdown",
   "metadata": {},
   "source": [
    "# correlation"
   ]
  },
  {
   "cell_type": "code",
   "execution_count": 51,
   "metadata": {},
   "outputs": [],
   "source": [
    "import pandas as pd\n",
    "books = pd.read_csv('books/friends_books_topics_model.csv', index_col=0)\n",
    "sb = pd.read_csv('scriptbase/friends_scriptbase_topics.csv', index_col=0)"
   ]
  },
  {
   "cell_type": "code",
   "execution_count": 60,
   "metadata": {},
   "outputs": [
    {
     "data": {
      "text/plain": [
       "t105   -0.142542\n",
       "t283   -0.146418\n",
       "t98    -0.147777\n",
       "t111   -0.149256\n",
       "t71    -0.152257\n",
       "t140   -0.154374\n",
       "t259   -0.156211\n",
       "t152   -0.160011\n",
       "t121   -0.161811\n",
       "t8     -0.163229\n",
       "t177   -0.163634\n",
       "t197   -0.163971\n",
       "t205   -0.174391\n",
       "t231   -0.192459\n",
       "t275   -0.199732\n",
       "t189   -0.222429\n",
       "t84    -0.229353\n",
       "t37          NaN\n",
       "t240         NaN\n",
       "t263         NaN\n",
       "Name: Stars, dtype: float64"
      ]
     },
     "execution_count": 60,
     "metadata": {},
     "output_type": "execute_result"
    }
   ],
   "source": [
    "corr = books.corr(method='spearman')\n",
    "app = corr['Stars'].sort_values(ascending=False)\n",
    "app[-20:]"
   ]
  },
  {
   "cell_type": "code",
   "execution_count": 61,
   "metadata": {},
   "outputs": [
    {
     "data": {
      "text/plain": [
       "t98            -0.157807\n",
       "t75            -0.171055\n",
       "t279           -0.175966\n",
       "Joey           -0.179345\n",
       "t87            -0.186545\n",
       "t16            -0.186786\n",
       "t222           -0.189240\n",
       "t31            -0.194967\n",
       "t152           -0.208396\n",
       "t231           -0.220741\n",
       "t177           -0.221887\n",
       "Mike           -0.269164\n",
       "len in words   -0.440715\n",
       "len_prep       -0.442484\n",
       "match          -0.464871\n",
       "Season         -0.698575\n",
       "Year_of_prod   -0.709281\n",
       "t37                  NaN\n",
       "t240                 NaN\n",
       "t263                 NaN\n",
       "Name: Votes, dtype: float64"
      ]
     },
     "execution_count": 61,
     "metadata": {},
     "output_type": "execute_result"
    }
   ],
   "source": [
    "corr = books.corr(method='spearman')\n",
    "pop = corr['Votes'].sort_values(ascending=False)\n",
    "pop[-20:]"
   ]
  }
 ],
 "metadata": {
  "kernelspec": {
   "display_name": "Python 3.8.8 ('base')",
   "language": "python",
   "name": "python3"
  },
  "language_info": {
   "codemirror_mode": {
    "name": "ipython",
    "version": 3
   },
   "file_extension": ".py",
   "mimetype": "text/x-python",
   "name": "python",
   "nbconvert_exporter": "python",
   "pygments_lexer": "ipython3",
   "version": "3.8.8"
  },
  "orig_nbformat": 4,
  "vscode": {
   "interpreter": {
    "hash": "db3ad00c254152fbd946dfe3ddf750e2d6dd1f511dd85499e770b0c6b301697a"
   }
  }
 },
 "nbformat": 4,
 "nbformat_minor": 2
}
