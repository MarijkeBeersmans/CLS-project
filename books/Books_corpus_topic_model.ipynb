{
 "cells": [
  {
   "cell_type": "markdown",
   "metadata": {},
   "source": [
    "# Books corpus topic model"
   ]
  },
  {
   "cell_type": "code",
   "execution_count": 3,
   "metadata": {},
   "outputs": [
    {
     "data": {
      "text/html": [
       "<div>\n",
       "<style scoped>\n",
       "    .dataframe tbody tr th:only-of-type {\n",
       "        vertical-align: middle;\n",
       "    }\n",
       "\n",
       "    .dataframe tbody tr th {\n",
       "        vertical-align: top;\n",
       "    }\n",
       "\n",
       "    .dataframe thead th {\n",
       "        text-align: right;\n",
       "    }\n",
       "</style>\n",
       "<table border=\"1\" class=\"dataframe\">\n",
       "  <thead>\n",
       "    <tr style=\"text-align: right;\">\n",
       "      <th></th>\n",
       "      <th>Year_of_prod</th>\n",
       "      <th>Season</th>\n",
       "      <th>Episode Number</th>\n",
       "      <th>Episode_Title</th>\n",
       "      <th>Duration</th>\n",
       "      <th>Summary</th>\n",
       "      <th>Director</th>\n",
       "      <th>Stars</th>\n",
       "      <th>Votes</th>\n",
       "      <th>match</th>\n",
       "      <th>...</th>\n",
       "      <th>Phoebe</th>\n",
       "      <th>Ross</th>\n",
       "      <th>Rachel</th>\n",
       "      <th>Carol</th>\n",
       "      <th>Susan</th>\n",
       "      <th>Janice</th>\n",
       "      <th>Mike</th>\n",
       "      <th>Gunther</th>\n",
       "      <th>Ben</th>\n",
       "      <th>Emily</th>\n",
       "    </tr>\n",
       "  </thead>\n",
       "  <tbody>\n",
       "    <tr>\n",
       "      <th>0</th>\n",
       "      <td>1994</td>\n",
       "      <td>1</td>\n",
       "      <td>1</td>\n",
       "      <td>The One Where Monica Gets a Roommate: The Pilot</td>\n",
       "      <td>22</td>\n",
       "      <td>Monica and the gang introduce Rachel to the \"r...</td>\n",
       "      <td>James Burrows</td>\n",
       "      <td>8.3</td>\n",
       "      <td>7440</td>\n",
       "      <td>11</td>\n",
       "      <td>...</td>\n",
       "      <td>0.061248</td>\n",
       "      <td>0.144114</td>\n",
       "      <td>0.155643</td>\n",
       "      <td>0.000000</td>\n",
       "      <td>0.000000</td>\n",
       "      <td>0.000000</td>\n",
       "      <td>0.0</td>\n",
       "      <td>0.0</td>\n",
       "      <td>0.0</td>\n",
       "      <td>0.0</td>\n",
       "    </tr>\n",
       "    <tr>\n",
       "      <th>1</th>\n",
       "      <td>1994</td>\n",
       "      <td>1</td>\n",
       "      <td>2</td>\n",
       "      <td>The One with the Sonogram at the End</td>\n",
       "      <td>22</td>\n",
       "      <td>Ross finds out his ex-wife is pregnant. Rachel...</td>\n",
       "      <td>James Burrows</td>\n",
       "      <td>8.1</td>\n",
       "      <td>4888</td>\n",
       "      <td>12</td>\n",
       "      <td>...</td>\n",
       "      <td>0.061500</td>\n",
       "      <td>0.248342</td>\n",
       "      <td>0.165269</td>\n",
       "      <td>0.088068</td>\n",
       "      <td>0.044696</td>\n",
       "      <td>0.000000</td>\n",
       "      <td>0.0</td>\n",
       "      <td>0.0</td>\n",
       "      <td>0.0</td>\n",
       "      <td>0.0</td>\n",
       "    </tr>\n",
       "    <tr>\n",
       "      <th>2</th>\n",
       "      <td>1994</td>\n",
       "      <td>1</td>\n",
       "      <td>3</td>\n",
       "      <td>The One with the Thumb</td>\n",
       "      <td>22</td>\n",
       "      <td>Monica becomes irritated when everyone likes h...</td>\n",
       "      <td>James Burrows</td>\n",
       "      <td>8.2</td>\n",
       "      <td>4605</td>\n",
       "      <td>13</td>\n",
       "      <td>...</td>\n",
       "      <td>0.145415</td>\n",
       "      <td>0.125624</td>\n",
       "      <td>0.102383</td>\n",
       "      <td>0.000000</td>\n",
       "      <td>0.000000</td>\n",
       "      <td>0.000000</td>\n",
       "      <td>0.0</td>\n",
       "      <td>0.0</td>\n",
       "      <td>0.0</td>\n",
       "      <td>0.0</td>\n",
       "    </tr>\n",
       "    <tr>\n",
       "      <th>3</th>\n",
       "      <td>1994</td>\n",
       "      <td>1</td>\n",
       "      <td>4</td>\n",
       "      <td>The One with George Stephanopoulos</td>\n",
       "      <td>22</td>\n",
       "      <td>Joey and Chandler take Ross to a hockey game t...</td>\n",
       "      <td>James Burrows</td>\n",
       "      <td>8.1</td>\n",
       "      <td>4468</td>\n",
       "      <td>14</td>\n",
       "      <td>...</td>\n",
       "      <td>0.111161</td>\n",
       "      <td>0.151849</td>\n",
       "      <td>0.162042</td>\n",
       "      <td>0.000000</td>\n",
       "      <td>0.000000</td>\n",
       "      <td>0.000000</td>\n",
       "      <td>0.0</td>\n",
       "      <td>0.0</td>\n",
       "      <td>0.0</td>\n",
       "      <td>0.0</td>\n",
       "    </tr>\n",
       "    <tr>\n",
       "      <th>4</th>\n",
       "      <td>1994</td>\n",
       "      <td>1</td>\n",
       "      <td>5</td>\n",
       "      <td>The One with the East German Laundry Detergent</td>\n",
       "      <td>22</td>\n",
       "      <td>Eager to spend time with Rachel, Ross pretends...</td>\n",
       "      <td>Pamela Fryman</td>\n",
       "      <td>8.5</td>\n",
       "      <td>4438</td>\n",
       "      <td>15</td>\n",
       "      <td>...</td>\n",
       "      <td>0.095007</td>\n",
       "      <td>0.150061</td>\n",
       "      <td>0.141764</td>\n",
       "      <td>0.000000</td>\n",
       "      <td>0.000000</td>\n",
       "      <td>0.047483</td>\n",
       "      <td>0.0</td>\n",
       "      <td>0.0</td>\n",
       "      <td>0.0</td>\n",
       "      <td>0.0</td>\n",
       "    </tr>\n",
       "  </tbody>\n",
       "</table>\n",
       "<p>5 rows × 26 columns</p>\n",
       "</div>"
      ],
      "text/plain": [
       "   Year_of_prod  Season  Episode Number  \\\n",
       "0          1994       1               1   \n",
       "1          1994       1               2   \n",
       "2          1994       1               3   \n",
       "3          1994       1               4   \n",
       "4          1994       1               5   \n",
       "\n",
       "                                     Episode_Title  Duration  \\\n",
       "0  The One Where Monica Gets a Roommate: The Pilot        22   \n",
       "1             The One with the Sonogram at the End        22   \n",
       "2                           The One with the Thumb        22   \n",
       "3               The One with George Stephanopoulos        22   \n",
       "4   The One with the East German Laundry Detergent        22   \n",
       "\n",
       "                                             Summary       Director  Stars  \\\n",
       "0  Monica and the gang introduce Rachel to the \"r...  James Burrows    8.3   \n",
       "1  Ross finds out his ex-wife is pregnant. Rachel...  James Burrows    8.1   \n",
       "2  Monica becomes irritated when everyone likes h...  James Burrows    8.2   \n",
       "3  Joey and Chandler take Ross to a hockey game t...  James Burrows    8.1   \n",
       "4  Eager to spend time with Rachel, Ross pretends...  Pamela Fryman    8.5   \n",
       "\n",
       "   Votes  match  ...    Phoebe      Ross    Rachel     Carol     Susan  \\\n",
       "0   7440     11  ...  0.061248  0.144114  0.155643  0.000000  0.000000   \n",
       "1   4888     12  ...  0.061500  0.248342  0.165269  0.088068  0.044696   \n",
       "2   4605     13  ...  0.145415  0.125624  0.102383  0.000000  0.000000   \n",
       "3   4468     14  ...  0.111161  0.151849  0.162042  0.000000  0.000000   \n",
       "4   4438     15  ...  0.095007  0.150061  0.141764  0.000000  0.000000   \n",
       "\n",
       "     Janice  Mike  Gunther  Ben  Emily  \n",
       "0  0.000000   0.0      0.0  0.0    0.0  \n",
       "1  0.000000   0.0      0.0  0.0    0.0  \n",
       "2  0.000000   0.0      0.0  0.0    0.0  \n",
       "3  0.000000   0.0      0.0  0.0    0.0  \n",
       "4  0.047483   0.0      0.0  0.0    0.0  \n",
       "\n",
       "[5 rows x 26 columns]"
      ]
     },
     "execution_count": 3,
     "metadata": {},
     "output_type": "execute_result"
    }
   ],
   "source": [
    "import pandas as pd\n",
    "import numpy as np\n",
    "\n",
    "friends = pd.read_csv('../transcripts and metadata/friends_mastersheet.csv', index_col=0)\n",
    "friends.head()"
   ]
  },
  {
   "cell_type": "code",
   "execution_count": 4,
   "metadata": {},
   "outputs": [
    {
     "data": {
      "text/plain": [
       "686.228813559322"
      ]
     },
     "execution_count": 4,
     "metadata": {},
     "output_type": "execute_result"
    }
   ],
   "source": [
    "np.mean(friends['len_prep'])"
   ]
  },
  {
   "cell_type": "markdown",
   "metadata": {},
   "source": [
    "## Some checks"
   ]
  },
  {
   "cell_type": "code",
   "execution_count": 5,
   "metadata": {},
   "outputs": [
    {
     "name": "stdout",
     "output_type": "stream",
     "text": [
      "season 4 episode 21 , \"The One with the Invitation\" rating = 7.2 stars: \n",
      "\n",
      " As Ross and Emily send out wedding invitations, he and Rachel each look back on their relationship together while Joey and Chandler look for a purpose in life.\n",
      "\n",
      "season 6 episode 20 , \"The One with Mac and C.H.E.E.S.E.\" rating = 7.4 stars: \n",
      "\n",
      " Chandler forgets to write down a message for Joey when the time of his audition for the lead in a TV show is changed.\n",
      "\n",
      "season 8 episode 19 , \"The One with Joey's Interview\" rating = 7.5 stars: \n",
      "\n",
      " Joey prepares for his epic interview with Soap Opera Digest, reminiscing about his past acting experiences, his friends and his romantic life.\n",
      "\n",
      "season 7 episode 21 , \"The One with the Vows\" rating = 7.5 stars: \n",
      "\n",
      " Monica and Chandler are getting married in four weeks and have to write their vows, but neither has a clue what to say, so they reflect on their past.\n",
      "\n",
      "season 9 episode 10 , \"The One with Christmas in Tulsa\" rating = 7.5 stars: \n",
      "\n",
      " Chandler must spend Christmas in Tulsa, which Monica thinks he might have an affair with a former Miss Oklahoma runner-up while he is there. Chandler comes home early to announce that he quit his job.\n",
      "\n"
     ]
    }
   ],
   "source": [
    "# 5 least popular Friends episodes\n",
    "\n",
    "check = friends.sort_values(by='Stars')\n",
    "\n",
    "for i in range(5):\n",
    "    row = check.iloc[i]\n",
    "    episode = row['Episode Number']\n",
    "    name = row['Episode_Title']\n",
    "    season = row['Season']\n",
    "    summary = row['Summary']\n",
    "    stars = row['Stars']\n",
    "    print(f'season {season} episode {episode} , \"{name}\" rating = {stars} stars: \\n\\n {summary}\\n')"
   ]
  },
  {
   "cell_type": "code",
   "execution_count": 6,
   "metadata": {},
   "outputs": [
    {
     "name": "stdout",
     "output_type": "stream",
     "text": [
      "season 10 episode 18 , \"The Last One: Part 2\" rating = 9.7 stars: \n",
      "\n",
      " Phoebe races Ross to the airport in a bid to stop Rachel from leaving for Paris. Monica and Chandler pack up their apartment ahead of their move to their new house, and Joey buys Chandler a new chick and duck as a leaving present.\n",
      "\n",
      "season 5 episode 14 , \"The One Where Everybody Finds Out\" rating = 9.7 stars: \n",
      "\n",
      " When Phoebe finds out about Monica and Chandler, she and Rachel attempt to get them to confess their relationship.\n",
      "\n",
      "season 10 episode 17 , \"The Last One: Part 1\" rating = 9.5 stars: \n",
      "\n",
      " Erica gives birth to the baby that Monica and Chandler are adopting. However, there's one small added surprise. Meanwhile, Ross and Rachel sleep together one last time before Rachel leaves ...                See full summary »\n",
      "\n",
      "season 4 episode 12 , \"The One with the Embryos\" rating = 9.5 stars: \n",
      "\n",
      " Phoebe's uterus is examined for implantation of the embryos. Meanwhile, a seemingly harmless game between Chandler and Joey against Monica and Rachel escalates into a full blown contest where the stakes are raised higher and higher.\n",
      "\n",
      "season 2 episode 14 , \"The One with the Prom Video\" rating = 9.4 stars: \n",
      "\n",
      " The gang watches a home video from the night of Monica and Rachel's prom. Joey gives Chandler a hideous bracelet.\n",
      "\n"
     ]
    }
   ],
   "source": [
    "# 5 most popular Friends episodes\n",
    "\n",
    "check = friends.sort_values(by='Stars', ascending=False)\n",
    "\n",
    "for i in range(5):\n",
    "    row = check.iloc[i]\n",
    "    episode = row['Episode Number']\n",
    "    name = row['Episode_Title']\n",
    "    season = row['Season']\n",
    "    summary = row['Summary']\n",
    "    stars = row['Stars']\n",
    "    print(f'season {season} episode {episode} , \"{name}\" rating = {stars} stars: \\n\\n {summary}\\n')"
   ]
  },
  {
   "cell_type": "markdown",
   "metadata": {},
   "source": [
    "## prep"
   ]
  },
  {
   "cell_type": "code",
   "execution_count": 7,
   "metadata": {},
   "outputs": [],
   "source": [
    "import glob\n",
    "import random\n",
    "RND = 12345\n",
    "random.seed(RND)\n",
    "\n",
    "class Chunker(object):\n",
    "    def __init__(self, filenames, metadata, singles_only=False,\n",
    "                 max_chars_per_book=None, chunk_size=None):\n",
    "        \n",
    "        # maximum number of characters to read from the beginning of each book:\n",
    "        self.max_chars_per_book = max_chars_per_book\n",
    "        \n",
    "        # size of the chunks returned (in tokens):\n",
    "        self.chunk_size = chunk_size\n",
    "        \n",
    "        # only return chunks from these files:\n",
    "        self.filenames = filenames\n",
    "        \n",
    "        # include a dictionary with metadata:\n",
    "        self.meta = meta\n",
    "        \n",
    "        # only return texts with a single genre label:\n",
    "        self.singles_only = singles_only\n",
    "        \n",
    "        # only collect genres during the first iteration\n",
    "        self.first = True\n",
    "\n",
    "    def __iter__(self):\n",
    "        if self.first:\n",
    "            self.genres = []\n",
    "        \n",
    "        for filename in self.filenames:\n",
    "            title = os.path.basename(filename)\n",
    "            current_genres = self.meta[title]\n",
    "            \n",
    "            if self.singles_only:\n",
    "                if len(current_genres) > 1:\n",
    "                    continue\n",
    "\n",
    "            with open(filename, 'r', encoding='utf-8') as f:\n",
    "                try:\n",
    "                    if self.max_chars_per_book:\n",
    "                        text = f.read()\n",
    "                        text = text[:self.max_chars_per_book]\n",
    "                    else:\n",
    "                        text = f.read()\n",
    "                except:\n",
    "                    continue\n",
    "            \n",
    "            tokens = text.split()\n",
    "            \n",
    "            for i in range(0, len(tokens), self.chunk_size):\n",
    "                if self.first:\n",
    "                    self.genres.append(current_genres)\n",
    "                yield tokens[i:i + self.chunk_size]\n",
    "                #this also helps for lazy loading because yield goes over it apart\n",
    "        \n",
    "        # stop collecting labels after first complete iteration\n",
    "        self.first = False"
   ]
  },
  {
   "cell_type": "code",
   "execution_count": 25,
   "metadata": {},
   "outputs": [],
   "source": [
    "n_features = 5000 # number of most common words\n",
    "n_topics = 30 # number of topics\n",
    "n_top_words = 60 # number of characteristic words per topic (viz purposes only)\n",
    "max_df = 0.5 # maximum document frequency\n",
    "min_df = 100 # minimum document frequency\n",
    "max_books = 1000 # include all books (None), or a specific number\n",
    "chunk_size = 686  # length of the average friends episode (after keeping only ADJ, NOUN & VERB)"
   ]
  },
  {
   "cell_type": "code",
   "execution_count": 26,
   "metadata": {},
   "outputs": [
    {
     "name": "stdout",
     "output_type": "stream",
     "text": [
      "6800\n"
     ]
    }
   ],
   "source": [
    "path = '../../session-09-20220505T113620Z-001/session-09/hp_topic_model/books/books/*.txt'\n",
    "filenames = sorted(list(glob.glob(path)))\n",
    "print(len(filenames))"
   ]
  },
  {
   "cell_type": "code",
   "execution_count": 27,
   "metadata": {},
   "outputs": [],
   "source": [
    "random.seed(RND)\n",
    "random.shuffle(filenames)\n",
    "# print(filenames[:10])\n",
    "# print(len(filenames))"
   ]
  },
  {
   "cell_type": "code",
   "execution_count": 28,
   "metadata": {},
   "outputs": [],
   "source": [
    "import json\n",
    "with open('../../session-09-20220505T113620Z-001/session-09/hp_topic_model/books_meta.json', 'r') as f:\n",
    "    meta = json.loads(f.read())\n",
    "\n",
    "# for book, genres in list(meta.items())[:20]:\n",
    "#     print(f\"{book} -> {' - '.join(sorted(genres))}\")"
   ]
  },
  {
   "cell_type": "markdown",
   "metadata": {},
   "source": [
    "## NMF"
   ]
  },
  {
   "cell_type": "code",
   "execution_count": 29,
   "metadata": {},
   "outputs": [
    {
     "name": "stdout",
     "output_type": "stream",
     "text": [
      "violation: 1.0\n",
      "violation: 0.031139885354918503\n",
      "violation: 0.07653054148533676\n",
      "violation: 0.11354472302917008\n",
      "violation: 0.13135412483719897\n",
      "violation: 0.13425896060342254\n",
      "violation: 0.1304850550958828\n",
      "violation: 0.11770486573524326\n",
      "violation: 0.09713547457928398\n",
      "violation: 0.08143741061371203\n",
      "violation: 0.06993458352690542\n",
      "violation: 0.06021147966995215\n",
      "violation: 0.05123587380296432\n",
      "violation: 0.04235832095942571\n",
      "violation: 0.03504204287923596\n",
      "violation: 0.029009569102915037\n",
      "violation: 0.024456500845704724\n",
      "violation: 0.021382119485847232\n",
      "violation: 0.018890061170217062\n",
      "violation: 0.01687122266624416\n",
      "violation: 0.015237613887276435\n",
      "violation: 0.013839879534472738\n",
      "violation: 0.012260163948462752\n",
      "violation: 0.010977533954085164\n",
      "violation: 0.009968562579638796\n",
      "violation: 0.00917947167039685\n",
      "violation: 0.008694941678385928\n",
      "violation: 0.008397989351567966\n",
      "violation: 0.008279199964980919\n",
      "violation: 0.008228289644864271\n",
      "violation: 0.008046499071513724\n",
      "violation: 0.007997744899021874\n",
      "violation: 0.007947645775222525\n",
      "violation: 0.007875215704706473\n",
      "violation: 0.007786974550593506\n",
      "violation: 0.007712810613660608\n",
      "violation: 0.007596858670115094\n",
      "violation: 0.007477726229077478\n",
      "violation: 0.007295958563263737\n",
      "violation: 0.007055540980175778\n",
      "violation: 0.006808270935027739\n",
      "violation: 0.0065553920392055825\n",
      "violation: 0.006295614006405469\n",
      "violation: 0.006047630676590818\n",
      "violation: 0.005851745278324909\n",
      "violation: 0.005689848370129189\n",
      "violation: 0.0055631903991638035\n",
      "violation: 0.005456799652189935\n",
      "violation: 0.005451089081863795\n",
      "violation: 0.005454634535755343\n"
     ]
    },
    {
     "name": "stderr",
     "output_type": "stream",
     "text": [
      "c:\\Users\\Gebruiker\\anaconda3\\lib\\site-packages\\sklearn\\decomposition\\_nmf.py:1692: ConvergenceWarning: Maximum number of iterations 50 reached. Increase it to improve convergence.\n",
      "  warnings.warn(\n"
     ]
    },
    {
     "ename": "TypeError",
     "evalue": "dump() missing 1 required positional argument: 'filename'",
     "output_type": "error",
     "traceback": [
      "\u001b[1;31m---------------------------------------------------------------------------\u001b[0m",
      "\u001b[1;31mTypeError\u001b[0m                                 Traceback (most recent call last)",
      "\u001b[1;32mc:\\Users\\Gebruiker\\Documents\\UA\\Computational literary studies\\CLS-project\\books\\Books_corpus_topic_model.ipynb Cell 14\u001b[0m in \u001b[0;36m<cell line: 23>\u001b[1;34m()\u001b[0m\n\u001b[0;32m     <a href='vscode-notebook-cell:/c%3A/Users/Gebruiker/Documents/UA/Computational%20literary%20studies/CLS-project/books/Books_corpus_topic_model.ipynb#X16sZmlsZQ%3D%3D?line=17'>18</a>\u001b[0m nmf \u001b[39m=\u001b[39m NMF(n_components\u001b[39m=\u001b[39m\u001b[39m300\u001b[39m,\n\u001b[0;32m     <a href='vscode-notebook-cell:/c%3A/Users/Gebruiker/Documents/UA/Computational%20literary%20studies/CLS-project/books/Books_corpus_topic_model.ipynb#X16sZmlsZQ%3D%3D?line=18'>19</a>\u001b[0m           random_state\u001b[39m=\u001b[39mRND,\n\u001b[0;32m     <a href='vscode-notebook-cell:/c%3A/Users/Gebruiker/Documents/UA/Computational%20literary%20studies/CLS-project/books/Books_corpus_topic_model.ipynb#X16sZmlsZQ%3D%3D?line=19'>20</a>\u001b[0m           verbose\u001b[39m=\u001b[39m\u001b[39m1\u001b[39m, max_iter\u001b[39m=\u001b[39m\u001b[39m50\u001b[39m)\u001b[39m.\u001b[39mfit(X) \u001b[39m# fit NMF model with TF-IDF feature\u001b[39;00m\n\u001b[0;32m     <a href='vscode-notebook-cell:/c%3A/Users/Gebruiker/Documents/UA/Computational%20literary%20studies/CLS-project/books/Books_corpus_topic_model.ipynb#X16sZmlsZQ%3D%3D?line=21'>22</a>\u001b[0m \u001b[39mimport\u001b[39;00m \u001b[39mjoblib\u001b[39;00m\n\u001b[1;32m---> <a href='vscode-notebook-cell:/c%3A/Users/Gebruiker/Documents/UA/Computational%20literary%20studies/CLS-project/books/Books_corpus_topic_model.ipynb#X16sZmlsZQ%3D%3D?line=22'>23</a>\u001b[0m nmf \u001b[39m=\u001b[39m joblib\u001b[39m.\u001b[39;49mdump(\u001b[39m'\u001b[39;49m\u001b[39mnmf_books_friends.sav\u001b[39;49m\u001b[39m'\u001b[39;49m)\n",
      "\u001b[1;31mTypeError\u001b[0m: dump() missing 1 required positional argument: 'filename'"
     ]
    }
   ],
   "source": [
    "import os\n",
    "from sklearn.feature_extraction.text import CountVectorizer, TfidfVectorizer\n",
    "\n",
    "def identity(x):\n",
    "    return x\n",
    "\n",
    "chunks = Chunker(filenames, meta,\n",
    "                 chunk_size=chunk_size,\n",
    "                 max_chars_per_book=None)\n",
    "\n",
    "\n",
    "vectorizer = TfidfVectorizer(max_df=max_df, min_df=min_df,\n",
    "                             max_features=n_features,\n",
    "                             analyzer=identity)\n",
    "X = vectorizer.fit_transform(chunks)\n",
    "\n",
    "from sklearn.decomposition import NMF\n",
    "nmf = NMF(n_components=300,\n",
    "          random_state=RND,\n",
    "          verbose=1, max_iter=50).fit(X) # fit NMF model with TF-IDF feature\n"
   ]
  },
  {
   "cell_type": "code",
   "execution_count": 30,
   "metadata": {},
   "outputs": [
    {
     "data": {
      "text/plain": [
       "['nmf_books_friends.sav']"
      ]
     },
     "execution_count": 30,
     "metadata": {},
     "output_type": "execute_result"
    }
   ],
   "source": [
    "import joblib\n",
    "joblib.dump(nmf, 'nmf_books_friends.sav')"
   ]
  },
  {
   "cell_type": "code",
   "execution_count": 31,
   "metadata": {},
   "outputs": [
    {
     "name": "stdout",
     "output_type": "stream",
     "text": [
      "topic 0: question - answer - ask - questions - answered - asking - answers - feeling - thinking - wondering\n",
      "topic 1: air - sound - fear - breath - scream - throat - tried - panic - hear - lungs\n",
      "topic 2: mouth - tongue - taste - teeth - throat - sucking - lip - opened - sucked - bite\n",
      "topic 3: says - asks - looks - ask - nods - smiles - turns - replies - tells - adds\n",
      "topic 4: father - died - study - proud - anger - born - taught - childhood - angry - learned\n",
      "topic 5: mom - okay - honey - hug - sweetie - crazy - boyfriend - weird - driveway - cancer\n",
      "topic 6: hell - damn - bastard - ass - damned - bitch - crap - pissed - fact - goddamn\n",
      "topic 7: lot - big - nice - bit - getting - stuff - bad - liked - thinking - having\n",
      "topic 8: ship - ships - vessel - cargo - fleet - port - space - hatch - board - engines\n",
      "topic 9: men - moved - armed - faces - seen - guns - dozen - wounded - their - carried\n"
     ]
    },
    {
     "name": "stderr",
     "output_type": "stream",
     "text": [
      "c:\\Users\\Gebruiker\\anaconda3\\lib\\site-packages\\sklearn\\utils\\deprecation.py:87: FutureWarning: Function get_feature_names is deprecated; get_feature_names is deprecated in 1.0 and will be removed in 1.2. Please use get_feature_names_out instead.\n",
      "  warnings.warn(msg, category=FutureWarning)\n"
     ]
    }
   ],
   "source": [
    "for topic_idx, topic in enumerate(nmf.components_[:10]):\n",
    "    top_idxs = np.argsort(topic)[::-1][:10]\n",
    "    top_words = np.array(vectorizer.get_feature_names())[top_idxs]\n",
    "    print(f'topic {topic_idx}:', ' - '.join(top_words))"
   ]
  },
  {
   "cell_type": "code",
   "execution_count": 32,
   "metadata": {},
   "outputs": [
    {
     "name": "stdout",
     "output_type": "stream",
     "text": [
      "violation: 1.0\n",
      "violation: 0.18986899875577293\n",
      "violation: 0.10465565379056031\n",
      "violation: 0.0178398516771986\n",
      "violation: 0.005571748429768079\n",
      "violation: 0.002139511926052231\n",
      "violation: 0.0003835171593940411\n",
      "violation: 0.00020764634272646355\n",
      "violation: 5.4729036309917784e-05\n",
      "Converged at iteration 10\n",
      "(252493, 300)\n"
     ]
    }
   ],
   "source": [
    "nmf.verbose = 1\n",
    "X_ = nmf.transform(X)\n",
    "print(X_.shape)"
   ]
  },
  {
   "cell_type": "code",
   "execution_count": 33,
   "metadata": {},
   "outputs": [
    {
     "name": "stderr",
     "output_type": "stream",
     "text": [
      "c:\\Users\\Gebruiker\\anaconda3\\lib\\site-packages\\sklearn\\utils\\deprecation.py:87: FutureWarning: Function get_feature_names is deprecated; get_feature_names is deprecated in 1.0 and will be removed in 1.2. Please use get_feature_names_out instead.\n",
      "  warnings.warn(msg, category=FutureWarning)\n"
     ]
    },
    {
     "name": "stdout",
     "output_type": "stream",
     "text": [
      "-> genre Adventure:\n",
      "   rifle - pistol - weapon - helicopter - fired - weapons - radio - target - bullets\n",
      "   gaze - glanced - stared - expression - smile - stepped - lifted - narrowed - murmured\n",
      "   lips - smile - pressed - lip - parted - cheeks - licked - finger - ear\n",
      "-> genre Horror:\n",
      "   zombies - zombie - undead - infected - bitten - flesh - virus - brains - skull\n",
      "   dead - alive - bodies - killed - died - ghost - gone - corpse - bones\n",
      "   gaze - glanced - stared - expression - smile - stepped - lifted - narrowed - murmured\n",
      "-> genre Vampires:\n",
      "   vampire - fangs - undead - stake - mortal - hunter - bite - neck - centuries\n",
      "   vampires - humans - werewolves - undead - hunters - stake - supernatural - members - creatures\n",
      "   blood - wound - fangs - red - bleeding - flesh - wounds - bloody - wrist\n",
      "-> genre Themes:\n",
      "   future - knowledge - different - history - person - nature - self - point - experience\n",
      "   gaze - glanced - stared - expression - smile - stepped - lifted - narrowed - murmured\n",
      "   old - year - age - fashioned - ancient - older - younger - wrinkled - dusty\n",
      "-> genre Historical:\n",
      "   men - moved - armed - faces - seen - guns - dozen - wounded - their\n",
      "   war - peace - german - council - race - land - history - end - fighting\n",
      "   horse - saddle - reins - rode - ride - riding - animal - stable - mounted\n",
      "-> genre Literature:\n",
      "   future - knowledge - different - history - person - nature - self - point - experience\n",
      "   gaze - glanced - stared - expression - smile - stepped - lifted - narrowed - murmured\n",
      "   arms - chest - neck - wrapped - waist - legs - shoulders - holding - hold\n",
      "-> genre Other:\n",
      "   cock - hips - clit - ass - legs - orgasm - fingers - thighs - wet\n",
      "   shit - ass - pissed - bitch - dick - fuck - holy - babe - bullshit\n",
      "   whispered - moved - slid - lifted - ear - kissed - muttered - pressed - stared\n",
      "-> genre Fantasy:\n",
      "   magic - magical - spells - use - circle - spell - curse - spider - fairy\n",
      "   human - humans - form - beings - species - race - humanity - robot - kind\n",
      "   gods - god - goddess - temple - mortal - powers - ancient - immortal - warriors\n",
      "-> genre Science_fiction:\n",
      "   planet - space - alien - universe - aliens - system - shuttle - species - star\n",
      "   ship - ships - vessel - cargo - fleet - port - space - hatch - board\n",
      "   future - knowledge - different - history - person - nature - self - point - experience\n",
      "-> genre Romance:\n",
      "   gaze - glanced - stared - expression - smile - stepped - lifted - narrowed - murmured\n",
      "   pleasure - desire - flesh - breast - tongue - thighs - nipple - thrust - heat\n",
      "   needed - loved - meant - hated - liked - realized - kept - hoped - knowing\n",
      "-> genre New_Adult:\n",
      "   looks - pulls - takes - asks - turns - makes - feels - starts - walks\n",
      "   shit - ass - pissed - bitch - dick - fuck - holy - babe - bullshit\n",
      "   lips - smile - pressed - lip - parted - cheeks - licked - finger - ear\n",
      "-> genre Young_Adult:\n",
      "   says - asks - looks - ask - nods - smiles - turns - replies - tells\n",
      "   looks - pulls - takes - asks - turns - makes - feels - starts - walks\n",
      "   mom - okay - honey - hug - sweetie - crazy - boyfriend - weird - driveway\n",
      "-> genre Humor:\n",
      "   gaze - glanced - stared - expression - smile - stepped - lifted - narrowed - murmured\n",
      "   fingers - skin - touch - soft - touched - neck - breath - palm - warm\n",
      "   heart - chest - breath - beat - beating - pounding - deep - racing - feeling\n",
      "-> genre Thriller:\n",
      "   government - country - military - american - security - political - public - president - news\n",
      "   bond - telephone - m - yards - cards - big - grey - machine - centre\n",
      "   court - trial - lawyer - jury - judge - law - lawyers - client - case\n",
      "-> genre Mystery:\n",
      "   case - information - murder - killer - evidence - investigation - crime - file - agent\n",
      "   police - station - officers - cops - detective - murder - chief - arrested - crime\n",
      "   ty - partner - answered - muttered - d - glanced - murmured - burns - laugh\n",
      "-> genre Teen:\n",
      "   smiles - nods - smile - sigh - chuckles - skull - frowns - smiling - laughs\n",
      "   school - high - year - teacher - college - football - teachers - grade - summer\n",
      "   class - teacher - classroom - classes - bell - locker - period - seat - lunch\n"
     ]
    }
   ],
   "source": [
    "from sklearn.feature_selection import f_classif\n",
    "\n",
    "genres = [g[0] for g in chunks.genres]\n",
    "feature_names = vectorizer.get_feature_names()\n",
    "\n",
    "for genre in set(genres):\n",
    "    print(f'-> genre {genre}:')\n",
    "    y = [1 if g == genre else 0 for g in genres]\n",
    "    # univariate feature selection with F-test for feature scoring\n",
    "    F, pval = f_classif(X_, y)\n",
    "    \n",
    "    # indices of three best topics\n",
    "    for topic_idx in np.argsort(F)[::-1][:3]:\n",
    "        topic = np.nan_to_num(nmf.components_[topic_idx])\n",
    "        words = [feature_names[i] for i in topic.argsort()[:-10:-1]]\n",
    "        print('   ' + ' - '.join(words))"
   ]
  },
  {
   "cell_type": "code",
   "execution_count": 19,
   "metadata": {},
   "outputs": [
    {
     "data": {
      "text/plain": [
       "(236, 300)"
      ]
     },
     "execution_count": 19,
     "metadata": {},
     "output_type": "execute_result"
    }
   ],
   "source": [
    "import pandas as pd\n",
    "nmf.verbose = 0\n",
    "\n",
    "texts = [value.split() for value in friends.text.values]\n",
    "\n",
    "scores = nmf.transform(vectorizer.transform(texts))  # transform the HP chapters according to the fitted NMF model\n",
    "scores.shape\n",
    "# print(scores)"
   ]
  },
  {
   "cell_type": "code",
   "execution_count": null,
   "metadata": {},
   "outputs": [],
   "source": []
  },
  {
   "cell_type": "code",
   "execution_count": 20,
   "metadata": {},
   "outputs": [
    {
     "data": {
      "text/html": [
       "<div>\n",
       "<style scoped>\n",
       "    .dataframe tbody tr th:only-of-type {\n",
       "        vertical-align: middle;\n",
       "    }\n",
       "\n",
       "    .dataframe tbody tr th {\n",
       "        vertical-align: top;\n",
       "    }\n",
       "\n",
       "    .dataframe thead th {\n",
       "        text-align: right;\n",
       "    }\n",
       "</style>\n",
       "<table border=\"1\" class=\"dataframe\">\n",
       "  <thead>\n",
       "    <tr style=\"text-align: right;\">\n",
       "      <th></th>\n",
       "      <th>Year_of_prod</th>\n",
       "      <th>Season</th>\n",
       "      <th>Episode Number</th>\n",
       "      <th>Episode_Title</th>\n",
       "      <th>Duration</th>\n",
       "      <th>Summary</th>\n",
       "      <th>Director</th>\n",
       "      <th>Stars</th>\n",
       "      <th>Votes</th>\n",
       "      <th>match</th>\n",
       "      <th>...</th>\n",
       "      <th>t291</th>\n",
       "      <th>t292</th>\n",
       "      <th>t293</th>\n",
       "      <th>t294</th>\n",
       "      <th>t295</th>\n",
       "      <th>t296</th>\n",
       "      <th>t297</th>\n",
       "      <th>t298</th>\n",
       "      <th>t299</th>\n",
       "      <th>t300</th>\n",
       "    </tr>\n",
       "  </thead>\n",
       "  <tbody>\n",
       "    <tr>\n",
       "      <th>0</th>\n",
       "      <td>1994</td>\n",
       "      <td>1</td>\n",
       "      <td>1</td>\n",
       "      <td>The One Where Monica Gets a Roommate: The Pilot</td>\n",
       "      <td>22</td>\n",
       "      <td>Monica and the gang introduce Rachel to the \"r...</td>\n",
       "      <td>James Burrows</td>\n",
       "      <td>8.3</td>\n",
       "      <td>7440</td>\n",
       "      <td>11</td>\n",
       "      <td>...</td>\n",
       "      <td>0.0</td>\n",
       "      <td>0.001308</td>\n",
       "      <td>0.000000</td>\n",
       "      <td>0.000000</td>\n",
       "      <td>0.0</td>\n",
       "      <td>0.0</td>\n",
       "      <td>0.0</td>\n",
       "      <td>0.000000</td>\n",
       "      <td>0.000811</td>\n",
       "      <td>0.007228</td>\n",
       "    </tr>\n",
       "    <tr>\n",
       "      <th>1</th>\n",
       "      <td>1994</td>\n",
       "      <td>1</td>\n",
       "      <td>2</td>\n",
       "      <td>The One with the Sonogram at the End</td>\n",
       "      <td>22</td>\n",
       "      <td>Ross finds out his ex-wife is pregnant. Rachel...</td>\n",
       "      <td>James Burrows</td>\n",
       "      <td>8.1</td>\n",
       "      <td>4888</td>\n",
       "      <td>12</td>\n",
       "      <td>...</td>\n",
       "      <td>0.0</td>\n",
       "      <td>0.000000</td>\n",
       "      <td>0.000377</td>\n",
       "      <td>0.000000</td>\n",
       "      <td>0.0</td>\n",
       "      <td>0.0</td>\n",
       "      <td>0.0</td>\n",
       "      <td>0.000000</td>\n",
       "      <td>0.000377</td>\n",
       "      <td>0.000000</td>\n",
       "    </tr>\n",
       "    <tr>\n",
       "      <th>2</th>\n",
       "      <td>1994</td>\n",
       "      <td>1</td>\n",
       "      <td>3</td>\n",
       "      <td>The One with the Thumb</td>\n",
       "      <td>22</td>\n",
       "      <td>Monica becomes irritated when everyone likes h...</td>\n",
       "      <td>James Burrows</td>\n",
       "      <td>8.2</td>\n",
       "      <td>4605</td>\n",
       "      <td>13</td>\n",
       "      <td>...</td>\n",
       "      <td>0.0</td>\n",
       "      <td>0.000000</td>\n",
       "      <td>0.000000</td>\n",
       "      <td>0.000000</td>\n",
       "      <td>0.0</td>\n",
       "      <td>0.0</td>\n",
       "      <td>0.0</td>\n",
       "      <td>0.000000</td>\n",
       "      <td>0.000000</td>\n",
       "      <td>0.000000</td>\n",
       "    </tr>\n",
       "    <tr>\n",
       "      <th>3</th>\n",
       "      <td>1994</td>\n",
       "      <td>1</td>\n",
       "      <td>4</td>\n",
       "      <td>The One with George Stephanopoulos</td>\n",
       "      <td>22</td>\n",
       "      <td>Joey and Chandler take Ross to a hockey game t...</td>\n",
       "      <td>James Burrows</td>\n",
       "      <td>8.1</td>\n",
       "      <td>4468</td>\n",
       "      <td>14</td>\n",
       "      <td>...</td>\n",
       "      <td>0.0</td>\n",
       "      <td>0.013545</td>\n",
       "      <td>0.000000</td>\n",
       "      <td>0.005333</td>\n",
       "      <td>0.0</td>\n",
       "      <td>0.0</td>\n",
       "      <td>0.0</td>\n",
       "      <td>0.000000</td>\n",
       "      <td>0.004276</td>\n",
       "      <td>0.000000</td>\n",
       "    </tr>\n",
       "    <tr>\n",
       "      <th>4</th>\n",
       "      <td>1994</td>\n",
       "      <td>1</td>\n",
       "      <td>5</td>\n",
       "      <td>The One with the East German Laundry Detergent</td>\n",
       "      <td>22</td>\n",
       "      <td>Eager to spend time with Rachel, Ross pretends...</td>\n",
       "      <td>Pamela Fryman</td>\n",
       "      <td>8.5</td>\n",
       "      <td>4438</td>\n",
       "      <td>15</td>\n",
       "      <td>...</td>\n",
       "      <td>0.0</td>\n",
       "      <td>0.006093</td>\n",
       "      <td>0.000000</td>\n",
       "      <td>0.000464</td>\n",
       "      <td>0.0</td>\n",
       "      <td>0.0</td>\n",
       "      <td>0.0</td>\n",
       "      <td>0.000259</td>\n",
       "      <td>0.002814</td>\n",
       "      <td>0.000000</td>\n",
       "    </tr>\n",
       "  </tbody>\n",
       "</table>\n",
       "<p>5 rows × 313 columns</p>\n",
       "</div>"
      ],
      "text/plain": [
       "   Year_of_prod  Season  Episode Number  \\\n",
       "0          1994       1               1   \n",
       "1          1994       1               2   \n",
       "2          1994       1               3   \n",
       "3          1994       1               4   \n",
       "4          1994       1               5   \n",
       "\n",
       "                                     Episode_Title  Duration  \\\n",
       "0  The One Where Monica Gets a Roommate: The Pilot        22   \n",
       "1             The One with the Sonogram at the End        22   \n",
       "2                           The One with the Thumb        22   \n",
       "3               The One with George Stephanopoulos        22   \n",
       "4   The One with the East German Laundry Detergent        22   \n",
       "\n",
       "                                             Summary       Director  Stars  \\\n",
       "0  Monica and the gang introduce Rachel to the \"r...  James Burrows    8.3   \n",
       "1  Ross finds out his ex-wife is pregnant. Rachel...  James Burrows    8.1   \n",
       "2  Monica becomes irritated when everyone likes h...  James Burrows    8.2   \n",
       "3  Joey and Chandler take Ross to a hockey game t...  James Burrows    8.1   \n",
       "4  Eager to spend time with Rachel, Ross pretends...  Pamela Fryman    8.5   \n",
       "\n",
       "   Votes  match  ... t291      t292      t293      t294  t295  t296  t297  \\\n",
       "0   7440     11  ...  0.0  0.001308  0.000000  0.000000   0.0   0.0   0.0   \n",
       "1   4888     12  ...  0.0  0.000000  0.000377  0.000000   0.0   0.0   0.0   \n",
       "2   4605     13  ...  0.0  0.000000  0.000000  0.000000   0.0   0.0   0.0   \n",
       "3   4468     14  ...  0.0  0.013545  0.000000  0.005333   0.0   0.0   0.0   \n",
       "4   4438     15  ...  0.0  0.006093  0.000000  0.000464   0.0   0.0   0.0   \n",
       "\n",
       "       t298      t299      t300  \n",
       "0  0.000000  0.000811  0.007228  \n",
       "1  0.000000  0.000377  0.000000  \n",
       "2  0.000000  0.000000  0.000000  \n",
       "3  0.000000  0.004276  0.000000  \n",
       "4  0.000259  0.002814  0.000000  \n",
       "\n",
       "[5 rows x 313 columns]"
      ]
     },
     "execution_count": 20,
     "metadata": {},
     "output_type": "execute_result"
    }
   ],
   "source": [
    "df_scores = pd.DataFrame(scores, columns=[f't{i+1}' for i in range(scores.shape[1])])\n",
    "friends2 = friends.join(df_scores)\n",
    "friends2.head()"
   ]
  },
  {
   "cell_type": "code",
   "execution_count": 21,
   "metadata": {},
   "outputs": [
    {
     "name": "stdout",
     "output_type": "stream",
     "text": [
      "[('t156', -0.16165380866897655), ('t200', -0.1545603429182612), ('t240', -0.15076285897819725), ('t140', -0.1374889760761255), ('t245', -0.13579647279788934), ('t121', -0.13569458136377172), ('t123', -0.1347526285374056), ('t198', -0.13019134610251534), ('t251', -0.1266668624593103), ('t252', -0.10370471658580645)]\n"
     ]
    }
   ],
   "source": [
    "from operator import itemgetter\n",
    "from scipy.stats import kendalltau\n",
    "\n",
    "ranks = range(1, len(friends2.index)+1)\n",
    "tau_scores = []\n",
    "for col in [f't{i+1}' for i in range(scores.shape[1])]:\n",
    "    tau, p = kendalltau(ranks, friends2[col].tolist())\n",
    "    tau_scores.append((col, tau))\n",
    "    \n",
    "tau_scores.sort(key=itemgetter(1))\n",
    "nb = 6\n",
    "top, bottom = tau_scores[:nb], tau_scores[-nb:]\n",
    "print(tau_scores[:10]) # print 10 topics with lowest Tau score"
   ]
  },
  {
   "cell_type": "code",
   "execution_count": 22,
   "metadata": {},
   "outputs": [
    {
     "data": {
      "image/png": "[encoded data removed]",
      "text/plain": [
       "<Figure size 1080x720 with 1 Axes>"
      ]
     },
     "metadata": {
      "needs_background": "light"
     },
     "output_type": "display_data"
    }
   ],
   "source": [
    "import matplotlib.pyplot as plt\n",
    "\n",
    "import seaborn as sb\n",
    "feature_names = vectorizer.get_feature_names_out()\n",
    "fig = plt.figure(figsize=(15, 10))\n",
    "sb.set_style(\"darkgrid\")\n",
    "for (feat, tau), col in zip(top, sb.color_palette(\"Set1\")[:nb]):\n",
    "    topic = nmf.components_[int(feat.replace('t', '')) - 1, :]\n",
    "    words = [feature_names[i] for i in topic.argsort()[:-6-1:-1]]\n",
    "    label = ' - '.join(words)\n",
    "    friends2[feat].rolling(window=50, center=True).mean().plot(label=label)\n",
    "plt.xlabel('', fontsize=10)\n",
    "plt.ylabel('Topic proportion', fontsize=10)\n",
    "plt.title(f'{nb} topics with steadiest decrease')\n",
    "plt.tight_layout()\n",
    "plt.legend();"
   ]
  },
  {
   "cell_type": "code",
   "execution_count": 23,
   "metadata": {},
   "outputs": [
    {
     "data": {
      "image/png": "[encoded data removed]",
      "text/plain": [
       "<Figure size 1080x720 with 1 Axes>"
      ]
     },
     "metadata": {},
     "output_type": "display_data"
    }
   ],
   "source": [
    "fig = plt.figure(figsize=(15, 10))\n",
    "sb.set_style(\"darkgrid\")\n",
    "for (feat, tau), col in zip(bottom, sb.color_palette(\"Set1\")[:nb]):\n",
    "    topic = nmf.components_[int(feat.replace('t', '')) - 1, :]\n",
    "    words = [feature_names[i] for i in topic.argsort()[:-5-1:-1]]\n",
    "    label = ' - '.join(words)\n",
    "    friends2[feat].rolling(window=30, center=True).mean().plot(label=label)\n",
    "plt.xlabel('Chapter', fontsize=10)\n",
    "plt.ylabel('Topic proportion', fontsize=10)\n",
    "plt.title(f'{nb} topics with steadiest increase')\n",
    "plt.legend();"
   ]
  },
  {
   "cell_type": "code",
   "execution_count": 24,
   "metadata": {},
   "outputs": [
    {
     "name": "stdout",
     "output_type": "stream",
     "text": [
      "t260: plane - airport - flight - pilot - planes - jet - flying - fly - crash\n",
      "t229: twins - twin - babies - pregnant - identical - pregnancy - born - tower - birth\n",
      "t84: cody - frowns - race - roman - mobile - telephone - views - planes - grinned\n",
      "t136: clan - chamber - courtyard - hall - leader - chief - land - leaders - herd\n",
      "t164: summer - college - winter - candy - weekend - spring - month - spend - senior\n",
      "t221: boss - company - assistant - contract - interview - suit - employees - employee - college\n",
      "t30: author - writing - novel - write - writer - fiction - stories - published - characters\n",
      "t47: beach - sand - ocean - waves - shore - vacation - shorts - swim - board\n",
      "t227: store - counter - grocery - shopping - mall - stores - register - customers - parking\n",
      "t159: camera - video - screen - cameras - tape - film - tv - studio - television\n",
      "t110: river - bank - shore - current - banks - fish - mud - waters - west\n",
      "t99: prison - prisoners - prisoner - jail - trial - gang - escape - bars - drugs\n",
      "t34: gage - gives - fog - pulls - picks - freaking - takes - whisper - alley\n",
      "t211: band - tour - guitar - bands - drum - concert - fans - rock - songs\n",
      "t87: werewolf - moon - silver - werewolves - cure - bitten - claws - shift - scent\n",
      "t167: tea - cup - tray - cups - sip - sipped - pot - poured - sugar\n",
      "t51: kids - adults - fun - teachers - parent - teacher - age - trip - older\n",
      "t198: bank - dollars - cash - account - buy - sell - dollar - paid - bills\n",
      "t257: remained - responded - approached - presence - unable - escape - attempted - allow - attempt\n",
      "t265: dagger - blade - blades - hilt - weapon - weapons - assassin - rogue - silver\n",
      "t94: rain - mud - wet - lightning - thunder - clouds - wind - soaked - weather\n",
      "t106: energy - shield - aura - crystal - powerful - vision - field - strength - electricity\n",
      "t247: e - mail - message - christian - messages - internet - address - o - a\n",
      "t126: humans - species - leader - race - beings - humanity - creatures - killing - animals\n",
      "t123: boys - sons - older - younger - gang - age - games - teacher - mothers\n"
     ]
    }
   ],
   "source": [
    "#25 most predictive topics\n",
    "\n",
    "from sklearn.feature_selection import SelectKBest\n",
    "from sklearn.feature_selection import f_regression\n",
    "\n",
    "feature_names = vectorizer.get_feature_names_out()\n",
    "X = friends2.drop(columns=friends.columns.tolist())\n",
    "\n",
    "\n",
    "y = friends2.Stars\n",
    "# univariate feature selection with F-test for feature scoring\n",
    "F, pval = f_regression(X, y)\n",
    "    \n",
    "    \n",
    "for topic_idx in np.argsort(F)[::-1][:25]:\n",
    "    topic = np.nan_to_num(nmf.components_[topic_idx])\n",
    "    words = [feature_names[i] for i in topic.argsort()[:-10:-1]]\n",
    "    print(f't{topic_idx}: ' + ' - '.join(words))"
   ]
  },
  {
   "cell_type": "markdown",
   "metadata": {},
   "source": [
    "### Predictions \n",
    "#### setting baseline"
   ]
  },
  {
   "cell_type": "code",
   "execution_count": 25,
   "metadata": {},
   "outputs": [
    {
     "name": "stdout",
     "output_type": "stream",
     "text": [
      "-0.3946868469935892\n"
     ]
    }
   ],
   "source": [
    "import numpy as np\n",
    "from sklearn.dummy import DummyRegressor\n",
    "from sklearn.model_selection import cross_val_score\n",
    "from sklearn.model_selection import train_test_split\n",
    "\n",
    "X = friends2.drop(columns=friends.columns.tolist())\n",
    "y = friends2.Stars\n",
    "\n",
    "dummy_regr = DummyRegressor(strategy=\"mean\")\n",
    "\n",
    "scores = cross_val_score(dummy_regr, X, y, cv=10, scoring = 'neg_root_mean_squared_error')\n",
    "\n",
    "print(np.mean(scores))\n"
   ]
  },
  {
   "cell_type": "markdown",
   "metadata": {},
   "source": [
    "#### predictions with topics"
   ]
  },
  {
   "cell_type": "code",
   "execution_count": 26,
   "metadata": {},
   "outputs": [
    {
     "name": "stdout",
     "output_type": "stream",
     "text": [
      "-168785267634.5802 127441585465.53943\n"
     ]
    }
   ],
   "source": [
    "#all features\n",
    "from sklearn.feature_selection import SelectKBest\n",
    "from sklearn.feature_selection import f_regression\n",
    "from sklearn.linear_model import LinearRegression\n",
    "from sklearn.preprocessing import StandardScaler\n",
    "from sklearn.pipeline import make_pipeline\n",
    "\n",
    "feature_names = vectorizer.get_feature_names_out()\n",
    "X = friends2.drop(columns=friends.columns.tolist())\n",
    "y = friends2.Stars\n",
    "\n",
    "reg = LinearRegression()\n",
    "\n",
    "scores = cross_val_score(reg, X, y, cv=10, scoring = 'neg_root_mean_squared_error')\n",
    "\n",
    "print(np.mean(scores), np.std(scores))"
   ]
  },
  {
   "cell_type": "code",
   "execution_count": 27,
   "metadata": {},
   "outputs": [
    {
     "name": "stdout",
     "output_type": "stream",
     "text": [
      "-0.4614957939830687 0.04056974650378721\n"
     ]
    }
   ],
   "source": [
    "#25 best features\n",
    "from sklearn.feature_selection import SelectKBest\n",
    "from sklearn.feature_selection import f_regression\n",
    "from sklearn.linear_model import LinearRegression\n",
    "from sklearn.preprocessing import StandardScaler\n",
    "from sklearn.pipeline import make_pipeline\n",
    "\n",
    "Best = [f't{topic_idx}' for topic_idx in np.argsort(F)[::-1][:25]]\n",
    "\n",
    "feature_names = vectorizer.get_feature_names_out()\n",
    "X = friends2[Best]\n",
    "y = friends2.Stars\n",
    "\n",
    "reg = LinearRegression()\n",
    "scal = StandardScaler()\n",
    "\n",
    "pipe = make_pipeline(reg, scal)\n",
    "\n",
    "scores = cross_val_score(reg, X, y, cv=10, scoring = 'neg_root_mean_squared_error')\n",
    "\n",
    "print(np.mean(scores), np.std(scores))"
   ]
  },
  {
   "cell_type": "code",
   "execution_count": 28,
   "metadata": {},
   "outputs": [
    {
     "name": "stdout",
     "output_type": "stream",
     "text": [
      "-0.4194487685914556 0.052396758313113995\n"
     ]
    }
   ],
   "source": [
    "#10 best features\n",
    "from sklearn.feature_selection import SelectKBest\n",
    "from sklearn.feature_selection import f_regression\n",
    "from sklearn.linear_model import LinearRegression\n",
    "from sklearn.preprocessing import StandardScaler\n",
    "from sklearn.pipeline import make_pipeline\n",
    "\n",
    "Best = [f't{topic_idx}' for topic_idx in np.argsort(F)[::-1][:10]]\n",
    "\n",
    "feature_names = vectorizer.get_feature_names_out()\n",
    "Xble = friends2.drop(columns=friends.columns.tolist())\n",
    "X = Xble[Best]\n",
    "y = friends2.Stars\n",
    "\n",
    "reg = LinearRegression()\n",
    "scal = StandardScaler()\n",
    "\n",
    "pipe = make_pipeline(reg, scal)\n",
    "\n",
    "scores = cross_val_score(reg, X, y, cv=10, scoring = 'neg_root_mean_squared_error')\n",
    "\n",
    "print(np.mean(scores), np.std(scores))"
   ]
  },
  {
   "cell_type": "code",
   "execution_count": 32,
   "metadata": {},
   "outputs": [
    {
     "data": {
      "text/html": [
       "<div>\n",
       "<style scoped>\n",
       "    .dataframe tbody tr th:only-of-type {\n",
       "        vertical-align: middle;\n",
       "    }\n",
       "\n",
       "    .dataframe tbody tr th {\n",
       "        vertical-align: top;\n",
       "    }\n",
       "\n",
       "    .dataframe thead th {\n",
       "        text-align: right;\n",
       "    }\n",
       "</style>\n",
       "<table border=\"1\" class=\"dataframe\">\n",
       "  <thead>\n",
       "    <tr style=\"text-align: right;\">\n",
       "      <th></th>\n",
       "      <th>t260</th>\n",
       "      <th>t229</th>\n",
       "      <th>t84</th>\n",
       "      <th>t136</th>\n",
       "      <th>t164</th>\n",
       "      <th>t221</th>\n",
       "      <th>t30</th>\n",
       "      <th>t47</th>\n",
       "      <th>t227</th>\n",
       "      <th>t159</th>\n",
       "      <th>Year_of_prod</th>\n",
       "      <th>Votes</th>\n",
       "      <th>Duration</th>\n",
       "      <th>Stars</th>\n",
       "    </tr>\n",
       "  </thead>\n",
       "  <tbody>\n",
       "    <tr>\n",
       "      <th>t260</th>\n",
       "      <td>1.000000</td>\n",
       "      <td>-0.032373</td>\n",
       "      <td>-0.033849</td>\n",
       "      <td>-0.051790</td>\n",
       "      <td>0.008305</td>\n",
       "      <td>0.059966</td>\n",
       "      <td>-0.074678</td>\n",
       "      <td>0.149145</td>\n",
       "      <td>0.016131</td>\n",
       "      <td>-0.019844</td>\n",
       "      <td>0.061369</td>\n",
       "      <td>-0.100354</td>\n",
       "      <td>-0.020806</td>\n",
       "      <td>-0.060883</td>\n",
       "    </tr>\n",
       "    <tr>\n",
       "      <th>t229</th>\n",
       "      <td>-0.032373</td>\n",
       "      <td>1.000000</td>\n",
       "      <td>-0.034273</td>\n",
       "      <td>0.018762</td>\n",
       "      <td>0.056593</td>\n",
       "      <td>-0.057698</td>\n",
       "      <td>0.017961</td>\n",
       "      <td>-0.035259</td>\n",
       "      <td>-0.047518</td>\n",
       "      <td>-0.043157</td>\n",
       "      <td>-0.080505</td>\n",
       "      <td>0.024162</td>\n",
       "      <td>-0.058802</td>\n",
       "      <td>-0.018253</td>\n",
       "    </tr>\n",
       "    <tr>\n",
       "      <th>t84</th>\n",
       "      <td>-0.033849</td>\n",
       "      <td>-0.034273</td>\n",
       "      <td>1.000000</td>\n",
       "      <td>-0.011527</td>\n",
       "      <td>-0.029453</td>\n",
       "      <td>-0.038423</td>\n",
       "      <td>-0.026220</td>\n",
       "      <td>0.084953</td>\n",
       "      <td>-0.055101</td>\n",
       "      <td>0.028558</td>\n",
       "      <td>-0.030762</td>\n",
       "      <td>0.050811</td>\n",
       "      <td>-0.029831</td>\n",
       "      <td>0.048243</td>\n",
       "    </tr>\n",
       "    <tr>\n",
       "      <th>t136</th>\n",
       "      <td>-0.051790</td>\n",
       "      <td>0.018762</td>\n",
       "      <td>-0.011527</td>\n",
       "      <td>1.000000</td>\n",
       "      <td>0.110852</td>\n",
       "      <td>-0.002671</td>\n",
       "      <td>-0.026905</td>\n",
       "      <td>-0.041531</td>\n",
       "      <td>-0.019128</td>\n",
       "      <td>0.221905</td>\n",
       "      <td>0.049393</td>\n",
       "      <td>0.021739</td>\n",
       "      <td>-0.030610</td>\n",
       "      <td>0.083991</td>\n",
       "    </tr>\n",
       "    <tr>\n",
       "      <th>t164</th>\n",
       "      <td>0.008305</td>\n",
       "      <td>0.056593</td>\n",
       "      <td>-0.029453</td>\n",
       "      <td>0.110852</td>\n",
       "      <td>1.000000</td>\n",
       "      <td>-0.067725</td>\n",
       "      <td>0.047955</td>\n",
       "      <td>-0.002137</td>\n",
       "      <td>0.118341</td>\n",
       "      <td>-0.016035</td>\n",
       "      <td>0.011394</td>\n",
       "      <td>-0.055467</td>\n",
       "      <td>-0.049909</td>\n",
       "      <td>-0.032466</td>\n",
       "    </tr>\n",
       "    <tr>\n",
       "      <th>t221</th>\n",
       "      <td>0.059966</td>\n",
       "      <td>-0.057698</td>\n",
       "      <td>-0.038423</td>\n",
       "      <td>-0.002671</td>\n",
       "      <td>-0.067725</td>\n",
       "      <td>1.000000</td>\n",
       "      <td>-0.022057</td>\n",
       "      <td>0.008690</td>\n",
       "      <td>-0.097072</td>\n",
       "      <td>-0.070136</td>\n",
       "      <td>0.084668</td>\n",
       "      <td>-0.107340</td>\n",
       "      <td>0.260708</td>\n",
       "      <td>-0.000776</td>\n",
       "    </tr>\n",
       "    <tr>\n",
       "      <th>t30</th>\n",
       "      <td>-0.074678</td>\n",
       "      <td>0.017961</td>\n",
       "      <td>-0.026220</td>\n",
       "      <td>-0.026905</td>\n",
       "      <td>0.047955</td>\n",
       "      <td>-0.022057</td>\n",
       "      <td>1.000000</td>\n",
       "      <td>-0.037909</td>\n",
       "      <td>0.010682</td>\n",
       "      <td>-0.027001</td>\n",
       "      <td>0.033819</td>\n",
       "      <td>-0.059496</td>\n",
       "      <td>-0.044233</td>\n",
       "      <td>-0.056105</td>\n",
       "    </tr>\n",
       "    <tr>\n",
       "      <th>t47</th>\n",
       "      <td>0.149145</td>\n",
       "      <td>-0.035259</td>\n",
       "      <td>0.084953</td>\n",
       "      <td>-0.041531</td>\n",
       "      <td>-0.002137</td>\n",
       "      <td>0.008690</td>\n",
       "      <td>-0.037909</td>\n",
       "      <td>1.000000</td>\n",
       "      <td>0.017259</td>\n",
       "      <td>0.011442</td>\n",
       "      <td>0.043256</td>\n",
       "      <td>0.006895</td>\n",
       "      <td>0.022485</td>\n",
       "      <td>0.017231</td>\n",
       "    </tr>\n",
       "    <tr>\n",
       "      <th>t227</th>\n",
       "      <td>0.016131</td>\n",
       "      <td>-0.047518</td>\n",
       "      <td>-0.055101</td>\n",
       "      <td>-0.019128</td>\n",
       "      <td>0.118341</td>\n",
       "      <td>-0.097072</td>\n",
       "      <td>0.010682</td>\n",
       "      <td>0.017259</td>\n",
       "      <td>1.000000</td>\n",
       "      <td>-0.049078</td>\n",
       "      <td>0.001980</td>\n",
       "      <td>0.052244</td>\n",
       "      <td>-0.055859</td>\n",
       "      <td>-0.015973</td>\n",
       "    </tr>\n",
       "    <tr>\n",
       "      <th>t159</th>\n",
       "      <td>-0.019844</td>\n",
       "      <td>-0.043157</td>\n",
       "      <td>0.028558</td>\n",
       "      <td>0.221905</td>\n",
       "      <td>-0.016035</td>\n",
       "      <td>-0.070136</td>\n",
       "      <td>-0.027001</td>\n",
       "      <td>0.011442</td>\n",
       "      <td>-0.049078</td>\n",
       "      <td>1.000000</td>\n",
       "      <td>0.112016</td>\n",
       "      <td>-0.064804</td>\n",
       "      <td>-0.029728</td>\n",
       "      <td>0.047803</td>\n",
       "    </tr>\n",
       "    <tr>\n",
       "      <th>Year_of_prod</th>\n",
       "      <td>0.061369</td>\n",
       "      <td>-0.080505</td>\n",
       "      <td>-0.030762</td>\n",
       "      <td>0.049393</td>\n",
       "      <td>0.011394</td>\n",
       "      <td>0.084668</td>\n",
       "      <td>0.033819</td>\n",
       "      <td>0.043256</td>\n",
       "      <td>0.001980</td>\n",
       "      <td>0.112016</td>\n",
       "      <td>1.000000</td>\n",
       "      <td>-0.364429</td>\n",
       "      <td>0.161111</td>\n",
       "      <td>0.071470</td>\n",
       "    </tr>\n",
       "    <tr>\n",
       "      <th>Votes</th>\n",
       "      <td>-0.100354</td>\n",
       "      <td>0.024162</td>\n",
       "      <td>0.050811</td>\n",
       "      <td>0.021739</td>\n",
       "      <td>-0.055467</td>\n",
       "      <td>-0.107340</td>\n",
       "      <td>-0.059496</td>\n",
       "      <td>0.006895</td>\n",
       "      <td>0.052244</td>\n",
       "      <td>-0.064804</td>\n",
       "      <td>-0.364429</td>\n",
       "      <td>1.000000</td>\n",
       "      <td>0.238580</td>\n",
       "      <td>0.522019</td>\n",
       "    </tr>\n",
       "    <tr>\n",
       "      <th>Duration</th>\n",
       "      <td>-0.020806</td>\n",
       "      <td>-0.058802</td>\n",
       "      <td>-0.029831</td>\n",
       "      <td>-0.030610</td>\n",
       "      <td>-0.049909</td>\n",
       "      <td>0.260708</td>\n",
       "      <td>-0.044233</td>\n",
       "      <td>0.022485</td>\n",
       "      <td>-0.055859</td>\n",
       "      <td>-0.029728</td>\n",
       "      <td>0.161111</td>\n",
       "      <td>0.238580</td>\n",
       "      <td>1.000000</td>\n",
       "      <td>0.237446</td>\n",
       "    </tr>\n",
       "    <tr>\n",
       "      <th>Stars</th>\n",
       "      <td>-0.060883</td>\n",
       "      <td>-0.018253</td>\n",
       "      <td>0.048243</td>\n",
       "      <td>0.083991</td>\n",
       "      <td>-0.032466</td>\n",
       "      <td>-0.000776</td>\n",
       "      <td>-0.056105</td>\n",
       "      <td>0.017231</td>\n",
       "      <td>-0.015973</td>\n",
       "      <td>0.047803</td>\n",
       "      <td>0.071470</td>\n",
       "      <td>0.522019</td>\n",
       "      <td>0.237446</td>\n",
       "      <td>1.000000</td>\n",
       "    </tr>\n",
       "  </tbody>\n",
       "</table>\n",
       "</div>"
      ],
      "text/plain": [
       "                  t260      t229       t84      t136      t164      t221  \\\n",
       "t260          1.000000 -0.032373 -0.033849 -0.051790  0.008305  0.059966   \n",
       "t229         -0.032373  1.000000 -0.034273  0.018762  0.056593 -0.057698   \n",
       "t84          -0.033849 -0.034273  1.000000 -0.011527 -0.029453 -0.038423   \n",
       "t136         -0.051790  0.018762 -0.011527  1.000000  0.110852 -0.002671   \n",
       "t164          0.008305  0.056593 -0.029453  0.110852  1.000000 -0.067725   \n",
       "t221          0.059966 -0.057698 -0.038423 -0.002671 -0.067725  1.000000   \n",
       "t30          -0.074678  0.017961 -0.026220 -0.026905  0.047955 -0.022057   \n",
       "t47           0.149145 -0.035259  0.084953 -0.041531 -0.002137  0.008690   \n",
       "t227          0.016131 -0.047518 -0.055101 -0.019128  0.118341 -0.097072   \n",
       "t159         -0.019844 -0.043157  0.028558  0.221905 -0.016035 -0.070136   \n",
       "Year_of_prod  0.061369 -0.080505 -0.030762  0.049393  0.011394  0.084668   \n",
       "Votes        -0.100354  0.024162  0.050811  0.021739 -0.055467 -0.107340   \n",
       "Duration     -0.020806 -0.058802 -0.029831 -0.030610 -0.049909  0.260708   \n",
       "Stars        -0.060883 -0.018253  0.048243  0.083991 -0.032466 -0.000776   \n",
       "\n",
       "                   t30       t47      t227      t159  Year_of_prod     Votes  \\\n",
       "t260         -0.074678  0.149145  0.016131 -0.019844      0.061369 -0.100354   \n",
       "t229          0.017961 -0.035259 -0.047518 -0.043157     -0.080505  0.024162   \n",
       "t84          -0.026220  0.084953 -0.055101  0.028558     -0.030762  0.050811   \n",
       "t136         -0.026905 -0.041531 -0.019128  0.221905      0.049393  0.021739   \n",
       "t164          0.047955 -0.002137  0.118341 -0.016035      0.011394 -0.055467   \n",
       "t221         -0.022057  0.008690 -0.097072 -0.070136      0.084668 -0.107340   \n",
       "t30           1.000000 -0.037909  0.010682 -0.027001      0.033819 -0.059496   \n",
       "t47          -0.037909  1.000000  0.017259  0.011442      0.043256  0.006895   \n",
       "t227          0.010682  0.017259  1.000000 -0.049078      0.001980  0.052244   \n",
       "t159         -0.027001  0.011442 -0.049078  1.000000      0.112016 -0.064804   \n",
       "Year_of_prod  0.033819  0.043256  0.001980  0.112016      1.000000 -0.364429   \n",
       "Votes        -0.059496  0.006895  0.052244 -0.064804     -0.364429  1.000000   \n",
       "Duration     -0.044233  0.022485 -0.055859 -0.029728      0.161111  0.238580   \n",
       "Stars        -0.056105  0.017231 -0.015973  0.047803      0.071470  0.522019   \n",
       "\n",
       "              Duration     Stars  \n",
       "t260         -0.020806 -0.060883  \n",
       "t229         -0.058802 -0.018253  \n",
       "t84          -0.029831  0.048243  \n",
       "t136         -0.030610  0.083991  \n",
       "t164         -0.049909 -0.032466  \n",
       "t221          0.260708 -0.000776  \n",
       "t30          -0.044233 -0.056105  \n",
       "t47           0.022485  0.017231  \n",
       "t227         -0.055859 -0.015973  \n",
       "t159         -0.029728  0.047803  \n",
       "Year_of_prod  0.161111  0.071470  \n",
       "Votes         0.238580  0.522019  \n",
       "Duration      1.000000  0.237446  \n",
       "Stars         0.237446  1.000000  "
      ]
     },
     "execution_count": 32,
     "metadata": {},
     "output_type": "execute_result"
    }
   ],
   "source": [
    "Best = [f't{topic_idx}' for topic_idx in np.argsort(F)[::-1][:10]]\n",
    "xtra = ['Year_of_prod', 'Votes', 'Duration']\n",
    "\n",
    "cols = Best+xtra\n",
    "\n",
    "cols.append('Stars')\n",
    "\n",
    "scal = StandardScaler()\n",
    "\n",
    "corrM = friends2[cols].corr()\n",
    " \n",
    "corrM\n"
   ]
  },
  {
   "cell_type": "code",
   "execution_count": 72,
   "metadata": {},
   "outputs": [
    {
     "data": {
      "image/png": "[encoded data removed]",
      "text/plain": [
       "<Figure size 432x288 with 2 Axes>"
      ]
     },
     "metadata": {},
     "output_type": "display_data"
    }
   ],
   "source": [
    "import pandas as pd\n",
    "import seaborn as sn\n",
    "import matplotlib.pyplot as plt\n",
    "\n",
    "sn.heatmap(corrM, annot=True)\n",
    "plt.show()"
   ]
  },
  {
   "cell_type": "code",
   "execution_count": 44,
   "metadata": {},
   "outputs": [
    {
     "name": "stdout",
     "output_type": "stream",
     "text": [
      "Kevin Bright       54\n",
      "Gary Halvorson     54\n",
      "Other              43\n",
      "Michael Lembeck    24\n",
      "James Burrows      15\n",
      "Gail Mancuso       14\n",
      "Peter Bonerz       12\n",
      "Ben Weiss          10\n",
      "David Schwimmer    10\n",
      "Name: Director, dtype: int64\n"
     ]
    }
   ],
   "source": [
    "# print(friends2.Director.value_counts())\n",
    "\n",
    "lst = ['Gary Halvorson',        \n",
    "'Kevin Bright',          \n",
    "'Michael Lembeck',       \n",
    "'James Burrows',           \n",
    "'Gail Mancuso',           \n",
    "'Peter Bonerz',            \n",
    "'David Schwimmer',         \n",
    "'Ben Weiss']\n",
    "\n",
    "def direr(wow):\n",
    "    if wow not in lst:\n",
    "        wow = wow.replace(wow,'Other')\n",
    "    return wow\n",
    "\n",
    "friends2['Director'] = friends2['Director'].apply(direr)\n",
    "\n",
    "print(friends2.Director.value_counts())"
   ]
  },
  {
   "cell_type": "code",
   "execution_count": 64,
   "metadata": {},
   "outputs": [
    {
     "name": "stdout",
     "output_type": "stream",
     "text": [
      "-0.4008638315308316 0.04835986385635539\n"
     ]
    }
   ],
   "source": [
    "Best = [f't{topic_idx}' for topic_idx in np.argsort(F)[1::-1]]\n",
    "xtra = ['Year_of_prod', 'Duration', 'Director']\n",
    "\n",
    "from sklearn.compose import make_column_transformer\n",
    "from sklearn.preprocessing import OneHotEncoder\n",
    "\n",
    "cols = Best+xtra\n",
    "\n",
    "X = friends2[cols]\n",
    "y = friends2.Stars\n",
    "\n",
    "reg = LinearRegression()\n",
    "hot = OneHotEncoder()\n",
    "scal = StandardScaler()\n",
    "\n",
    "categorical_features = X.select_dtypes(include=\"object\").columns\n",
    "integer_features = X.select_dtypes(exclude=\"object\").columns\n",
    "\n",
    "prep = make_column_transformer((hot, categorical_features),\n",
    "                                (scal, integer_features))\n",
    "\n",
    "pipe = make_pipeline(prep,reg)\n",
    "\n",
    "scores = cross_val_score(pipe, X, y, cv=10, scoring = 'neg_root_mean_squared_error')\n",
    "\n",
    "print(np.mean(scores), np.std(scores))"
   ]
  },
  {
   "cell_type": "code",
   "execution_count": 65,
   "metadata": {},
   "outputs": [
    {
     "name": "stdout",
     "output_type": "stream",
     "text": [
      "-0.4645101793031987 0.05817339521301511\n"
     ]
    }
   ],
   "source": [
    "Best = [f't{topic_idx}' for topic_idx in np.argsort(F)[::-1][:25]]\n",
    "xtra = ['Year_of_prod', 'Duration', 'Director']\n",
    "\n",
    "from sklearn.compose import make_column_transformer\n",
    "from sklearn.preprocessing import OneHotEncoder\n",
    "\n",
    "cols = Best+xtra\n",
    "\n",
    "X = friends2[cols]\n",
    "y = friends2.Stars\n",
    "\n",
    "reg = LinearRegression()\n",
    "hot = OneHotEncoder()\n",
    "scal = StandardScaler()\n",
    "\n",
    "categorical_features = X.select_dtypes(include=\"object\").columns\n",
    "integer_features = X.select_dtypes(exclude=\"object\").columns\n",
    "\n",
    "prep = make_column_transformer((hot, categorical_features),\n",
    "                                (scal, integer_features))\n",
    "\n",
    "pipe = make_pipeline(prep,reg)\n",
    "\n",
    "scores = cross_val_score(pipe, X, y, cv=10, scoring = 'neg_root_mean_squared_error')\n",
    "\n",
    "print(np.mean(scores), np.std(scores))"
   ]
  },
  {
   "cell_type": "code",
   "execution_count": 66,
   "metadata": {},
   "outputs": [
    {
     "name": "stdout",
     "output_type": "stream",
     "text": [
      "-0.42918556542695996 0.06242421122639609\n"
     ]
    }
   ],
   "source": [
    "Best = [f't{topic_idx}' for topic_idx in np.argsort(F)[::-1][:10]]\n",
    "xtra = ['Year_of_prod', 'Duration', 'Director']\n",
    "\n",
    "from sklearn.compose import make_column_transformer\n",
    "from sklearn.preprocessing import OneHotEncoder\n",
    "\n",
    "cols = Best+xtra\n",
    "\n",
    "X = friends2[cols]\n",
    "y = friends2.Stars\n",
    "\n",
    "reg = LinearRegression()\n",
    "hot = OneHotEncoder()\n",
    "scal = StandardScaler()\n",
    "\n",
    "categorical_features = X.select_dtypes(include=\"object\").columns\n",
    "integer_features = X.select_dtypes(exclude=\"object\").columns\n",
    "\n",
    "prep = make_column_transformer((hot, categorical_features),\n",
    "                                (scal, integer_features))\n",
    "\n",
    "pipe = make_pipeline(prep,reg)\n",
    "\n",
    "scores = cross_val_score(pipe, X, y, cv=10, scoring = 'neg_root_mean_squared_error')\n",
    "\n",
    "print(np.mean(scores), np.std(scores))"
   ]
  },
  {
   "cell_type": "code",
   "execution_count": 31,
   "metadata": {},
   "outputs": [
    {
     "data": {
      "text/plain": [
       "['nmf_books_friends.sav']"
      ]
     },
     "execution_count": 31,
     "metadata": {},
     "output_type": "execute_result"
    }
   ],
   "source": [
    "# import joblib\n",
    "# filename = 'nmf_books_friends.sav'\n",
    "# joblib.dump(nmf, filename)"
   ]
  },
  {
   "cell_type": "markdown",
   "metadata": {},
   "source": [
    "### SVR"
   ]
  },
  {
   "cell_type": "code",
   "execution_count": 56,
   "metadata": {},
   "outputs": [
    {
     "name": "stdout",
     "output_type": "stream",
     "text": [
      "-0.40677808528219295 0.059211925273978394\n"
     ]
    }
   ],
   "source": [
    "from sklearn.svm import SVR\n",
    "\n",
    "feature_names = vectorizer.get_feature_names_out()\n",
    "X = friends2.drop(columns=friends.columns.tolist())\n",
    "y = friends2.Stars\n",
    "\n",
    "reg = SVR()\n",
    "scal = StandardScaler()\n",
    "\n",
    "pipe = make_pipeline(reg, scal)\n",
    "\n",
    "scores = cross_val_score(reg, X, y, cv=10, scoring = 'neg_root_mean_squared_error')\n",
    "\n",
    "print(np.mean(scores), np.std(scores))"
   ]
  },
  {
   "cell_type": "code",
   "execution_count": 51,
   "metadata": {},
   "outputs": [
    {
     "name": "stdout",
     "output_type": "stream",
     "text": [
      "-0.4269642548856371 0.06804596026969317\n"
     ]
    }
   ],
   "source": [
    "from sklearn.svm import SVR\n",
    "\n",
    "Best = [f't{topic_idx}' for topic_idx in np.argsort(F)[::-1][:25]]\n",
    "\n",
    "feature_names = vectorizer.get_feature_names_out()\n",
    "X = friends2[Best]\n",
    "y = friends2.Stars\n",
    "\n",
    "reg = SVR()\n",
    "scal = StandardScaler()\n",
    "\n",
    "pipe = make_pipeline(reg, scal)\n",
    "\n",
    "scores = cross_val_score(reg, X, y, cv=10, scoring = 'neg_root_mean_squared_error')\n",
    "\n",
    "print(np.mean(scores), np.std(scores))"
   ]
  },
  {
   "cell_type": "code",
   "execution_count": 78,
   "metadata": {},
   "outputs": [
    {
     "name": "stdout",
     "output_type": "stream",
     "text": [
      "-0.41355260347536077 0.054011321600815024\n"
     ]
    }
   ],
   "source": [
    "Best = [f't{topic_idx}' for topic_idx in np.argsort(F)[::-1][:10]]\n",
    "\n",
    "feature_names = vectorizer.get_feature_names_out()\n",
    "X = friends2[Best]\n",
    "y = friends2.Stars\n",
    "\n",
    "reg = SVR()\n",
    "scal = StandardScaler()\n",
    "\n",
    "pipe = make_pipeline(reg, scal)\n",
    "\n",
    "scores = cross_val_score(reg, X, y, cv=10, scoring = 'neg_root_mean_squared_error')\n",
    "\n",
    "print(np.mean(scores), np.std(scores))"
   ]
  },
  {
   "cell_type": "code",
   "execution_count": 79,
   "metadata": {},
   "outputs": [
    {
     "name": "stdout",
     "output_type": "stream",
     "text": [
      "-0.4229000071383643 0.06739912152089038\n"
     ]
    }
   ],
   "source": [
    "Best = [f't{topic_idx}' for topic_idx in np.argsort(F)[1::-1]]\n",
    "xtra = ['Year_of_prod', 'Duration', 'Director']\n",
    "\n",
    "from sklearn.compose import make_column_transformer\n",
    "from sklearn.preprocessing import OneHotEncoder\n",
    "\n",
    "cols = Best+xtra\n",
    "\n",
    "X = friends2[cols]\n",
    "y = friends2.Stars\n",
    "\n",
    "reg = SVR()\n",
    "hot = OneHotEncoder()\n",
    "scal = StandardScaler()\n",
    "\n",
    "categorical_features = X.select_dtypes(include=\"object\").columns\n",
    "integer_features = X.select_dtypes(exclude=\"object\").columns\n",
    "\n",
    "prep = make_column_transformer((hot, categorical_features),\n",
    "                                (scal, integer_features))\n",
    "\n",
    "pipe = make_pipeline(prep,reg)\n",
    "\n",
    "scores = cross_val_score(pipe, X, y, cv=10, scoring = 'neg_root_mean_squared_error')\n",
    "\n",
    "print(np.mean(scores), np.std(scores))"
   ]
  },
  {
   "cell_type": "code",
   "execution_count": 80,
   "metadata": {},
   "outputs": [
    {
     "name": "stdout",
     "output_type": "stream",
     "text": [
      "-0.4256167722242978 0.053832344041550656\n"
     ]
    }
   ],
   "source": [
    "Best = [f't{topic_idx}' for topic_idx in np.argsort(F)[::-1][:25]]\n",
    "xtra = ['Year_of_prod', 'Duration', 'Director']\n",
    "\n",
    "from sklearn.compose import make_column_transformer\n",
    "from sklearn.preprocessing import OneHotEncoder\n",
    "\n",
    "cols = Best+xtra\n",
    "\n",
    "X = friends2[cols]\n",
    "y = friends2.Stars\n",
    "\n",
    "reg = SVR()\n",
    "hot = OneHotEncoder()\n",
    "scal = StandardScaler()\n",
    "\n",
    "categorical_features = X.select_dtypes(include=\"object\").columns\n",
    "integer_features = X.select_dtypes(exclude=\"object\").columns\n",
    "\n",
    "prep = make_column_transformer((hot, categorical_features),\n",
    "                                (scal, integer_features))\n",
    "\n",
    "pipe = make_pipeline(prep,reg)\n",
    "\n",
    "scores = cross_val_score(pipe, X, y, cv=10, scoring = 'neg_root_mean_squared_error')\n",
    "\n",
    "print(np.mean(scores), np.std(scores))"
   ]
  },
  {
   "cell_type": "code",
   "execution_count": 81,
   "metadata": {},
   "outputs": [
    {
     "name": "stdout",
     "output_type": "stream",
     "text": [
      "-0.4243136464831898 0.051222479025645556\n"
     ]
    }
   ],
   "source": [
    "Best = [f't{topic_idx}' for topic_idx in np.argsort(F)[::-1][:10]]\n",
    "xtra = ['Year_of_prod', 'Duration', 'Director']\n",
    "\n",
    "from sklearn.compose import make_column_transformer\n",
    "from sklearn.preprocessing import OneHotEncoder\n",
    "\n",
    "cols = Best+xtra\n",
    "\n",
    "X = friends2[cols]\n",
    "y = friends2.Stars\n",
    "\n",
    "reg = SVR()\n",
    "hot = OneHotEncoder()\n",
    "scal = StandardScaler()\n",
    "\n",
    "categorical_features = X.select_dtypes(include=\"object\").columns\n",
    "integer_features = X.select_dtypes(exclude=\"object\").columns\n",
    "\n",
    "prep = make_column_transformer((hot, categorical_features),\n",
    "                                (scal, integer_features))\n",
    "\n",
    "pipe = make_pipeline(prep,reg)\n",
    "\n",
    "scores = cross_val_score(pipe, X, y, cv=10, scoring = 'neg_root_mean_squared_error')\n",
    "\n",
    "print(np.mean(scores), np.std(scores))"
   ]
  },
  {
   "cell_type": "markdown",
   "metadata": {},
   "source": [
    "### gradient boosting"
   ]
  },
  {
   "cell_type": "code",
   "execution_count": 71,
   "metadata": {},
   "outputs": [
    {
     "name": "stdout",
     "output_type": "stream",
     "text": [
      "-0.4243307529303612 0.05454752391623509\n"
     ]
    }
   ],
   "source": [
    "from sklearn.ensemble import GradientBoostingRegressor\n",
    "\n",
    "feature_names = vectorizer.get_feature_names_out()\n",
    "X = friends2.drop(columns=friends.columns.tolist())\n",
    "y = friends2.Stars\n",
    "\n",
    "reg = GradientBoostingRegressor()\n",
    "scal = StandardScaler()\n",
    "\n",
    "pipe = make_pipeline(reg, scal)\n",
    "\n",
    "scores = cross_val_score(reg, X, y, cv=10, scoring = 'neg_root_mean_squared_error')\n",
    "\n",
    "print(np.mean(scores), np.std(scores))"
   ]
  },
  {
   "cell_type": "code",
   "execution_count": 72,
   "metadata": {},
   "outputs": [
    {
     "name": "stdout",
     "output_type": "stream",
     "text": [
      "-0.4743865021548091 0.05309363102278743\n"
     ]
    }
   ],
   "source": [
    "Best = [f't{topic_idx}' for topic_idx in np.argsort(F)[::-1][:25]]\n",
    "\n",
    "feature_names = vectorizer.get_feature_names_out()\n",
    "X = friends2[Best]\n",
    "y = friends2.Stars\n",
    "\n",
    "reg = GradientBoostingRegressor()\n",
    "scal = StandardScaler()\n",
    "\n",
    "pipe = make_pipeline(reg, scal)\n",
    "\n",
    "scores = cross_val_score(reg, X, y, cv=10, scoring = 'neg_root_mean_squared_error')\n",
    "\n",
    "print(np.mean(scores), np.std(scores))"
   ]
  },
  {
   "cell_type": "code",
   "execution_count": 73,
   "metadata": {},
   "outputs": [
    {
     "name": "stdout",
     "output_type": "stream",
     "text": [
      "-0.4626873499655191 0.05295926483927544\n"
     ]
    }
   ],
   "source": [
    "Best = [f't{topic_idx}' for topic_idx in np.argsort(F)[::-1][:10]]\n",
    "\n",
    "feature_names = vectorizer.get_feature_names_out()\n",
    "X = friends2[Best]\n",
    "y = friends2.Stars\n",
    "\n",
    "reg = GradientBoostingRegressor()\n",
    "scal = StandardScaler()\n",
    "\n",
    "pipe = make_pipeline(reg, scal)\n",
    "\n",
    "scores = cross_val_score(reg, X, y, cv=10, scoring = 'neg_root_mean_squared_error')\n",
    "\n",
    "print(np.mean(scores), np.std(scores))"
   ]
  },
  {
   "cell_type": "code",
   "execution_count": 82,
   "metadata": {},
   "outputs": [
    {
     "name": "stdout",
     "output_type": "stream",
     "text": [
      "-0.4519760133963449 0.09862278303568002\n"
     ]
    }
   ],
   "source": [
    "Best = [f't{topic_idx}' for topic_idx in np.argsort(F)[1::-1]]\n",
    "xtra = ['Year_of_prod', 'Duration', 'Director']\n",
    "\n",
    "from sklearn.compose import make_column_transformer\n",
    "from sklearn.preprocessing import OneHotEncoder\n",
    "\n",
    "cols = Best+xtra\n",
    "\n",
    "X = friends2[cols]\n",
    "y = friends2.Stars\n",
    "\n",
    "reg = GradientBoostingRegressor()\n",
    "hot = OneHotEncoder()\n",
    "scal = StandardScaler()\n",
    "\n",
    "categorical_features = X.select_dtypes(include=\"object\").columns\n",
    "integer_features = X.select_dtypes(exclude=\"object\").columns\n",
    "\n",
    "prep = make_column_transformer((hot, categorical_features),\n",
    "                                (scal, integer_features))\n",
    "\n",
    "pipe = make_pipeline(prep,reg)\n",
    "\n",
    "scores = cross_val_score(pipe, X, y, cv=10, scoring = 'neg_root_mean_squared_error')\n",
    "\n",
    "print(np.mean(scores), np.std(scores))"
   ]
  },
  {
   "cell_type": "code",
   "execution_count": 76,
   "metadata": {},
   "outputs": [
    {
     "name": "stdout",
     "output_type": "stream",
     "text": [
      "-0.4645101793031987 0.05817339521301511\n"
     ]
    }
   ],
   "source": [
    "Best = [f't{topic_idx}' for topic_idx in np.argsort(F)[::-1][:25]]\n",
    "xtra = ['Year_of_prod', 'Duration', 'Director']\n",
    "\n",
    "from sklearn.compose import make_column_transformer\n",
    "from sklearn.preprocessing import OneHotEncoder\n",
    "\n",
    "cols = Best+xtra\n",
    "\n",
    "X = friends2[cols]\n",
    "y = friends2.Stars\n",
    "\n",
    "reg = GradientBoostingRegressor()\n",
    "hot = OneHotEncoder()\n",
    "scal = StandardScaler()\n",
    "\n",
    "categorical_features = X.select_dtypes(include=\"object\").columns\n",
    "integer_features = X.select_dtypes(exclude=\"object\").columns\n",
    "\n",
    "prep = make_column_transformer((hot, categorical_features),\n",
    "                                (scal, integer_features))\n",
    "\n",
    "pipe = make_pipeline(prep,reg)\n",
    "\n",
    "scores = cross_val_score(pipe, X, y, cv=10, scoring = 'neg_root_mean_squared_error')\n",
    "\n",
    "print(np.mean(scores), np.std(scores))"
   ]
  },
  {
   "cell_type": "code",
   "execution_count": 77,
   "metadata": {},
   "outputs": [
    {
     "name": "stdout",
     "output_type": "stream",
     "text": [
      "-0.42918556542695996 0.06242421122639609\n"
     ]
    }
   ],
   "source": [
    "Best = [f't{topic_idx}' for topic_idx in np.argsort(F)[::-1][:10]]\n",
    "xtra = ['Year_of_prod', 'Duration', 'Director']\n",
    "\n",
    "from sklearn.compose import make_column_transformer\n",
    "from sklearn.preprocessing import OneHotEncoder\n",
    "\n",
    "cols = Best+xtra\n",
    "\n",
    "X = friends2[cols]\n",
    "y = friends2.Stars\n",
    "\n",
    "reg = GradientBoostingRegressor()\n",
    "hot = OneHotEncoder()\n",
    "scal = StandardScaler()\n",
    "\n",
    "categorical_features = X.select_dtypes(include=\"object\").columns\n",
    "integer_features = X.select_dtypes(exclude=\"object\").columns\n",
    "\n",
    "prep = make_column_transformer((hot, categorical_features),\n",
    "                                (scal, integer_features))\n",
    "\n",
    "pipe = make_pipeline(prep,reg)\n",
    "\n",
    "scores = cross_val_score(pipe, X, y, cv=10, scoring = 'neg_root_mean_squared_error')\n",
    "\n",
    "print(np.mean(scores), np.std(scores))"
   ]
  }
 ],
 "metadata": {
  "kernelspec": {
   "display_name": "Python 3.8.8 ('base')",
   "language": "python",
   "name": "python3"
  },
  "language_info": {
   "codemirror_mode": {
    "name": "ipython",
    "version": 3
   },
   "file_extension": ".py",
   "mimetype": "text/x-python",
   "name": "python",
   "nbconvert_exporter": "python",
   "pygments_lexer": "ipython3",
   "version": "3.8.8"
  },
  "orig_nbformat": 4,
  "vscode": {
   "interpreter": {
    "hash": "db3ad00c254152fbd946dfe3ddf750e2d6dd1f511dd85499e770b0c6b301697a"
   }
  }
 },
 "nbformat": 4,
 "nbformat_minor": 2
}
